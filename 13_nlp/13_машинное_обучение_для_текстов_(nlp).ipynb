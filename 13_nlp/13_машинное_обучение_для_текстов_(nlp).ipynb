{
 "cells": [
  {
   "cell_type": "markdown",
   "metadata": {},
   "source": [
    "# Проект для «Викишоп»"
   ]
  },
  {
   "cell_type": "markdown",
   "metadata": {},
   "source": [
    "Интернет-магазин «Викишоп» запускает новый сервис. Теперь пользователи могут редактировать и дополнять описания товаров, как в вики-сообществах. То есть клиенты предлагают свои правки и комментируют изменения других. Магазину нужен инструмент, который будет искать токсичные комментарии и отправлять их на модерацию. \n",
    "\n",
    "Обучите модель классифицировать комментарии на позитивные и негативные. В вашем распоряжении набор данных с разметкой о токсичности правок.\n",
    "\n",
    "Постройте модель со значением метрики качества *F1* не меньше 0.75. \n",
    "\n",
    "**План по выполнению проекта:**\n",
    "\n",
    "1. Загрузите и подготовьте данные.\n",
    "2. Обучите разные модели. \n",
    "3. Сделайте выводы.\n",
    "\n",
    "**Описание данных**\n",
    "\n",
    "Данные находятся в файле `toxic_comments.csv`. Столбец *text* в нём содержит текст комментария, а *toxic* — целевой признак."
   ]
  },
  {
   "cell_type": "markdown",
   "metadata": {},
   "source": [
    "## Подготовка"
   ]
  },
  {
   "cell_type": "markdown",
   "metadata": {},
   "source": [
    "Загрузим необходимые библиотеки"
   ]
  },
  {
   "cell_type": "code",
   "execution_count": 1,
   "metadata": {},
   "outputs": [],
   "source": [
    "import pandas as pd\n",
    "import re\n",
    "import tqdm\n",
    "from tqdm.notebook import tqdm\n",
    "import nltk\n",
    "import en_core_web_sm\n",
    "from nltk.corpus import stopwords as nltk_stopwords\n",
    "from sklearn.feature_extraction.text import TfidfVectorizer\n",
    "from joblib import dump, load\n",
    "from sklearn.model_selection import train_test_split, GridSearchCV\n",
    "from sklearn.linear_model import LogisticRegression\n",
    "from sklearn.metrics import f1_score\n",
    "from sklearn.tree import DecisionTreeClassifier\n",
    "from sklearn.ensemble import RandomForestClassifier\n",
    "from catboost import CatBoostClassifier"
   ]
  },
  {
   "cell_type": "markdown",
   "metadata": {},
   "source": [
    "Загрузим наш файл"
   ]
  },
  {
   "cell_type": "code",
   "execution_count": 2,
   "metadata": {},
   "outputs": [],
   "source": [
    "df = pd.read_csv('/datasets/toxic_comments.csv')"
   ]
  },
  {
   "cell_type": "markdown",
   "metadata": {},
   "source": [
    "Напишем функцию для просмотра наших данных"
   ]
  },
  {
   "cell_type": "code",
   "execution_count": 3,
   "metadata": {},
   "outputs": [],
   "source": [
    "\n",
    "def first_look (df: pd.DataFrame, limit_na_category: int = 10) -> None:\n",
    "    '''Функция получения первичной информации о датафрейме'''\n",
    "    print ('Первые 5 строк')\n",
    "    display(df.head())\n",
    "    print('')\n",
    "    print('')\n",
    "    print ('Типы данных-')\n",
    "    print (df.info())\n",
    "    print('')\n",
    "    print('')\n",
    "    print ('Пропуски')\n",
    "    count = 0\n",
    "    shape_0 = df.shape[0]\n",
    "    for element in df.columns:\n",
    "        if df[element].isna().sum() > 0:\n",
    "            print(element, ' - ', df[element].isna().sum(), 'пропусков, ', round(df[element].isna().sum() * 100 / shape_0,2),\\\n",
    "                  '% от числа строк.' )\n",
    "            count = +1\n",
    "    if count == 0:\n",
    "        print('Пропусков НЕТ')\n",
    "        print('')\n",
    "        print('')\n",
    "    print ('Дубликаты')\n",
    "    if df.duplicated().sum() > 0:\n",
    "        print('Дубликатов: ', df.duplicated().sum())\n",
    "    else:\n",
    "        print('Дубликатов НЕТ')\n",
    "    min_unique = limit_na_category + 1\n",
    "    for element in df._get_numeric_data().columns:\n",
    "        min_unique = min(min_unique, df[element].nunique())\n",
    "        if min_unique <= limit_na_category:\n",
    "            print('')\n",
    "    print('')\n",
    "    print('Категориальные признаки')\n",
    "    for element in df._get_numeric_data().columns:\n",
    "        if df[element].nunique() <= limit_na_category:\n",
    "            print(element, ': ', df[element].nunique(), 'категории - ', df[element].unique(), )"
   ]
  },
  {
   "cell_type": "markdown",
   "metadata": {},
   "source": [
    "Взглянем на наши данные"
   ]
  },
  {
   "cell_type": "code",
   "execution_count": 4,
   "metadata": {},
   "outputs": [
    {
     "name": "stdout",
     "output_type": "stream",
     "text": [
      "------------- Первые 5 строк ------------\n"
     ]
    },
    {
     "data": {
      "text/html": [
       "<div>\n",
       "<style scoped>\n",
       "    .dataframe tbody tr th:only-of-type {\n",
       "        vertical-align: middle;\n",
       "    }\n",
       "\n",
       "    .dataframe tbody tr th {\n",
       "        vertical-align: top;\n",
       "    }\n",
       "\n",
       "    .dataframe thead th {\n",
       "        text-align: right;\n",
       "    }\n",
       "</style>\n",
       "<table border=\"1\" class=\"dataframe\">\n",
       "  <thead>\n",
       "    <tr style=\"text-align: right;\">\n",
       "      <th></th>\n",
       "      <th>text</th>\n",
       "      <th>toxic</th>\n",
       "    </tr>\n",
       "  </thead>\n",
       "  <tbody>\n",
       "    <tr>\n",
       "      <th>0</th>\n",
       "      <td>Explanation\\nWhy the edits made under my usern...</td>\n",
       "      <td>0</td>\n",
       "    </tr>\n",
       "    <tr>\n",
       "      <th>1</th>\n",
       "      <td>D'aww! He matches this background colour I'm s...</td>\n",
       "      <td>0</td>\n",
       "    </tr>\n",
       "    <tr>\n",
       "      <th>2</th>\n",
       "      <td>Hey man, I'm really not trying to edit war. It...</td>\n",
       "      <td>0</td>\n",
       "    </tr>\n",
       "    <tr>\n",
       "      <th>3</th>\n",
       "      <td>\"\\nMore\\nI can't make any real suggestions on ...</td>\n",
       "      <td>0</td>\n",
       "    </tr>\n",
       "    <tr>\n",
       "      <th>4</th>\n",
       "      <td>You, sir, are my hero. Any chance you remember...</td>\n",
       "      <td>0</td>\n",
       "    </tr>\n",
       "  </tbody>\n",
       "</table>\n",
       "</div>"
      ],
      "text/plain": [
       "                                                text  toxic\n",
       "0  Explanation\\nWhy the edits made under my usern...      0\n",
       "1  D'aww! He matches this background colour I'm s...      0\n",
       "2  Hey man, I'm really not trying to edit war. It...      0\n",
       "3  \"\\nMore\\nI can't make any real suggestions on ...      0\n",
       "4  You, sir, are my hero. Any chance you remember...      0"
      ]
     },
     "metadata": {},
     "output_type": "display_data"
    },
    {
     "name": "stdout",
     "output_type": "stream",
     "text": [
      "\n",
      "\n",
      "------------- Типы данных ------------\n",
      "<class 'pandas.core.frame.DataFrame'>\n",
      "RangeIndex: 159571 entries, 0 to 159570\n",
      "Data columns (total 2 columns):\n",
      " #   Column  Non-Null Count   Dtype \n",
      "---  ------  --------------   ----- \n",
      " 0   text    159571 non-null  object\n",
      " 1   toxic   159571 non-null  int64 \n",
      "dtypes: int64(1), object(1)\n",
      "memory usage: 2.4+ MB\n",
      "None\n",
      "\n",
      "\n",
      "------------- Пропуски ------------\n",
      "Пропусков НЕТ\n",
      "\n",
      "\n",
      "------------- Дубликаты ------------\n",
      "Дубликатов НЕТ\n",
      "\n",
      "\n",
      "------------- Категориальные признаки ------------\n",
      "toxic :  2 категории -  [0 1]\n"
     ]
    }
   ],
   "source": [
    "first_look(df)"
   ]
  },
  {
   "cell_type": "markdown",
   "metadata": {},
   "source": [
    "Наши данные состоят из двух столбцов. Столбкец 'text' содержит текст комментария, а столбец 'toxic' - целевой признак\n",
    "Посмотрим на распределение целевого признака"
   ]
  },
  {
   "cell_type": "code",
   "execution_count": 5,
   "metadata": {},
   "outputs": [
    {
     "data": {
      "image/png": "[encoded data removed]",
      "text/plain": [
       "<Figure size 432x288 with 1 Axes>"
      ]
     },
     "metadata": {
      "needs_background": "light"
     },
     "output_type": "display_data"
    }
   ],
   "source": [
    "df['toxic'].value_counts().plot(kind='bar');"
   ]
  },
  {
   "cell_type": "markdown",
   "metadata": {},
   "source": [
    "* Наблюдаем явный дисбаланс классов\n",
    "* Нам необходимо ощистить текст от нежелательных символом и лемматизировать его"
   ]
  },
  {
   "cell_type": "markdown",
   "metadata": {},
   "source": []
  },
  {
   "cell_type": "markdown",
   "metadata": {},
   "source": [
    "Создадим функцию очистки текста от нежелательных символов"
   ]
  },
  {
   "cell_type": "code",
   "execution_count": 6,
   "metadata": {},
   "outputs": [],
   "source": [
    "def clear_text(text):\n",
    "    \n",
    "    text = text.lower()\n",
    "    text = re.sub(r'[^a-zA-Z ]', ' ', text).strip()\n",
    "    text = re.sub(r'<[^>]+>', ' ', text)\n",
    "    text = re.sub(r'\\s+[a-zA-Z]\\s+', ' ', text)\n",
    "    text = re.sub(r'\\^[a-zA-Z]\\s+', ' ', text) \n",
    "    text = re.sub(r'\\s+', ' ', text, flags=re.I)\n",
    "    text = re.sub(r'^b\\s+', '', text)\n",
    "        \n",
    "    return text"
   ]
  },
  {
   "cell_type": "markdown",
   "metadata": {},
   "source": [
    "Очистим текст от нежелательных символов"
   ]
  },
  {
   "cell_type": "code",
   "execution_count": 7,
   "metadata": {
    "scrolled": false
   },
   "outputs": [
    {
     "data": {
      "text/html": [
       "<div>\n",
       "<style scoped>\n",
       "    .dataframe tbody tr th:only-of-type {\n",
       "        vertical-align: middle;\n",
       "    }\n",
       "\n",
       "    .dataframe tbody tr th {\n",
       "        vertical-align: top;\n",
       "    }\n",
       "\n",
       "    .dataframe thead th {\n",
       "        text-align: right;\n",
       "    }\n",
       "</style>\n",
       "<table border=\"1\" class=\"dataframe\">\n",
       "  <thead>\n",
       "    <tr style=\"text-align: right;\">\n",
       "      <th></th>\n",
       "      <th>text</th>\n",
       "      <th>toxic</th>\n",
       "    </tr>\n",
       "  </thead>\n",
       "  <tbody>\n",
       "    <tr>\n",
       "      <th>0</th>\n",
       "      <td>explanation why the edits made under my userna...</td>\n",
       "      <td>0</td>\n",
       "    </tr>\n",
       "    <tr>\n",
       "      <th>1</th>\n",
       "      <td>d aww he matches this background colour m seem...</td>\n",
       "      <td>0</td>\n",
       "    </tr>\n",
       "    <tr>\n",
       "      <th>2</th>\n",
       "      <td>hey man m really not trying to edit war it jus...</td>\n",
       "      <td>0</td>\n",
       "    </tr>\n",
       "    <tr>\n",
       "      <th>3</th>\n",
       "      <td>more can make any real suggestions on improvem...</td>\n",
       "      <td>0</td>\n",
       "    </tr>\n",
       "    <tr>\n",
       "      <th>4</th>\n",
       "      <td>you sir are my hero any chance you remember wh...</td>\n",
       "      <td>0</td>\n",
       "    </tr>\n",
       "  </tbody>\n",
       "</table>\n",
       "</div>"
      ],
      "text/plain": [
       "                                                text  toxic\n",
       "0  explanation why the edits made under my userna...      0\n",
       "1  d aww he matches this background colour m seem...      0\n",
       "2  hey man m really not trying to edit war it jus...      0\n",
       "3  more can make any real suggestions on improvem...      0\n",
       "4  you sir are my hero any chance you remember wh...      0"
      ]
     },
     "metadata": {},
     "output_type": "display_data"
    }
   ],
   "source": [
    "df['text'] = df['text'].apply(clear_text)\n",
    "display(df.head())"
   ]
  },
  {
   "cell_type": "markdown",
   "metadata": {},
   "source": [
    "Для токенизации и лемматизации воспользуемся моделью en_core_web_sm, т.к. ни pymystem3 ни WordNetLemmatizer не дали результата из-за постоянного падения ядра системы"
   ]
  },
  {
   "cell_type": "code",
   "execution_count": 8,
   "metadata": {},
   "outputs": [
    {
     "data": {
      "application/vnd.jupyter.widget-view+json": {
       "model_id": "75b70afb1726449bb87cb9a71346bf64",
       "version_major": 2,
       "version_minor": 0
      },
      "text/plain": [
       "  0%|          | 0/159571 [00:00<?, ?it/s]"
      ]
     },
     "metadata": {},
     "output_type": "display_data"
    }
   ],
   "source": [
    "nlp = en_core_web_sm.load()\n",
    "\n",
    "def lemmatize(text):\n",
    "    temp = []\n",
    "    for i in nlp(text):\n",
    "        if i.is_stop == False:\n",
    "            temp.append(i.lemma_)\n",
    "    return \" \".join(temp)\n",
    "\n",
    "\n",
    "tqdm.pandas()\n",
    "df['text'] = df['text'].progress_apply(lemmatize)"
   ]
  },
  {
   "cell_type": "code",
   "execution_count": 9,
   "metadata": {
    "scrolled": true
   },
   "outputs": [
    {
     "data": {
      "text/html": [
       "<div>\n",
       "<style scoped>\n",
       "    .dataframe tbody tr th:only-of-type {\n",
       "        vertical-align: middle;\n",
       "    }\n",
       "\n",
       "    .dataframe tbody tr th {\n",
       "        vertical-align: top;\n",
       "    }\n",
       "\n",
       "    .dataframe thead th {\n",
       "        text-align: right;\n",
       "    }\n",
       "</style>\n",
       "<table border=\"1\" class=\"dataframe\">\n",
       "  <thead>\n",
       "    <tr style=\"text-align: right;\">\n",
       "      <th></th>\n",
       "      <th>text</th>\n",
       "      <th>toxic</th>\n",
       "    </tr>\n",
       "  </thead>\n",
       "  <tbody>\n",
       "    <tr>\n",
       "      <th>0</th>\n",
       "      <td>explanation edit username hardcore metallica f...</td>\n",
       "      <td>0</td>\n",
       "    </tr>\n",
       "    <tr>\n",
       "      <th>1</th>\n",
       "      <td>d aww match background colour m seemingly stuc...</td>\n",
       "      <td>0</td>\n",
       "    </tr>\n",
       "    <tr>\n",
       "      <th>2</th>\n",
       "      <td>hey man m try edit war guy constantly remove r...</td>\n",
       "      <td>0</td>\n",
       "    </tr>\n",
       "    <tr>\n",
       "      <th>3</th>\n",
       "      <td>real suggestion improvement wonder section sta...</td>\n",
       "      <td>0</td>\n",
       "    </tr>\n",
       "    <tr>\n",
       "      <th>4</th>\n",
       "      <td>sir hero chance remember page</td>\n",
       "      <td>0</td>\n",
       "    </tr>\n",
       "  </tbody>\n",
       "</table>\n",
       "</div>"
      ],
      "text/plain": [
       "                                                text  toxic\n",
       "0  explanation edit username hardcore metallica f...      0\n",
       "1  d aww match background colour m seemingly stuc...      0\n",
       "2  hey man m try edit war guy constantly remove r...      0\n",
       "3  real suggestion improvement wonder section sta...      0\n",
       "4                      sir hero chance remember page      0"
      ]
     },
     "execution_count": 9,
     "metadata": {},
     "output_type": "execute_result"
    }
   ],
   "source": [
    "df.head()"
   ]
  },
  {
   "cell_type": "markdown",
   "metadata": {},
   "source": [
    "Сохраним наши данные для последующего пропуска шага лемматизации"
   ]
  },
  {
   "cell_type": "code",
   "execution_count": 10,
   "metadata": {},
   "outputs": [
    {
     "data": {
      "text/plain": [
       "['toxic_comments_lemmas.csv']"
      ]
     },
     "execution_count": 10,
     "metadata": {},
     "output_type": "execute_result"
    }
   ],
   "source": [
    "dump(df, 'toxic_comments_lemmas.csv')"
   ]
  },
  {
   "cell_type": "markdown",
   "metadata": {},
   "source": [
    "Загрузим наши данные сохраненные после лемматизации"
   ]
  },
  {
   "cell_type": "code",
   "execution_count": 11,
   "metadata": {},
   "outputs": [],
   "source": [
    "df = load('toxic_comments_lemmas.csv')"
   ]
  },
  {
   "cell_type": "markdown",
   "metadata": {},
   "source": [
    "* На данном шаге мы просмотрели наши данные, очистили их и лемматизировали."
   ]
  },
  {
   "cell_type": "markdown",
   "metadata": {},
   "source": [
    "## Обучение"
   ]
  },
  {
   "cell_type": "markdown",
   "metadata": {},
   "source": [
    "Разобьем наши данные на обучающую и тестовую выборки в соотношении 75:25"
   ]
  },
  {
   "cell_type": "code",
   "execution_count": 12,
   "metadata": {},
   "outputs": [],
   "source": [
    "features = df['text']\n",
    "target = df['toxic']\n",
    "features_train, features_test, target_train, target_test = train_test_split(\n",
    "    features, target, test_size=0.25, random_state=12345)"
   ]
  },
  {
   "cell_type": "markdown",
   "metadata": {},
   "source": [
    "Создадим признаки с учетом стоп-слов и выделим целевые признаки"
   ]
  },
  {
   "cell_type": "code",
   "execution_count": 13,
   "metadata": {},
   "outputs": [
    {
     "name": "stderr",
     "output_type": "stream",
     "text": [
      "[nltk_data] Downloading package stopwords to /home/jovyan/nltk_data...\n",
      "[nltk_data]   Package stopwords is already up-to-date!\n"
     ]
    }
   ],
   "source": [
    "# Загрузим стоп-слова\n",
    "nltk.download('stopwords')\n",
    "stopwords = set(nltk_stopwords.words('english'))\n",
    "\n",
    "# Создадим счетчик, указав в нем стоп-слова\n",
    "count_tf_idf = TfidfVectorizer(stop_words=stopwords)\n",
    "# Посчитаем TD-IDF для корпуса текстов\n",
    "tf_idf = count_tf_idf.fit(features_train)\n",
    "# Создадим признаки\n",
    "features_train = tf_idf.transform(features_train)\n",
    "features_test = tf_idf.transform(features_test)"
   ]
  },
  {
   "cell_type": "markdown",
   "metadata": {},
   "source": [
    "Функция обучения наших моделей, поиска наилучшей метрики f1 и подобранных параметров"
   ]
  },
  {
   "cell_type": "code",
   "execution_count": 14,
   "metadata": {},
   "outputs": [],
   "source": [
    "def model_look (model, parameters, features, target):\n",
    "    model_grid = GridSearchCV(model, parameters, cv=5, scoring='f1', verbose=5)\n",
    "    model_grid.fit(features, target)\n",
    "    return model_grid.best_score_, model_grid.best_params_"
   ]
  },
  {
   "cell_type": "markdown",
   "metadata": {},
   "source": [
    "### Логистическая регрессия"
   ]
  },
  {
   "cell_type": "code",
   "execution_count": 15,
   "metadata": {
    "scrolled": true
   },
   "outputs": [
    {
     "name": "stdout",
     "output_type": "stream",
     "text": [
      "Fitting 5 folds for each of 6 candidates, totalling 30 fits\n"
     ]
    },
    {
     "name": "stderr",
     "output_type": "stream",
     "text": [
      "/opt/conda/lib/python3.9/site-packages/sklearn/svm/_base.py:985: ConvergenceWarning: Liblinear failed to converge, increase the number of iterations.\n",
      "  warnings.warn(\"Liblinear failed to converge, increase \"\n"
     ]
    },
    {
     "name": "stdout",
     "output_type": "stream",
     "text": [
      "[CV 1/5] END ...............................C=23, max_iter=8; total time=   5.3s\n"
     ]
    },
    {
     "name": "stderr",
     "output_type": "stream",
     "text": [
      "/opt/conda/lib/python3.9/site-packages/sklearn/svm/_base.py:985: ConvergenceWarning: Liblinear failed to converge, increase the number of iterations.\n",
      "  warnings.warn(\"Liblinear failed to converge, increase \"\n"
     ]
    },
    {
     "name": "stdout",
     "output_type": "stream",
     "text": [
      "[CV 2/5] END ...............................C=23, max_iter=8; total time=   5.3s\n"
     ]
    },
    {
     "name": "stderr",
     "output_type": "stream",
     "text": [
      "/opt/conda/lib/python3.9/site-packages/sklearn/svm/_base.py:985: ConvergenceWarning: Liblinear failed to converge, increase the number of iterations.\n",
      "  warnings.warn(\"Liblinear failed to converge, increase \"\n"
     ]
    },
    {
     "name": "stdout",
     "output_type": "stream",
     "text": [
      "[CV 3/5] END ...............................C=23, max_iter=8; total time=   5.3s\n"
     ]
    },
    {
     "name": "stderr",
     "output_type": "stream",
     "text": [
      "/opt/conda/lib/python3.9/site-packages/sklearn/svm/_base.py:985: ConvergenceWarning: Liblinear failed to converge, increase the number of iterations.\n",
      "  warnings.warn(\"Liblinear failed to converge, increase \"\n"
     ]
    },
    {
     "name": "stdout",
     "output_type": "stream",
     "text": [
      "[CV 4/5] END ...............................C=23, max_iter=8; total time=   5.3s\n"
     ]
    },
    {
     "name": "stderr",
     "output_type": "stream",
     "text": [
      "/opt/conda/lib/python3.9/site-packages/sklearn/svm/_base.py:985: ConvergenceWarning: Liblinear failed to converge, increase the number of iterations.\n",
      "  warnings.warn(\"Liblinear failed to converge, increase \"\n"
     ]
    },
    {
     "name": "stdout",
     "output_type": "stream",
     "text": [
      "[CV 5/5] END ...............................C=23, max_iter=8; total time=   5.3s\n"
     ]
    },
    {
     "name": "stderr",
     "output_type": "stream",
     "text": [
      "/opt/conda/lib/python3.9/site-packages/sklearn/svm/_base.py:985: ConvergenceWarning: Liblinear failed to converge, increase the number of iterations.\n",
      "  warnings.warn(\"Liblinear failed to converge, increase \"\n"
     ]
    },
    {
     "name": "stdout",
     "output_type": "stream",
     "text": [
      "[CV 1/5] END ...............................C=23, max_iter=9; total time=   6.5s\n"
     ]
    },
    {
     "name": "stderr",
     "output_type": "stream",
     "text": [
      "/opt/conda/lib/python3.9/site-packages/sklearn/svm/_base.py:985: ConvergenceWarning: Liblinear failed to converge, increase the number of iterations.\n",
      "  warnings.warn(\"Liblinear failed to converge, increase \"\n"
     ]
    },
    {
     "name": "stdout",
     "output_type": "stream",
     "text": [
      "[CV 2/5] END ...............................C=23, max_iter=9; total time=   6.5s\n"
     ]
    },
    {
     "name": "stderr",
     "output_type": "stream",
     "text": [
      "/opt/conda/lib/python3.9/site-packages/sklearn/svm/_base.py:985: ConvergenceWarning: Liblinear failed to converge, increase the number of iterations.\n",
      "  warnings.warn(\"Liblinear failed to converge, increase \"\n"
     ]
    },
    {
     "name": "stdout",
     "output_type": "stream",
     "text": [
      "[CV 3/5] END ...............................C=23, max_iter=9; total time=   6.5s\n"
     ]
    },
    {
     "name": "stderr",
     "output_type": "stream",
     "text": [
      "/opt/conda/lib/python3.9/site-packages/sklearn/svm/_base.py:985: ConvergenceWarning: Liblinear failed to converge, increase the number of iterations.\n",
      "  warnings.warn(\"Liblinear failed to converge, increase \"\n"
     ]
    },
    {
     "name": "stdout",
     "output_type": "stream",
     "text": [
      "[CV 4/5] END ...............................C=23, max_iter=9; total time=   6.5s\n"
     ]
    },
    {
     "name": "stderr",
     "output_type": "stream",
     "text": [
      "/opt/conda/lib/python3.9/site-packages/sklearn/svm/_base.py:985: ConvergenceWarning: Liblinear failed to converge, increase the number of iterations.\n",
      "  warnings.warn(\"Liblinear failed to converge, increase \"\n"
     ]
    },
    {
     "name": "stdout",
     "output_type": "stream",
     "text": [
      "[CV 5/5] END ...............................C=23, max_iter=9; total time=   6.5s\n"
     ]
    },
    {
     "name": "stderr",
     "output_type": "stream",
     "text": [
      "/opt/conda/lib/python3.9/site-packages/sklearn/svm/_base.py:985: ConvergenceWarning: Liblinear failed to converge, increase the number of iterations.\n",
      "  warnings.warn(\"Liblinear failed to converge, increase \"\n"
     ]
    },
    {
     "name": "stdout",
     "output_type": "stream",
     "text": [
      "[CV 1/5] END ...............................C=24, max_iter=8; total time=   5.3s\n"
     ]
    },
    {
     "name": "stderr",
     "output_type": "stream",
     "text": [
      "/opt/conda/lib/python3.9/site-packages/sklearn/svm/_base.py:985: ConvergenceWarning: Liblinear failed to converge, increase the number of iterations.\n",
      "  warnings.warn(\"Liblinear failed to converge, increase \"\n"
     ]
    },
    {
     "name": "stdout",
     "output_type": "stream",
     "text": [
      "[CV 2/5] END ...............................C=24, max_iter=8; total time=   5.3s\n"
     ]
    },
    {
     "name": "stderr",
     "output_type": "stream",
     "text": [
      "/opt/conda/lib/python3.9/site-packages/sklearn/svm/_base.py:985: ConvergenceWarning: Liblinear failed to converge, increase the number of iterations.\n",
      "  warnings.warn(\"Liblinear failed to converge, increase \"\n"
     ]
    },
    {
     "name": "stdout",
     "output_type": "stream",
     "text": [
      "[CV 3/5] END ...............................C=24, max_iter=8; total time=   5.2s\n"
     ]
    },
    {
     "name": "stderr",
     "output_type": "stream",
     "text": [
      "/opt/conda/lib/python3.9/site-packages/sklearn/svm/_base.py:985: ConvergenceWarning: Liblinear failed to converge, increase the number of iterations.\n",
      "  warnings.warn(\"Liblinear failed to converge, increase \"\n"
     ]
    },
    {
     "name": "stdout",
     "output_type": "stream",
     "text": [
      "[CV 4/5] END ...............................C=24, max_iter=8; total time=   5.4s\n"
     ]
    },
    {
     "name": "stderr",
     "output_type": "stream",
     "text": [
      "/opt/conda/lib/python3.9/site-packages/sklearn/svm/_base.py:985: ConvergenceWarning: Liblinear failed to converge, increase the number of iterations.\n",
      "  warnings.warn(\"Liblinear failed to converge, increase \"\n"
     ]
    },
    {
     "name": "stdout",
     "output_type": "stream",
     "text": [
      "[CV 5/5] END ...............................C=24, max_iter=8; total time=   5.2s\n"
     ]
    },
    {
     "name": "stderr",
     "output_type": "stream",
     "text": [
      "/opt/conda/lib/python3.9/site-packages/sklearn/svm/_base.py:985: ConvergenceWarning: Liblinear failed to converge, increase the number of iterations.\n",
      "  warnings.warn(\"Liblinear failed to converge, increase \"\n"
     ]
    },
    {
     "name": "stdout",
     "output_type": "stream",
     "text": [
      "[CV 1/5] END ...............................C=24, max_iter=9; total time=   6.5s\n"
     ]
    },
    {
     "name": "stderr",
     "output_type": "stream",
     "text": [
      "/opt/conda/lib/python3.9/site-packages/sklearn/svm/_base.py:985: ConvergenceWarning: Liblinear failed to converge, increase the number of iterations.\n",
      "  warnings.warn(\"Liblinear failed to converge, increase \"\n"
     ]
    },
    {
     "name": "stdout",
     "output_type": "stream",
     "text": [
      "[CV 2/5] END ...............................C=24, max_iter=9; total time=   6.5s\n"
     ]
    },
    {
     "name": "stderr",
     "output_type": "stream",
     "text": [
      "/opt/conda/lib/python3.9/site-packages/sklearn/svm/_base.py:985: ConvergenceWarning: Liblinear failed to converge, increase the number of iterations.\n",
      "  warnings.warn(\"Liblinear failed to converge, increase \"\n"
     ]
    },
    {
     "name": "stdout",
     "output_type": "stream",
     "text": [
      "[CV 3/5] END ...............................C=24, max_iter=9; total time=   6.4s\n"
     ]
    },
    {
     "name": "stderr",
     "output_type": "stream",
     "text": [
      "/opt/conda/lib/python3.9/site-packages/sklearn/svm/_base.py:985: ConvergenceWarning: Liblinear failed to converge, increase the number of iterations.\n",
      "  warnings.warn(\"Liblinear failed to converge, increase \"\n"
     ]
    },
    {
     "name": "stdout",
     "output_type": "stream",
     "text": [
      "[CV 4/5] END ...............................C=24, max_iter=9; total time=   6.6s\n"
     ]
    },
    {
     "name": "stderr",
     "output_type": "stream",
     "text": [
      "/opt/conda/lib/python3.9/site-packages/sklearn/svm/_base.py:985: ConvergenceWarning: Liblinear failed to converge, increase the number of iterations.\n",
      "  warnings.warn(\"Liblinear failed to converge, increase \"\n"
     ]
    },
    {
     "name": "stdout",
     "output_type": "stream",
     "text": [
      "[CV 5/5] END ...............................C=24, max_iter=9; total time=   6.4s\n"
     ]
    },
    {
     "name": "stderr",
     "output_type": "stream",
     "text": [
      "/opt/conda/lib/python3.9/site-packages/sklearn/svm/_base.py:985: ConvergenceWarning: Liblinear failed to converge, increase the number of iterations.\n",
      "  warnings.warn(\"Liblinear failed to converge, increase \"\n"
     ]
    },
    {
     "name": "stdout",
     "output_type": "stream",
     "text": [
      "[CV 1/5] END ...............................C=25, max_iter=8; total time=   5.3s\n"
     ]
    },
    {
     "name": "stderr",
     "output_type": "stream",
     "text": [
      "/opt/conda/lib/python3.9/site-packages/sklearn/svm/_base.py:985: ConvergenceWarning: Liblinear failed to converge, increase the number of iterations.\n",
      "  warnings.warn(\"Liblinear failed to converge, increase \"\n"
     ]
    },
    {
     "name": "stdout",
     "output_type": "stream",
     "text": [
      "[CV 2/5] END ...............................C=25, max_iter=8; total time=   5.3s\n"
     ]
    },
    {
     "name": "stderr",
     "output_type": "stream",
     "text": [
      "/opt/conda/lib/python3.9/site-packages/sklearn/svm/_base.py:985: ConvergenceWarning: Liblinear failed to converge, increase the number of iterations.\n",
      "  warnings.warn(\"Liblinear failed to converge, increase \"\n"
     ]
    },
    {
     "name": "stdout",
     "output_type": "stream",
     "text": [
      "[CV 3/5] END ...............................C=25, max_iter=8; total time=   5.3s\n"
     ]
    },
    {
     "name": "stderr",
     "output_type": "stream",
     "text": [
      "/opt/conda/lib/python3.9/site-packages/sklearn/svm/_base.py:985: ConvergenceWarning: Liblinear failed to converge, increase the number of iterations.\n",
      "  warnings.warn(\"Liblinear failed to converge, increase \"\n"
     ]
    },
    {
     "name": "stdout",
     "output_type": "stream",
     "text": [
      "[CV 4/5] END ...............................C=25, max_iter=8; total time=   5.2s\n"
     ]
    },
    {
     "name": "stderr",
     "output_type": "stream",
     "text": [
      "/opt/conda/lib/python3.9/site-packages/sklearn/svm/_base.py:985: ConvergenceWarning: Liblinear failed to converge, increase the number of iterations.\n",
      "  warnings.warn(\"Liblinear failed to converge, increase \"\n"
     ]
    },
    {
     "name": "stdout",
     "output_type": "stream",
     "text": [
      "[CV 5/5] END ...............................C=25, max_iter=8; total time=   5.3s\n"
     ]
    },
    {
     "name": "stderr",
     "output_type": "stream",
     "text": [
      "/opt/conda/lib/python3.9/site-packages/sklearn/svm/_base.py:985: ConvergenceWarning: Liblinear failed to converge, increase the number of iterations.\n",
      "  warnings.warn(\"Liblinear failed to converge, increase \"\n"
     ]
    },
    {
     "name": "stdout",
     "output_type": "stream",
     "text": [
      "[CV 1/5] END ...............................C=25, max_iter=9; total time=   6.5s\n"
     ]
    },
    {
     "name": "stderr",
     "output_type": "stream",
     "text": [
      "/opt/conda/lib/python3.9/site-packages/sklearn/svm/_base.py:985: ConvergenceWarning: Liblinear failed to converge, increase the number of iterations.\n",
      "  warnings.warn(\"Liblinear failed to converge, increase \"\n"
     ]
    },
    {
     "name": "stdout",
     "output_type": "stream",
     "text": [
      "[CV 2/5] END ...............................C=25, max_iter=9; total time=   6.5s\n"
     ]
    },
    {
     "name": "stderr",
     "output_type": "stream",
     "text": [
      "/opt/conda/lib/python3.9/site-packages/sklearn/svm/_base.py:985: ConvergenceWarning: Liblinear failed to converge, increase the number of iterations.\n",
      "  warnings.warn(\"Liblinear failed to converge, increase \"\n"
     ]
    },
    {
     "name": "stdout",
     "output_type": "stream",
     "text": [
      "[CV 3/5] END ...............................C=25, max_iter=9; total time=   6.6s\n"
     ]
    },
    {
     "name": "stderr",
     "output_type": "stream",
     "text": [
      "/opt/conda/lib/python3.9/site-packages/sklearn/svm/_base.py:985: ConvergenceWarning: Liblinear failed to converge, increase the number of iterations.\n",
      "  warnings.warn(\"Liblinear failed to converge, increase \"\n"
     ]
    },
    {
     "name": "stdout",
     "output_type": "stream",
     "text": [
      "[CV 4/5] END ...............................C=25, max_iter=9; total time=   6.5s\n"
     ]
    },
    {
     "name": "stderr",
     "output_type": "stream",
     "text": [
      "/opt/conda/lib/python3.9/site-packages/sklearn/svm/_base.py:985: ConvergenceWarning: Liblinear failed to converge, increase the number of iterations.\n",
      "  warnings.warn(\"Liblinear failed to converge, increase \"\n"
     ]
    },
    {
     "name": "stdout",
     "output_type": "stream",
     "text": [
      "[CV 5/5] END ...............................C=25, max_iter=9; total time=   6.5s\n"
     ]
    },
    {
     "name": "stderr",
     "output_type": "stream",
     "text": [
      "/opt/conda/lib/python3.9/site-packages/sklearn/svm/_base.py:985: ConvergenceWarning: Liblinear failed to converge, increase the number of iterations.\n",
      "  warnings.warn(\"Liblinear failed to converge, increase \"\n"
     ]
    },
    {
     "data": {
      "text/plain": [
       "'Лучшие параметры модели линейной регрессии:'"
      ]
     },
     "metadata": {},
     "output_type": "display_data"
    },
    {
     "data": {
      "text/plain": [
       "{'C': 25, 'max_iter': 8}"
      ]
     },
     "metadata": {},
     "output_type": "display_data"
    },
    {
     "data": {
      "text/plain": [
       "'Дали f1 модели:'"
      ]
     },
     "metadata": {},
     "output_type": "display_data"
    },
    {
     "data": {
      "text/plain": [
       "0.7734854354110138"
      ]
     },
     "metadata": {},
     "output_type": "display_data"
    }
   ],
   "source": [
    "parameters = {'C': range(23, 26, 1), 'max_iter': range(8, 10, 1)}\n",
    "f1, best_parameters = model_look (LogisticRegression(random_state=12345, solver='liblinear'), parameters, features_train, target_train)\n",
    "display('Лучшие параметры модели линейной регрессии:', best_parameters)\n",
    "display('Дали f1 модели:', f1)"
   ]
  },
  {
   "cell_type": "code",
   "execution_count": 16,
   "metadata": {},
   "outputs": [
    {
     "data": {
      "text/html": [
       "<div>\n",
       "<style scoped>\n",
       "    .dataframe tbody tr th:only-of-type {\n",
       "        vertical-align: middle;\n",
       "    }\n",
       "\n",
       "    .dataframe tbody tr th {\n",
       "        vertical-align: top;\n",
       "    }\n",
       "\n",
       "    .dataframe thead th {\n",
       "        text-align: right;\n",
       "    }\n",
       "</style>\n",
       "<table border=\"1\" class=\"dataframe\">\n",
       "  <thead>\n",
       "    <tr style=\"text-align: right;\">\n",
       "      <th></th>\n",
       "      <th>model</th>\n",
       "      <th>best_parameters_train</th>\n",
       "      <th>f1_train</th>\n",
       "    </tr>\n",
       "  </thead>\n",
       "  <tbody>\n",
       "    <tr>\n",
       "      <th>0</th>\n",
       "      <td>LogisticRegression</td>\n",
       "      <td>{'C': 25, 'max_iter': 8}</td>\n",
       "      <td>0.773485</td>\n",
       "    </tr>\n",
       "  </tbody>\n",
       "</table>\n",
       "</div>"
      ],
      "text/plain": [
       "                model     best_parameters_train  f1_train\n",
       "0  LogisticRegression  {'C': 25, 'max_iter': 8}  0.773485"
      ]
     },
     "execution_count": 16,
     "metadata": {},
     "output_type": "execute_result"
    }
   ],
   "source": [
    "results = pd.DataFrame ({'model':['LogisticRegression'], 'best_parameters_train':[best_parameters], 'f1_train':[f1]})\n",
    "results"
   ]
  },
  {
   "cell_type": "markdown",
   "metadata": {},
   "source": [
    "### Дерево решений"
   ]
  },
  {
   "cell_type": "code",
   "execution_count": 17,
   "metadata": {},
   "outputs": [
    {
     "name": "stdout",
     "output_type": "stream",
     "text": [
      "Fitting 5 folds for each of 2 candidates, totalling 10 fits\n",
      "[CV 1/5] END ..................................max_depth=122; total time=  45.4s\n",
      "[CV 2/5] END ..................................max_depth=122; total time=  45.0s\n",
      "[CV 3/5] END ..................................max_depth=122; total time=  45.2s\n",
      "[CV 4/5] END ..................................max_depth=122; total time=  46.6s\n",
      "[CV 5/5] END ..................................max_depth=122; total time=  44.6s\n",
      "[CV 1/5] END ..................................max_depth=123; total time=  45.7s\n",
      "[CV 2/5] END ..................................max_depth=123; total time=  44.7s\n",
      "[CV 3/5] END ..................................max_depth=123; total time=  45.1s\n",
      "[CV 4/5] END ..................................max_depth=123; total time=  46.2s\n",
      "[CV 5/5] END ..................................max_depth=123; total time=  44.9s\n"
     ]
    },
    {
     "data": {
      "text/plain": [
       "'Лучшие параметры модели дерева решений:'"
      ]
     },
     "metadata": {},
     "output_type": "display_data"
    },
    {
     "data": {
      "text/plain": [
       "{'max_depth': 123}"
      ]
     },
     "metadata": {},
     "output_type": "display_data"
    },
    {
     "data": {
      "text/plain": [
       "'Дали f1 модели:'"
      ]
     },
     "metadata": {},
     "output_type": "display_data"
    },
    {
     "data": {
      "text/plain": [
       "0.7272793577738383"
      ]
     },
     "metadata": {},
     "output_type": "display_data"
    }
   ],
   "source": [
    "parameters = {'max_depth': range(122, 124, 1)}\n",
    "f1, best_parameters = model_look (DecisionTreeClassifier(random_state=12345), parameters, features_train, target_train)\n",
    "display('Лучшие параметры модели дерева решений:', best_parameters)\n",
    "display('Дали f1 модели:', f1)"
   ]
  },
  {
   "cell_type": "code",
   "execution_count": 18,
   "metadata": {},
   "outputs": [
    {
     "data": {
      "text/html": [
       "<div>\n",
       "<style scoped>\n",
       "    .dataframe tbody tr th:only-of-type {\n",
       "        vertical-align: middle;\n",
       "    }\n",
       "\n",
       "    .dataframe tbody tr th {\n",
       "        vertical-align: top;\n",
       "    }\n",
       "\n",
       "    .dataframe thead th {\n",
       "        text-align: right;\n",
       "    }\n",
       "</style>\n",
       "<table border=\"1\" class=\"dataframe\">\n",
       "  <thead>\n",
       "    <tr style=\"text-align: right;\">\n",
       "      <th></th>\n",
       "      <th>model</th>\n",
       "      <th>best_parameters_train</th>\n",
       "      <th>f1_train</th>\n",
       "    </tr>\n",
       "  </thead>\n",
       "  <tbody>\n",
       "    <tr>\n",
       "      <th>0</th>\n",
       "      <td>LogisticRegression</td>\n",
       "      <td>{'C': 25, 'max_iter': 8}</td>\n",
       "      <td>0.773485</td>\n",
       "    </tr>\n",
       "    <tr>\n",
       "      <th>1</th>\n",
       "      <td>DecisionTreeClassifier</td>\n",
       "      <td>{'max_depth': 123}</td>\n",
       "      <td>0.727279</td>\n",
       "    </tr>\n",
       "  </tbody>\n",
       "</table>\n",
       "</div>"
      ],
      "text/plain": [
       "                    model     best_parameters_train  f1_train\n",
       "0      LogisticRegression  {'C': 25, 'max_iter': 8}  0.773485\n",
       "1  DecisionTreeClassifier        {'max_depth': 123}  0.727279"
      ]
     },
     "execution_count": 18,
     "metadata": {},
     "output_type": "execute_result"
    }
   ],
   "source": [
    "results = results.append({'model':'DecisionTreeClassifier', 'best_parameters_train':best_parameters, 'f1_train':f1}, ignore_index=True)\n",
    "results"
   ]
  },
  {
   "cell_type": "markdown",
   "metadata": {},
   "source": [
    "### Cлучайный лес"
   ]
  },
  {
   "cell_type": "code",
   "execution_count": 19,
   "metadata": {},
   "outputs": [
    {
     "name": "stdout",
     "output_type": "stream",
     "text": [
      "Fitting 5 folds for each of 9 candidates, totalling 45 fits\n",
      "[CV 1/5] END ..................max_depth=213, n_estimators=3; total time=  11.1s\n",
      "[CV 2/5] END ..................max_depth=213, n_estimators=3; total time=  10.9s\n",
      "[CV 3/5] END ..................max_depth=213, n_estimators=3; total time=  10.6s\n",
      "[CV 4/5] END ..................max_depth=213, n_estimators=3; total time=  10.6s\n",
      "[CV 5/5] END ..................max_depth=213, n_estimators=3; total time=  10.8s\n",
      "[CV 1/5] END ..................max_depth=213, n_estimators=4; total time=  14.9s\n",
      "[CV 2/5] END ..................max_depth=213, n_estimators=4; total time=  14.7s\n",
      "[CV 3/5] END ..................max_depth=213, n_estimators=4; total time=  14.2s\n",
      "[CV 4/5] END ..................max_depth=213, n_estimators=4; total time=  14.2s\n",
      "[CV 5/5] END ..................max_depth=213, n_estimators=4; total time=  14.6s\n",
      "[CV 1/5] END ..................max_depth=213, n_estimators=5; total time=  18.5s\n",
      "[CV 2/5] END ..................max_depth=213, n_estimators=5; total time=  18.2s\n",
      "[CV 3/5] END ..................max_depth=213, n_estimators=5; total time=  18.0s\n",
      "[CV 4/5] END ..................max_depth=213, n_estimators=5; total time=  18.3s\n",
      "[CV 5/5] END ..................max_depth=213, n_estimators=5; total time=  18.5s\n",
      "[CV 1/5] END ..................max_depth=214, n_estimators=3; total time=  11.1s\n",
      "[CV 2/5] END ..................max_depth=214, n_estimators=3; total time=  11.4s\n",
      "[CV 3/5] END ..................max_depth=214, n_estimators=3; total time=  10.9s\n",
      "[CV 4/5] END ..................max_depth=214, n_estimators=3; total time=  10.9s\n",
      "[CV 5/5] END ..................max_depth=214, n_estimators=3; total time=  11.0s\n",
      "[CV 1/5] END ..................max_depth=214, n_estimators=4; total time=  14.8s\n",
      "[CV 2/5] END ..................max_depth=214, n_estimators=4; total time=  15.2s\n",
      "[CV 3/5] END ..................max_depth=214, n_estimators=4; total time=  14.4s\n",
      "[CV 4/5] END ..................max_depth=214, n_estimators=4; total time=  14.7s\n",
      "[CV 5/5] END ..................max_depth=214, n_estimators=4; total time=  14.6s\n",
      "[CV 1/5] END ..................max_depth=214, n_estimators=5; total time=  18.5s\n",
      "[CV 2/5] END ..................max_depth=214, n_estimators=5; total time=  18.5s\n",
      "[CV 3/5] END ..................max_depth=214, n_estimators=5; total time=  18.2s\n",
      "[CV 4/5] END ..................max_depth=214, n_estimators=5; total time=  18.4s\n",
      "[CV 5/5] END ..................max_depth=214, n_estimators=5; total time=  18.4s\n",
      "[CV 1/5] END ..................max_depth=215, n_estimators=3; total time=  11.2s\n",
      "[CV 2/5] END ..................max_depth=215, n_estimators=3; total time=  11.1s\n",
      "[CV 3/5] END ..................max_depth=215, n_estimators=3; total time=  10.9s\n",
      "[CV 4/5] END ..................max_depth=215, n_estimators=3; total time=  11.1s\n",
      "[CV 5/5] END ..................max_depth=215, n_estimators=3; total time=  11.1s\n",
      "[CV 1/5] END ..................max_depth=215, n_estimators=4; total time=  15.5s\n",
      "[CV 2/5] END ..................max_depth=215, n_estimators=4; total time=  15.0s\n",
      "[CV 3/5] END ..................max_depth=215, n_estimators=4; total time=  14.9s\n",
      "[CV 4/5] END ..................max_depth=215, n_estimators=4; total time=  15.0s\n",
      "[CV 5/5] END ..................max_depth=215, n_estimators=4; total time=  15.2s\n",
      "[CV 1/5] END ..................max_depth=215, n_estimators=5; total time=  18.9s\n",
      "[CV 2/5] END ..................max_depth=215, n_estimators=5; total time=  19.5s\n",
      "[CV 3/5] END ..................max_depth=215, n_estimators=5; total time=  19.6s\n",
      "[CV 4/5] END ..................max_depth=215, n_estimators=5; total time=  19.5s\n",
      "[CV 5/5] END ..................max_depth=215, n_estimators=5; total time=  19.6s\n"
     ]
    },
    {
     "data": {
      "text/plain": [
       "'Лучшие параметры модели случайного леса:'"
      ]
     },
     "metadata": {},
     "output_type": "display_data"
    },
    {
     "data": {
      "text/plain": [
       "{'max_depth': 213, 'n_estimators': 4}"
      ]
     },
     "metadata": {},
     "output_type": "display_data"
    },
    {
     "data": {
      "text/plain": [
       "'Дали f1 модели:'"
      ]
     },
     "metadata": {},
     "output_type": "display_data"
    },
    {
     "data": {
      "text/plain": [
       "0.5565125819039631"
      ]
     },
     "metadata": {},
     "output_type": "display_data"
    }
   ],
   "source": [
    "parameters = {'max_depth': range(213, 216, 1), 'n_estimators': range(3, 6, 1)}\n",
    "f1, best_parameters = model_look (RandomForestClassifier(random_state=12345), parameters, features_train, target_train)\n",
    "display('Лучшие параметры модели случайного леса:', best_parameters)\n",
    "display('Дали f1 модели:', f1)"
   ]
  },
  {
   "cell_type": "code",
   "execution_count": 20,
   "metadata": {
    "scrolled": true
   },
   "outputs": [
    {
     "data": {
      "text/html": [
       "<div>\n",
       "<style scoped>\n",
       "    .dataframe tbody tr th:only-of-type {\n",
       "        vertical-align: middle;\n",
       "    }\n",
       "\n",
       "    .dataframe tbody tr th {\n",
       "        vertical-align: top;\n",
       "    }\n",
       "\n",
       "    .dataframe thead th {\n",
       "        text-align: right;\n",
       "    }\n",
       "</style>\n",
       "<table border=\"1\" class=\"dataframe\">\n",
       "  <thead>\n",
       "    <tr style=\"text-align: right;\">\n",
       "      <th></th>\n",
       "      <th>model</th>\n",
       "      <th>best_parameters_train</th>\n",
       "      <th>f1_train</th>\n",
       "    </tr>\n",
       "  </thead>\n",
       "  <tbody>\n",
       "    <tr>\n",
       "      <th>0</th>\n",
       "      <td>LogisticRegression</td>\n",
       "      <td>{'C': 25, 'max_iter': 8}</td>\n",
       "      <td>0.773485</td>\n",
       "    </tr>\n",
       "    <tr>\n",
       "      <th>1</th>\n",
       "      <td>DecisionTreeClassifier</td>\n",
       "      <td>{'max_depth': 123}</td>\n",
       "      <td>0.727279</td>\n",
       "    </tr>\n",
       "    <tr>\n",
       "      <th>2</th>\n",
       "      <td>RandomForestClassifier</td>\n",
       "      <td>{'max_depth': 213, 'n_estimators': 4}</td>\n",
       "      <td>0.556513</td>\n",
       "    </tr>\n",
       "  </tbody>\n",
       "</table>\n",
       "</div>"
      ],
      "text/plain": [
       "                    model                  best_parameters_train  f1_train\n",
       "0      LogisticRegression               {'C': 25, 'max_iter': 8}  0.773485\n",
       "1  DecisionTreeClassifier                     {'max_depth': 123}  0.727279\n",
       "2  RandomForestClassifier  {'max_depth': 213, 'n_estimators': 4}  0.556513"
      ]
     },
     "execution_count": 20,
     "metadata": {},
     "output_type": "execute_result"
    }
   ],
   "source": [
    "results = results.append({'model':'RandomForestClassifier', 'best_parameters_train':best_parameters, 'f1_train':f1}, ignore_index=True)\n",
    "results"
   ]
  },
  {
   "cell_type": "markdown",
   "metadata": {},
   "source": [
    "* На данном этапе мы обучили наши данные моделями машинного обучения и выявили оптимальные гиперпараметры для этих моделей. Проверим полученные значения на тестовых данных"
   ]
  },
  {
   "cell_type": "markdown",
   "metadata": {},
   "source": [
    "## Тестирование моделей"
   ]
  },
  {
   "cell_type": "markdown",
   "metadata": {},
   "source": [
    "Функция обучения моделей на тестовой выборке и занесения результата метрики f1 в таблицу"
   ]
  },
  {
   "cell_type": "code",
   "execution_count": 21,
   "metadata": {},
   "outputs": [],
   "source": [
    "def ml_result(model, features_train, target_train, features_test, target_test):\n",
    "        \n",
    "    model.fit(features_train, target_train)\n",
    "    \n",
    "    predictions = model.predict(features_test)\n",
    "    \n",
    "    f1 = f1_score(target_test, predictions)\n",
    "      \n",
    "    return f1"
   ]
  },
  {
   "cell_type": "markdown",
   "metadata": {},
   "source": [
    "### Логистическая регрессия"
   ]
  },
  {
   "cell_type": "code",
   "execution_count": 22,
   "metadata": {},
   "outputs": [
    {
     "name": "stderr",
     "output_type": "stream",
     "text": [
      "/opt/conda/lib/python3.9/site-packages/sklearn/svm/_base.py:985: ConvergenceWarning: Liblinear failed to converge, increase the number of iterations.\n",
      "  warnings.warn(\"Liblinear failed to converge, increase \"\n"
     ]
    },
    {
     "data": {
      "text/html": [
       "<div>\n",
       "<style scoped>\n",
       "    .dataframe tbody tr th:only-of-type {\n",
       "        vertical-align: middle;\n",
       "    }\n",
       "\n",
       "    .dataframe tbody tr th {\n",
       "        vertical-align: top;\n",
       "    }\n",
       "\n",
       "    .dataframe thead th {\n",
       "        text-align: right;\n",
       "    }\n",
       "</style>\n",
       "<table border=\"1\" class=\"dataframe\">\n",
       "  <thead>\n",
       "    <tr style=\"text-align: right;\">\n",
       "      <th></th>\n",
       "      <th>model</th>\n",
       "      <th>best_parameters_train</th>\n",
       "      <th>f1_train</th>\n",
       "      <th>f1_test</th>\n",
       "    </tr>\n",
       "  </thead>\n",
       "  <tbody>\n",
       "    <tr>\n",
       "      <th>0</th>\n",
       "      <td>LogisticRegression</td>\n",
       "      <td>{'C': 25, 'max_iter': 8}</td>\n",
       "      <td>0.773485</td>\n",
       "      <td>0.78558</td>\n",
       "    </tr>\n",
       "    <tr>\n",
       "      <th>1</th>\n",
       "      <td>DecisionTreeClassifier</td>\n",
       "      <td>{'max_depth': 123}</td>\n",
       "      <td>0.727279</td>\n",
       "      <td>NaN</td>\n",
       "    </tr>\n",
       "    <tr>\n",
       "      <th>2</th>\n",
       "      <td>RandomForestClassifier</td>\n",
       "      <td>{'max_depth': 213, 'n_estimators': 4}</td>\n",
       "      <td>0.556513</td>\n",
       "      <td>NaN</td>\n",
       "    </tr>\n",
       "  </tbody>\n",
       "</table>\n",
       "</div>"
      ],
      "text/plain": [
       "                    model                  best_parameters_train  f1_train  \\\n",
       "0      LogisticRegression               {'C': 25, 'max_iter': 8}  0.773485   \n",
       "1  DecisionTreeClassifier                     {'max_depth': 123}  0.727279   \n",
       "2  RandomForestClassifier  {'max_depth': 213, 'n_estimators': 4}  0.556513   \n",
       "\n",
       "   f1_test  \n",
       "0  0.78558  \n",
       "1      NaN  \n",
       "2      NaN  "
      ]
     },
     "execution_count": 22,
     "metadata": {},
     "output_type": "execute_result"
    }
   ],
   "source": [
    "f1 = ml_result(LogisticRegression(\n",
    "    random_state=12345, solver='liblinear', C=24, max_iter=8), features_train, target_train, features_test, target_test\n",
    "              )\n",
    "results.loc[0, 'f1_test'] = f1\n",
    "results"
   ]
  },
  {
   "cell_type": "markdown",
   "metadata": {},
   "source": [
    "### Дерево решений"
   ]
  },
  {
   "cell_type": "code",
   "execution_count": 23,
   "metadata": {},
   "outputs": [
    {
     "data": {
      "text/html": [
       "<div>\n",
       "<style scoped>\n",
       "    .dataframe tbody tr th:only-of-type {\n",
       "        vertical-align: middle;\n",
       "    }\n",
       "\n",
       "    .dataframe tbody tr th {\n",
       "        vertical-align: top;\n",
       "    }\n",
       "\n",
       "    .dataframe thead th {\n",
       "        text-align: right;\n",
       "    }\n",
       "</style>\n",
       "<table border=\"1\" class=\"dataframe\">\n",
       "  <thead>\n",
       "    <tr style=\"text-align: right;\">\n",
       "      <th></th>\n",
       "      <th>model</th>\n",
       "      <th>best_parameters_train</th>\n",
       "      <th>f1_train</th>\n",
       "      <th>f1_test</th>\n",
       "    </tr>\n",
       "  </thead>\n",
       "  <tbody>\n",
       "    <tr>\n",
       "      <th>0</th>\n",
       "      <td>LogisticRegression</td>\n",
       "      <td>{'C': 25, 'max_iter': 8}</td>\n",
       "      <td>0.773485</td>\n",
       "      <td>0.785580</td>\n",
       "    </tr>\n",
       "    <tr>\n",
       "      <th>1</th>\n",
       "      <td>DecisionTreeClassifier</td>\n",
       "      <td>{'max_depth': 123}</td>\n",
       "      <td>0.727279</td>\n",
       "      <td>0.728012</td>\n",
       "    </tr>\n",
       "    <tr>\n",
       "      <th>2</th>\n",
       "      <td>RandomForestClassifier</td>\n",
       "      <td>{'max_depth': 213, 'n_estimators': 4}</td>\n",
       "      <td>0.556513</td>\n",
       "      <td>NaN</td>\n",
       "    </tr>\n",
       "  </tbody>\n",
       "</table>\n",
       "</div>"
      ],
      "text/plain": [
       "                    model                  best_parameters_train  f1_train  \\\n",
       "0      LogisticRegression               {'C': 25, 'max_iter': 8}  0.773485   \n",
       "1  DecisionTreeClassifier                     {'max_depth': 123}  0.727279   \n",
       "2  RandomForestClassifier  {'max_depth': 213, 'n_estimators': 4}  0.556513   \n",
       "\n",
       "    f1_test  \n",
       "0  0.785580  \n",
       "1  0.728012  \n",
       "2       NaN  "
      ]
     },
     "execution_count": 23,
     "metadata": {},
     "output_type": "execute_result"
    }
   ],
   "source": [
    "f1 = ml_result(DecisionTreeClassifier(\n",
    "    random_state=12345, max_depth=123), features_train, target_train, features_test, target_test\n",
    "              )\n",
    "results.loc[1, 'f1_test'] = f1\n",
    "results"
   ]
  },
  {
   "cell_type": "markdown",
   "metadata": {},
   "source": [
    "### Cлучайный лес"
   ]
  },
  {
   "cell_type": "code",
   "execution_count": 24,
   "metadata": {
    "scrolled": true
   },
   "outputs": [
    {
     "data": {
      "text/html": [
       "<div>\n",
       "<style scoped>\n",
       "    .dataframe tbody tr th:only-of-type {\n",
       "        vertical-align: middle;\n",
       "    }\n",
       "\n",
       "    .dataframe tbody tr th {\n",
       "        vertical-align: top;\n",
       "    }\n",
       "\n",
       "    .dataframe thead th {\n",
       "        text-align: right;\n",
       "    }\n",
       "</style>\n",
       "<table border=\"1\" class=\"dataframe\">\n",
       "  <thead>\n",
       "    <tr style=\"text-align: right;\">\n",
       "      <th></th>\n",
       "      <th>model</th>\n",
       "      <th>best_parameters_train</th>\n",
       "      <th>f1_train</th>\n",
       "      <th>f1_test</th>\n",
       "    </tr>\n",
       "  </thead>\n",
       "  <tbody>\n",
       "    <tr>\n",
       "      <th>0</th>\n",
       "      <td>LogisticRegression</td>\n",
       "      <td>{'C': 25, 'max_iter': 8}</td>\n",
       "      <td>0.773485</td>\n",
       "      <td>0.785580</td>\n",
       "    </tr>\n",
       "    <tr>\n",
       "      <th>1</th>\n",
       "      <td>DecisionTreeClassifier</td>\n",
       "      <td>{'max_depth': 123}</td>\n",
       "      <td>0.727279</td>\n",
       "      <td>0.728012</td>\n",
       "    </tr>\n",
       "    <tr>\n",
       "      <th>2</th>\n",
       "      <td>RandomForestClassifier</td>\n",
       "      <td>{'max_depth': 213, 'n_estimators': 4}</td>\n",
       "      <td>0.556513</td>\n",
       "      <td>0.586759</td>\n",
       "    </tr>\n",
       "  </tbody>\n",
       "</table>\n",
       "</div>"
      ],
      "text/plain": [
       "                    model                  best_parameters_train  f1_train  \\\n",
       "0      LogisticRegression               {'C': 25, 'max_iter': 8}  0.773485   \n",
       "1  DecisionTreeClassifier                     {'max_depth': 123}  0.727279   \n",
       "2  RandomForestClassifier  {'max_depth': 213, 'n_estimators': 4}  0.556513   \n",
       "\n",
       "    f1_test  \n",
       "0  0.785580  \n",
       "1  0.728012  \n",
       "2  0.586759  "
      ]
     },
     "execution_count": 24,
     "metadata": {},
     "output_type": "execute_result"
    }
   ],
   "source": [
    "f1 = ml_result(RandomForestClassifier(\n",
    "    random_state=12345, max_depth=213, n_estimators=4), features_train, target_train, features_test, target_test\n",
    "              )\n",
    "results.loc[2, 'f1_test'] = f1\n",
    "results"
   ]
  },
  {
   "cell_type": "markdown",
   "metadata": {},
   "source": [
    "* На данном этапе мы обучили модели машинного обучения на тренировочной выборке и проверили их на тестовой выборке. Лучшими характеристиками по условиям задачи себя показала модель логистической регрессии."
   ]
  },
  {
   "cell_type": "markdown",
   "metadata": {},
   "source": [
    "## Выводы"
   ]
  },
  {
   "cell_type": "markdown",
   "metadata": {},
   "source": [
    "По итогу данного проекта было выполнено:\n",
    "* Подготовили исходные данные: лемматизировали и токенизировали данные, а также избавились от нежелательных символов;\n",
    "* Обучили модели;\n",
    "* Проверели модели на тестовой выборке и выбрали самую оптимальную из них.\n",
    "\n",
    "\n",
    "Согласно условиям задачи модель логистической регрессии лучше всех справилась с выполнением своей задачи в виду: \n",
    "* Более точного предсказания;\n",
    "* Меньшего времени как обучения, так и предсказаний."
   ]
  }
 ],
 "metadata": {
  "ExecuteTimeLog": [
   {
    "duration": 1600,
    "start_time": "2022-07-16T18:20:15.012Z"
   },
   {
    "duration": 1701,
    "start_time": "2022-07-16T18:23:46.002Z"
   },
   {
    "duration": 212,
    "start_time": "2022-07-16T18:23:47.705Z"
   },
   {
    "duration": 880,
    "start_time": "2022-07-16T18:23:47.919Z"
   },
   {
    "duration": 103,
    "start_time": "2022-07-16T18:23:48.801Z"
   },
   {
    "duration": 32,
    "start_time": "2022-07-16T18:23:48.907Z"
   },
   {
    "duration": 5,
    "start_time": "2022-07-16T18:23:48.940Z"
   },
   {
    "duration": 189,
    "start_time": "2022-07-16T18:23:48.946Z"
   },
   {
    "duration": 5,
    "start_time": "2022-07-16T18:23:49.137Z"
   },
   {
    "duration": 7001,
    "start_time": "2022-07-16T18:23:49.143Z"
   },
   {
    "duration": 37,
    "start_time": "2022-07-16T18:23:56.146Z"
   },
   {
    "duration": 5346,
    "start_time": "2022-07-16T18:23:56.194Z"
   },
   {
    "duration": 10,
    "start_time": "2022-07-16T18:24:01.541Z"
   },
   {
    "duration": 816428,
    "start_time": "2022-07-16T18:24:01.554Z"
   },
   {
    "duration": 47,
    "start_time": "2022-07-16T18:37:37.993Z"
   },
   {
    "duration": 4,
    "start_time": "2022-07-16T18:37:38.042Z"
   },
   {
    "duration": 86,
    "start_time": "2022-07-16T18:37:38.049Z"
   },
   {
    "duration": 3,
    "start_time": "2022-07-16T18:37:38.137Z"
   },
   {
    "duration": 9,
    "start_time": "2022-07-16T18:37:38.142Z"
   },
   {
    "duration": 10968,
    "start_time": "2022-07-16T18:37:38.153Z"
   },
   {
    "duration": 0,
    "start_time": "2022-07-16T18:37:49.123Z"
   },
   {
    "duration": 1,
    "start_time": "2022-07-16T18:37:49.124Z"
   },
   {
    "duration": 0,
    "start_time": "2022-07-16T18:37:49.126Z"
   },
   {
    "duration": 0,
    "start_time": "2022-07-16T18:37:49.127Z"
   },
   {
    "duration": 0,
    "start_time": "2022-07-16T18:37:49.128Z"
   },
   {
    "duration": 0,
    "start_time": "2022-07-16T18:37:49.129Z"
   },
   {
    "duration": 0,
    "start_time": "2022-07-16T18:37:49.130Z"
   },
   {
    "duration": 0,
    "start_time": "2022-07-16T18:37:49.131Z"
   },
   {
    "duration": 0,
    "start_time": "2022-07-16T18:37:49.132Z"
   },
   {
    "duration": 1,
    "start_time": "2022-07-16T18:37:49.133Z"
   },
   {
    "duration": 0,
    "start_time": "2022-07-16T18:37:49.135Z"
   },
   {
    "duration": 0,
    "start_time": "2022-07-16T18:37:49.136Z"
   },
   {
    "duration": 0,
    "start_time": "2022-07-16T18:37:49.136Z"
   },
   {
    "duration": 0,
    "start_time": "2022-07-16T18:37:49.137Z"
   },
   {
    "duration": 0,
    "start_time": "2022-07-16T18:37:49.138Z"
   },
   {
    "duration": 0,
    "start_time": "2022-07-16T18:37:49.166Z"
   },
   {
    "duration": 0,
    "start_time": "2022-07-16T18:37:49.167Z"
   },
   {
    "duration": 0,
    "start_time": "2022-07-16T18:37:49.169Z"
   },
   {
    "duration": 0,
    "start_time": "2022-07-16T18:37:49.174Z"
   },
   {
    "duration": 0,
    "start_time": "2022-07-16T18:37:49.178Z"
   },
   {
    "duration": 0,
    "start_time": "2022-07-16T18:37:49.179Z"
   },
   {
    "duration": 0,
    "start_time": "2022-07-16T18:37:49.180Z"
   },
   {
    "duration": 0,
    "start_time": "2022-07-16T18:37:49.180Z"
   },
   {
    "duration": 0,
    "start_time": "2022-07-16T18:37:49.181Z"
   },
   {
    "duration": 0,
    "start_time": "2022-07-16T18:37:49.182Z"
   },
   {
    "duration": 0,
    "start_time": "2022-07-16T18:37:49.183Z"
   },
   {
    "duration": 0,
    "start_time": "2022-07-16T18:37:49.184Z"
   },
   {
    "duration": 0,
    "start_time": "2022-07-16T18:37:49.185Z"
   },
   {
    "duration": 0,
    "start_time": "2022-07-16T18:37:49.188Z"
   },
   {
    "duration": 0,
    "start_time": "2022-07-16T18:37:49.189Z"
   },
   {
    "duration": 8706,
    "start_time": "2022-07-16T18:41:28.541Z"
   },
   {
    "duration": 8798,
    "start_time": "2022-07-16T18:42:08.698Z"
   },
   {
    "duration": 8,
    "start_time": "2022-07-16T19:01:52.300Z"
   },
   {
    "duration": 127,
    "start_time": "2022-07-16T19:02:05.235Z"
   },
   {
    "duration": 8824,
    "start_time": "2022-07-16T19:03:50.407Z"
   },
   {
    "duration": 4934,
    "start_time": "2022-07-16T19:07:16.956Z"
   },
   {
    "duration": 5544,
    "start_time": "2022-07-16T19:08:23.229Z"
   },
   {
    "duration": 4395,
    "start_time": "2022-07-16T19:08:29.332Z"
   },
   {
    "duration": 4536,
    "start_time": "2022-07-16T19:08:43.656Z"
   },
   {
    "duration": 5,
    "start_time": "2022-07-16T19:10:19.789Z"
   },
   {
    "duration": 8,
    "start_time": "2022-07-16T19:10:20.857Z"
   },
   {
    "duration": 5083,
    "start_time": "2022-07-16T19:10:21.208Z"
   },
   {
    "duration": 14,
    "start_time": "2022-07-16T19:10:26.927Z"
   },
   {
    "duration": 15,
    "start_time": "2022-07-16T19:10:54.225Z"
   },
   {
    "duration": 14,
    "start_time": "2022-07-16T19:11:21.313Z"
   },
   {
    "duration": 3,
    "start_time": "2022-07-16T19:11:29.106Z"
   },
   {
    "duration": 9,
    "start_time": "2022-07-16T19:11:30.176Z"
   },
   {
    "duration": 5098,
    "start_time": "2022-07-16T19:11:30.590Z"
   },
   {
    "duration": 4214,
    "start_time": "2022-07-16T19:11:35.690Z"
   },
   {
    "duration": 3926,
    "start_time": "2022-07-16T19:13:40.125Z"
   },
   {
    "duration": 7,
    "start_time": "2022-07-16T19:19:05.412Z"
   },
   {
    "duration": 11280,
    "start_time": "2022-07-16T19:19:06.712Z"
   },
   {
    "duration": 2,
    "start_time": "2022-07-16T19:20:03.328Z"
   },
   {
    "duration": 14,
    "start_time": "2022-07-16T19:20:09.389Z"
   },
   {
    "duration": 7,
    "start_time": "2022-07-16T19:20:14.902Z"
   },
   {
    "duration": 1671032,
    "start_time": "2022-07-16T19:20:15.998Z"
   },
   {
    "duration": 7,
    "start_time": "2022-07-16T19:48:07.032Z"
   },
   {
    "duration": 48615,
    "start_time": "2022-07-16T19:48:07.040Z"
   },
   {
    "duration": 0,
    "start_time": "2022-07-16T19:48:55.657Z"
   },
   {
    "duration": 0,
    "start_time": "2022-07-16T19:48:55.659Z"
   },
   {
    "duration": 0,
    "start_time": "2022-07-16T19:48:55.672Z"
   },
   {
    "duration": 0,
    "start_time": "2022-07-16T19:48:55.675Z"
   },
   {
    "duration": 0,
    "start_time": "2022-07-16T19:48:55.676Z"
   },
   {
    "duration": 0,
    "start_time": "2022-07-16T19:48:55.678Z"
   },
   {
    "duration": 0,
    "start_time": "2022-07-16T19:48:55.680Z"
   },
   {
    "duration": 0,
    "start_time": "2022-07-16T19:48:55.681Z"
   },
   {
    "duration": 0,
    "start_time": "2022-07-16T19:48:55.682Z"
   },
   {
    "duration": 0,
    "start_time": "2022-07-16T19:48:55.683Z"
   },
   {
    "duration": 0,
    "start_time": "2022-07-16T19:48:55.685Z"
   },
   {
    "duration": 0,
    "start_time": "2022-07-16T19:48:55.686Z"
   },
   {
    "duration": 0,
    "start_time": "2022-07-16T19:48:55.687Z"
   },
   {
    "duration": 0,
    "start_time": "2022-07-16T19:48:55.689Z"
   },
   {
    "duration": 0,
    "start_time": "2022-07-16T19:48:55.690Z"
   },
   {
    "duration": 0,
    "start_time": "2022-07-16T19:48:55.691Z"
   },
   {
    "duration": 0,
    "start_time": "2022-07-16T19:48:55.692Z"
   },
   {
    "duration": 0,
    "start_time": "2022-07-16T19:48:55.693Z"
   },
   {
    "duration": 0,
    "start_time": "2022-07-16T19:48:55.694Z"
   },
   {
    "duration": 0,
    "start_time": "2022-07-16T19:48:55.695Z"
   },
   {
    "duration": 0,
    "start_time": "2022-07-16T19:48:55.696Z"
   },
   {
    "duration": 0,
    "start_time": "2022-07-16T19:48:55.699Z"
   },
   {
    "duration": 3,
    "start_time": "2022-07-16T19:49:31.787Z"
   },
   {
    "duration": 3,
    "start_time": "2022-07-16T19:49:32.446Z"
   },
   {
    "duration": 5746,
    "start_time": "2022-07-16T19:49:32.726Z"
   },
   {
    "duration": 5201,
    "start_time": "2022-07-16T19:49:38.477Z"
   },
   {
    "duration": 1,
    "start_time": "2022-07-16T19:49:43.679Z"
   },
   {
    "duration": 7,
    "start_time": "2022-07-16T19:52:27.351Z"
   },
   {
    "duration": 385,
    "start_time": "2022-07-16T19:52:49.715Z"
   },
   {
    "duration": 2539,
    "start_time": "2022-07-16T19:53:13.643Z"
   },
   {
    "duration": 11,
    "start_time": "2022-07-16T19:53:24.419Z"
   },
   {
    "duration": 811,
    "start_time": "2022-07-16T19:53:47.334Z"
   },
   {
    "duration": 62,
    "start_time": "2022-07-16T19:54:09.157Z"
   },
   {
    "duration": 317,
    "start_time": "2022-07-16T19:54:35.495Z"
   },
   {
    "duration": 327,
    "start_time": "2022-07-16T19:54:53.157Z"
   },
   {
    "duration": 99,
    "start_time": "2022-07-16T19:54:57.494Z"
   },
   {
    "duration": 4,
    "start_time": "2022-07-16T19:55:50.696Z"
   },
   {
    "duration": 8084,
    "start_time": "2022-07-16T19:56:04.248Z"
   },
   {
    "duration": 2256488,
    "start_time": "2022-07-16T19:56:20.440Z"
   },
   {
    "duration": 65,
    "start_time": "2022-07-16T20:33:56.930Z"
   },
   {
    "duration": 7,
    "start_time": "2022-07-16T20:35:14.423Z"
   },
   {
    "duration": 1615,
    "start_time": "2022-07-16T20:35:15.895Z"
   },
   {
    "duration": 733,
    "start_time": "2022-07-16T20:35:20.080Z"
   },
   {
    "duration": 32,
    "start_time": "2022-07-16T20:35:23.103Z"
   },
   {
    "duration": 7603,
    "start_time": "2022-07-16T20:35:27.637Z"
   },
   {
    "duration": 3,
    "start_time": "2022-07-16T20:35:39.256Z"
   },
   {
    "duration": 181769,
    "start_time": "2022-07-16T20:35:40.320Z"
   },
   {
    "duration": 9,
    "start_time": "2022-07-16T20:38:59.837Z"
   },
   {
    "duration": 513227,
    "start_time": "2022-07-16T20:39:10.700Z"
   },
   {
    "duration": 12,
    "start_time": "2022-07-16T20:48:24.578Z"
   },
   {
    "duration": 695494,
    "start_time": "2022-07-16T20:49:06.451Z"
   },
   {
    "duration": 12,
    "start_time": "2022-07-16T21:01:33.068Z"
   },
   {
    "duration": 47,
    "start_time": "2022-07-16T21:02:07.629Z"
   },
   {
    "duration": 8,
    "start_time": "2022-07-16T21:02:16.452Z"
   },
   {
    "duration": 9,
    "start_time": "2022-07-16T21:02:32.575Z"
   },
   {
    "duration": 7,
    "start_time": "2022-07-16T21:04:59.465Z"
   },
   {
    "duration": 6,
    "start_time": "2022-07-16T21:06:24.563Z"
   },
   {
    "duration": 6,
    "start_time": "2022-07-16T21:06:28.626Z"
   },
   {
    "duration": 50,
    "start_time": "2022-07-16T21:25:49.126Z"
   },
   {
    "duration": 3,
    "start_time": "2022-07-16T21:26:09.095Z"
   },
   {
    "duration": 7,
    "start_time": "2022-07-16T21:26:24.575Z"
   },
   {
    "duration": 50,
    "start_time": "2022-07-16T21:26:40.104Z"
   },
   {
    "duration": 47,
    "start_time": "2022-07-16T21:28:42.194Z"
   },
   {
    "duration": 8,
    "start_time": "2022-07-16T21:29:02.595Z"
   },
   {
    "duration": 48928,
    "start_time": "2022-07-16T21:32:24.980Z"
   },
   {
    "duration": 2281,
    "start_time": "2022-07-16T21:33:13.910Z"
   },
   {
    "duration": 8,
    "start_time": "2022-07-16T21:33:16.192Z"
   },
   {
    "duration": 319,
    "start_time": "2022-07-16T21:33:16.202Z"
   },
   {
    "duration": 272,
    "start_time": "2022-07-16T21:33:16.523Z"
   },
   {
    "duration": 3,
    "start_time": "2022-07-16T21:33:16.797Z"
   },
   {
    "duration": 7108,
    "start_time": "2022-07-16T21:33:16.801Z"
   },
   {
    "duration": 2042055,
    "start_time": "2022-07-16T21:33:23.910Z"
   },
   {
    "duration": 7,
    "start_time": "2022-07-16T22:07:25.967Z"
   },
   {
    "duration": 1561,
    "start_time": "2022-07-16T22:07:25.977Z"
   },
   {
    "duration": 1744,
    "start_time": "2022-07-16T22:07:27.540Z"
   },
   {
    "duration": 29,
    "start_time": "2022-07-16T22:07:29.286Z"
   },
   {
    "duration": 7325,
    "start_time": "2022-07-16T22:07:29.316Z"
   },
   {
    "duration": 3,
    "start_time": "2022-07-16T22:07:36.642Z"
   },
   {
    "duration": 182144,
    "start_time": "2022-07-16T22:07:36.647Z"
   },
   {
    "duration": 10,
    "start_time": "2022-07-16T22:10:38.793Z"
   },
   {
    "duration": 504756,
    "start_time": "2022-07-16T22:10:38.805Z"
   },
   {
    "duration": 11,
    "start_time": "2022-07-16T22:19:03.564Z"
   },
   {
    "duration": 675379,
    "start_time": "2022-07-16T22:19:03.576Z"
   },
   {
    "duration": 18,
    "start_time": "2022-07-16T22:30:18.964Z"
   },
   {
    "duration": 6,
    "start_time": "2022-07-16T22:30:18.983Z"
   },
   {
    "duration": 5218,
    "start_time": "2022-07-16T22:30:18.991Z"
   },
   {
    "duration": 52805,
    "start_time": "2022-07-16T22:30:24.210Z"
   },
   {
    "duration": 8505,
    "start_time": "2022-07-16T22:31:17.017Z"
   },
   {
    "duration": 83,
    "start_time": "2022-07-17T10:54:20.872Z"
   },
   {
    "duration": 111,
    "start_time": "2022-07-17T10:56:45.299Z"
   }
  ],
  "kernelspec": {
   "display_name": "Python 3 (ipykernel)",
   "language": "python",
   "name": "python3"
  },
  "language_info": {
   "codemirror_mode": {
    "name": "ipython",
    "version": 3
   },
   "file_extension": ".py",
   "mimetype": "text/x-python",
   "name": "python",
   "nbconvert_exporter": "python",
   "pygments_lexer": "ipython3",
   "version": "3.9.5"
  },
  "toc": {
   "base_numbering": 1,
   "nav_menu": {},
   "number_sections": true,
   "sideBar": true,
   "skip_h1_title": true,
   "title_cell": "Содержание",
   "title_sidebar": "Contents",
   "toc_cell": true,
   "toc_position": {
    "height": "calc(100% - 180px)",
    "left": "10px",
    "top": "150px",
    "width": "302.391px"
   },
   "toc_section_display": true,
   "toc_window_display": false
  }
 },
 "nbformat": 4,
 "nbformat_minor": 2
}
