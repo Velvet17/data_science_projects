{
 "cells": [
  {
   "cell_type": "markdown",
   "metadata": {},
   "source": [
    "# Определение стоимости автомобилей"
   ]
  },
  {
   "cell_type": "markdown",
   "metadata": {},
   "source": [
    "Сервис по продаже автомобилей с пробегом «Не бит, не крашен» разрабатывает приложение для привлечения новых клиентов. В нём можно быстро узнать рыночную стоимость своего автомобиля. В вашем распоряжении исторические данные: технические характеристики, комплектации и цены автомобилей. Вам нужно построить модель для определения стоимости. \n",
    "\n",
    "Заказчику важны:\n",
    "\n",
    "- качество предсказания;\n",
    "- скорость предсказания;\n",
    "- время обучения."
   ]
  },
  {
   "cell_type": "markdown",
   "metadata": {},
   "source": [
    "План выполнения проекта: \n",
    "\n",
    "* загрузить и подготовить данные;\n",
    "* обучить разные модели (для каждой модели попробовать различные гиперпараметры);\n",
    "* проанализировать скорость работы и качество моделей и выбрать лучшую из них."
   ]
  },
  {
   "cell_type": "markdown",
   "metadata": {},
   "source": [
    "## Подготовка данных"
   ]
  },
  {
   "cell_type": "code",
   "execution_count": 1,
   "id": "edc3cf1c",
   "metadata": {},
   "outputs": [],
   "source": [
    "# импортируем библиотеки\n",
    "import pandas as pd\n",
    "import numpy as np\n",
    "import matplotlib.pyplot as plt\n",
    "from sklearn.model_selection import train_test_split, GridSearchCV\n",
    "from sklearn.linear_model import LinearRegression\n",
    "from sklearn.tree import DecisionTreeRegressor\n",
    "from sklearn.ensemble import RandomForestRegressor, GradientBoostingRegressor\n",
    "from lightgbm import LGBMRegressor\n",
    "import xgboost as xgb\n",
    "from catboost import CatBoostRegressor, Pool\n",
    "import time\n",
    "import seaborn as sns\n",
    "%matplotlib inline\n",
    "from sklearn.metrics import mean_squared_error, make_scorer\n",
    "import warnings\n",
    "from sklearn.preprocessing import LabelEncoder\n",
    "warnings.filterwarnings('ignore')\n",
    "from sklearn.preprocessing import StandardScaler"
   ]
  },
  {
   "cell_type": "code",
   "execution_count": 2,
   "id": "4fe7a5a7",
   "metadata": {},
   "outputs": [
    {
     "data": {
      "text/html": [
       "<div>\n",
       "<style scoped>\n",
       "    .dataframe tbody tr th:only-of-type {\n",
       "        vertical-align: middle;\n",
       "    }\n",
       "\n",
       "    .dataframe tbody tr th {\n",
       "        vertical-align: top;\n",
       "    }\n",
       "\n",
       "    .dataframe thead th {\n",
       "        text-align: right;\n",
       "    }\n",
       "</style>\n",
       "<table border=\"1\" class=\"dataframe\">\n",
       "  <thead>\n",
       "    <tr style=\"text-align: right;\">\n",
       "      <th></th>\n",
       "      <th>DateCrawled</th>\n",
       "      <th>Price</th>\n",
       "      <th>VehicleType</th>\n",
       "      <th>RegistrationYear</th>\n",
       "      <th>Gearbox</th>\n",
       "      <th>Power</th>\n",
       "      <th>Model</th>\n",
       "      <th>Kilometer</th>\n",
       "      <th>RegistrationMonth</th>\n",
       "      <th>FuelType</th>\n",
       "      <th>Brand</th>\n",
       "      <th>NotRepaired</th>\n",
       "      <th>DateCreated</th>\n",
       "      <th>NumberOfPictures</th>\n",
       "      <th>PostalCode</th>\n",
       "      <th>LastSeen</th>\n",
       "    </tr>\n",
       "  </thead>\n",
       "  <tbody>\n",
       "    <tr>\n",
       "      <th>0</th>\n",
       "      <td>2016-03-24 11:52:17</td>\n",
       "      <td>480</td>\n",
       "      <td>NaN</td>\n",
       "      <td>1993</td>\n",
       "      <td>manual</td>\n",
       "      <td>0</td>\n",
       "      <td>golf</td>\n",
       "      <td>150000</td>\n",
       "      <td>0</td>\n",
       "      <td>petrol</td>\n",
       "      <td>volkswagen</td>\n",
       "      <td>NaN</td>\n",
       "      <td>2016-03-24 00:00:00</td>\n",
       "      <td>0</td>\n",
       "      <td>70435</td>\n",
       "      <td>2016-04-07 03:16:57</td>\n",
       "    </tr>\n",
       "    <tr>\n",
       "      <th>1</th>\n",
       "      <td>2016-03-24 10:58:45</td>\n",
       "      <td>18300</td>\n",
       "      <td>coupe</td>\n",
       "      <td>2011</td>\n",
       "      <td>manual</td>\n",
       "      <td>190</td>\n",
       "      <td>NaN</td>\n",
       "      <td>125000</td>\n",
       "      <td>5</td>\n",
       "      <td>gasoline</td>\n",
       "      <td>audi</td>\n",
       "      <td>yes</td>\n",
       "      <td>2016-03-24 00:00:00</td>\n",
       "      <td>0</td>\n",
       "      <td>66954</td>\n",
       "      <td>2016-04-07 01:46:50</td>\n",
       "    </tr>\n",
       "    <tr>\n",
       "      <th>2</th>\n",
       "      <td>2016-03-14 12:52:21</td>\n",
       "      <td>9800</td>\n",
       "      <td>suv</td>\n",
       "      <td>2004</td>\n",
       "      <td>auto</td>\n",
       "      <td>163</td>\n",
       "      <td>grand</td>\n",
       "      <td>125000</td>\n",
       "      <td>8</td>\n",
       "      <td>gasoline</td>\n",
       "      <td>jeep</td>\n",
       "      <td>NaN</td>\n",
       "      <td>2016-03-14 00:00:00</td>\n",
       "      <td>0</td>\n",
       "      <td>90480</td>\n",
       "      <td>2016-04-05 12:47:46</td>\n",
       "    </tr>\n",
       "    <tr>\n",
       "      <th>3</th>\n",
       "      <td>2016-03-17 16:54:04</td>\n",
       "      <td>1500</td>\n",
       "      <td>small</td>\n",
       "      <td>2001</td>\n",
       "      <td>manual</td>\n",
       "      <td>75</td>\n",
       "      <td>golf</td>\n",
       "      <td>150000</td>\n",
       "      <td>6</td>\n",
       "      <td>petrol</td>\n",
       "      <td>volkswagen</td>\n",
       "      <td>no</td>\n",
       "      <td>2016-03-17 00:00:00</td>\n",
       "      <td>0</td>\n",
       "      <td>91074</td>\n",
       "      <td>2016-03-17 17:40:17</td>\n",
       "    </tr>\n",
       "    <tr>\n",
       "      <th>4</th>\n",
       "      <td>2016-03-31 17:25:20</td>\n",
       "      <td>3600</td>\n",
       "      <td>small</td>\n",
       "      <td>2008</td>\n",
       "      <td>manual</td>\n",
       "      <td>69</td>\n",
       "      <td>fabia</td>\n",
       "      <td>90000</td>\n",
       "      <td>7</td>\n",
       "      <td>gasoline</td>\n",
       "      <td>skoda</td>\n",
       "      <td>no</td>\n",
       "      <td>2016-03-31 00:00:00</td>\n",
       "      <td>0</td>\n",
       "      <td>60437</td>\n",
       "      <td>2016-04-06 10:17:21</td>\n",
       "    </tr>\n",
       "  </tbody>\n",
       "</table>\n",
       "</div>"
      ],
      "text/plain": [
       "           DateCrawled  Price VehicleType  RegistrationYear Gearbox  Power  \\\n",
       "0  2016-03-24 11:52:17    480         NaN              1993  manual      0   \n",
       "1  2016-03-24 10:58:45  18300       coupe              2011  manual    190   \n",
       "2  2016-03-14 12:52:21   9800         suv              2004    auto    163   \n",
       "3  2016-03-17 16:54:04   1500       small              2001  manual     75   \n",
       "4  2016-03-31 17:25:20   3600       small              2008  manual     69   \n",
       "\n",
       "   Model  Kilometer  RegistrationMonth  FuelType       Brand NotRepaired  \\\n",
       "0   golf     150000                  0    petrol  volkswagen         NaN   \n",
       "1    NaN     125000                  5  gasoline        audi         yes   \n",
       "2  grand     125000                  8  gasoline        jeep         NaN   \n",
       "3   golf     150000                  6    petrol  volkswagen          no   \n",
       "4  fabia      90000                  7  gasoline       skoda          no   \n",
       "\n",
       "           DateCreated  NumberOfPictures  PostalCode             LastSeen  \n",
       "0  2016-03-24 00:00:00                 0       70435  2016-04-07 03:16:57  \n",
       "1  2016-03-24 00:00:00                 0       66954  2016-04-07 01:46:50  \n",
       "2  2016-03-14 00:00:00                 0       90480  2016-04-05 12:47:46  \n",
       "3  2016-03-17 00:00:00                 0       91074  2016-03-17 17:40:17  \n",
       "4  2016-03-31 00:00:00                 0       60437  2016-04-06 10:17:21  "
      ]
     },
     "metadata": {},
     "output_type": "display_data"
    },
    {
     "name": "stdout",
     "output_type": "stream",
     "text": [
      "<class 'pandas.core.frame.DataFrame'>\n",
      "RangeIndex: 354369 entries, 0 to 354368\n",
      "Data columns (total 16 columns):\n",
      " #   Column             Non-Null Count   Dtype \n",
      "---  ------             --------------   ----- \n",
      " 0   DateCrawled        354369 non-null  object\n",
      " 1   Price              354369 non-null  int64 \n",
      " 2   VehicleType        316879 non-null  object\n",
      " 3   RegistrationYear   354369 non-null  int64 \n",
      " 4   Gearbox            334536 non-null  object\n",
      " 5   Power              354369 non-null  int64 \n",
      " 6   Model              334664 non-null  object\n",
      " 7   Kilometer          354369 non-null  int64 \n",
      " 8   RegistrationMonth  354369 non-null  int64 \n",
      " 9   FuelType           321474 non-null  object\n",
      " 10  Brand              354369 non-null  object\n",
      " 11  NotRepaired        283215 non-null  object\n",
      " 12  DateCreated        354369 non-null  object\n",
      " 13  NumberOfPictures   354369 non-null  int64 \n",
      " 14  PostalCode         354369 non-null  int64 \n",
      " 15  LastSeen           354369 non-null  object\n",
      "dtypes: int64(7), object(9)\n",
      "memory usage: 43.3+ MB\n"
     ]
    }
   ],
   "source": [
    "data = pd.read_csv('/datasets/autos.csv')\n",
    "display(data.head())\n",
    "data.info()"
   ]
  },
  {
   "cell_type": "code",
   "execution_count": 3,
   "id": "f2fa7122",
   "metadata": {},
   "outputs": [
    {
     "name": "stdout",
     "output_type": "stream",
     "text": [
      "<class 'pandas.core.frame.DataFrame'>\n",
      "RangeIndex: 354369 entries, 0 to 354368\n",
      "Data columns (total 16 columns):\n",
      " #   Column             Non-Null Count   Dtype         \n",
      "---  ------             --------------   -----         \n",
      " 0   DateCrawled        354369 non-null  datetime64[ns]\n",
      " 1   Price              354369 non-null  int64         \n",
      " 2   VehicleType        316879 non-null  object        \n",
      " 3   RegistrationYear   354369 non-null  int64         \n",
      " 4   Gearbox            334536 non-null  object        \n",
      " 5   Power              354369 non-null  int64         \n",
      " 6   Model              334664 non-null  object        \n",
      " 7   Kilometer          354369 non-null  int64         \n",
      " 8   RegistrationMonth  354369 non-null  int64         \n",
      " 9   FuelType           321474 non-null  object        \n",
      " 10  Brand              354369 non-null  object        \n",
      " 11  NotRepaired        283215 non-null  object        \n",
      " 12  DateCreated        354369 non-null  datetime64[ns]\n",
      " 13  NumberOfPictures   354369 non-null  int64         \n",
      " 14  PostalCode         354369 non-null  int64         \n",
      " 15  LastSeen           354369 non-null  datetime64[ns]\n",
      "dtypes: datetime64[ns](3), int64(7), object(6)\n",
      "memory usage: 43.3+ MB\n"
     ]
    }
   ],
   "source": [
    "# приведем столбцы со временем к надлежащему формату\n",
    "data['DateCrawled'] = pd.to_datetime(data['DateCrawled'], format = '%Y-%m-%d')\n",
    "data['DateCreated'] = pd.to_datetime(data['DateCreated'], format = '%Y-%m-%d')\n",
    "data['LastSeen'] = pd.to_datetime(data['LastSeen'], format = '%Y-%m-%d')\n",
    "data.info()"
   ]
  },
  {
   "cell_type": "code",
   "execution_count": 4,
   "id": "42af6d35",
   "metadata": {},
   "outputs": [
    {
     "data": {
      "text/plain": [
       "count                  354369\n",
       "unique                    109\n",
       "top       2016-04-03 00:00:00\n",
       "freq                    13719\n",
       "first     2014-03-10 00:00:00\n",
       "last      2016-04-07 00:00:00\n",
       "Name: DateCreated, dtype: object"
      ]
     },
     "metadata": {},
     "output_type": "display_data"
    }
   ],
   "source": [
    "# проведем проверку изменений\n",
    "display(data.DateCreated.describe())"
   ]
  },
  {
   "cell_type": "code",
   "execution_count": 5,
   "id": "35cbf213",
   "metadata": {},
   "outputs": [
    {
     "name": "stdout",
     "output_type": "stream",
     "text": [
      "Описание количественных переменных\n",
      "               Price  RegistrationYear          Power      Kilometer  \\\n",
      "count  354369.000000     354369.000000  354369.000000  354369.000000   \n",
      "mean     4416.656776       2004.234448     110.094337  128211.172535   \n",
      "std      4514.158514         90.227958     189.850405   37905.341530   \n",
      "min         0.000000       1000.000000       0.000000    5000.000000   \n",
      "25%      1050.000000       1999.000000      69.000000  125000.000000   \n",
      "50%      2700.000000       2003.000000     105.000000  150000.000000   \n",
      "75%      6400.000000       2008.000000     143.000000  150000.000000   \n",
      "max     20000.000000       9999.000000   20000.000000  150000.000000   \n",
      "\n",
      "       RegistrationMonth  NumberOfPictures     PostalCode  \n",
      "count      354369.000000          354369.0  354369.000000  \n",
      "mean            5.714645               0.0   50508.689087  \n",
      "std             3.726421               0.0   25783.096248  \n",
      "min             0.000000               0.0    1067.000000  \n",
      "25%             3.000000               0.0   30165.000000  \n",
      "50%             6.000000               0.0   49413.000000  \n",
      "75%             9.000000               0.0   71083.000000  \n",
      "max            12.000000               0.0   99998.000000  \n",
      "Количество дубликатов в таблице = 4\n"
     ]
    }
   ],
   "source": [
    "print('Описание количественных переменных')\n",
    "print(data.describe())\n",
    "print(f'Количество дубликатов в таблице = {data.duplicated().sum()}')"
   ]
  },
  {
   "cell_type": "code",
   "execution_count": 6,
   "id": "93dfb35f",
   "metadata": {},
   "outputs": [
    {
     "data": {
      "text/plain": [
       "0    354369\n",
       "Name: NumberOfPictures, dtype: int64"
      ]
     },
     "metadata": {},
     "output_type": "display_data"
    }
   ],
   "source": [
    "display(data.NumberOfPictures.value_counts())"
   ]
  },
  {
   "cell_type": "markdown",
   "id": "c77a72b9",
   "metadata": {},
   "source": [
    "**Итоги первичного анализа данных:**\n",
    "\n",
    "**Пропуски:** \n",
    "- VehicleType, Gearbox, Model, FuelType, Brand, NotRepaired.\n",
    "\n",
    "**Анализ численных данных на адекватность:** \n",
    "- Price = 0. Удалим эти строки, так как цена быть должна;\n",
    "- Power, 20000 лс слишком много. Но для этого нужно более детально понимание о мощностях всех моделей автомобилей, т.к. есть двигатели двс мощностью свыше 100000 лс;\n",
    "- Kilometer, медиана совпадает с max, что странно;\n",
    "- RegistrationMonth [1, 12], т.е. 0 быть не должно;\n",
    "- NumberOfPictures везде = 0. По-моему значимость данного признака нулевая, т.е. фичу вовсе можно удалить.\n",
    "\n",
    "**Анализ остальных колонок:**\n",
    "- признаки DateCrawled, DateCreated, LastSeen не будут использоваться, т.к. не несут никакой полезной информации.\n",
    "- так же на первой стадии выявлено 4 дубликата.\n",
    "\n",
    "**Алгоритм обработки данных:**\n",
    "\n",
    "- удалить колонку с числом изображений (NumberOfPictures);\n",
    "- изменить типы данных на Date;\n",
    "- проработать выбросы, NaN значения и дубликаты."
   ]
  },
  {
   "cell_type": "code",
   "execution_count": 7,
   "id": "be906590",
   "metadata": {},
   "outputs": [
    {
     "data": {
      "text/html": [
       "<div>\n",
       "<style scoped>\n",
       "    .dataframe tbody tr th:only-of-type {\n",
       "        vertical-align: middle;\n",
       "    }\n",
       "\n",
       "    .dataframe tbody tr th {\n",
       "        vertical-align: top;\n",
       "    }\n",
       "\n",
       "    .dataframe thead th {\n",
       "        text-align: right;\n",
       "    }\n",
       "</style>\n",
       "<table border=\"1\" class=\"dataframe\">\n",
       "  <thead>\n",
       "    <tr style=\"text-align: right;\">\n",
       "      <th></th>\n",
       "      <th>DateCrawled</th>\n",
       "      <th>Price</th>\n",
       "      <th>VehicleType</th>\n",
       "      <th>RegistrationYear</th>\n",
       "      <th>Gearbox</th>\n",
       "      <th>Power</th>\n",
       "      <th>Model</th>\n",
       "      <th>Kilometer</th>\n",
       "      <th>RegistrationMonth</th>\n",
       "      <th>FuelType</th>\n",
       "      <th>Brand</th>\n",
       "      <th>NotRepaired</th>\n",
       "      <th>DateCreated</th>\n",
       "      <th>PostalCode</th>\n",
       "      <th>LastSeen</th>\n",
       "    </tr>\n",
       "  </thead>\n",
       "  <tbody>\n",
       "    <tr>\n",
       "      <th>0</th>\n",
       "      <td>2016-03-24 11:52:17</td>\n",
       "      <td>480</td>\n",
       "      <td>NaN</td>\n",
       "      <td>1993</td>\n",
       "      <td>manual</td>\n",
       "      <td>0</td>\n",
       "      <td>golf</td>\n",
       "      <td>150000</td>\n",
       "      <td>0</td>\n",
       "      <td>petrol</td>\n",
       "      <td>volkswagen</td>\n",
       "      <td>NaN</td>\n",
       "      <td>2016-03-24</td>\n",
       "      <td>70435</td>\n",
       "      <td>2016-04-07 03:16:57</td>\n",
       "    </tr>\n",
       "    <tr>\n",
       "      <th>1</th>\n",
       "      <td>2016-03-24 10:58:45</td>\n",
       "      <td>18300</td>\n",
       "      <td>coupe</td>\n",
       "      <td>2011</td>\n",
       "      <td>manual</td>\n",
       "      <td>190</td>\n",
       "      <td>NaN</td>\n",
       "      <td>125000</td>\n",
       "      <td>5</td>\n",
       "      <td>gasoline</td>\n",
       "      <td>audi</td>\n",
       "      <td>yes</td>\n",
       "      <td>2016-03-24</td>\n",
       "      <td>66954</td>\n",
       "      <td>2016-04-07 01:46:50</td>\n",
       "    </tr>\n",
       "    <tr>\n",
       "      <th>2</th>\n",
       "      <td>2016-03-14 12:52:21</td>\n",
       "      <td>9800</td>\n",
       "      <td>suv</td>\n",
       "      <td>2004</td>\n",
       "      <td>auto</td>\n",
       "      <td>163</td>\n",
       "      <td>grand</td>\n",
       "      <td>125000</td>\n",
       "      <td>8</td>\n",
       "      <td>gasoline</td>\n",
       "      <td>jeep</td>\n",
       "      <td>NaN</td>\n",
       "      <td>2016-03-14</td>\n",
       "      <td>90480</td>\n",
       "      <td>2016-04-05 12:47:46</td>\n",
       "    </tr>\n",
       "    <tr>\n",
       "      <th>3</th>\n",
       "      <td>2016-03-17 16:54:04</td>\n",
       "      <td>1500</td>\n",
       "      <td>small</td>\n",
       "      <td>2001</td>\n",
       "      <td>manual</td>\n",
       "      <td>75</td>\n",
       "      <td>golf</td>\n",
       "      <td>150000</td>\n",
       "      <td>6</td>\n",
       "      <td>petrol</td>\n",
       "      <td>volkswagen</td>\n",
       "      <td>no</td>\n",
       "      <td>2016-03-17</td>\n",
       "      <td>91074</td>\n",
       "      <td>2016-03-17 17:40:17</td>\n",
       "    </tr>\n",
       "    <tr>\n",
       "      <th>4</th>\n",
       "      <td>2016-03-31 17:25:20</td>\n",
       "      <td>3600</td>\n",
       "      <td>small</td>\n",
       "      <td>2008</td>\n",
       "      <td>manual</td>\n",
       "      <td>69</td>\n",
       "      <td>fabia</td>\n",
       "      <td>90000</td>\n",
       "      <td>7</td>\n",
       "      <td>gasoline</td>\n",
       "      <td>skoda</td>\n",
       "      <td>no</td>\n",
       "      <td>2016-03-31</td>\n",
       "      <td>60437</td>\n",
       "      <td>2016-04-06 10:17:21</td>\n",
       "    </tr>\n",
       "  </tbody>\n",
       "</table>\n",
       "</div>"
      ],
      "text/plain": [
       "          DateCrawled  Price VehicleType  RegistrationYear Gearbox  Power  \\\n",
       "0 2016-03-24 11:52:17    480         NaN              1993  manual      0   \n",
       "1 2016-03-24 10:58:45  18300       coupe              2011  manual    190   \n",
       "2 2016-03-14 12:52:21   9800         suv              2004    auto    163   \n",
       "3 2016-03-17 16:54:04   1500       small              2001  manual     75   \n",
       "4 2016-03-31 17:25:20   3600       small              2008  manual     69   \n",
       "\n",
       "   Model  Kilometer  RegistrationMonth  FuelType       Brand NotRepaired  \\\n",
       "0   golf     150000                  0    petrol  volkswagen         NaN   \n",
       "1    NaN     125000                  5  gasoline        audi         yes   \n",
       "2  grand     125000                  8  gasoline        jeep         NaN   \n",
       "3   golf     150000                  6    petrol  volkswagen          no   \n",
       "4  fabia      90000                  7  gasoline       skoda          no   \n",
       "\n",
       "  DateCreated  PostalCode            LastSeen  \n",
       "0  2016-03-24       70435 2016-04-07 03:16:57  \n",
       "1  2016-03-24       66954 2016-04-07 01:46:50  \n",
       "2  2016-03-14       90480 2016-04-05 12:47:46  \n",
       "3  2016-03-17       91074 2016-03-17 17:40:17  \n",
       "4  2016-03-31       60437 2016-04-06 10:17:21  "
      ]
     },
     "metadata": {},
     "output_type": "display_data"
    }
   ],
   "source": [
    "#удалим параметр с числом фото (NumberOfPictures)\n",
    "data = data.drop('NumberOfPictures', axis = 1)\n",
    "display(data.head())"
   ]
  },
  {
   "cell_type": "code",
   "execution_count": 8,
   "id": "a304b2a1",
   "metadata": {},
   "outputs": [],
   "source": [
    "#функция высчитывает % данных по условию\n",
    "def part_of_value(df1, df):\n",
    "    return df1.shape[0]/df.shape[0]*100"
   ]
  },
  {
   "cell_type": "code",
   "execution_count": 9,
   "id": "8793689b",
   "metadata": {},
   "outputs": [
    {
     "data": {
      "text/plain": [
       "4416.656775846645"
      ]
     },
     "metadata": {},
     "output_type": "display_data"
    },
    {
     "data": {
      "image/png": "[encoded data removed]",
      "text/plain": [
       "<Figure size 432x288 with 1 Axes>"
      ]
     },
     "metadata": {
      "needs_background": "light"
     },
     "output_type": "display_data"
    }
   ],
   "source": [
    "#target\n",
    "sns.boxplot(x = data['Price'])\n",
    "display(data.Price.mean())\n",
    "plt.show()"
   ]
  },
  {
   "cell_type": "code",
   "execution_count": 10,
   "id": "1ebc8c5d",
   "metadata": {},
   "outputs": [
    {
     "data": {
      "text/plain": [
       "<AxesSubplot:xlabel='Price', ylabel='Density'>"
      ]
     },
     "execution_count": 10,
     "metadata": {},
     "output_type": "execute_result"
    },
    {
     "data": {
      "image/png": "[encoded data removed]",
      "text/plain": [
       "<Figure size 432x288 with 1 Axes>"
      ]
     },
     "metadata": {
      "needs_background": "light"
     },
     "output_type": "display_data"
    }
   ],
   "source": [
    "sns.distplot(data['Price'])"
   ]
  },
  {
   "cell_type": "markdown",
   "id": "e8956d85",
   "metadata": {},
   "source": [
    "* Как уже было описано выше - будем удалять значения target признака, которые равны 0, так как цена не должна равняться 0."
   ]
  },
  {
   "cell_type": "code",
   "execution_count": 11,
   "id": "3aa23d59",
   "metadata": {},
   "outputs": [
    {
     "data": {
      "text/plain": [
       "4.048040319553911"
      ]
     },
     "metadata": {},
     "output_type": "display_data"
    }
   ],
   "source": [
    "display(data[data['Price'] <= 100]['Price'].count()/data.shape[0]*100)"
   ]
  },
  {
   "cell_type": "markdown",
   "id": "a4ab6d99",
   "metadata": {},
   "source": [
    "* 4% подобных данных не так много, поэтому удаляем."
   ]
  },
  {
   "cell_type": "code",
   "execution_count": 12,
   "id": "8901d69d",
   "metadata": {},
   "outputs": [
    {
     "data": {
      "text/plain": [
       "(340024, 15)"
      ]
     },
     "metadata": {},
     "output_type": "display_data"
    }
   ],
   "source": [
    "data = data.drop(data.query('Price<=100').index)\n",
    "display(data.shape)"
   ]
  },
  {
   "cell_type": "code",
   "execution_count": 13,
   "id": "9e061b4c",
   "metadata": {},
   "outputs": [
    {
     "data": {
      "text/html": [
       "<div>\n",
       "<style scoped>\n",
       "    .dataframe tbody tr th:only-of-type {\n",
       "        vertical-align: middle;\n",
       "    }\n",
       "\n",
       "    .dataframe tbody tr th {\n",
       "        vertical-align: top;\n",
       "    }\n",
       "\n",
       "    .dataframe thead th {\n",
       "        text-align: right;\n",
       "    }\n",
       "</style>\n",
       "<table border=\"1\" class=\"dataframe\">\n",
       "  <thead>\n",
       "    <tr style=\"text-align: right;\">\n",
       "      <th></th>\n",
       "      <th>DateCrawled</th>\n",
       "      <th>Price</th>\n",
       "      <th>VehicleType</th>\n",
       "      <th>RegistrationYear</th>\n",
       "      <th>Gearbox</th>\n",
       "      <th>Power</th>\n",
       "      <th>Model</th>\n",
       "      <th>Kilometer</th>\n",
       "      <th>RegistrationMonth</th>\n",
       "      <th>FuelType</th>\n",
       "      <th>Brand</th>\n",
       "      <th>NotRepaired</th>\n",
       "      <th>DateCreated</th>\n",
       "      <th>PostalCode</th>\n",
       "      <th>LastSeen</th>\n",
       "    </tr>\n",
       "  </thead>\n",
       "  <tbody>\n",
       "    <tr>\n",
       "      <th>0</th>\n",
       "      <td>2016-03-24 11:52:17</td>\n",
       "      <td>480</td>\n",
       "      <td>NaN</td>\n",
       "      <td>1993</td>\n",
       "      <td>manual</td>\n",
       "      <td>0</td>\n",
       "      <td>golf</td>\n",
       "      <td>150000</td>\n",
       "      <td>0</td>\n",
       "      <td>petrol</td>\n",
       "      <td>volkswagen</td>\n",
       "      <td>NaN</td>\n",
       "      <td>2016-03-24</td>\n",
       "      <td>70435</td>\n",
       "      <td>2016-04-07 03:16:57</td>\n",
       "    </tr>\n",
       "    <tr>\n",
       "      <th>1</th>\n",
       "      <td>2016-03-24 10:58:45</td>\n",
       "      <td>18300</td>\n",
       "      <td>coupe</td>\n",
       "      <td>2011</td>\n",
       "      <td>manual</td>\n",
       "      <td>190</td>\n",
       "      <td>NaN</td>\n",
       "      <td>125000</td>\n",
       "      <td>5</td>\n",
       "      <td>gasoline</td>\n",
       "      <td>audi</td>\n",
       "      <td>yes</td>\n",
       "      <td>2016-03-24</td>\n",
       "      <td>66954</td>\n",
       "      <td>2016-04-07 01:46:50</td>\n",
       "    </tr>\n",
       "    <tr>\n",
       "      <th>2</th>\n",
       "      <td>2016-03-14 12:52:21</td>\n",
       "      <td>9800</td>\n",
       "      <td>suv</td>\n",
       "      <td>2004</td>\n",
       "      <td>auto</td>\n",
       "      <td>163</td>\n",
       "      <td>grand</td>\n",
       "      <td>125000</td>\n",
       "      <td>8</td>\n",
       "      <td>gasoline</td>\n",
       "      <td>jeep</td>\n",
       "      <td>NaN</td>\n",
       "      <td>2016-03-14</td>\n",
       "      <td>90480</td>\n",
       "      <td>2016-04-05 12:47:46</td>\n",
       "    </tr>\n",
       "    <tr>\n",
       "      <th>3</th>\n",
       "      <td>2016-03-17 16:54:04</td>\n",
       "      <td>1500</td>\n",
       "      <td>small</td>\n",
       "      <td>2001</td>\n",
       "      <td>manual</td>\n",
       "      <td>75</td>\n",
       "      <td>golf</td>\n",
       "      <td>150000</td>\n",
       "      <td>6</td>\n",
       "      <td>petrol</td>\n",
       "      <td>volkswagen</td>\n",
       "      <td>no</td>\n",
       "      <td>2016-03-17</td>\n",
       "      <td>91074</td>\n",
       "      <td>2016-03-17 17:40:17</td>\n",
       "    </tr>\n",
       "    <tr>\n",
       "      <th>4</th>\n",
       "      <td>2016-03-31 17:25:20</td>\n",
       "      <td>3600</td>\n",
       "      <td>small</td>\n",
       "      <td>2008</td>\n",
       "      <td>manual</td>\n",
       "      <td>69</td>\n",
       "      <td>fabia</td>\n",
       "      <td>90000</td>\n",
       "      <td>7</td>\n",
       "      <td>gasoline</td>\n",
       "      <td>skoda</td>\n",
       "      <td>no</td>\n",
       "      <td>2016-03-31</td>\n",
       "      <td>60437</td>\n",
       "      <td>2016-04-06 10:17:21</td>\n",
       "    </tr>\n",
       "  </tbody>\n",
       "</table>\n",
       "</div>"
      ],
      "text/plain": [
       "          DateCrawled  Price VehicleType  RegistrationYear Gearbox  Power  \\\n",
       "0 2016-03-24 11:52:17    480         NaN              1993  manual      0   \n",
       "1 2016-03-24 10:58:45  18300       coupe              2011  manual    190   \n",
       "2 2016-03-14 12:52:21   9800         suv              2004    auto    163   \n",
       "3 2016-03-17 16:54:04   1500       small              2001  manual     75   \n",
       "4 2016-03-31 17:25:20   3600       small              2008  manual     69   \n",
       "\n",
       "   Model  Kilometer  RegistrationMonth  FuelType       Brand NotRepaired  \\\n",
       "0   golf     150000                  0    petrol  volkswagen         NaN   \n",
       "1    NaN     125000                  5  gasoline        audi         yes   \n",
       "2  grand     125000                  8  gasoline        jeep         NaN   \n",
       "3   golf     150000                  6    petrol  volkswagen          no   \n",
       "4  fabia      90000                  7  gasoline       skoda          no   \n",
       "\n",
       "  DateCreated  PostalCode            LastSeen  \n",
       "0  2016-03-24       70435 2016-04-07 03:16:57  \n",
       "1  2016-03-24       66954 2016-04-07 01:46:50  \n",
       "2  2016-03-14       90480 2016-04-05 12:47:46  \n",
       "3  2016-03-17       91074 2016-03-17 17:40:17  \n",
       "4  2016-03-31       60437 2016-04-06 10:17:21  "
      ]
     },
     "metadata": {},
     "output_type": "display_data"
    }
   ],
   "source": [
    "display(data.head())"
   ]
  },
  {
   "cell_type": "code",
   "execution_count": 14,
   "id": "c9e95420",
   "metadata": {},
   "outputs": [
    {
     "data": {
      "text/plain": [
       "DateCrawled              0\n",
       "Price                    0\n",
       "VehicleType          32251\n",
       "RegistrationYear         0\n",
       "Gearbox              16085\n",
       "Power                    0\n",
       "Model                16889\n",
       "Kilometer                0\n",
       "RegistrationMonth        0\n",
       "FuelType             28004\n",
       "Brand                    0\n",
       "NotRepaired          63867\n",
       "DateCreated              0\n",
       "PostalCode               0\n",
       "LastSeen                 0\n",
       "dtype: int64"
      ]
     },
     "metadata": {},
     "output_type": "display_data"
    }
   ],
   "source": [
    "display(data.isna().sum())"
   ]
  },
  {
   "cell_type": "code",
   "execution_count": 15,
   "id": "d0b11c7f",
   "metadata": {},
   "outputs": [
    {
     "data": {
      "text/plain": [
       "volkswagen        22830\n",
       "opel              12395\n",
       "bmw                8722\n",
       "mercedes_benz      7559\n",
       "ford               7320\n",
       "audi               7200\n",
       "renault            5810\n",
       "fiat               2996\n",
       "peugeot            2960\n",
       "sonstige_autos     2683\n",
       "seat               1843\n",
       "smart              1813\n",
       "mazda              1513\n",
       "citroen            1363\n",
       "nissan             1321\n",
       "skoda              1047\n",
       "toyota              925\n",
       "mitsubishi          896\n",
       "hyundai             806\n",
       "honda               800\n",
       "volvo               655\n",
       "suzuki              592\n",
       "alfa_romeo          558\n",
       "kia                 549\n",
       "mini                477\n",
       "chevrolet           423\n",
       "chrysler            366\n",
       "trabant             279\n",
       "daihatsu            248\n",
       "rover               199\n",
       "subaru              198\n",
       "daewoo              189\n",
       "dacia               168\n",
       "porsche             164\n",
       "jeep                153\n",
       "lancia              144\n",
       "land_rover          117\n",
       "jaguar              103\n",
       "saab                102\n",
       "lada                 69\n",
       "Name: Brand, dtype: int64"
      ]
     },
     "metadata": {},
     "output_type": "display_data"
    }
   ],
   "source": [
    "display(data[data['VehicleType'].isna() |\n",
    "     data['Gearbox'].isna() |\n",
    "     data['Model'].isna() |\n",
    "     data['FuelType'].isna() |\n",
    "     data['NotRepaired'].isna()]['Brand'].value_counts()\n",
    "       )"
   ]
  },
  {
   "cell_type": "code",
   "execution_count": 16,
   "id": "84d02450",
   "metadata": {},
   "outputs": [
    {
     "data": {
      "text/plain": [
       "sonstige_autos    285\n",
       "volkswagen        223\n",
       "bmw               102\n",
       "opel              101\n",
       "mercedes_benz      77\n",
       "audi               65\n",
       "ford               49\n",
       "renault            40\n",
       "fiat               39\n",
       "peugeot            30\n",
       "mazda              27\n",
       "trabant            25\n",
       "seat               18\n",
       "nissan             14\n",
       "smart              13\n",
       "citroen            13\n",
       "alfa_romeo         12\n",
       "honda              10\n",
       "suzuki              8\n",
       "hyundai             8\n",
       "mitsubishi          7\n",
       "chevrolet           7\n",
       "toyota              5\n",
       "chrysler            5\n",
       "kia                 3\n",
       "daewoo              3\n",
       "skoda               3\n",
       "daihatsu            2\n",
       "volvo               2\n",
       "mini                1\n",
       "porsche             1\n",
       "rover               1\n",
       "Name: Brand, dtype: int64"
      ]
     },
     "metadata": {},
     "output_type": "display_data"
    }
   ],
   "source": [
    "display(data[data['VehicleType'].isna() &\n",
    "     data['Gearbox'].isna() &\n",
    "     data['Model'].isna() &\n",
    "     data['FuelType'].isna() &\n",
    "     data['NotRepaired'].isna()]['Brand'].value_counts()\n",
    "       )"
   ]
  },
  {
   "cell_type": "markdown",
   "id": "57e30f7d",
   "metadata": {},
   "source": [
    "**Пропуски найдены в следующих фичах:**\n",
    "\n",
    "- VehicleType — тип кузова\n",
    "- Gearbox — тип коробки передач\n",
    "- Model — модель автомобиля\n",
    "- FuelType — тип топлива\n",
    "- NotRepaired — была машина в ремонте или нет"
   ]
  },
  {
   "cell_type": "code",
   "execution_count": 17,
   "id": "1ee8719f",
   "metadata": {},
   "outputs": [],
   "source": [
    "def visual_df_nulls(df):\n",
    "    print('{:^52}{:^16}{:^20}'.format('Признак', 'Всего пропусков', 'Пропусков (%)'))\n",
    "    for col in df.columns:\n",
    "        missed_data_share = df[col].isnull().mean()*100\n",
    "        missed_data_count = df[col].isnull().sum()\n",
    "        print('{:<50}{:^16}{:>18.5f}'.format(col, missed_data_count, missed_data_share))"
   ]
  },
  {
   "cell_type": "code",
   "execution_count": 18,
   "id": "d904cc8a",
   "metadata": {},
   "outputs": [
    {
     "name": "stdout",
     "output_type": "stream",
     "text": [
      "                      Признак                       Всего пропусков    Пропусков (%)    \n",
      "DateCrawled                                              0                   0.00000\n",
      "Price                                                    0                   0.00000\n",
      "VehicleType                                            32251                 9.48492\n",
      "RegistrationYear                                         0                   0.00000\n",
      "Gearbox                                                16085                 4.73055\n",
      "Power                                                    0                   0.00000\n",
      "Model                                                  16889                 4.96700\n",
      "Kilometer                                                0                   0.00000\n",
      "RegistrationMonth                                        0                   0.00000\n",
      "FuelType                                               28004                 8.23589\n",
      "Brand                                                    0                   0.00000\n",
      "NotRepaired                                            63867                18.78309\n",
      "DateCreated                                              0                   0.00000\n",
      "PostalCode                                               0                   0.00000\n",
      "LastSeen                                                 0                   0.00000\n"
     ]
    }
   ],
   "source": [
    "visual_df_nulls(data)"
   ]
  },
  {
   "cell_type": "code",
   "execution_count": 19,
   "id": "16408c91",
   "metadata": {},
   "outputs": [
    {
     "data": {
      "text/plain": [
       "no     243064\n",
       "yes     33093\n",
       "Name: NotRepaired, dtype: int64"
      ]
     },
     "metadata": {},
     "output_type": "display_data"
    }
   ],
   "source": [
    "display(data['NotRepaired'].value_counts())"
   ]
  },
  {
   "cell_type": "code",
   "execution_count": 20,
   "id": "c384ba2f",
   "metadata": {
    "scrolled": false
   },
   "outputs": [
    {
     "data": {
      "text/plain": [
       "DateCrawled          0\n",
       "Price                0\n",
       "VehicleType          0\n",
       "RegistrationYear     0\n",
       "Gearbox              0\n",
       "Power                0\n",
       "Model                0\n",
       "Kilometer            0\n",
       "RegistrationMonth    0\n",
       "FuelType             0\n",
       "Brand                0\n",
       "NotRepaired          0\n",
       "DateCreated          0\n",
       "PostalCode           0\n",
       "LastSeen             0\n",
       "dtype: int64"
      ]
     },
     "metadata": {},
     "output_type": "display_data"
    },
    {
     "data": {
      "text/html": [
       "<div>\n",
       "<style scoped>\n",
       "    .dataframe tbody tr th:only-of-type {\n",
       "        vertical-align: middle;\n",
       "    }\n",
       "\n",
       "    .dataframe tbody tr th {\n",
       "        vertical-align: top;\n",
       "    }\n",
       "\n",
       "    .dataframe thead th {\n",
       "        text-align: right;\n",
       "    }\n",
       "</style>\n",
       "<table border=\"1\" class=\"dataframe\">\n",
       "  <thead>\n",
       "    <tr style=\"text-align: right;\">\n",
       "      <th></th>\n",
       "      <th>DateCrawled</th>\n",
       "      <th>Price</th>\n",
       "      <th>VehicleType</th>\n",
       "      <th>RegistrationYear</th>\n",
       "      <th>Gearbox</th>\n",
       "      <th>Power</th>\n",
       "      <th>Model</th>\n",
       "      <th>Kilometer</th>\n",
       "      <th>RegistrationMonth</th>\n",
       "      <th>FuelType</th>\n",
       "      <th>Brand</th>\n",
       "      <th>NotRepaired</th>\n",
       "      <th>DateCreated</th>\n",
       "      <th>PostalCode</th>\n",
       "      <th>LastSeen</th>\n",
       "    </tr>\n",
       "  </thead>\n",
       "  <tbody>\n",
       "    <tr>\n",
       "      <th>0</th>\n",
       "      <td>2016-03-24 11:52:17</td>\n",
       "      <td>480</td>\n",
       "      <td>unknown</td>\n",
       "      <td>1993</td>\n",
       "      <td>manual</td>\n",
       "      <td>0</td>\n",
       "      <td>golf</td>\n",
       "      <td>150000</td>\n",
       "      <td>0</td>\n",
       "      <td>petrol</td>\n",
       "      <td>volkswagen</td>\n",
       "      <td>unknown</td>\n",
       "      <td>2016-03-24</td>\n",
       "      <td>70435</td>\n",
       "      <td>2016-04-07 03:16:57</td>\n",
       "    </tr>\n",
       "    <tr>\n",
       "      <th>1</th>\n",
       "      <td>2016-03-24 10:58:45</td>\n",
       "      <td>18300</td>\n",
       "      <td>coupe</td>\n",
       "      <td>2011</td>\n",
       "      <td>manual</td>\n",
       "      <td>190</td>\n",
       "      <td>unknown</td>\n",
       "      <td>125000</td>\n",
       "      <td>5</td>\n",
       "      <td>gasoline</td>\n",
       "      <td>audi</td>\n",
       "      <td>yes</td>\n",
       "      <td>2016-03-24</td>\n",
       "      <td>66954</td>\n",
       "      <td>2016-04-07 01:46:50</td>\n",
       "    </tr>\n",
       "    <tr>\n",
       "      <th>2</th>\n",
       "      <td>2016-03-14 12:52:21</td>\n",
       "      <td>9800</td>\n",
       "      <td>suv</td>\n",
       "      <td>2004</td>\n",
       "      <td>auto</td>\n",
       "      <td>163</td>\n",
       "      <td>grand</td>\n",
       "      <td>125000</td>\n",
       "      <td>8</td>\n",
       "      <td>gasoline</td>\n",
       "      <td>jeep</td>\n",
       "      <td>unknown</td>\n",
       "      <td>2016-03-14</td>\n",
       "      <td>90480</td>\n",
       "      <td>2016-04-05 12:47:46</td>\n",
       "    </tr>\n",
       "    <tr>\n",
       "      <th>3</th>\n",
       "      <td>2016-03-17 16:54:04</td>\n",
       "      <td>1500</td>\n",
       "      <td>small</td>\n",
       "      <td>2001</td>\n",
       "      <td>manual</td>\n",
       "      <td>75</td>\n",
       "      <td>golf</td>\n",
       "      <td>150000</td>\n",
       "      <td>6</td>\n",
       "      <td>petrol</td>\n",
       "      <td>volkswagen</td>\n",
       "      <td>no</td>\n",
       "      <td>2016-03-17</td>\n",
       "      <td>91074</td>\n",
       "      <td>2016-03-17 17:40:17</td>\n",
       "    </tr>\n",
       "    <tr>\n",
       "      <th>4</th>\n",
       "      <td>2016-03-31 17:25:20</td>\n",
       "      <td>3600</td>\n",
       "      <td>small</td>\n",
       "      <td>2008</td>\n",
       "      <td>manual</td>\n",
       "      <td>69</td>\n",
       "      <td>fabia</td>\n",
       "      <td>90000</td>\n",
       "      <td>7</td>\n",
       "      <td>gasoline</td>\n",
       "      <td>skoda</td>\n",
       "      <td>no</td>\n",
       "      <td>2016-03-31</td>\n",
       "      <td>60437</td>\n",
       "      <td>2016-04-06 10:17:21</td>\n",
       "    </tr>\n",
       "  </tbody>\n",
       "</table>\n",
       "</div>"
      ],
      "text/plain": [
       "          DateCrawled  Price VehicleType  RegistrationYear Gearbox  Power  \\\n",
       "0 2016-03-24 11:52:17    480     unknown              1993  manual      0   \n",
       "1 2016-03-24 10:58:45  18300       coupe              2011  manual    190   \n",
       "2 2016-03-14 12:52:21   9800         suv              2004    auto    163   \n",
       "3 2016-03-17 16:54:04   1500       small              2001  manual     75   \n",
       "4 2016-03-31 17:25:20   3600       small              2008  manual     69   \n",
       "\n",
       "     Model  Kilometer  RegistrationMonth  FuelType       Brand NotRepaired  \\\n",
       "0     golf     150000                  0    petrol  volkswagen     unknown   \n",
       "1  unknown     125000                  5  gasoline        audi         yes   \n",
       "2    grand     125000                  8  gasoline        jeep     unknown   \n",
       "3     golf     150000                  6    petrol  volkswagen          no   \n",
       "4    fabia      90000                  7  gasoline       skoda          no   \n",
       "\n",
       "  DateCreated  PostalCode            LastSeen  \n",
       "0  2016-03-24       70435 2016-04-07 03:16:57  \n",
       "1  2016-03-24       66954 2016-04-07 01:46:50  \n",
       "2  2016-03-14       90480 2016-04-05 12:47:46  \n",
       "3  2016-03-17       91074 2016-03-17 17:40:17  \n",
       "4  2016-03-31       60437 2016-04-06 10:17:21  "
      ]
     },
     "metadata": {},
     "output_type": "display_data"
    }
   ],
   "source": [
    "data = data.fillna('unknown')\n",
    "display(data.isna().sum())\n",
    "display(data.head())"
   ]
  },
  {
   "cell_type": "code",
   "execution_count": 25,
   "id": "8e440efd",
   "metadata": {},
   "outputs": [
    {
     "data": {
      "text/plain": [
       "10115    811\n",
       "65428    601\n",
       "66333    320\n",
       "44145    301\n",
       "32257    297\n",
       "        ... \n",
       "29496      1\n",
       "86747      1\n",
       "25889      1\n",
       "6469       1\n",
       "83546      1\n",
       "Name: PostalCode, Length: 8137, dtype: int64"
      ]
     },
     "metadata": {},
     "output_type": "display_data"
    },
    {
     "data": {
      "text/plain": [
       "count    340024.000000\n",
       "mean      50703.115257\n",
       "std       25721.449527\n",
       "min        1067.000000\n",
       "25%       30455.000000\n",
       "50%       49536.000000\n",
       "75%       71229.000000\n",
       "max       99998.000000\n",
       "Name: PostalCode, dtype: float64"
      ]
     },
     "metadata": {},
     "output_type": "display_data"
    }
   ],
   "source": [
    "display(data['PostalCode'].value_counts())\n",
    "display(data['PostalCode'].describe())"
   ]
  },
  {
   "cell_type": "code",
   "execution_count": 26,
   "id": "ff160a74",
   "metadata": {},
   "outputs": [
    {
     "data": {
      "text/plain": [
       "(340024, 15)"
      ]
     },
     "metadata": {},
     "output_type": "display_data"
    },
    {
     "data": {
      "text/plain": [
       "(340024, 11)"
      ]
     },
     "metadata": {},
     "output_type": "display_data"
    }
   ],
   "source": [
    "display(data.shape)\n",
    "data = data.drop(['DateCrawled', 'DateCreated', 'LastSeen', 'PostalCode'], axis = 1)\n",
    "display(data.shape)"
   ]
  },
  {
   "cell_type": "markdown",
   "id": "97478e72",
   "metadata": {},
   "source": [
    "### Работа с выбросами"
   ]
  },
  {
   "cell_type": "code",
   "execution_count": 27,
   "id": "9a6c2054",
   "metadata": {},
   "outputs": [
    {
     "data": {
      "image/png": "[encoded data removed]",
      "text/plain": [
       "<Figure size 432x288 with 1 Axes>"
      ]
     },
     "metadata": {
      "needs_background": "light"
     },
     "output_type": "display_data"
    }
   ],
   "source": [
    "sns.distplot(data.Kilometer)\n",
    "plt.show()"
   ]
  },
  {
   "cell_type": "markdown",
   "id": "818ff443",
   "metadata": {},
   "source": [
    "* Максимальный пробег около 150000 км. Данные вполне реальны, оставим без изменений."
   ]
  },
  {
   "cell_type": "code",
   "execution_count": 28,
   "id": "b529e9d3",
   "metadata": {},
   "outputs": [
    {
     "data": {
      "text/plain": [
       "9.170235042232314"
      ]
     },
     "metadata": {},
     "output_type": "display_data"
    },
    {
     "data": {
      "text/plain": [
       "31181"
      ]
     },
     "metadata": {},
     "output_type": "display_data"
    }
   ],
   "source": [
    "display(part_of_value(df1=data.query('RegistrationMonth==0'), df=data))\n",
    "display(data.query('RegistrationMonth==0').shape[0])"
   ]
  },
  {
   "cell_type": "code",
   "execution_count": 29,
   "id": "26336bd7",
   "metadata": {},
   "outputs": [
    {
     "data": {
      "image/png": "[encoded data removed]",
      "text/plain": [
       "<Figure size 432x288 with 1 Axes>"
      ]
     },
     "metadata": {
      "needs_background": "light"
     },
     "output_type": "display_data"
    }
   ],
   "source": [
    "sns.distplot(data.RegistrationMonth)\n",
    "plt.show()"
   ]
  },
  {
   "cell_type": "markdown",
   "id": "129c66e9",
   "metadata": {},
   "source": [
    "* Нам необходимо обработать месяца = 0. Распределим значения по месяцам 1-12 так, чтобы не изменилось соотношение."
   ]
  },
  {
   "cell_type": "code",
   "execution_count": 30,
   "id": "2b2d21fb",
   "metadata": {},
   "outputs": [],
   "source": [
    "frac_list = []\n",
    "for i in range(1,13):\n",
    "    frac = data.query('RegistrationMonth==@i').shape[0]/(data.shape[0]-data.query('RegistrationMonth==0').shape[0])\n",
    "    n_size = round(data.query('RegistrationMonth==0').shape[0]*frac)\n",
    "    frac_list.append(n_size)"
   ]
  },
  {
   "cell_type": "code",
   "execution_count": 31,
   "id": "e9d0a5ed",
   "metadata": {},
   "outputs": [],
   "source": [
    "all_idx = np.array(data.query('RegistrationMonth==0').index)\n",
    "for month, i in enumerate(frac_list):\n",
    "    idx = np.random.choice(all_idx, size = i, replace = False)\n",
    "    data.loc[idx, 'RegistrationMonth'] = (month+1)\n",
    "    all_idx = all_idx[~np.isin(all_idx, idx)]"
   ]
  },
  {
   "cell_type": "code",
   "execution_count": 32,
   "id": "fd7b73d1",
   "metadata": {},
   "outputs": [
    {
     "data": {
      "image/png": "[encoded data removed]",
      "text/plain": [
       "<Figure size 432x288 with 1 Axes>"
      ]
     },
     "metadata": {
      "needs_background": "light"
     },
     "output_type": "display_data"
    }
   ],
   "source": [
    "sns.distplot(data.RegistrationMonth)\n",
    "plt.show()"
   ]
  },
  {
   "cell_type": "code",
   "execution_count": 33,
   "id": "450efd8c",
   "metadata": {},
   "outputs": [
    {
     "data": {
      "text/plain": [
       "0.0"
      ]
     },
     "metadata": {},
     "output_type": "display_data"
    }
   ],
   "source": [
    "display(part_of_value(df1 = data.query('RegistrationMonth==0'), df = data))"
   ]
  },
  {
   "cell_type": "markdown",
   "id": "ce55d4d5",
   "metadata": {},
   "source": [
    "* На данном этапе мы перераспределили значения параметра RegistrationMonth, которые равнялись нулю."
   ]
  },
  {
   "cell_type": "code",
   "execution_count": 34,
   "id": "c9be384b",
   "metadata": {},
   "outputs": [
    {
     "name": "stdout",
     "output_type": "stream",
     "text": [
      "Количество дубликатов в таблице = 24782\n"
     ]
    }
   ],
   "source": [
    "print(f'Количество дубликатов в таблице = {data.duplicated().sum()}')"
   ]
  },
  {
   "cell_type": "code",
   "execution_count": 35,
   "id": "b310e5ca",
   "metadata": {},
   "outputs": [
    {
     "data": {
      "image/png": "[encoded data removed]",
      "text/plain": [
       "<Figure size 432x288 with 1 Axes>"
      ]
     },
     "metadata": {
      "needs_background": "light"
     },
     "output_type": "display_data"
    },
    {
     "data": {
      "text/plain": [
       "159"
      ]
     },
     "metadata": {},
     "output_type": "display_data"
    }
   ],
   "source": [
    "sns.distplot(data.RegistrationYear)\n",
    "plt.show()\n",
    "display(data.query('RegistrationYear <= 1930 | RegistrationYear >= 2021')['RegistrationYear'].count())"
   ]
  },
  {
   "cell_type": "code",
   "execution_count": 36,
   "id": "b0c4c59c",
   "metadata": {},
   "outputs": [
    {
     "data": {
      "text/html": [
       "<div>\n",
       "<style scoped>\n",
       "    .dataframe tbody tr th:only-of-type {\n",
       "        vertical-align: middle;\n",
       "    }\n",
       "\n",
       "    .dataframe tbody tr th {\n",
       "        vertical-align: top;\n",
       "    }\n",
       "\n",
       "    .dataframe thead th {\n",
       "        text-align: right;\n",
       "    }\n",
       "</style>\n",
       "<table border=\"1\" class=\"dataframe\">\n",
       "  <thead>\n",
       "    <tr style=\"text-align: right;\">\n",
       "      <th></th>\n",
       "      <th>Price</th>\n",
       "      <th>VehicleType</th>\n",
       "      <th>RegistrationYear</th>\n",
       "      <th>Gearbox</th>\n",
       "      <th>Power</th>\n",
       "      <th>Model</th>\n",
       "      <th>Kilometer</th>\n",
       "      <th>RegistrationMonth</th>\n",
       "      <th>FuelType</th>\n",
       "      <th>Brand</th>\n",
       "      <th>NotRepaired</th>\n",
       "    </tr>\n",
       "  </thead>\n",
       "  <tbody>\n",
       "    <tr>\n",
       "      <th>15</th>\n",
       "      <td>450</td>\n",
       "      <td>small</td>\n",
       "      <td>1910</td>\n",
       "      <td>unknown</td>\n",
       "      <td>0</td>\n",
       "      <td>ka</td>\n",
       "      <td>5000</td>\n",
       "      <td>1</td>\n",
       "      <td>petrol</td>\n",
       "      <td>ford</td>\n",
       "      <td>unknown</td>\n",
       "    </tr>\n",
       "    <tr>\n",
       "      <th>16</th>\n",
       "      <td>300</td>\n",
       "      <td>unknown</td>\n",
       "      <td>2016</td>\n",
       "      <td>unknown</td>\n",
       "      <td>60</td>\n",
       "      <td>polo</td>\n",
       "      <td>150000</td>\n",
       "      <td>11</td>\n",
       "      <td>petrol</td>\n",
       "      <td>volkswagen</td>\n",
       "      <td>unknown</td>\n",
       "    </tr>\n",
       "    <tr>\n",
       "      <th>22</th>\n",
       "      <td>2900</td>\n",
       "      <td>unknown</td>\n",
       "      <td>2018</td>\n",
       "      <td>manual</td>\n",
       "      <td>90</td>\n",
       "      <td>meriva</td>\n",
       "      <td>150000</td>\n",
       "      <td>5</td>\n",
       "      <td>petrol</td>\n",
       "      <td>opel</td>\n",
       "      <td>no</td>\n",
       "    </tr>\n",
       "    <tr>\n",
       "      <th>26</th>\n",
       "      <td>5555</td>\n",
       "      <td>unknown</td>\n",
       "      <td>2017</td>\n",
       "      <td>manual</td>\n",
       "      <td>125</td>\n",
       "      <td>c4</td>\n",
       "      <td>125000</td>\n",
       "      <td>4</td>\n",
       "      <td>unknown</td>\n",
       "      <td>citroen</td>\n",
       "      <td>no</td>\n",
       "    </tr>\n",
       "    <tr>\n",
       "      <th>31</th>\n",
       "      <td>899</td>\n",
       "      <td>unknown</td>\n",
       "      <td>2016</td>\n",
       "      <td>manual</td>\n",
       "      <td>60</td>\n",
       "      <td>clio</td>\n",
       "      <td>150000</td>\n",
       "      <td>6</td>\n",
       "      <td>petrol</td>\n",
       "      <td>renault</td>\n",
       "      <td>unknown</td>\n",
       "    </tr>\n",
       "    <tr>\n",
       "      <th>35</th>\n",
       "      <td>350</td>\n",
       "      <td>unknown</td>\n",
       "      <td>2016</td>\n",
       "      <td>manual</td>\n",
       "      <td>75</td>\n",
       "      <td>golf</td>\n",
       "      <td>150000</td>\n",
       "      <td>4</td>\n",
       "      <td>petrol</td>\n",
       "      <td>volkswagen</td>\n",
       "      <td>no</td>\n",
       "    </tr>\n",
       "    <tr>\n",
       "      <th>37</th>\n",
       "      <td>1500</td>\n",
       "      <td>unknown</td>\n",
       "      <td>2016</td>\n",
       "      <td>unknown</td>\n",
       "      <td>0</td>\n",
       "      <td>kangoo</td>\n",
       "      <td>150000</td>\n",
       "      <td>1</td>\n",
       "      <td>gasoline</td>\n",
       "      <td>renault</td>\n",
       "      <td>no</td>\n",
       "    </tr>\n",
       "    <tr>\n",
       "      <th>48</th>\n",
       "      <td>7750</td>\n",
       "      <td>unknown</td>\n",
       "      <td>2017</td>\n",
       "      <td>manual</td>\n",
       "      <td>80</td>\n",
       "      <td>golf</td>\n",
       "      <td>100000</td>\n",
       "      <td>1</td>\n",
       "      <td>petrol</td>\n",
       "      <td>volkswagen</td>\n",
       "      <td>unknown</td>\n",
       "    </tr>\n",
       "    <tr>\n",
       "      <th>51</th>\n",
       "      <td>2000</td>\n",
       "      <td>unknown</td>\n",
       "      <td>2017</td>\n",
       "      <td>manual</td>\n",
       "      <td>90</td>\n",
       "      <td>punto</td>\n",
       "      <td>150000</td>\n",
       "      <td>11</td>\n",
       "      <td>gasoline</td>\n",
       "      <td>fiat</td>\n",
       "      <td>yes</td>\n",
       "    </tr>\n",
       "    <tr>\n",
       "      <th>52</th>\n",
       "      <td>1400</td>\n",
       "      <td>unknown</td>\n",
       "      <td>2016</td>\n",
       "      <td>manual</td>\n",
       "      <td>55</td>\n",
       "      <td>other</td>\n",
       "      <td>5000</td>\n",
       "      <td>1</td>\n",
       "      <td>unknown</td>\n",
       "      <td>hyundai</td>\n",
       "      <td>unknown</td>\n",
       "    </tr>\n",
       "  </tbody>\n",
       "</table>\n",
       "</div>"
      ],
      "text/plain": [
       "    Price VehicleType  RegistrationYear  Gearbox  Power   Model  Kilometer  \\\n",
       "15    450       small              1910  unknown      0      ka       5000   \n",
       "16    300     unknown              2016  unknown     60    polo     150000   \n",
       "22   2900     unknown              2018   manual     90  meriva     150000   \n",
       "26   5555     unknown              2017   manual    125      c4     125000   \n",
       "31    899     unknown              2016   manual     60    clio     150000   \n",
       "35    350     unknown              2016   manual     75    golf     150000   \n",
       "37   1500     unknown              2016  unknown      0  kangoo     150000   \n",
       "48   7750     unknown              2017   manual     80    golf     100000   \n",
       "51   2000     unknown              2017   manual     90   punto     150000   \n",
       "52   1400     unknown              2016   manual     55   other       5000   \n",
       "\n",
       "    RegistrationMonth  FuelType       Brand NotRepaired  \n",
       "15                  1    petrol        ford     unknown  \n",
       "16                 11    petrol  volkswagen     unknown  \n",
       "22                  5    petrol        opel          no  \n",
       "26                  4   unknown     citroen          no  \n",
       "31                  6    petrol     renault     unknown  \n",
       "35                  4    petrol  volkswagen          no  \n",
       "37                  1  gasoline     renault          no  \n",
       "48                  1    petrol  volkswagen     unknown  \n",
       "51                 11  gasoline        fiat         yes  \n",
       "52                  1   unknown     hyundai     unknown  "
      ]
     },
     "metadata": {},
     "output_type": "display_data"
    }
   ],
   "source": [
    "display(data.query('RegistrationYear <= 1930 | RegistrationYear >= 2016').head(10))"
   ]
  },
  {
   "cell_type": "markdown",
   "id": "ca7609a3",
   "metadata": {},
   "source": [
    "* Удалим данные по автомобилям, которые зарегистрированы очень давно или далеко в будущем "
   ]
  },
  {
   "cell_type": "code",
   "execution_count": 37,
   "id": "edcff565",
   "metadata": {},
   "outputs": [
    {
     "data": {
      "text/plain": [
       "(340024, 11)"
      ]
     },
     "metadata": {},
     "output_type": "display_data"
    },
    {
     "data": {
      "text/plain": [
       "(317499, 11)"
      ]
     },
     "metadata": {},
     "output_type": "display_data"
    }
   ],
   "source": [
    "display(data.shape)\n",
    "data.drop(data.query('RegistrationYear <= 1930 | RegistrationYear >= 2016').index, inplace=True)\n",
    "display(data.shape)"
   ]
  },
  {
   "cell_type": "code",
   "execution_count": 38,
   "id": "925aad15",
   "metadata": {},
   "outputs": [
    {
     "data": {
      "image/png": "[encoded data removed]",
      "text/plain": [
       "<Figure size 432x288 with 1 Axes>"
      ]
     },
     "metadata": {
      "needs_background": "light"
     },
     "output_type": "display_data"
    },
    {
     "data": {
      "text/plain": [
       "0"
      ]
     },
     "metadata": {},
     "output_type": "display_data"
    }
   ],
   "source": [
    "sns.distplot(data.RegistrationYear)\n",
    "plt.show()\n",
    "display(data.query('RegistrationYear <= 1930 | RegistrationYear >= 2016')['RegistrationYear'].count())"
   ]
  },
  {
   "cell_type": "code",
   "execution_count": 39,
   "id": "a0156bea",
   "metadata": {},
   "outputs": [
    {
     "data": {
      "text/plain": [
       "count    317499.000000\n",
       "mean        113.438628\n",
       "std         182.395893\n",
       "min           0.000000\n",
       "25%          75.000000\n",
       "50%         105.000000\n",
       "75%         143.000000\n",
       "max       20000.000000\n",
       "Name: Power, dtype: float64"
      ]
     },
     "metadata": {},
     "output_type": "display_data"
    },
    {
     "data": {
      "image/png": "[encoded data removed]",
      "text/plain": [
       "<Figure size 432x288 with 1 Axes>"
      ]
     },
     "metadata": {
      "needs_background": "light"
     },
     "output_type": "display_data"
    }
   ],
   "source": [
    "sns.boxplot(x = data['Power'])\n",
    "display(data.Power.describe())\n",
    "plt.show()"
   ]
  },
  {
   "cell_type": "code",
   "execution_count": 40,
   "id": "1e33e3df",
   "metadata": {},
   "outputs": [
    {
     "data": {
      "text/plain": [
       "Price                34084\n",
       "VehicleType          34084\n",
       "RegistrationYear     34084\n",
       "Gearbox              34084\n",
       "Power                34084\n",
       "Model                34084\n",
       "Kilometer            34084\n",
       "RegistrationMonth    34084\n",
       "FuelType             34084\n",
       "Brand                34084\n",
       "NotRepaired          34084\n",
       "dtype: int64"
      ]
     },
     "metadata": {},
     "output_type": "display_data"
    },
    {
     "data": {
      "text/html": [
       "<div>\n",
       "<style scoped>\n",
       "    .dataframe tbody tr th:only-of-type {\n",
       "        vertical-align: middle;\n",
       "    }\n",
       "\n",
       "    .dataframe tbody tr th {\n",
       "        vertical-align: top;\n",
       "    }\n",
       "\n",
       "    .dataframe thead th {\n",
       "        text-align: right;\n",
       "    }\n",
       "</style>\n",
       "<table border=\"1\" class=\"dataframe\">\n",
       "  <thead>\n",
       "    <tr style=\"text-align: right;\">\n",
       "      <th></th>\n",
       "      <th>Price</th>\n",
       "      <th>VehicleType</th>\n",
       "      <th>RegistrationYear</th>\n",
       "      <th>Gearbox</th>\n",
       "      <th>Power</th>\n",
       "      <th>Model</th>\n",
       "      <th>Kilometer</th>\n",
       "      <th>RegistrationMonth</th>\n",
       "      <th>FuelType</th>\n",
       "      <th>Brand</th>\n",
       "      <th>NotRepaired</th>\n",
       "    </tr>\n",
       "  </thead>\n",
       "  <tbody>\n",
       "    <tr>\n",
       "      <th>0</th>\n",
       "      <td>480</td>\n",
       "      <td>unknown</td>\n",
       "      <td>1993</td>\n",
       "      <td>manual</td>\n",
       "      <td>0</td>\n",
       "      <td>golf</td>\n",
       "      <td>150000</td>\n",
       "      <td>8</td>\n",
       "      <td>petrol</td>\n",
       "      <td>volkswagen</td>\n",
       "      <td>unknown</td>\n",
       "    </tr>\n",
       "    <tr>\n",
       "      <th>32</th>\n",
       "      <td>245</td>\n",
       "      <td>sedan</td>\n",
       "      <td>1994</td>\n",
       "      <td>unknown</td>\n",
       "      <td>0</td>\n",
       "      <td>golf</td>\n",
       "      <td>150000</td>\n",
       "      <td>2</td>\n",
       "      <td>petrol</td>\n",
       "      <td>volkswagen</td>\n",
       "      <td>no</td>\n",
       "    </tr>\n",
       "    <tr>\n",
       "      <th>54</th>\n",
       "      <td>4700</td>\n",
       "      <td>wagon</td>\n",
       "      <td>2005</td>\n",
       "      <td>manual</td>\n",
       "      <td>0</td>\n",
       "      <td>signum</td>\n",
       "      <td>150000</td>\n",
       "      <td>12</td>\n",
       "      <td>unknown</td>\n",
       "      <td>opel</td>\n",
       "      <td>no</td>\n",
       "    </tr>\n",
       "    <tr>\n",
       "      <th>55</th>\n",
       "      <td>550</td>\n",
       "      <td>wagon</td>\n",
       "      <td>1999</td>\n",
       "      <td>manual</td>\n",
       "      <td>0</td>\n",
       "      <td>astra</td>\n",
       "      <td>150000</td>\n",
       "      <td>8</td>\n",
       "      <td>gasoline</td>\n",
       "      <td>opel</td>\n",
       "      <td>yes</td>\n",
       "    </tr>\n",
       "    <tr>\n",
       "      <th>69</th>\n",
       "      <td>1200</td>\n",
       "      <td>coupe</td>\n",
       "      <td>2001</td>\n",
       "      <td>unknown</td>\n",
       "      <td>0</td>\n",
       "      <td>astra</td>\n",
       "      <td>150000</td>\n",
       "      <td>4</td>\n",
       "      <td>unknown</td>\n",
       "      <td>opel</td>\n",
       "      <td>unknown</td>\n",
       "    </tr>\n",
       "  </tbody>\n",
       "</table>\n",
       "</div>"
      ],
      "text/plain": [
       "    Price VehicleType  RegistrationYear  Gearbox  Power   Model  Kilometer  \\\n",
       "0     480     unknown              1993   manual      0    golf     150000   \n",
       "32    245       sedan              1994  unknown      0    golf     150000   \n",
       "54   4700       wagon              2005   manual      0  signum     150000   \n",
       "55    550       wagon              1999   manual      0   astra     150000   \n",
       "69   1200       coupe              2001  unknown      0   astra     150000   \n",
       "\n",
       "    RegistrationMonth  FuelType       Brand NotRepaired  \n",
       "0                   8    petrol  volkswagen     unknown  \n",
       "32                  2    petrol  volkswagen          no  \n",
       "54                 12   unknown        opel          no  \n",
       "55                  8  gasoline        opel         yes  \n",
       "69                  4   unknown        opel     unknown  "
      ]
     },
     "metadata": {},
     "output_type": "display_data"
    }
   ],
   "source": [
    "display(data.query('Power>=679 | Power<50').count())\n",
    "display(data.query('Power>=679 | Power<50').head())"
   ]
  },
  {
   "cell_type": "markdown",
   "id": "1f69a305",
   "metadata": {},
   "source": [
    "* Данные по мощности выглядят неправдоподобными. Предлагаю заменить крайне мощные автомобили (+3 сигмы) и совсем немощные (<50 л.с., на основании бизнес-оценки) на медиану по брэнду и модели."
   ]
  },
  {
   "cell_type": "code",
   "execution_count": 41,
   "id": "022b7863",
   "metadata": {},
   "outputs": [
    {
     "data": {
      "text/html": [
       "<div>\n",
       "<style scoped>\n",
       "    .dataframe tbody tr th:only-of-type {\n",
       "        vertical-align: middle;\n",
       "    }\n",
       "\n",
       "    .dataframe tbody tr th {\n",
       "        vertical-align: top;\n",
       "    }\n",
       "\n",
       "    .dataframe thead th {\n",
       "        text-align: right;\n",
       "    }\n",
       "</style>\n",
       "<table border=\"1\" class=\"dataframe\">\n",
       "  <thead>\n",
       "    <tr style=\"text-align: right;\">\n",
       "      <th></th>\n",
       "      <th></th>\n",
       "      <th>count</th>\n",
       "      <th>median</th>\n",
       "      <th>mean</th>\n",
       "    </tr>\n",
       "    <tr>\n",
       "      <th>Brand</th>\n",
       "      <th>Model</th>\n",
       "      <th></th>\n",
       "      <th></th>\n",
       "      <th></th>\n",
       "    </tr>\n",
       "  </thead>\n",
       "  <tbody>\n",
       "    <tr>\n",
       "      <th rowspan=\"5\" valign=\"top\">alfa_romeo</th>\n",
       "      <th>145</th>\n",
       "      <td>38</td>\n",
       "      <td>103.0</td>\n",
       "      <td>97.473684</td>\n",
       "    </tr>\n",
       "    <tr>\n",
       "      <th>147</th>\n",
       "      <td>504</td>\n",
       "      <td>120.0</td>\n",
       "      <td>144.472222</td>\n",
       "    </tr>\n",
       "    <tr>\n",
       "      <th>156</th>\n",
       "      <td>565</td>\n",
       "      <td>150.0</td>\n",
       "      <td>140.120354</td>\n",
       "    </tr>\n",
       "    <tr>\n",
       "      <th>159</th>\n",
       "      <td>201</td>\n",
       "      <td>170.0</td>\n",
       "      <td>167.477612</td>\n",
       "    </tr>\n",
       "    <tr>\n",
       "      <th>other</th>\n",
       "      <td>491</td>\n",
       "      <td>150.0</td>\n",
       "      <td>169.558045</td>\n",
       "    </tr>\n",
       "    <tr>\n",
       "      <th>...</th>\n",
       "      <th>...</th>\n",
       "      <td>...</td>\n",
       "      <td>...</td>\n",
       "      <td>...</td>\n",
       "    </tr>\n",
       "    <tr>\n",
       "      <th rowspan=\"5\" valign=\"top\">volvo</th>\n",
       "      <th>v40</th>\n",
       "      <td>691</td>\n",
       "      <td>116.0</td>\n",
       "      <td>112.830680</td>\n",
       "    </tr>\n",
       "    <tr>\n",
       "      <th>v50</th>\n",
       "      <td>241</td>\n",
       "      <td>136.0</td>\n",
       "      <td>137.236515</td>\n",
       "    </tr>\n",
       "    <tr>\n",
       "      <th>v60</th>\n",
       "      <td>41</td>\n",
       "      <td>163.0</td>\n",
       "      <td>161.829268</td>\n",
       "    </tr>\n",
       "    <tr>\n",
       "      <th>v70</th>\n",
       "      <td>607</td>\n",
       "      <td>163.0</td>\n",
       "      <td>158.163097</td>\n",
       "    </tr>\n",
       "    <tr>\n",
       "      <th>xc_reihe</th>\n",
       "      <td>260</td>\n",
       "      <td>185.0</td>\n",
       "      <td>182.930769</td>\n",
       "    </tr>\n",
       "  </tbody>\n",
       "</table>\n",
       "<p>337 rows × 3 columns</p>\n",
       "</div>"
      ],
      "text/plain": [
       "                     count  median        mean\n",
       "Brand      Model                              \n",
       "alfa_romeo 145          38   103.0   97.473684\n",
       "           147         504   120.0  144.472222\n",
       "           156         565   150.0  140.120354\n",
       "           159         201   170.0  167.477612\n",
       "           other       491   150.0  169.558045\n",
       "...                    ...     ...         ...\n",
       "volvo      v40         691   116.0  112.830680\n",
       "           v50         241   136.0  137.236515\n",
       "           v60          41   163.0  161.829268\n",
       "           v70         607   163.0  158.163097\n",
       "           xc_reihe    260   185.0  182.930769\n",
       "\n",
       "[337 rows x 3 columns]"
      ]
     },
     "metadata": {},
     "output_type": "display_data"
    }
   ],
   "source": [
    "display(data.groupby(['Brand', 'Model'])['Power'].agg({'mean', 'median', 'count'}))"
   ]
  },
  {
   "cell_type": "code",
   "execution_count": 42,
   "id": "de33646c",
   "metadata": {},
   "outputs": [
    {
     "data": {
      "text/plain": [
       "count    317499.000000\n",
       "mean        113.438628\n",
       "std         182.395893\n",
       "min           0.000000\n",
       "25%          75.000000\n",
       "50%         105.000000\n",
       "75%         143.000000\n",
       "max       20000.000000\n",
       "Name: Power, dtype: float64"
      ]
     },
     "metadata": {},
     "output_type": "display_data"
    },
    {
     "data": {
      "text/plain": [
       "count    283415.000000\n",
       "mean        122.684304\n",
       "std          53.468503\n",
       "min          50.000000\n",
       "25%          80.000000\n",
       "50%         115.000000\n",
       "75%         150.000000\n",
       "max         678.000000\n",
       "Name: Power, dtype: float64"
      ]
     },
     "metadata": {},
     "output_type": "display_data"
    }
   ],
   "source": [
    "display(data.Power.describe())\n",
    "data.loc[(data['Power']>=679) | (data['Power']<50), 'Power'] = np.nan\n",
    "display(data.Power.describe())\n",
    "data['Power'] = data['Power'].fillna(data.groupby(['Brand', 'Model'])['Power'].transform('median'))\n",
    "data.dropna(inplace=True)\n",
    "data['Power'] = data['Power'].astype('int')"
   ]
  },
  {
   "cell_type": "code",
   "execution_count": 43,
   "id": "b79fb35c",
   "metadata": {},
   "outputs": [
    {
     "data": {
      "text/plain": [
       "count    317498.000000\n",
       "mean        120.720868\n",
       "std          52.516896\n",
       "min          50.000000\n",
       "25%          79.000000\n",
       "50%         110.000000\n",
       "75%         150.000000\n",
       "max         678.000000\n",
       "Name: Power, dtype: float64"
      ]
     },
     "metadata": {},
     "output_type": "display_data"
    },
    {
     "data": {
      "image/png": "[encoded data removed]",
      "text/plain": [
       "<Figure size 432x288 with 1 Axes>"
      ]
     },
     "metadata": {
      "needs_background": "light"
     },
     "output_type": "display_data"
    }
   ],
   "source": [
    "sns.boxplot(x = data['Power'])\n",
    "display(data.Power.describe())\n",
    "plt.show()"
   ]
  },
  {
   "cell_type": "code",
   "execution_count": 44,
   "id": "55027613",
   "metadata": {},
   "outputs": [
    {
     "name": "stdout",
     "output_type": "stream",
     "text": [
      "Описание количественных переменных\n",
      "               Price  RegistrationYear          Power      Kilometer  \\\n",
      "count  317498.000000     317498.000000  317498.000000  317498.000000   \n",
      "mean     4720.260313       2002.282455     120.720868  128209.059585   \n",
      "std      4562.137283          6.487352      52.516896   37232.237500   \n",
      "min       101.000000       1931.000000      50.000000    5000.000000   \n",
      "25%      1290.000000       1999.000000      79.000000  125000.000000   \n",
      "50%      2999.000000       2003.000000     110.000000  150000.000000   \n",
      "75%      6800.000000       2007.000000     150.000000  150000.000000   \n",
      "max     20000.000000       2015.000000     678.000000  150000.000000   \n",
      "\n",
      "       RegistrationMonth  \n",
      "count      317498.000000  \n",
      "mean            6.389826  \n",
      "std             3.351357  \n",
      "min             1.000000  \n",
      "25%             4.000000  \n",
      "50%             6.000000  \n",
      "75%             9.000000  \n",
      "max            12.000000  \n",
      "Количество дубликатов в таблице = 24496\n"
     ]
    }
   ],
   "source": [
    "print('Описание количественных переменных')\n",
    "print(data.describe())\n",
    "print(f'Количество дубликатов в таблице = {data.duplicated().sum()}')"
   ]
  },
  {
   "cell_type": "markdown",
   "id": "b55f358c",
   "metadata": {},
   "source": [
    "**Промежуточные итоги:**\n",
    "\n",
    "- удалили 3% данных\n",
    "- аномалии по мощности заменили на медиану по брэнду и модели\n",
    "- в конце получилось слишком много дубликатов, но это просто совпадение данных, поэтому ничего с этим делать не будем, оставим и будем двигаться дальше."
   ]
  },
  {
   "cell_type": "markdown",
   "metadata": {},
   "source": [
    "## Обучение моделей"
   ]
  },
  {
   "cell_type": "code",
   "execution_count": 45,
   "metadata": {},
   "outputs": [
    {
     "data": {
      "text/html": [
       "<div>\n",
       "<style scoped>\n",
       "    .dataframe tbody tr th:only-of-type {\n",
       "        vertical-align: middle;\n",
       "    }\n",
       "\n",
       "    .dataframe tbody tr th {\n",
       "        vertical-align: top;\n",
       "    }\n",
       "\n",
       "    .dataframe thead th {\n",
       "        text-align: right;\n",
       "    }\n",
       "</style>\n",
       "<table border=\"1\" class=\"dataframe\">\n",
       "  <thead>\n",
       "    <tr style=\"text-align: right;\">\n",
       "      <th></th>\n",
       "      <th>Price</th>\n",
       "      <th>RegistrationYear</th>\n",
       "      <th>Power</th>\n",
       "      <th>Kilometer</th>\n",
       "      <th>RegistrationMonth</th>\n",
       "      <th>VehicleType_convertible</th>\n",
       "      <th>VehicleType_coupe</th>\n",
       "      <th>VehicleType_other</th>\n",
       "      <th>VehicleType_sedan</th>\n",
       "      <th>VehicleType_small</th>\n",
       "      <th>...</th>\n",
       "      <th>Brand_smart</th>\n",
       "      <th>Brand_sonstige_autos</th>\n",
       "      <th>Brand_subaru</th>\n",
       "      <th>Brand_suzuki</th>\n",
       "      <th>Brand_toyota</th>\n",
       "      <th>Brand_trabant</th>\n",
       "      <th>Brand_volkswagen</th>\n",
       "      <th>Brand_volvo</th>\n",
       "      <th>NotRepaired_unknown</th>\n",
       "      <th>NotRepaired_yes</th>\n",
       "    </tr>\n",
       "  </thead>\n",
       "  <tbody>\n",
       "    <tr>\n",
       "      <th>0</th>\n",
       "      <td>480</td>\n",
       "      <td>1993</td>\n",
       "      <td>101</td>\n",
       "      <td>150000</td>\n",
       "      <td>8</td>\n",
       "      <td>0</td>\n",
       "      <td>0</td>\n",
       "      <td>0</td>\n",
       "      <td>0</td>\n",
       "      <td>0</td>\n",
       "      <td>...</td>\n",
       "      <td>0</td>\n",
       "      <td>0</td>\n",
       "      <td>0</td>\n",
       "      <td>0</td>\n",
       "      <td>0</td>\n",
       "      <td>0</td>\n",
       "      <td>1</td>\n",
       "      <td>0</td>\n",
       "      <td>1</td>\n",
       "      <td>0</td>\n",
       "    </tr>\n",
       "    <tr>\n",
       "      <th>1</th>\n",
       "      <td>18300</td>\n",
       "      <td>2011</td>\n",
       "      <td>190</td>\n",
       "      <td>125000</td>\n",
       "      <td>5</td>\n",
       "      <td>0</td>\n",
       "      <td>1</td>\n",
       "      <td>0</td>\n",
       "      <td>0</td>\n",
       "      <td>0</td>\n",
       "      <td>...</td>\n",
       "      <td>0</td>\n",
       "      <td>0</td>\n",
       "      <td>0</td>\n",
       "      <td>0</td>\n",
       "      <td>0</td>\n",
       "      <td>0</td>\n",
       "      <td>0</td>\n",
       "      <td>0</td>\n",
       "      <td>0</td>\n",
       "      <td>1</td>\n",
       "    </tr>\n",
       "    <tr>\n",
       "      <th>2</th>\n",
       "      <td>9800</td>\n",
       "      <td>2004</td>\n",
       "      <td>163</td>\n",
       "      <td>125000</td>\n",
       "      <td>8</td>\n",
       "      <td>0</td>\n",
       "      <td>0</td>\n",
       "      <td>0</td>\n",
       "      <td>0</td>\n",
       "      <td>0</td>\n",
       "      <td>...</td>\n",
       "      <td>0</td>\n",
       "      <td>0</td>\n",
       "      <td>0</td>\n",
       "      <td>0</td>\n",
       "      <td>0</td>\n",
       "      <td>0</td>\n",
       "      <td>0</td>\n",
       "      <td>0</td>\n",
       "      <td>1</td>\n",
       "      <td>0</td>\n",
       "    </tr>\n",
       "    <tr>\n",
       "      <th>3</th>\n",
       "      <td>1500</td>\n",
       "      <td>2001</td>\n",
       "      <td>75</td>\n",
       "      <td>150000</td>\n",
       "      <td>6</td>\n",
       "      <td>0</td>\n",
       "      <td>0</td>\n",
       "      <td>0</td>\n",
       "      <td>0</td>\n",
       "      <td>1</td>\n",
       "      <td>...</td>\n",
       "      <td>0</td>\n",
       "      <td>0</td>\n",
       "      <td>0</td>\n",
       "      <td>0</td>\n",
       "      <td>0</td>\n",
       "      <td>0</td>\n",
       "      <td>1</td>\n",
       "      <td>0</td>\n",
       "      <td>0</td>\n",
       "      <td>0</td>\n",
       "    </tr>\n",
       "    <tr>\n",
       "      <th>4</th>\n",
       "      <td>3600</td>\n",
       "      <td>2008</td>\n",
       "      <td>69</td>\n",
       "      <td>90000</td>\n",
       "      <td>7</td>\n",
       "      <td>0</td>\n",
       "      <td>0</td>\n",
       "      <td>0</td>\n",
       "      <td>0</td>\n",
       "      <td>1</td>\n",
       "      <td>...</td>\n",
       "      <td>0</td>\n",
       "      <td>0</td>\n",
       "      <td>0</td>\n",
       "      <td>0</td>\n",
       "      <td>0</td>\n",
       "      <td>0</td>\n",
       "      <td>0</td>\n",
       "      <td>0</td>\n",
       "      <td>0</td>\n",
       "      <td>0</td>\n",
       "    </tr>\n",
       "  </tbody>\n",
       "</table>\n",
       "<p>5 rows × 312 columns</p>\n",
       "</div>"
      ],
      "text/plain": [
       "   Price  RegistrationYear  Power  Kilometer  RegistrationMonth  \\\n",
       "0    480              1993    101     150000                  8   \n",
       "1  18300              2011    190     125000                  5   \n",
       "2   9800              2004    163     125000                  8   \n",
       "3   1500              2001     75     150000                  6   \n",
       "4   3600              2008     69      90000                  7   \n",
       "\n",
       "   VehicleType_convertible  VehicleType_coupe  VehicleType_other  \\\n",
       "0                        0                  0                  0   \n",
       "1                        0                  1                  0   \n",
       "2                        0                  0                  0   \n",
       "3                        0                  0                  0   \n",
       "4                        0                  0                  0   \n",
       "\n",
       "   VehicleType_sedan  VehicleType_small  ...  Brand_smart  \\\n",
       "0                  0                  0  ...            0   \n",
       "1                  0                  0  ...            0   \n",
       "2                  0                  0  ...            0   \n",
       "3                  0                  1  ...            0   \n",
       "4                  0                  1  ...            0   \n",
       "\n",
       "   Brand_sonstige_autos  Brand_subaru  Brand_suzuki  Brand_toyota  \\\n",
       "0                     0             0             0             0   \n",
       "1                     0             0             0             0   \n",
       "2                     0             0             0             0   \n",
       "3                     0             0             0             0   \n",
       "4                     0             0             0             0   \n",
       "\n",
       "   Brand_trabant  Brand_volkswagen  Brand_volvo  NotRepaired_unknown  \\\n",
       "0              0                 1            0                    1   \n",
       "1              0                 0            0                    0   \n",
       "2              0                 0            0                    1   \n",
       "3              0                 1            0                    0   \n",
       "4              0                 0            0                    0   \n",
       "\n",
       "   NotRepaired_yes  \n",
       "0                0  \n",
       "1                1  \n",
       "2                0  \n",
       "3                0  \n",
       "4                0  \n",
       "\n",
       "[5 rows x 312 columns]"
      ]
     },
     "execution_count": 45,
     "metadata": {},
     "output_type": "execute_result"
    }
   ],
   "source": [
    "# преобразуем категориальные данные методом прямого кодирования\n",
    "data_ohe = data.copy\n",
    "data_ohe = pd.get_dummies(data, drop_first=True)\n",
    "data_ohe.head()"
   ]
  },
  {
   "cell_type": "code",
   "execution_count": 46,
   "metadata": {},
   "outputs": [],
   "source": [
    "# разделим на выборки\n",
    "X = data_ohe.drop(['Price'], axis = 1)\n",
    "y = data_ohe['Price']\n",
    "features_train_lr, features_test_lr, target_train_lr, target_test_lr = train_test_split(X, y, test_size=0.25, random_state=12345)"
   ]
  },
  {
   "cell_type": "code",
   "execution_count": 47,
   "metadata": {},
   "outputs": [],
   "source": [
    "# произведем масштабирование признаков\n",
    "scaler = StandardScaler()\n",
    "scaler.fit(features_train_lr)\n",
    "\n",
    "features_train_lr = scaler.transform(features_train_lr)\n",
    "features_test_lr = scaler.transform(features_test_lr)"
   ]
  },
  {
   "cell_type": "code",
   "execution_count": 48,
   "metadata": {},
   "outputs": [
    {
     "data": {
      "text/html": [
       "<div>\n",
       "<style scoped>\n",
       "    .dataframe tbody tr th:only-of-type {\n",
       "        vertical-align: middle;\n",
       "    }\n",
       "\n",
       "    .dataframe tbody tr th {\n",
       "        vertical-align: top;\n",
       "    }\n",
       "\n",
       "    .dataframe thead th {\n",
       "        text-align: right;\n",
       "    }\n",
       "</style>\n",
       "<table border=\"1\" class=\"dataframe\">\n",
       "  <thead>\n",
       "    <tr style=\"text-align: right;\">\n",
       "      <th></th>\n",
       "      <th>Price</th>\n",
       "      <th>VehicleType</th>\n",
       "      <th>RegistrationYear</th>\n",
       "      <th>Gearbox</th>\n",
       "      <th>Power</th>\n",
       "      <th>Model</th>\n",
       "      <th>Kilometer</th>\n",
       "      <th>RegistrationMonth</th>\n",
       "      <th>FuelType</th>\n",
       "      <th>Brand</th>\n",
       "      <th>NotRepaired</th>\n",
       "    </tr>\n",
       "  </thead>\n",
       "  <tbody>\n",
       "    <tr>\n",
       "      <th>0</th>\n",
       "      <td>480</td>\n",
       "      <td>7</td>\n",
       "      <td>1993</td>\n",
       "      <td>1</td>\n",
       "      <td>101</td>\n",
       "      <td>116</td>\n",
       "      <td>150000</td>\n",
       "      <td>8</td>\n",
       "      <td>6</td>\n",
       "      <td>38</td>\n",
       "      <td>1</td>\n",
       "    </tr>\n",
       "    <tr>\n",
       "      <th>1</th>\n",
       "      <td>18300</td>\n",
       "      <td>2</td>\n",
       "      <td>2011</td>\n",
       "      <td>1</td>\n",
       "      <td>190</td>\n",
       "      <td>227</td>\n",
       "      <td>125000</td>\n",
       "      <td>5</td>\n",
       "      <td>2</td>\n",
       "      <td>1</td>\n",
       "      <td>2</td>\n",
       "    </tr>\n",
       "    <tr>\n",
       "      <th>2</th>\n",
       "      <td>9800</td>\n",
       "      <td>6</td>\n",
       "      <td>2004</td>\n",
       "      <td>0</td>\n",
       "      <td>163</td>\n",
       "      <td>117</td>\n",
       "      <td>125000</td>\n",
       "      <td>8</td>\n",
       "      <td>2</td>\n",
       "      <td>14</td>\n",
       "      <td>1</td>\n",
       "    </tr>\n",
       "    <tr>\n",
       "      <th>3</th>\n",
       "      <td>1500</td>\n",
       "      <td>5</td>\n",
       "      <td>2001</td>\n",
       "      <td>1</td>\n",
       "      <td>75</td>\n",
       "      <td>116</td>\n",
       "      <td>150000</td>\n",
       "      <td>6</td>\n",
       "      <td>6</td>\n",
       "      <td>38</td>\n",
       "      <td>0</td>\n",
       "    </tr>\n",
       "    <tr>\n",
       "      <th>4</th>\n",
       "      <td>3600</td>\n",
       "      <td>5</td>\n",
       "      <td>2008</td>\n",
       "      <td>1</td>\n",
       "      <td>69</td>\n",
       "      <td>101</td>\n",
       "      <td>90000</td>\n",
       "      <td>7</td>\n",
       "      <td>2</td>\n",
       "      <td>31</td>\n",
       "      <td>0</td>\n",
       "    </tr>\n",
       "  </tbody>\n",
       "</table>\n",
       "</div>"
      ],
      "text/plain": [
       "   Price  VehicleType  RegistrationYear  Gearbox  Power  Model  Kilometer  \\\n",
       "0    480            7              1993        1    101    116     150000   \n",
       "1  18300            2              2011        1    190    227     125000   \n",
       "2   9800            6              2004        0    163    117     125000   \n",
       "3   1500            5              2001        1     75    116     150000   \n",
       "4   3600            5              2008        1     69    101      90000   \n",
       "\n",
       "   RegistrationMonth  FuelType  Brand  NotRepaired  \n",
       "0                  8         6     38            1  \n",
       "1                  5         2      1            2  \n",
       "2                  8         2     14            1  \n",
       "3                  6         6     38            0  \n",
       "4                  7         2     31            0  "
      ]
     },
     "metadata": {},
     "output_type": "display_data"
    },
    {
     "data": {
      "text/plain": [
       "(317498, 11)"
      ]
     },
     "metadata": {},
     "output_type": "display_data"
    }
   ],
   "source": [
    "# преобразуем категориальные данные методом порядкового кодирования\n",
    "le = LabelEncoder()\n",
    "le_columns = ['VehicleType', 'Gearbox', 'FuelType', 'NotRepaired', 'Model', 'Brand']\n",
    "for x in le_columns:\n",
    "    data[x] = le.fit_transform(data[x])\n",
    "display(data.head(), data.shape)"
   ]
  },
  {
   "cell_type": "code",
   "execution_count": 49,
   "id": "a7dc9211",
   "metadata": {
    "scrolled": true
   },
   "outputs": [
    {
     "data": {
      "text/plain": [
       "(238123, 10)"
      ]
     },
     "metadata": {},
     "output_type": "display_data"
    },
    {
     "data": {
      "text/plain": [
       "(79375, 10)"
      ]
     },
     "metadata": {},
     "output_type": "display_data"
    }
   ],
   "source": [
    "# разделим на выборки\n",
    "X = data.drop(['Price'], axis = 1)\n",
    "y = data['Price']\n",
    "features_train, features_test, target_train, target_test = train_test_split(X, y, test_size=0.25, random_state=12345)\n",
    "display(features_train.shape, features_test.shape)"
   ]
  },
  {
   "cell_type": "markdown",
   "id": "640db059",
   "metadata": {},
   "source": [
    "* Выделили features и target. Разбили датасет на train и test"
   ]
  },
  {
   "cell_type": "code",
   "execution_count": 50,
   "id": "09897985",
   "metadata": {
    "scrolled": true
   },
   "outputs": [
    {
     "data": {
      "image/png": "[encoded data removed]",
      "text/plain": [
       "<Figure size 432x288 with 1 Axes>"
      ]
     },
     "metadata": {
      "needs_background": "light"
     },
     "output_type": "display_data"
    },
    {
     "data": {
      "text/plain": [
       "count    317498.000000\n",
       "mean       4720.260313\n",
       "std        4562.137283\n",
       "min         101.000000\n",
       "25%        1290.000000\n",
       "50%        2999.000000\n",
       "75%        6800.000000\n",
       "max       20000.000000\n",
       "Name: Price, dtype: float64"
      ]
     },
     "metadata": {},
     "output_type": "display_data"
    }
   ],
   "source": [
    "sns.distplot(y)\n",
    "plt.show()\n",
    "display(y.describe())"
   ]
  },
  {
   "cell_type": "code",
   "execution_count": 51,
   "id": "7ade181f",
   "metadata": {},
   "outputs": [],
   "source": [
    "def learn_time(model, x_train, y_train):\n",
    "    start = time.time()\n",
    "    model.fit(x_train, y_train)\n",
    "    end = time.time()\n",
    "    time_fit = end - start\n",
    "    return time_fit, model"
   ]
  },
  {
   "cell_type": "code",
   "execution_count": 52,
   "id": "cbf335f7",
   "metadata": {},
   "outputs": [],
   "source": [
    "def predict_time(model, x_test):\n",
    "    start = time.time()\n",
    "    predict = model.predict(x_test)\n",
    "    end = time.time()\n",
    "    time_predict = end - start\n",
    "    return time_predict, predict"
   ]
  },
  {
   "cell_type": "code",
   "execution_count": 53,
   "id": "2b78a117",
   "metadata": {},
   "outputs": [
    {
     "data": {
      "text/html": [
       "<div>\n",
       "<style scoped>\n",
       "    .dataframe tbody tr th:only-of-type {\n",
       "        vertical-align: middle;\n",
       "    }\n",
       "\n",
       "    .dataframe tbody tr th {\n",
       "        vertical-align: top;\n",
       "    }\n",
       "\n",
       "    .dataframe thead th {\n",
       "        text-align: right;\n",
       "    }\n",
       "</style>\n",
       "<table border=\"1\" class=\"dataframe\">\n",
       "  <thead>\n",
       "    <tr style=\"text-align: right;\">\n",
       "      <th></th>\n",
       "      <th>RMSE</th>\n",
       "      <th>Fit time</th>\n",
       "      <th>Predict time</th>\n",
       "    </tr>\n",
       "  </thead>\n",
       "  <tbody>\n",
       "  </tbody>\n",
       "</table>\n",
       "</div>"
      ],
      "text/plain": [
       "Empty DataFrame\n",
       "Columns: [RMSE, Fit time, Predict time]\n",
       "Index: []"
      ]
     },
     "metadata": {},
     "output_type": "display_data"
    }
   ],
   "source": [
    "data_result = pd.DataFrame(columns = ['RMSE', 'Fit time', 'Predict time'])\n",
    "display(data_result)"
   ]
  },
  {
   "cell_type": "code",
   "execution_count": 54,
   "id": "d06d77cf",
   "metadata": {},
   "outputs": [],
   "source": [
    "def data_metrics(RMSE, l_time, p_time, model_name, df):\n",
    "    df.loc[model_name, 'RMSE'] = round(RMSE, 4)\n",
    "    df.loc[model_name, 'Fit time'] = round(l_time, 4)\n",
    "    df.loc[model_name, 'Predict time'] = round(p_time, 4)\n",
    "    return df"
   ]
  },
  {
   "cell_type": "markdown",
   "id": "f0663a79",
   "metadata": {},
   "source": [
    "* Здесь мы выполним настройку моделей."
   ]
  },
  {
   "cell_type": "markdown",
   "id": "e412d885",
   "metadata": {},
   "source": [
    "### Линейная регрессия"
   ]
  },
  {
   "cell_type": "code",
   "execution_count": 55,
   "metadata": {},
   "outputs": [
    {
     "data": {
      "text/html": [
       "<div>\n",
       "<style scoped>\n",
       "    .dataframe tbody tr th:only-of-type {\n",
       "        vertical-align: middle;\n",
       "    }\n",
       "\n",
       "    .dataframe tbody tr th {\n",
       "        vertical-align: top;\n",
       "    }\n",
       "\n",
       "    .dataframe thead th {\n",
       "        text-align: right;\n",
       "    }\n",
       "</style>\n",
       "<table border=\"1\" class=\"dataframe\">\n",
       "  <thead>\n",
       "    <tr style=\"text-align: right;\">\n",
       "      <th></th>\n",
       "      <th>RMSE</th>\n",
       "      <th>Fit time</th>\n",
       "      <th>Predict time</th>\n",
       "    </tr>\n",
       "  </thead>\n",
       "  <tbody>\n",
       "    <tr>\n",
       "      <th>LinearRegression</th>\n",
       "      <td>2587.0286</td>\n",
       "      <td>98.3753</td>\n",
       "      <td>0.09</td>\n",
       "    </tr>\n",
       "  </tbody>\n",
       "</table>\n",
       "</div>"
      ],
      "text/plain": [
       "                       RMSE Fit time Predict time\n",
       "LinearRegression  2587.0286  98.3753         0.09"
      ]
     },
     "metadata": {},
     "output_type": "display_data"
    }
   ],
   "source": [
    "LR_learn_time, LR_model = learn_time(LinearRegression(), features_train_lr, target_train_lr)\n",
    "LR_pred_time, LR_predict = predict_time(LR_model, features_test_lr)\n",
    "LR_RMSE = np.sqrt(mean_squared_error(target_test_lr, LR_predict))\n",
    "display(data_metrics(LR_RMSE, LR_learn_time, LR_pred_time, 'LinearRegression', data_result))"
   ]
  },
  {
   "cell_type": "markdown",
   "id": "0038c14b",
   "metadata": {},
   "source": [
    "* Качество линейной регресии оставляет желать лучшего."
   ]
  },
  {
   "cell_type": "markdown",
   "id": "4b2aa7fc",
   "metadata": {},
   "source": [
    "### DecisionTree"
   ]
  },
  {
   "cell_type": "code",
   "execution_count": 56,
   "id": "d82a3081",
   "metadata": {},
   "outputs": [],
   "source": [
    "mse = make_scorer(mean_squared_error,greater_is_better=False)\n",
    "\n",
    "def model_train(model, params, features, target):\n",
    "    start = time.time()\n",
    "    grid=(GridSearchCV(model,\n",
    "                     param_grid=params,\n",
    "                     scoring=mse,\n",
    "                     cv=5)\n",
    "         ).fit(features, target)\n",
    "    end = time.time()\n",
    "    print('Время CV', round(end-start, 4))\n",
    "    return grid.best_params_"
   ]
  },
  {
   "cell_type": "code",
   "execution_count": 57,
   "id": "1fb08be6",
   "metadata": {},
   "outputs": [
    {
     "data": {
      "text/plain": [
       "\"DT_params = {\\n            'max_depth' : range(2, 21, 3),\\n            'min_samples_leaf' : range (1,16,2),\\n            #'min_samples_split' : [2,4],\\n            'random_state' : [12345]\\n        }\\n\\ndisplay(model_train(DecisionTreeRegressor(), DT_params, features_train, target_train))\""
      ]
     },
     "execution_count": 57,
     "metadata": {},
     "output_type": "execute_result"
    }
   ],
   "source": [
    "\"\"\"DT_params = {\n",
    "            'max_depth' : range(2, 21, 3),\n",
    "            'min_samples_leaf' : range (1,16,2),\n",
    "            #'min_samples_split' : [2,4],\n",
    "            'random_state' : [12345]\n",
    "        }\n",
    "\n",
    "display(model_train(DecisionTreeRegressor(), DT_params, features_train, target_train))\"\"\""
   ]
  },
  {
   "cell_type": "code",
   "execution_count": 58,
   "id": "719c4711",
   "metadata": {},
   "outputs": [
    {
     "data": {
      "text/html": [
       "<div>\n",
       "<style scoped>\n",
       "    .dataframe tbody tr th:only-of-type {\n",
       "        vertical-align: middle;\n",
       "    }\n",
       "\n",
       "    .dataframe tbody tr th {\n",
       "        vertical-align: top;\n",
       "    }\n",
       "\n",
       "    .dataframe thead th {\n",
       "        text-align: right;\n",
       "    }\n",
       "</style>\n",
       "<table border=\"1\" class=\"dataframe\">\n",
       "  <thead>\n",
       "    <tr style=\"text-align: right;\">\n",
       "      <th></th>\n",
       "      <th>RMSE</th>\n",
       "      <th>Fit time</th>\n",
       "      <th>Predict time</th>\n",
       "    </tr>\n",
       "  </thead>\n",
       "  <tbody>\n",
       "    <tr>\n",
       "      <th>LinearRegression</th>\n",
       "      <td>2587.0286</td>\n",
       "      <td>98.3753</td>\n",
       "      <td>0.09</td>\n",
       "    </tr>\n",
       "    <tr>\n",
       "      <th>DecisionTree</th>\n",
       "      <td>1780.9681</td>\n",
       "      <td>0.9566</td>\n",
       "      <td>0.0207</td>\n",
       "    </tr>\n",
       "  </tbody>\n",
       "</table>\n",
       "</div>"
      ],
      "text/plain": [
       "                       RMSE Fit time Predict time\n",
       "LinearRegression  2587.0286  98.3753         0.09\n",
       "DecisionTree      1780.9681   0.9566       0.0207"
      ]
     },
     "metadata": {},
     "output_type": "display_data"
    }
   ],
   "source": [
    "tree_l_time, tree_model = learn_time(DecisionTreeRegressor(max_depth=20,\n",
    "                                                           min_samples_leaf=15,\n",
    "                                                           random_state=12345), features_train, target_train)\n",
    "tree_pred_time, tree_predict = predict_time(tree_model, features_test)\n",
    "tree_RMSE = np.sqrt(mean_squared_error(target_test, tree_predict))\n",
    "display(data_metrics(tree_RMSE, tree_l_time, tree_pred_time, 'DecisionTree', data_result))"
   ]
  },
  {
   "cell_type": "markdown",
   "id": "53a23527",
   "metadata": {},
   "source": [
    "### Random Forest"
   ]
  },
  {
   "cell_type": "code",
   "execution_count": 59,
   "id": "4e3b2dd6",
   "metadata": {},
   "outputs": [
    {
     "data": {
      "text/plain": [
       "\"RF_params = {\\n            'n_estimators' : range(10, 51, 10),\\n            'max_depth' : range(3, 16, 4),\\n            'random_state' : [12345]\\n        }\\n\\ndisplay(model_train(RandomForestRegressor(), RF_params, features_train, target_train))\""
      ]
     },
     "execution_count": 59,
     "metadata": {},
     "output_type": "execute_result"
    }
   ],
   "source": [
    "\"\"\"RF_params = {\n",
    "            'n_estimators' : range(10, 51, 10),\n",
    "            'max_depth' : range(3, 16, 4),\n",
    "            'random_state' : [12345]\n",
    "        }\n",
    "\n",
    "display(model_train(RandomForestRegressor(), RF_params, features_train, target_train))\"\"\""
   ]
  },
  {
   "cell_type": "code",
   "execution_count": 60,
   "id": "9020d2cb",
   "metadata": {
    "scrolled": true
   },
   "outputs": [
    {
     "data": {
      "text/html": [
       "<div>\n",
       "<style scoped>\n",
       "    .dataframe tbody tr th:only-of-type {\n",
       "        vertical-align: middle;\n",
       "    }\n",
       "\n",
       "    .dataframe tbody tr th {\n",
       "        vertical-align: top;\n",
       "    }\n",
       "\n",
       "    .dataframe thead th {\n",
       "        text-align: right;\n",
       "    }\n",
       "</style>\n",
       "<table border=\"1\" class=\"dataframe\">\n",
       "  <thead>\n",
       "    <tr style=\"text-align: right;\">\n",
       "      <th></th>\n",
       "      <th>RMSE</th>\n",
       "      <th>Fit time</th>\n",
       "      <th>Predict time</th>\n",
       "    </tr>\n",
       "  </thead>\n",
       "  <tbody>\n",
       "    <tr>\n",
       "      <th>LinearRegression</th>\n",
       "      <td>2587.0286</td>\n",
       "      <td>98.3753</td>\n",
       "      <td>0.09</td>\n",
       "    </tr>\n",
       "    <tr>\n",
       "      <th>DecisionTree</th>\n",
       "      <td>1780.9681</td>\n",
       "      <td>0.9566</td>\n",
       "      <td>0.0207</td>\n",
       "    </tr>\n",
       "    <tr>\n",
       "      <th>RandomForest</th>\n",
       "      <td>1625.5173</td>\n",
       "      <td>28.7472</td>\n",
       "      <td>0.8372</td>\n",
       "    </tr>\n",
       "  </tbody>\n",
       "</table>\n",
       "</div>"
      ],
      "text/plain": [
       "                       RMSE Fit time Predict time\n",
       "LinearRegression  2587.0286  98.3753         0.09\n",
       "DecisionTree      1780.9681   0.9566       0.0207\n",
       "RandomForest      1625.5173  28.7472       0.8372"
      ]
     },
     "metadata": {},
     "output_type": "display_data"
    }
   ],
   "source": [
    "RF_l_time, RF_model = learn_time(RandomForestRegressor(n_estimators=50,\n",
    "                                                       max_depth=15,\n",
    "                                                       random_state=12345), features_train, target_train)\n",
    "RF_pred_time, RF_predict = predict_time(RF_model, features_test)\n",
    "RF_RMSE = np.sqrt(mean_squared_error(target_test, RF_predict))\n",
    "display(data_metrics(RF_RMSE, RF_l_time, RF_pred_time, 'RandomForest', data_result))"
   ]
  },
  {
   "cell_type": "markdown",
   "id": "134c39c9",
   "metadata": {},
   "source": [
    "### Light GBM"
   ]
  },
  {
   "cell_type": "code",
   "execution_count": 61,
   "id": "8e8138b2",
   "metadata": {},
   "outputs": [],
   "source": [
    "cat_features = ['VehicleType', 'Gearbox', 'Model', 'FuelType', 'NotRepaired', 'Brand']"
   ]
  },
  {
   "cell_type": "code",
   "execution_count": 62,
   "id": "7f612309",
   "metadata": {},
   "outputs": [
    {
     "data": {
      "text/plain": [
       "\"LGB_params = {\\n            'n_estimators' : range(80, 121, 10),\\n            'max_depth' : range(3, 16, 3),\\n            'objective' : ['regression'],\\n            'metric' : ['rmse'],\\n            'random_state' : [12345]\\n        }\\n\\ndisplay(model_train(LGBMRegressor(), LGB_params, features_train, target_train))\""
      ]
     },
     "execution_count": 62,
     "metadata": {},
     "output_type": "execute_result"
    }
   ],
   "source": [
    "\"\"\"LGB_params = {\n",
    "            'n_estimators' : range(80, 121, 10),\n",
    "            'max_depth' : range(3, 16, 3),\n",
    "            'objective' : ['regression'],\n",
    "            'metric' : ['rmse'],\n",
    "            'random_state' : [12345]\n",
    "        }\n",
    "\n",
    "display(model_train(LGBMRegressor(), LGB_params, features_train, target_train))\"\"\""
   ]
  },
  {
   "cell_type": "code",
   "execution_count": 63,
   "id": "bd5f68b6",
   "metadata": {},
   "outputs": [
    {
     "data": {
      "text/html": [
       "<div>\n",
       "<style scoped>\n",
       "    .dataframe tbody tr th:only-of-type {\n",
       "        vertical-align: middle;\n",
       "    }\n",
       "\n",
       "    .dataframe tbody tr th {\n",
       "        vertical-align: top;\n",
       "    }\n",
       "\n",
       "    .dataframe thead th {\n",
       "        text-align: right;\n",
       "    }\n",
       "</style>\n",
       "<table border=\"1\" class=\"dataframe\">\n",
       "  <thead>\n",
       "    <tr style=\"text-align: right;\">\n",
       "      <th></th>\n",
       "      <th>RMSE</th>\n",
       "      <th>Fit time</th>\n",
       "      <th>Predict time</th>\n",
       "    </tr>\n",
       "  </thead>\n",
       "  <tbody>\n",
       "    <tr>\n",
       "      <th>LinearRegression</th>\n",
       "      <td>2587.0286</td>\n",
       "      <td>98.3753</td>\n",
       "      <td>0.09</td>\n",
       "    </tr>\n",
       "    <tr>\n",
       "      <th>DecisionTree</th>\n",
       "      <td>1780.9681</td>\n",
       "      <td>0.9566</td>\n",
       "      <td>0.0207</td>\n",
       "    </tr>\n",
       "    <tr>\n",
       "      <th>RandomForest</th>\n",
       "      <td>1625.5173</td>\n",
       "      <td>28.7472</td>\n",
       "      <td>0.8372</td>\n",
       "    </tr>\n",
       "    <tr>\n",
       "      <th>LGBMR</th>\n",
       "      <td>1595.8535</td>\n",
       "      <td>86.3494</td>\n",
       "      <td>1.0846</td>\n",
       "    </tr>\n",
       "  </tbody>\n",
       "</table>\n",
       "</div>"
      ],
      "text/plain": [
       "                       RMSE Fit time Predict time\n",
       "LinearRegression  2587.0286  98.3753         0.09\n",
       "DecisionTree      1780.9681   0.9566       0.0207\n",
       "RandomForest      1625.5173  28.7472       0.8372\n",
       "LGBMR             1595.8535  86.3494       1.0846"
      ]
     },
     "metadata": {},
     "output_type": "display_data"
    }
   ],
   "source": [
    "model_LGBMR = LGBMRegressor(max_depth=14, \n",
    "                            n_estimators=120, \n",
    "                            random_state=12345, \n",
    "                            objective='regression',\n",
    "                            #num_leaves=1400,\n",
    "                            metric='rmse')\n",
    "start_l = time.time()\n",
    "model_LGBMR.fit(features_train, target_train, categorical_feature=cat_features, verbose=10)\n",
    "end_l = time.time()\n",
    "LGBR_pred_time, LGBR_predict = predict_time(model_LGBMR, features_test)\n",
    "LGBR_RMSE = np.sqrt(mean_squared_error(target_test, LGBR_predict))\n",
    "display(data_metrics(LGBR_RMSE, round(end_l-start_l,4), LGBR_pred_time, 'LGBMR', data_result))"
   ]
  },
  {
   "cell_type": "code",
   "execution_count": 64,
   "id": "64b27f13",
   "metadata": {},
   "outputs": [
    {
     "data": {
      "text/plain": [
       "\"model_LGBMR = LGBMRegressor(max_depth=14, \\n                            n_estimators=120, \\n                            random_state=12345, \\n                            objective='regression',\\n                            #num_leaves=1400,\\n                            metric='rmse')\\nstart_l = time.time()\\nmodel_LGBMR.fit(features_train, target_train, categorical_feature=cat_features, verbose=10)\\nend_l = time.time()\\nLGBR_pred_time, LGBR_predict = predict_time(model_LGBMR, features_test)\\nLGBR_RMSE = np.sqrt(mean_squared_error(target_test, LGBR_predict))\\ndisplay(data_metrics(LGBR_RMSE, round(end_l-start_l,4), LGBR_pred_time, 'LGBMR', data_result))\""
      ]
     },
     "execution_count": 64,
     "metadata": {},
     "output_type": "execute_result"
    }
   ],
   "source": [
    "\"\"\"model_LGBMR = LGBMRegressor(max_depth=14, \n",
    "                            n_estimators=120, \n",
    "                            random_state=12345, \n",
    "                            objective='regression',\n",
    "                            #num_leaves=1400,\n",
    "                            metric='rmse')\n",
    "start_l = time.time()\n",
    "model_LGBMR.fit(features_train, target_train, categorical_feature=cat_features, verbose=10)\n",
    "end_l = time.time()\n",
    "LGBR_pred_time, LGBR_predict = predict_time(model_LGBMR, features_test)\n",
    "LGBR_RMSE = np.sqrt(mean_squared_error(target_test, LGBR_predict))\n",
    "display(data_metrics(LGBR_RMSE, round(end_l-start_l,4), LGBR_pred_time, 'LGBMR', data_result))\"\"\""
   ]
  },
  {
   "cell_type": "markdown",
   "metadata": {},
   "source": [
    "### CatBoost"
   ]
  },
  {
   "cell_type": "code",
   "execution_count": 65,
   "id": "a5bc64a1",
   "metadata": {},
   "outputs": [
    {
     "data": {
      "text/plain": [
       "\"CBR_params = {\\n            'n_estimators' : range(80, 121, 20),\\n            'max_depth' : range(4, 11, 2),\\n            'cat_features' : [cat_features],\\n            'random_state' : [12345]\\n        }\\n\\ndisplay(model_train(CatBoostRegressor(), CBR_params, features_train, target_train))\""
      ]
     },
     "execution_count": 65,
     "metadata": {},
     "output_type": "execute_result"
    }
   ],
   "source": [
    "\"\"\"CBR_params = {\n",
    "            'n_estimators' : range(80, 121, 20),\n",
    "            'max_depth' : range(4, 11, 2),\n",
    "            'cat_features' : [cat_features],\n",
    "            'random_state' : [12345]\n",
    "        }\n",
    "\n",
    "display(model_train(CatBoostRegressor(), CBR_params, features_train, target_train))\"\"\""
   ]
  },
  {
   "cell_type": "code",
   "execution_count": 66,
   "id": "57761795",
   "metadata": {
    "scrolled": true
   },
   "outputs": [
    {
     "data": {
      "text/plain": [
       "\"model_CBR = CatBoostRegressor(max_depth=10, \\n                            n_estimators=101, \\n                            random_state=12345,\\n                            cat_features=cat_features)\\nstart_l = time.time()\\nmodel_CBR.fit(features_train, target_train)\\nend_l = time.time()\\nCBR_pred_time, CBR_predict = predict_time(model_CBR, features_test)\\nCBR_RMSE = np.sqrt(mean_squared_error(target_test, CBR_predict))\\ndisplay(data_metrics(CBR_RMSE, round(end_l-start_l,4), CBR_pred_time, 'CBR', data_result))\""
      ]
     },
     "execution_count": 66,
     "metadata": {},
     "output_type": "execute_result"
    }
   ],
   "source": [
    "\"\"\"model_CBR = CatBoostRegressor(max_depth=10, \n",
    "                            n_estimators=101, \n",
    "                            random_state=12345,\n",
    "                            cat_features=cat_features)\n",
    "start_l = time.time()\n",
    "model_CBR.fit(features_train, target_train)\n",
    "end_l = time.time()\n",
    "CBR_pred_time, CBR_predict = predict_time(model_CBR, features_test)\n",
    "CBR_RMSE = np.sqrt(mean_squared_error(target_test, CBR_predict))\n",
    "display(data_metrics(CBR_RMSE, round(end_l-start_l,4), CBR_pred_time, 'CBR', data_result))\"\"\""
   ]
  },
  {
   "cell_type": "code",
   "execution_count": 67,
   "id": "0239c64b",
   "metadata": {
    "scrolled": true
   },
   "outputs": [
    {
     "name": "stdout",
     "output_type": "stream",
     "text": [
      "Learning rate set to 0.5\n",
      "0:\tlearn: 3054.4646076\ttotal: 242ms\tremaining: 23.9s\n",
      "1:\tlearn: 2422.8823561\ttotal: 421ms\tremaining: 20.6s\n",
      "2:\tlearn: 2121.9740377\ttotal: 582ms\tremaining: 18.8s\n",
      "3:\tlearn: 1972.0655328\ttotal: 743ms\tremaining: 17.8s\n",
      "4:\tlearn: 1895.0579859\ttotal: 910ms\tremaining: 17.3s\n",
      "5:\tlearn: 1855.7104533\ttotal: 1.07s\tremaining: 16.8s\n",
      "6:\tlearn: 1823.6178425\ttotal: 1.23s\tremaining: 16.3s\n",
      "7:\tlearn: 1803.0381292\ttotal: 1.41s\tremaining: 16.2s\n",
      "8:\tlearn: 1784.7676609\ttotal: 1.6s\tremaining: 16.1s\n",
      "9:\tlearn: 1773.4798067\ttotal: 1.75s\tremaining: 15.8s\n",
      "10:\tlearn: 1750.9261896\ttotal: 1.9s\tremaining: 15.4s\n",
      "11:\tlearn: 1738.0823178\ttotal: 2.06s\tremaining: 15.1s\n",
      "12:\tlearn: 1730.7171544\ttotal: 2.22s\tremaining: 14.9s\n",
      "13:\tlearn: 1722.7342025\ttotal: 2.39s\tremaining: 14.7s\n",
      "14:\tlearn: 1708.4455190\ttotal: 2.54s\tremaining: 14.4s\n",
      "15:\tlearn: 1695.0363935\ttotal: 2.7s\tremaining: 14.2s\n",
      "16:\tlearn: 1684.7051704\ttotal: 2.85s\tremaining: 13.9s\n",
      "17:\tlearn: 1678.9424233\ttotal: 3.01s\tremaining: 13.7s\n",
      "18:\tlearn: 1671.4185233\ttotal: 3.16s\tremaining: 13.5s\n",
      "19:\tlearn: 1660.7121992\ttotal: 3.31s\tremaining: 13.3s\n",
      "20:\tlearn: 1651.5012024\ttotal: 3.48s\tremaining: 13.1s\n",
      "21:\tlearn: 1642.1213397\ttotal: 3.66s\tremaining: 13s\n",
      "22:\tlearn: 1636.6068153\ttotal: 3.82s\tremaining: 12.8s\n",
      "23:\tlearn: 1631.5975400\ttotal: 3.98s\tremaining: 12.6s\n",
      "24:\tlearn: 1626.8407256\ttotal: 4.13s\tremaining: 12.4s\n",
      "25:\tlearn: 1614.8659702\ttotal: 4.29s\tremaining: 12.2s\n",
      "26:\tlearn: 1609.8281105\ttotal: 4.45s\tremaining: 12s\n",
      "27:\tlearn: 1604.9999774\ttotal: 4.6s\tremaining: 11.8s\n",
      "28:\tlearn: 1599.8717321\ttotal: 4.75s\tremaining: 11.6s\n",
      "29:\tlearn: 1593.5354262\ttotal: 4.91s\tremaining: 11.4s\n",
      "30:\tlearn: 1588.4557249\ttotal: 5.07s\tremaining: 11.3s\n",
      "31:\tlearn: 1584.7704167\ttotal: 5.23s\tremaining: 11.1s\n",
      "32:\tlearn: 1580.4346726\ttotal: 5.39s\tremaining: 10.9s\n",
      "33:\tlearn: 1575.7189445\ttotal: 5.54s\tremaining: 10.8s\n",
      "34:\tlearn: 1571.6348544\ttotal: 5.7s\tremaining: 10.6s\n",
      "35:\tlearn: 1567.9753977\ttotal: 5.85s\tremaining: 10.4s\n",
      "36:\tlearn: 1563.7586293\ttotal: 6s\tremaining: 10.2s\n",
      "37:\tlearn: 1558.8261875\ttotal: 6.15s\tremaining: 10s\n",
      "38:\tlearn: 1554.6893864\ttotal: 6.3s\tremaining: 9.85s\n",
      "39:\tlearn: 1550.9942889\ttotal: 6.45s\tremaining: 9.68s\n",
      "40:\tlearn: 1548.6068749\ttotal: 6.61s\tremaining: 9.51s\n",
      "41:\tlearn: 1544.8718040\ttotal: 6.76s\tremaining: 9.33s\n",
      "42:\tlearn: 1542.6815755\ttotal: 6.94s\tremaining: 9.2s\n",
      "43:\tlearn: 1537.9791148\ttotal: 7.09s\tremaining: 9.03s\n",
      "44:\tlearn: 1535.8228397\ttotal: 7.25s\tremaining: 8.86s\n",
      "45:\tlearn: 1534.2249614\ttotal: 7.4s\tremaining: 8.68s\n",
      "46:\tlearn: 1530.9958502\ttotal: 7.54s\tremaining: 8.51s\n",
      "47:\tlearn: 1528.5542171\ttotal: 7.69s\tremaining: 8.33s\n",
      "48:\tlearn: 1525.3149961\ttotal: 7.86s\tremaining: 8.18s\n",
      "49:\tlearn: 1522.8747411\ttotal: 8.02s\tremaining: 8.02s\n",
      "50:\tlearn: 1518.6982234\ttotal: 8.17s\tremaining: 7.85s\n",
      "51:\tlearn: 1515.3261789\ttotal: 8.34s\tremaining: 7.7s\n",
      "52:\tlearn: 1511.9890750\ttotal: 8.5s\tremaining: 7.54s\n",
      "53:\tlearn: 1509.4684555\ttotal: 8.65s\tremaining: 7.37s\n",
      "54:\tlearn: 1507.2071540\ttotal: 8.82s\tremaining: 7.22s\n",
      "55:\tlearn: 1505.2057812\ttotal: 8.98s\tremaining: 7.05s\n",
      "56:\tlearn: 1503.4087589\ttotal: 9.13s\tremaining: 6.88s\n",
      "57:\tlearn: 1499.8840582\ttotal: 9.28s\tremaining: 6.72s\n",
      "58:\tlearn: 1498.1195963\ttotal: 9.45s\tremaining: 6.56s\n",
      "59:\tlearn: 1496.0918929\ttotal: 9.6s\tremaining: 6.4s\n",
      "60:\tlearn: 1493.6415190\ttotal: 9.76s\tremaining: 6.24s\n",
      "61:\tlearn: 1492.2744312\ttotal: 9.92s\tremaining: 6.08s\n",
      "62:\tlearn: 1491.0999771\ttotal: 10.1s\tremaining: 5.92s\n",
      "63:\tlearn: 1489.4437833\ttotal: 10.2s\tremaining: 5.76s\n",
      "64:\tlearn: 1485.7243609\ttotal: 10.4s\tremaining: 5.6s\n",
      "65:\tlearn: 1481.7662684\ttotal: 10.5s\tremaining: 5.43s\n",
      "66:\tlearn: 1478.6431060\ttotal: 10.7s\tremaining: 5.27s\n",
      "67:\tlearn: 1477.3163806\ttotal: 10.9s\tremaining: 5.11s\n",
      "68:\tlearn: 1476.2641033\ttotal: 11s\tremaining: 4.94s\n",
      "69:\tlearn: 1474.8590326\ttotal: 11.1s\tremaining: 4.78s\n",
      "70:\tlearn: 1472.0132055\ttotal: 11.3s\tremaining: 4.63s\n",
      "71:\tlearn: 1469.9452115\ttotal: 11.6s\tremaining: 4.49s\n",
      "72:\tlearn: 1467.4363175\ttotal: 11.7s\tremaining: 4.34s\n",
      "73:\tlearn: 1465.6282696\ttotal: 11.9s\tremaining: 4.17s\n",
      "74:\tlearn: 1463.4254952\ttotal: 12s\tremaining: 4.01s\n",
      "75:\tlearn: 1461.0974457\ttotal: 12.2s\tremaining: 3.85s\n",
      "76:\tlearn: 1459.1021035\ttotal: 12.4s\tremaining: 3.69s\n",
      "77:\tlearn: 1456.0685817\ttotal: 12.5s\tremaining: 3.53s\n",
      "78:\tlearn: 1454.2712652\ttotal: 12.7s\tremaining: 3.37s\n",
      "79:\tlearn: 1452.0759844\ttotal: 12.8s\tremaining: 3.21s\n",
      "80:\tlearn: 1451.6384084\ttotal: 13s\tremaining: 3.05s\n",
      "81:\tlearn: 1450.6185537\ttotal: 13.1s\tremaining: 2.88s\n",
      "82:\tlearn: 1449.0712203\ttotal: 13.3s\tremaining: 2.73s\n",
      "83:\tlearn: 1447.6478827\ttotal: 13.5s\tremaining: 2.56s\n",
      "84:\tlearn: 1446.8423551\ttotal: 13.6s\tremaining: 2.41s\n",
      "85:\tlearn: 1446.0750052\ttotal: 13.8s\tremaining: 2.25s\n",
      "86:\tlearn: 1442.9728126\ttotal: 14s\tremaining: 2.09s\n",
      "87:\tlearn: 1442.0277708\ttotal: 14.1s\tremaining: 1.93s\n",
      "88:\tlearn: 1439.7305881\ttotal: 14.3s\tremaining: 1.77s\n",
      "89:\tlearn: 1439.5726076\ttotal: 14.4s\tremaining: 1.6s\n",
      "90:\tlearn: 1437.8464394\ttotal: 14.6s\tremaining: 1.44s\n",
      "91:\tlearn: 1437.8324426\ttotal: 14.7s\tremaining: 1.28s\n",
      "92:\tlearn: 1436.0240996\ttotal: 14.8s\tremaining: 1.12s\n",
      "93:\tlearn: 1434.9616732\ttotal: 15s\tremaining: 958ms\n",
      "94:\tlearn: 1431.3471417\ttotal: 15.2s\tremaining: 798ms\n",
      "95:\tlearn: 1430.0543341\ttotal: 15.3s\tremaining: 638ms\n",
      "96:\tlearn: 1428.7524487\ttotal: 15.5s\tremaining: 479ms\n",
      "97:\tlearn: 1426.4814737\ttotal: 15.6s\tremaining: 319ms\n",
      "98:\tlearn: 1423.6691307\ttotal: 15.8s\tremaining: 160ms\n",
      "99:\tlearn: 1422.1731350\ttotal: 16s\tremaining: 0us\n"
     ]
    },
    {
     "data": {
      "text/html": [
       "<div>\n",
       "<style scoped>\n",
       "    .dataframe tbody tr th:only-of-type {\n",
       "        vertical-align: middle;\n",
       "    }\n",
       "\n",
       "    .dataframe tbody tr th {\n",
       "        vertical-align: top;\n",
       "    }\n",
       "\n",
       "    .dataframe thead th {\n",
       "        text-align: right;\n",
       "    }\n",
       "</style>\n",
       "<table border=\"1\" class=\"dataframe\">\n",
       "  <thead>\n",
       "    <tr style=\"text-align: right;\">\n",
       "      <th></th>\n",
       "      <th>RMSE</th>\n",
       "      <th>Fit time</th>\n",
       "      <th>Predict time</th>\n",
       "    </tr>\n",
       "  </thead>\n",
       "  <tbody>\n",
       "    <tr>\n",
       "      <th>LinearRegression</th>\n",
       "      <td>2587.0286</td>\n",
       "      <td>98.3753</td>\n",
       "      <td>0.09</td>\n",
       "    </tr>\n",
       "    <tr>\n",
       "      <th>DecisionTree</th>\n",
       "      <td>1780.9681</td>\n",
       "      <td>0.9566</td>\n",
       "      <td>0.0207</td>\n",
       "    </tr>\n",
       "    <tr>\n",
       "      <th>RandomForest</th>\n",
       "      <td>1625.5173</td>\n",
       "      <td>28.7472</td>\n",
       "      <td>0.8372</td>\n",
       "    </tr>\n",
       "    <tr>\n",
       "      <th>LGBMR</th>\n",
       "      <td>1595.8535</td>\n",
       "      <td>86.3494</td>\n",
       "      <td>1.0846</td>\n",
       "    </tr>\n",
       "    <tr>\n",
       "      <th>CatBoost</th>\n",
       "      <td>1596.2783</td>\n",
       "      <td>17.1924</td>\n",
       "      <td>0.1369</td>\n",
       "    </tr>\n",
       "  </tbody>\n",
       "</table>\n",
       "</div>"
      ],
      "text/plain": [
       "                       RMSE Fit time Predict time\n",
       "LinearRegression  2587.0286  98.3753         0.09\n",
       "DecisionTree      1780.9681   0.9566       0.0207\n",
       "RandomForest      1625.5173  28.7472       0.8372\n",
       "LGBMR             1595.8535  86.3494       1.0846\n",
       "CatBoost          1596.2783  17.1924       0.1369"
      ]
     },
     "metadata": {},
     "output_type": "display_data"
    }
   ],
   "source": [
    "CAT_l_time, CAT_model = learn_time(CatBoostRegressor(n_estimators=100,\n",
    "                                                     max_depth=10,\n",
    "                                                     cat_features=cat_features,\n",
    "                                                     random_state= 12345), features_train, target_train)\n",
    "CAT_pred_time, CAT_predict = predict_time(CAT_model, features_test)\n",
    "CAT_RMSE = np.sqrt(mean_squared_error(target_test, CAT_predict))\n",
    "display(data_metrics(CAT_RMSE, CAT_l_time, CAT_pred_time, 'CatBoost', data_result))"
   ]
  },
  {
   "cell_type": "markdown",
   "metadata": {},
   "source": [
    "## Анализ моделей"
   ]
  },
  {
   "cell_type": "code",
   "execution_count": 68,
   "id": "d470ce11",
   "metadata": {},
   "outputs": [],
   "source": [
    "y_hat = y.copy()\n",
    "y_hat.loc[:] = y.mean()\n",
    "const_RMSE = np.sqrt(mean_squared_error(y, y_hat))"
   ]
  },
  {
   "cell_type": "code",
   "execution_count": 69,
   "id": "0c1dba5c",
   "metadata": {
    "scrolled": true
   },
   "outputs": [
    {
     "data": {
      "text/html": [
       "<div>\n",
       "<style scoped>\n",
       "    .dataframe tbody tr th:only-of-type {\n",
       "        vertical-align: middle;\n",
       "    }\n",
       "\n",
       "    .dataframe tbody tr th {\n",
       "        vertical-align: top;\n",
       "    }\n",
       "\n",
       "    .dataframe thead th {\n",
       "        text-align: right;\n",
       "    }\n",
       "</style>\n",
       "<table border=\"1\" class=\"dataframe\">\n",
       "  <thead>\n",
       "    <tr style=\"text-align: right;\">\n",
       "      <th></th>\n",
       "      <th>RMSE</th>\n",
       "      <th>Fit time</th>\n",
       "      <th>Predict time</th>\n",
       "    </tr>\n",
       "  </thead>\n",
       "  <tbody>\n",
       "    <tr>\n",
       "      <th>LinearRegression</th>\n",
       "      <td>2587.0286</td>\n",
       "      <td>98.3753</td>\n",
       "      <td>0.09</td>\n",
       "    </tr>\n",
       "    <tr>\n",
       "      <th>DecisionTree</th>\n",
       "      <td>1780.9681</td>\n",
       "      <td>0.9566</td>\n",
       "      <td>0.0207</td>\n",
       "    </tr>\n",
       "    <tr>\n",
       "      <th>RandomForest</th>\n",
       "      <td>1625.5173</td>\n",
       "      <td>28.7472</td>\n",
       "      <td>0.8372</td>\n",
       "    </tr>\n",
       "    <tr>\n",
       "      <th>LGBMR</th>\n",
       "      <td>1595.8535</td>\n",
       "      <td>86.3494</td>\n",
       "      <td>1.0846</td>\n",
       "    </tr>\n",
       "    <tr>\n",
       "      <th>CatBoost</th>\n",
       "      <td>1596.2783</td>\n",
       "      <td>17.1924</td>\n",
       "      <td>0.1369</td>\n",
       "    </tr>\n",
       "    <tr>\n",
       "      <th>Const</th>\n",
       "      <td>4562.1301</td>\n",
       "      <td>0</td>\n",
       "      <td>0</td>\n",
       "    </tr>\n",
       "  </tbody>\n",
       "</table>\n",
       "</div>"
      ],
      "text/plain": [
       "                       RMSE Fit time Predict time\n",
       "LinearRegression  2587.0286  98.3753         0.09\n",
       "DecisionTree      1780.9681   0.9566       0.0207\n",
       "RandomForest      1625.5173  28.7472       0.8372\n",
       "LGBMR             1595.8535  86.3494       1.0846\n",
       "CatBoost          1596.2783  17.1924       0.1369\n",
       "Const             4562.1301        0            0"
      ]
     },
     "metadata": {},
     "output_type": "display_data"
    }
   ],
   "source": [
    "display(data_metrics(const_RMSE, 0, 0, 'Const', data_result))"
   ]
  },
  {
   "cell_type": "markdown",
   "id": "cee2b037",
   "metadata": {},
   "source": [
    "* Наши модели предсказывают лучше константной, что радует. Самая лучшая модель по параметрам RMSE, время обучения и время предсказания - LightGBM."
   ]
  },
  {
   "cell_type": "markdown",
   "metadata": {},
   "source": [
    "## Общий вывод"
   ]
  },
  {
   "cell_type": "markdown",
   "metadata": {},
   "source": [
    "По итогу проекта:\n",
    "* Былb загружены и обработаны данные.\n",
    "* Были обучены разные модели, для каждой из которых были подобраны различные гиперпараметры.\n",
    "* Был произведен анализ итоговых параметров моделей, где LightGBM показала наилучшие результаты, удовлетворяющие уcловиям проекта."
   ]
  }
 ],
 "metadata": {
  "ExecuteTimeLog": [
   {
    "duration": 1804,
    "start_time": "2022-07-13T12:47:29.717Z"
   },
   {
    "duration": 3054,
    "start_time": "2022-07-13T12:47:31.523Z"
   },
   {
    "duration": 401,
    "start_time": "2022-07-13T12:47:34.579Z"
   },
   {
    "duration": 21,
    "start_time": "2022-07-13T12:47:34.982Z"
   },
   {
    "duration": 420,
    "start_time": "2022-07-13T12:47:35.005Z"
   },
   {
    "duration": 7,
    "start_time": "2022-07-13T12:47:35.427Z"
   },
   {
    "duration": 44,
    "start_time": "2022-07-13T12:47:35.436Z"
   },
   {
    "duration": 17,
    "start_time": "2022-07-13T12:47:35.482Z"
   },
   {
    "duration": 177,
    "start_time": "2022-07-13T12:47:35.501Z"
   },
   {
    "duration": 1758,
    "start_time": "2022-07-13T12:47:35.681Z"
   },
   {
    "duration": 11,
    "start_time": "2022-07-13T12:47:37.441Z"
   },
   {
    "duration": 66,
    "start_time": "2022-07-13T12:47:37.454Z"
   },
   {
    "duration": 15,
    "start_time": "2022-07-13T12:47:37.521Z"
   },
   {
    "duration": 88,
    "start_time": "2022-07-13T12:47:37.537Z"
   },
   {
    "duration": 91,
    "start_time": "2022-07-13T12:47:37.627Z"
   },
   {
    "duration": 63,
    "start_time": "2022-07-13T12:47:37.719Z"
   },
   {
    "duration": 5,
    "start_time": "2022-07-13T12:47:37.797Z"
   },
   {
    "duration": 166,
    "start_time": "2022-07-13T12:47:37.803Z"
   },
   {
    "duration": 35,
    "start_time": "2022-07-13T12:47:37.970Z"
   },
   {
    "duration": 179,
    "start_time": "2022-07-13T12:47:38.007Z"
   },
   {
    "duration": 10,
    "start_time": "2022-07-13T12:47:38.188Z"
   },
   {
    "duration": 7,
    "start_time": "2022-07-13T12:47:38.200Z"
   },
   {
    "duration": 17,
    "start_time": "2022-07-13T12:47:38.209Z"
   },
   {
    "duration": 384,
    "start_time": "2022-07-13T12:47:38.228Z"
   },
   {
    "duration": 25,
    "start_time": "2022-07-13T12:47:38.614Z"
   },
   {
    "duration": 64,
    "start_time": "2022-07-13T12:47:38.640Z"
   },
   {
    "duration": 1578,
    "start_time": "2022-07-13T12:47:38.706Z"
   },
   {
    "duration": 25,
    "start_time": "2022-07-13T12:47:40.288Z"
   },
   {
    "duration": 1377,
    "start_time": "2022-07-13T12:47:40.314Z"
   },
   {
    "duration": 253,
    "start_time": "2022-07-13T12:47:41.693Z"
   },
   {
    "duration": 52,
    "start_time": "2022-07-13T12:47:41.948Z"
   },
   {
    "duration": 1393,
    "start_time": "2022-07-13T12:47:42.002Z"
   },
   {
    "duration": 9,
    "start_time": "2022-07-13T12:47:43.398Z"
   },
   {
    "duration": 62,
    "start_time": "2022-07-13T12:47:43.409Z"
   },
   {
    "duration": 1421,
    "start_time": "2022-07-13T12:47:43.473Z"
   },
   {
    "duration": 17,
    "start_time": "2022-07-13T12:47:44.898Z"
   },
   {
    "duration": 34,
    "start_time": "2022-07-13T12:47:44.917Z"
   },
   {
    "duration": 1440,
    "start_time": "2022-07-13T12:47:44.953Z"
   },
   {
    "duration": 154,
    "start_time": "2022-07-13T12:47:46.394Z"
   },
   {
    "duration": 31,
    "start_time": "2022-07-13T12:47:46.550Z"
   },
   {
    "duration": 64,
    "start_time": "2022-07-13T12:47:46.582Z"
   },
   {
    "duration": 125,
    "start_time": "2022-07-13T12:47:46.648Z"
   },
   {
    "duration": 165,
    "start_time": "2022-07-13T12:47:46.775Z"
   },
   {
    "duration": 239,
    "start_time": "2022-07-13T12:47:46.942Z"
   },
   {
    "duration": 65,
    "start_time": "2022-07-13T12:47:47.183Z"
   },
   {
    "duration": 1511,
    "start_time": "2022-07-13T12:47:47.250Z"
   },
   {
    "duration": 3,
    "start_time": "2022-07-13T12:47:48.762Z"
   },
   {
    "duration": 6,
    "start_time": "2022-07-13T12:47:48.767Z"
   },
   {
    "duration": 24,
    "start_time": "2022-07-13T12:47:48.775Z"
   },
   {
    "duration": 4,
    "start_time": "2022-07-13T12:47:48.801Z"
   },
   {
    "duration": 193,
    "start_time": "2022-07-13T12:47:48.806Z"
   },
   {
    "duration": 5,
    "start_time": "2022-07-13T12:47:49.004Z"
   },
   {
    "duration": 92,
    "start_time": "2022-07-13T12:47:49.011Z"
   },
   {
    "duration": 863,
    "start_time": "2022-07-13T12:47:49.105Z"
   },
   {
    "duration": 4,
    "start_time": "2022-07-13T12:47:49.969Z"
   },
   {
    "duration": 28072,
    "start_time": "2022-07-13T12:47:49.975Z"
   },
   {
    "duration": 2,
    "start_time": "2022-07-13T12:48:18.049Z"
   },
   {
    "duration": 25,
    "start_time": "2022-07-13T12:48:18.053Z"
   },
   {
    "duration": 36940,
    "start_time": "2022-07-13T12:48:18.080Z"
   },
   {
    "duration": 3,
    "start_time": "2022-07-13T12:48:55.022Z"
   },
   {
    "duration": 7,
    "start_time": "2022-07-13T12:48:55.027Z"
   },
   {
    "duration": 8,
    "start_time": "2022-07-13T12:48:55.036Z"
   },
   {
    "duration": 16629,
    "start_time": "2022-07-13T12:48:55.045Z"
   },
   {
    "duration": 7,
    "start_time": "2022-07-13T12:49:11.676Z"
   },
   {
    "duration": 17,
    "start_time": "2022-07-13T12:49:11.685Z"
   },
   {
    "duration": 1667,
    "start_time": "2022-07-13T12:59:44.743Z"
   },
   {
    "duration": 1111,
    "start_time": "2022-07-13T12:59:46.412Z"
   },
   {
    "duration": 388,
    "start_time": "2022-07-13T12:59:47.525Z"
   },
   {
    "duration": 16,
    "start_time": "2022-07-13T12:59:47.914Z"
   },
   {
    "duration": 465,
    "start_time": "2022-07-13T12:59:47.933Z"
   },
   {
    "duration": 11,
    "start_time": "2022-07-13T12:59:48.400Z"
   },
   {
    "duration": 44,
    "start_time": "2022-07-13T12:59:48.412Z"
   },
   {
    "duration": 9,
    "start_time": "2022-07-13T12:59:48.458Z"
   },
   {
    "duration": 194,
    "start_time": "2022-07-13T12:59:48.469Z"
   },
   {
    "duration": 1731,
    "start_time": "2022-07-13T12:59:48.664Z"
   },
   {
    "duration": 12,
    "start_time": "2022-07-13T12:59:50.398Z"
   },
   {
    "duration": 59,
    "start_time": "2022-07-13T12:59:50.412Z"
   },
   {
    "duration": 37,
    "start_time": "2022-07-13T12:59:50.473Z"
   },
   {
    "duration": 74,
    "start_time": "2022-07-13T12:59:50.513Z"
   },
   {
    "duration": 82,
    "start_time": "2022-07-13T12:59:50.597Z"
   },
   {
    "duration": 78,
    "start_time": "2022-07-13T12:59:50.681Z"
   },
   {
    "duration": 4,
    "start_time": "2022-07-13T12:59:50.761Z"
   },
   {
    "duration": 191,
    "start_time": "2022-07-13T12:59:50.766Z"
   },
   {
    "duration": 54,
    "start_time": "2022-07-13T12:59:50.960Z"
   },
   {
    "duration": 195,
    "start_time": "2022-07-13T12:59:51.016Z"
   },
   {
    "duration": 3,
    "start_time": "2022-07-13T12:59:51.213Z"
   },
   {
    "duration": 7,
    "start_time": "2022-07-13T12:59:51.218Z"
   },
   {
    "duration": 29,
    "start_time": "2022-07-13T12:59:51.228Z"
   },
   {
    "duration": 419,
    "start_time": "2022-07-13T12:59:51.259Z"
   },
   {
    "duration": 40,
    "start_time": "2022-07-13T12:59:51.680Z"
   },
   {
    "duration": 46,
    "start_time": "2022-07-13T12:59:51.723Z"
   },
   {
    "duration": 1606,
    "start_time": "2022-07-13T12:59:51.770Z"
   },
   {
    "duration": 32,
    "start_time": "2022-07-13T12:59:53.378Z"
   },
   {
    "duration": 1493,
    "start_time": "2022-07-13T12:59:53.412Z"
   },
   {
    "duration": 255,
    "start_time": "2022-07-13T12:59:54.907Z"
   },
   {
    "duration": 44,
    "start_time": "2022-07-13T12:59:55.164Z"
   },
   {
    "duration": 1637,
    "start_time": "2022-07-13T12:59:55.210Z"
   },
   {
    "duration": 11,
    "start_time": "2022-07-13T12:59:56.849Z"
   },
   {
    "duration": 103,
    "start_time": "2022-07-13T12:59:56.862Z"
   },
   {
    "duration": 1578,
    "start_time": "2022-07-13T12:59:56.970Z"
   },
   {
    "duration": 19,
    "start_time": "2022-07-13T12:59:58.552Z"
   },
   {
    "duration": 56,
    "start_time": "2022-07-13T12:59:58.573Z"
   },
   {
    "duration": 1417,
    "start_time": "2022-07-13T12:59:58.631Z"
   },
   {
    "duration": 175,
    "start_time": "2022-07-13T13:00:00.051Z"
   },
   {
    "duration": 34,
    "start_time": "2022-07-13T13:00:00.228Z"
   },
   {
    "duration": 72,
    "start_time": "2022-07-13T13:00:00.266Z"
   },
   {
    "duration": 122,
    "start_time": "2022-07-13T13:00:00.340Z"
   },
   {
    "duration": 154,
    "start_time": "2022-07-13T13:00:00.464Z"
   },
   {
    "duration": 210,
    "start_time": "2022-07-13T13:00:00.620Z"
   },
   {
    "duration": 68,
    "start_time": "2022-07-13T13:00:00.832Z"
   },
   {
    "duration": 1530,
    "start_time": "2022-07-13T13:00:00.902Z"
   },
   {
    "duration": 4,
    "start_time": "2022-07-13T13:00:02.434Z"
   },
   {
    "duration": 24,
    "start_time": "2022-07-13T13:00:02.440Z"
   },
   {
    "duration": 22,
    "start_time": "2022-07-13T13:00:02.466Z"
   },
   {
    "duration": 15,
    "start_time": "2022-07-13T13:00:02.490Z"
   },
   {
    "duration": 106,
    "start_time": "2022-07-13T13:00:02.507Z"
   },
   {
    "duration": 7,
    "start_time": "2022-07-13T13:00:02.700Z"
   },
   {
    "duration": 97,
    "start_time": "2022-07-13T13:00:02.710Z"
   },
   {
    "duration": 918,
    "start_time": "2022-07-13T13:00:02.809Z"
   },
   {
    "duration": 4,
    "start_time": "2022-07-13T13:00:03.728Z"
   },
   {
    "duration": 30255,
    "start_time": "2022-07-13T13:00:03.734Z"
   },
   {
    "duration": 7,
    "start_time": "2022-07-13T13:00:33.991Z"
   },
   {
    "duration": 13,
    "start_time": "2022-07-13T13:00:34.000Z"
   },
   {
    "duration": 145691,
    "start_time": "2022-07-13T13:00:34.016Z"
   },
   {
    "duration": 5,
    "start_time": "2022-07-13T13:02:59.709Z"
   },
   {
    "duration": 10,
    "start_time": "2022-07-13T13:02:59.716Z"
   },
   {
    "duration": 8,
    "start_time": "2022-07-13T13:02:59.729Z"
   },
   {
    "duration": 17470,
    "start_time": "2022-07-13T13:02:59.739Z"
   },
   {
    "duration": 8,
    "start_time": "2022-07-13T13:03:17.211Z"
   },
   {
    "duration": 16,
    "start_time": "2022-07-13T13:03:17.221Z"
   },
   {
    "duration": 1614,
    "start_time": "2022-07-13T13:46:04.007Z"
   },
   {
    "duration": 1077,
    "start_time": "2022-07-13T13:46:06.370Z"
   },
   {
    "duration": 402,
    "start_time": "2022-07-13T13:46:08.236Z"
   },
   {
    "duration": 16,
    "start_time": "2022-07-13T13:46:11.202Z"
   },
   {
    "duration": 14,
    "start_time": "2022-07-13T13:46:41.738Z"
   },
   {
    "duration": 384,
    "start_time": "2022-07-13T13:46:45.592Z"
   },
   {
    "duration": 385,
    "start_time": "2022-07-13T13:46:49.378Z"
   },
   {
    "duration": 384,
    "start_time": "2022-07-13T13:46:54.226Z"
   },
   {
    "duration": 384,
    "start_time": "2022-07-13T13:47:02.050Z"
   },
   {
    "duration": 373,
    "start_time": "2022-07-13T13:47:10.906Z"
   },
   {
    "duration": 395,
    "start_time": "2022-07-13T13:47:18.876Z"
   },
   {
    "duration": 388,
    "start_time": "2022-07-13T13:47:22.832Z"
   },
   {
    "duration": 372,
    "start_time": "2022-07-13T13:47:26.178Z"
   },
   {
    "duration": 409,
    "start_time": "2022-07-13T13:47:38.080Z"
   },
   {
    "duration": 376,
    "start_time": "2022-07-13T13:47:41.924Z"
   },
   {
    "duration": 397,
    "start_time": "2022-07-13T13:47:46.476Z"
   },
   {
    "duration": 385,
    "start_time": "2022-07-13T13:47:50.731Z"
   },
   {
    "duration": 384,
    "start_time": "2022-07-13T13:47:54.481Z"
   },
   {
    "duration": 381,
    "start_time": "2022-07-13T13:47:57.890Z"
   },
   {
    "duration": 385,
    "start_time": "2022-07-13T13:48:12.557Z"
   },
   {
    "duration": 416,
    "start_time": "2022-07-13T13:48:18.755Z"
   },
   {
    "duration": 417,
    "start_time": "2022-07-13T13:48:23.948Z"
   },
   {
    "duration": 392,
    "start_time": "2022-07-13T13:48:28.549Z"
   },
   {
    "duration": 9,
    "start_time": "2022-07-13T13:48:33.291Z"
   },
   {
    "duration": 49,
    "start_time": "2022-07-13T13:51:32.682Z"
   },
   {
    "duration": 3,
    "start_time": "2022-07-13T13:51:38.478Z"
   },
   {
    "duration": 187,
    "start_time": "2022-07-13T13:51:45.935Z"
   },
   {
    "duration": 1680,
    "start_time": "2022-07-13T13:51:57.239Z"
   },
   {
    "duration": 12,
    "start_time": "2022-07-13T13:52:18.179Z"
   },
   {
    "duration": 51,
    "start_time": "2022-07-13T13:52:23.853Z"
   },
   {
    "duration": 15,
    "start_time": "2022-07-13T13:52:25.743Z"
   },
   {
    "duration": 84,
    "start_time": "2022-07-13T13:52:28.582Z"
   },
   {
    "duration": 90,
    "start_time": "2022-07-13T13:52:35.577Z"
   },
   {
    "duration": 78,
    "start_time": "2022-07-13T13:52:43.695Z"
   },
   {
    "duration": 4,
    "start_time": "2022-07-13T13:53:01.392Z"
   },
   {
    "duration": 162,
    "start_time": "2022-07-13T13:53:03.103Z"
   },
   {
    "duration": 158,
    "start_time": "2022-07-13T13:53:34.781Z"
   },
   {
    "duration": 30,
    "start_time": "2022-07-13T13:53:44.933Z"
   },
   {
    "duration": 166,
    "start_time": "2022-07-13T13:53:48.144Z"
   },
   {
    "duration": 3,
    "start_time": "2022-07-13T13:53:51.528Z"
   },
   {
    "duration": 3,
    "start_time": "2022-07-13T13:53:57.648Z"
   },
   {
    "duration": 16,
    "start_time": "2022-07-13T13:53:59.125Z"
   },
   {
    "duration": 385,
    "start_time": "2022-07-13T13:54:01.449Z"
   },
   {
    "duration": 30,
    "start_time": "2022-07-13T13:54:03.144Z"
   },
   {
    "duration": 46,
    "start_time": "2022-07-13T13:54:05.000Z"
   },
   {
    "duration": 1563,
    "start_time": "2022-07-13T13:54:30.825Z"
   },
   {
    "duration": 22,
    "start_time": "2022-07-13T13:54:36.425Z"
   },
   {
    "duration": 1507,
    "start_time": "2022-07-13T13:54:38.799Z"
   },
   {
    "duration": 248,
    "start_time": "2022-07-13T13:54:49.986Z"
   },
   {
    "duration": 45,
    "start_time": "2022-07-13T13:54:57.081Z"
   },
   {
    "duration": 1414,
    "start_time": "2022-07-13T13:54:58.634Z"
   },
   {
    "duration": 9,
    "start_time": "2022-07-13T13:55:05.377Z"
   },
   {
    "duration": 62,
    "start_time": "2022-07-13T13:55:16.137Z"
   },
   {
    "duration": 1437,
    "start_time": "2022-07-13T13:55:23.794Z"
   },
   {
    "duration": 20,
    "start_time": "2022-07-13T13:55:48.774Z"
   },
   {
    "duration": 36,
    "start_time": "2022-07-13T13:55:51.194Z"
   },
   {
    "duration": 1498,
    "start_time": "2022-07-13T13:55:53.306Z"
   },
   {
    "duration": 148,
    "start_time": "2022-07-13T13:55:57.772Z"
   },
   {
    "duration": 31,
    "start_time": "2022-07-13T13:56:00.575Z"
   },
   {
    "duration": 50,
    "start_time": "2022-07-13T13:56:25.679Z"
   },
   {
    "duration": 99,
    "start_time": "2022-07-13T13:56:31.346Z"
   },
   {
    "duration": 135,
    "start_time": "2022-07-13T13:56:34.732Z"
   },
   {
    "duration": 192,
    "start_time": "2022-07-13T13:56:41.139Z"
   },
   {
    "duration": 55,
    "start_time": "2022-07-13T13:57:08.021Z"
   },
   {
    "duration": 1608,
    "start_time": "2022-07-13T13:57:28.301Z"
   },
   {
    "duration": 3,
    "start_time": "2022-07-13T13:57:33.717Z"
   },
   {
    "duration": 5,
    "start_time": "2022-07-13T13:57:36.592Z"
   },
   {
    "duration": 9,
    "start_time": "2022-07-13T13:57:38.288Z"
   },
   {
    "duration": 4,
    "start_time": "2022-07-13T13:57:42.341Z"
   },
   {
    "duration": 83,
    "start_time": "2022-07-13T13:58:22.127Z"
   },
   {
    "duration": 4,
    "start_time": "2022-07-13T13:58:44.225Z"
   },
   {
    "duration": 6,
    "start_time": "2022-07-13T13:58:50.209Z"
   },
   {
    "duration": 849,
    "start_time": "2022-07-13T13:58:57.083Z"
   },
   {
    "duration": 4,
    "start_time": "2022-07-13T13:59:06.546Z"
   },
   {
    "duration": 27173,
    "start_time": "2022-07-13T13:59:08.554Z"
   },
   {
    "duration": 3,
    "start_time": "2022-07-13T13:59:56.266Z"
   },
   {
    "duration": 4,
    "start_time": "2022-07-13T13:59:57.290Z"
   },
   {
    "duration": 8308,
    "start_time": "2022-07-13T14:00:08.194Z"
   },
   {
    "duration": 4,
    "start_time": "2022-07-13T14:00:18.627Z"
   },
   {
    "duration": 4,
    "start_time": "2022-07-13T14:00:20.403Z"
   },
   {
    "duration": 4,
    "start_time": "2022-07-13T14:00:22.269Z"
   },
   {
    "duration": 16907,
    "start_time": "2022-07-13T14:00:24.030Z"
   },
   {
    "duration": 7,
    "start_time": "2022-07-13T14:00:53.175Z"
   },
   {
    "duration": 8,
    "start_time": "2022-07-13T14:00:57.293Z"
   },
   {
    "duration": 111,
    "start_time": "2022-07-13T14:05:43.358Z"
   },
   {
    "duration": 162,
    "start_time": "2022-07-13T20:38:40.368Z"
   },
   {
    "duration": 23,
    "start_time": "2022-07-13T20:39:21.869Z"
   },
   {
    "duration": 87,
    "start_time": "2022-07-13T20:41:10.690Z"
   },
   {
    "duration": 108,
    "start_time": "2022-07-13T20:43:28.278Z"
   },
   {
    "duration": 3,
    "start_time": "2022-07-13T23:10:49.888Z"
   },
   {
    "duration": 10,
    "start_time": "2022-07-13T23:11:02.566Z"
   },
   {
    "duration": 8,
    "start_time": "2022-07-13T23:11:18.603Z"
   },
   {
    "duration": 53,
    "start_time": "2022-07-13T23:11:42.175Z"
   },
   {
    "duration": 60,
    "start_time": "2022-07-13T23:12:55.061Z"
   },
   {
    "duration": 1506,
    "start_time": "2022-07-13T23:12:58.593Z"
   },
   {
    "duration": 46,
    "start_time": "2022-07-13T23:13:45.334Z"
   },
   {
    "duration": 1586,
    "start_time": "2022-07-13T23:13:51.527Z"
   },
   {
    "duration": 1044,
    "start_time": "2022-07-13T23:13:53.115Z"
   },
   {
    "duration": 416,
    "start_time": "2022-07-13T23:13:54.161Z"
   },
   {
    "duration": 20,
    "start_time": "2022-07-13T23:13:54.579Z"
   },
   {
    "duration": 410,
    "start_time": "2022-07-13T23:13:54.600Z"
   },
   {
    "duration": 8,
    "start_time": "2022-07-13T23:13:55.012Z"
   },
   {
    "duration": 46,
    "start_time": "2022-07-13T23:13:55.022Z"
   },
   {
    "duration": 4,
    "start_time": "2022-07-13T23:13:55.070Z"
   },
   {
    "duration": 190,
    "start_time": "2022-07-13T23:13:55.098Z"
   },
   {
    "duration": 1744,
    "start_time": "2022-07-13T23:13:55.297Z"
   },
   {
    "duration": 15,
    "start_time": "2022-07-13T23:13:57.043Z"
   },
   {
    "duration": 71,
    "start_time": "2022-07-13T23:13:57.060Z"
   },
   {
    "duration": 15,
    "start_time": "2022-07-13T23:13:57.132Z"
   },
   {
    "duration": 88,
    "start_time": "2022-07-13T23:13:57.149Z"
   },
   {
    "duration": 89,
    "start_time": "2022-07-13T23:13:57.238Z"
   },
   {
    "duration": 73,
    "start_time": "2022-07-13T23:13:57.328Z"
   },
   {
    "duration": 4,
    "start_time": "2022-07-13T23:13:57.403Z"
   },
   {
    "duration": 168,
    "start_time": "2022-07-13T23:13:57.408Z"
   },
   {
    "duration": 36,
    "start_time": "2022-07-13T23:13:57.578Z"
   },
   {
    "duration": 192,
    "start_time": "2022-07-13T23:13:57.615Z"
   },
   {
    "duration": 3,
    "start_time": "2022-07-13T23:13:57.809Z"
   },
   {
    "duration": 9,
    "start_time": "2022-07-13T23:13:57.814Z"
   },
   {
    "duration": 24,
    "start_time": "2022-07-13T23:13:57.825Z"
   },
   {
    "duration": 387,
    "start_time": "2022-07-13T23:13:57.850Z"
   },
   {
    "duration": 26,
    "start_time": "2022-07-13T23:13:58.239Z"
   },
   {
    "duration": 64,
    "start_time": "2022-07-13T23:13:58.267Z"
   },
   {
    "duration": 1653,
    "start_time": "2022-07-13T23:13:58.333Z"
   },
   {
    "duration": 27,
    "start_time": "2022-07-13T23:13:59.990Z"
   },
   {
    "duration": 1498,
    "start_time": "2022-07-13T23:14:00.018Z"
   },
   {
    "duration": 270,
    "start_time": "2022-07-13T23:14:01.518Z"
   },
   {
    "duration": 48,
    "start_time": "2022-07-13T23:14:01.790Z"
   },
   {
    "duration": 1442,
    "start_time": "2022-07-13T23:14:01.840Z"
   },
   {
    "duration": 18,
    "start_time": "2022-07-13T23:14:03.283Z"
   },
   {
    "duration": 60,
    "start_time": "2022-07-13T23:14:03.303Z"
   },
   {
    "duration": 1469,
    "start_time": "2022-07-13T23:14:03.364Z"
   },
   {
    "duration": 20,
    "start_time": "2022-07-13T23:14:04.835Z"
   },
   {
    "duration": 55,
    "start_time": "2022-07-13T23:14:04.858Z"
   },
   {
    "duration": 1393,
    "start_time": "2022-07-13T23:14:04.914Z"
   },
   {
    "duration": 162,
    "start_time": "2022-07-13T23:14:06.308Z"
   },
   {
    "duration": 39,
    "start_time": "2022-07-13T23:14:06.472Z"
   },
   {
    "duration": 60,
    "start_time": "2022-07-13T23:14:06.513Z"
   },
   {
    "duration": 150,
    "start_time": "2022-07-13T23:14:06.575Z"
   },
   {
    "duration": 205,
    "start_time": "2022-07-13T23:14:06.728Z"
   },
   {
    "duration": 203,
    "start_time": "2022-07-13T23:14:06.936Z"
   },
   {
    "duration": 64,
    "start_time": "2022-07-13T23:14:07.141Z"
   },
   {
    "duration": 61,
    "start_time": "2022-07-13T23:14:07.207Z"
   },
   {
    "duration": 1492,
    "start_time": "2022-07-13T23:14:07.270Z"
   },
   {
    "duration": 4,
    "start_time": "2022-07-13T23:14:08.764Z"
   },
   {
    "duration": 15,
    "start_time": "2022-07-13T23:14:08.769Z"
   },
   {
    "duration": 24,
    "start_time": "2022-07-13T23:14:08.786Z"
   },
   {
    "duration": 13,
    "start_time": "2022-07-13T23:14:08.813Z"
   },
   {
    "duration": 176,
    "start_time": "2022-07-13T23:14:08.829Z"
   },
   {
    "duration": 6,
    "start_time": "2022-07-13T23:14:09.007Z"
   },
   {
    "duration": 19,
    "start_time": "2022-07-13T23:14:09.100Z"
   },
   {
    "duration": 874,
    "start_time": "2022-07-13T23:14:09.122Z"
   },
   {
    "duration": 4,
    "start_time": "2022-07-13T23:14:09.998Z"
   },
   {
    "duration": 29550,
    "start_time": "2022-07-13T23:14:10.004Z"
   },
   {
    "duration": 3,
    "start_time": "2022-07-13T23:14:39.556Z"
   },
   {
    "duration": 8,
    "start_time": "2022-07-13T23:14:39.561Z"
   },
   {
    "duration": 158,
    "start_time": "2022-07-13T23:14:39.572Z"
   },
   {
    "duration": 0,
    "start_time": "2022-07-13T23:14:39.733Z"
   },
   {
    "duration": 0,
    "start_time": "2022-07-13T23:14:39.734Z"
   },
   {
    "duration": 0,
    "start_time": "2022-07-13T23:14:39.736Z"
   },
   {
    "duration": 0,
    "start_time": "2022-07-13T23:14:39.737Z"
   },
   {
    "duration": 0,
    "start_time": "2022-07-13T23:14:39.739Z"
   },
   {
    "duration": 0,
    "start_time": "2022-07-13T23:14:39.741Z"
   },
   {
    "duration": 1563,
    "start_time": "2022-07-13T23:15:24.828Z"
   },
   {
    "duration": 1085,
    "start_time": "2022-07-13T23:15:26.393Z"
   },
   {
    "duration": 418,
    "start_time": "2022-07-13T23:15:27.483Z"
   },
   {
    "duration": 14,
    "start_time": "2022-07-13T23:15:27.903Z"
   },
   {
    "duration": 412,
    "start_time": "2022-07-13T23:15:27.919Z"
   },
   {
    "duration": 8,
    "start_time": "2022-07-13T23:15:28.332Z"
   },
   {
    "duration": 58,
    "start_time": "2022-07-13T23:15:28.341Z"
   },
   {
    "duration": 3,
    "start_time": "2022-07-13T23:15:28.401Z"
   },
   {
    "duration": 180,
    "start_time": "2022-07-13T23:15:28.406Z"
   },
   {
    "duration": 1701,
    "start_time": "2022-07-13T23:15:28.588Z"
   },
   {
    "duration": 18,
    "start_time": "2022-07-13T23:15:30.292Z"
   },
   {
    "duration": 56,
    "start_time": "2022-07-13T23:15:30.311Z"
   },
   {
    "duration": 32,
    "start_time": "2022-07-13T23:15:30.369Z"
   },
   {
    "duration": 82,
    "start_time": "2022-07-13T23:15:30.403Z"
   },
   {
    "duration": 91,
    "start_time": "2022-07-13T23:15:30.486Z"
   },
   {
    "duration": 73,
    "start_time": "2022-07-13T23:15:30.579Z"
   },
   {
    "duration": 5,
    "start_time": "2022-07-13T23:15:30.654Z"
   },
   {
    "duration": 183,
    "start_time": "2022-07-13T23:15:30.661Z"
   },
   {
    "duration": 31,
    "start_time": "2022-07-13T23:15:30.846Z"
   },
   {
    "duration": 182,
    "start_time": "2022-07-13T23:15:30.879Z"
   },
   {
    "duration": 3,
    "start_time": "2022-07-13T23:15:31.063Z"
   },
   {
    "duration": 9,
    "start_time": "2022-07-13T23:15:31.067Z"
   },
   {
    "duration": 31,
    "start_time": "2022-07-13T23:15:31.078Z"
   },
   {
    "duration": 368,
    "start_time": "2022-07-13T23:15:31.111Z"
   },
   {
    "duration": 36,
    "start_time": "2022-07-13T23:15:31.481Z"
   },
   {
    "duration": 47,
    "start_time": "2022-07-13T23:15:31.519Z"
   },
   {
    "duration": 1610,
    "start_time": "2022-07-13T23:15:31.572Z"
   },
   {
    "duration": 27,
    "start_time": "2022-07-13T23:15:33.184Z"
   },
   {
    "duration": 1402,
    "start_time": "2022-07-13T23:15:33.212Z"
   },
   {
    "duration": 264,
    "start_time": "2022-07-13T23:15:34.616Z"
   },
   {
    "duration": 52,
    "start_time": "2022-07-13T23:15:34.882Z"
   },
   {
    "duration": 1435,
    "start_time": "2022-07-13T23:15:34.936Z"
   },
   {
    "duration": 8,
    "start_time": "2022-07-13T23:15:36.373Z"
   },
   {
    "duration": 68,
    "start_time": "2022-07-13T23:15:36.383Z"
   },
   {
    "duration": 1484,
    "start_time": "2022-07-13T23:15:36.453Z"
   },
   {
    "duration": 20,
    "start_time": "2022-07-13T23:15:37.939Z"
   },
   {
    "duration": 70,
    "start_time": "2022-07-13T23:15:37.961Z"
   },
   {
    "duration": 1485,
    "start_time": "2022-07-13T23:15:38.033Z"
   },
   {
    "duration": 164,
    "start_time": "2022-07-13T23:15:39.520Z"
   },
   {
    "duration": 40,
    "start_time": "2022-07-13T23:15:39.686Z"
   },
   {
    "duration": 71,
    "start_time": "2022-07-13T23:15:39.728Z"
   },
   {
    "duration": 118,
    "start_time": "2022-07-13T23:15:39.801Z"
   },
   {
    "duration": 148,
    "start_time": "2022-07-13T23:15:39.921Z"
   },
   {
    "duration": 211,
    "start_time": "2022-07-13T23:15:40.071Z"
   },
   {
    "duration": 61,
    "start_time": "2022-07-13T23:15:40.284Z"
   },
   {
    "duration": 2,
    "start_time": "2022-07-13T23:15:40.347Z"
   },
   {
    "duration": 1533,
    "start_time": "2022-07-13T23:15:40.351Z"
   },
   {
    "duration": 11,
    "start_time": "2022-07-13T23:15:41.886Z"
   },
   {
    "duration": 4,
    "start_time": "2022-07-13T23:15:41.900Z"
   },
   {
    "duration": 12,
    "start_time": "2022-07-13T23:15:41.906Z"
   },
   {
    "duration": 8,
    "start_time": "2022-07-13T23:15:41.920Z"
   },
   {
    "duration": 194,
    "start_time": "2022-07-13T23:15:41.930Z"
   },
   {
    "duration": 4,
    "start_time": "2022-07-13T23:15:42.199Z"
   },
   {
    "duration": 8,
    "start_time": "2022-07-13T23:15:42.205Z"
   },
   {
    "duration": 906,
    "start_time": "2022-07-13T23:15:42.215Z"
   },
   {
    "duration": 4,
    "start_time": "2022-07-13T23:15:43.123Z"
   },
   {
    "duration": 28134,
    "start_time": "2022-07-13T23:15:43.128Z"
   },
   {
    "duration": 3,
    "start_time": "2022-07-13T23:16:11.264Z"
   },
   {
    "duration": 13,
    "start_time": "2022-07-13T23:16:11.269Z"
   },
   {
    "duration": 58334,
    "start_time": "2022-07-13T23:16:11.284Z"
   },
   {
    "duration": 4,
    "start_time": "2022-07-13T23:17:09.620Z"
   },
   {
    "duration": 5,
    "start_time": "2022-07-13T23:17:09.626Z"
   },
   {
    "duration": 66,
    "start_time": "2022-07-13T23:17:09.633Z"
   },
   {
    "duration": 16458,
    "start_time": "2022-07-13T23:17:09.701Z"
   },
   {
    "duration": 7,
    "start_time": "2022-07-13T23:17:26.161Z"
   },
   {
    "duration": 9,
    "start_time": "2022-07-13T23:17:26.169Z"
   },
   {
    "duration": 65,
    "start_time": "2022-07-13T23:18:37.750Z"
   },
   {
    "duration": 1572,
    "start_time": "2022-07-13T23:18:42.743Z"
   },
   {
    "duration": 992,
    "start_time": "2022-07-13T23:18:44.318Z"
   },
   {
    "duration": 399,
    "start_time": "2022-07-13T23:18:45.312Z"
   },
   {
    "duration": 16,
    "start_time": "2022-07-13T23:18:45.713Z"
   },
   {
    "duration": 407,
    "start_time": "2022-07-13T23:18:45.730Z"
   },
   {
    "duration": 8,
    "start_time": "2022-07-13T23:18:46.138Z"
   },
   {
    "duration": 57,
    "start_time": "2022-07-13T23:18:46.148Z"
   },
   {
    "duration": 4,
    "start_time": "2022-07-13T23:18:46.207Z"
   },
   {
    "duration": 177,
    "start_time": "2022-07-13T23:18:46.213Z"
   },
   {
    "duration": 1700,
    "start_time": "2022-07-13T23:18:46.393Z"
   },
   {
    "duration": 12,
    "start_time": "2022-07-13T23:18:48.095Z"
   },
   {
    "duration": 51,
    "start_time": "2022-07-13T23:18:48.109Z"
   },
   {
    "duration": 16,
    "start_time": "2022-07-13T23:18:48.161Z"
   },
   {
    "duration": 70,
    "start_time": "2022-07-13T23:18:48.199Z"
   },
   {
    "duration": 93,
    "start_time": "2022-07-13T23:18:48.271Z"
   },
   {
    "duration": 73,
    "start_time": "2022-07-13T23:18:48.366Z"
   },
   {
    "duration": 3,
    "start_time": "2022-07-13T23:18:48.441Z"
   },
   {
    "duration": 165,
    "start_time": "2022-07-13T23:18:48.446Z"
   },
   {
    "duration": 30,
    "start_time": "2022-07-13T23:18:48.612Z"
   },
   {
    "duration": 184,
    "start_time": "2022-07-13T23:18:48.644Z"
   },
   {
    "duration": 2,
    "start_time": "2022-07-13T23:18:48.830Z"
   },
   {
    "duration": 5,
    "start_time": "2022-07-13T23:18:48.834Z"
   },
   {
    "duration": 16,
    "start_time": "2022-07-13T23:18:48.841Z"
   },
   {
    "duration": 407,
    "start_time": "2022-07-13T23:18:48.859Z"
   },
   {
    "duration": 35,
    "start_time": "2022-07-13T23:18:49.267Z"
   },
   {
    "duration": 47,
    "start_time": "2022-07-13T23:18:49.304Z"
   },
   {
    "duration": 1612,
    "start_time": "2022-07-13T23:18:49.353Z"
   },
   {
    "duration": 29,
    "start_time": "2022-07-13T23:18:50.969Z"
   },
   {
    "duration": 1394,
    "start_time": "2022-07-13T23:18:50.999Z"
   },
   {
    "duration": 237,
    "start_time": "2022-07-13T23:18:52.397Z"
   },
   {
    "duration": 37,
    "start_time": "2022-07-13T23:18:52.637Z"
   },
   {
    "duration": 1408,
    "start_time": "2022-07-13T23:18:52.676Z"
   },
   {
    "duration": 15,
    "start_time": "2022-07-13T23:18:54.086Z"
   },
   {
    "duration": 69,
    "start_time": "2022-07-13T23:18:54.103Z"
   },
   {
    "duration": 1397,
    "start_time": "2022-07-13T23:18:54.174Z"
   },
   {
    "duration": 26,
    "start_time": "2022-07-13T23:18:55.573Z"
   },
   {
    "duration": 37,
    "start_time": "2022-07-13T23:18:55.601Z"
   },
   {
    "duration": 1485,
    "start_time": "2022-07-13T23:18:55.639Z"
   },
   {
    "duration": 160,
    "start_time": "2022-07-13T23:18:57.126Z"
   },
   {
    "duration": 39,
    "start_time": "2022-07-13T23:18:57.287Z"
   },
   {
    "duration": 52,
    "start_time": "2022-07-13T23:18:57.327Z"
   },
   {
    "duration": 116,
    "start_time": "2022-07-13T23:18:57.397Z"
   },
   {
    "duration": 146,
    "start_time": "2022-07-13T23:18:57.515Z"
   },
   {
    "duration": 207,
    "start_time": "2022-07-13T23:18:57.663Z"
   },
   {
    "duration": 68,
    "start_time": "2022-07-13T23:18:57.872Z"
   },
   {
    "duration": 72,
    "start_time": "2022-07-13T23:18:57.942Z"
   },
   {
    "duration": 1485,
    "start_time": "2022-07-13T23:18:58.016Z"
   },
   {
    "duration": 3,
    "start_time": "2022-07-13T23:18:59.503Z"
   },
   {
    "duration": 5,
    "start_time": "2022-07-13T23:18:59.509Z"
   },
   {
    "duration": 15,
    "start_time": "2022-07-13T23:18:59.515Z"
   },
   {
    "duration": 18,
    "start_time": "2022-07-13T23:18:59.532Z"
   },
   {
    "duration": 250,
    "start_time": "2022-07-13T23:18:59.552Z"
   },
   {
    "duration": 4,
    "start_time": "2022-07-13T23:18:59.804Z"
   },
   {
    "duration": 11,
    "start_time": "2022-07-13T23:18:59.809Z"
   },
   {
    "duration": 854,
    "start_time": "2022-07-13T23:18:59.821Z"
   },
   {
    "duration": 3,
    "start_time": "2022-07-13T23:19:00.677Z"
   },
   {
    "duration": 28972,
    "start_time": "2022-07-13T23:19:00.682Z"
   },
   {
    "duration": 3,
    "start_time": "2022-07-13T23:19:29.656Z"
   },
   {
    "duration": 8,
    "start_time": "2022-07-13T23:19:29.662Z"
   },
   {
    "duration": 162,
    "start_time": "2022-07-13T23:19:29.671Z"
   },
   {
    "duration": 0,
    "start_time": "2022-07-13T23:19:29.835Z"
   },
   {
    "duration": 0,
    "start_time": "2022-07-13T23:19:29.837Z"
   },
   {
    "duration": 1,
    "start_time": "2022-07-13T23:19:29.838Z"
   },
   {
    "duration": 0,
    "start_time": "2022-07-13T23:19:29.840Z"
   },
   {
    "duration": 0,
    "start_time": "2022-07-13T23:19:29.841Z"
   },
   {
    "duration": 0,
    "start_time": "2022-07-13T23:19:29.843Z"
   },
   {
    "duration": 1539,
    "start_time": "2022-07-13T23:22:09.449Z"
   },
   {
    "duration": 1049,
    "start_time": "2022-07-13T23:22:10.990Z"
   },
   {
    "duration": 404,
    "start_time": "2022-07-13T23:22:12.041Z"
   },
   {
    "duration": 15,
    "start_time": "2022-07-13T23:22:12.447Z"
   },
   {
    "duration": 404,
    "start_time": "2022-07-13T23:22:12.464Z"
   },
   {
    "duration": 8,
    "start_time": "2022-07-13T23:22:12.870Z"
   },
   {
    "duration": 56,
    "start_time": "2022-07-13T23:22:12.879Z"
   },
   {
    "duration": 4,
    "start_time": "2022-07-13T23:22:12.937Z"
   },
   {
    "duration": 177,
    "start_time": "2022-07-13T23:22:12.943Z"
   },
   {
    "duration": 1687,
    "start_time": "2022-07-13T23:22:13.123Z"
   },
   {
    "duration": 11,
    "start_time": "2022-07-13T23:22:14.814Z"
   },
   {
    "duration": 54,
    "start_time": "2022-07-13T23:22:14.827Z"
   },
   {
    "duration": 28,
    "start_time": "2022-07-13T23:22:14.883Z"
   },
   {
    "duration": 94,
    "start_time": "2022-07-13T23:22:14.913Z"
   },
   {
    "duration": 81,
    "start_time": "2022-07-13T23:22:15.009Z"
   },
   {
    "duration": 63,
    "start_time": "2022-07-13T23:22:15.092Z"
   },
   {
    "duration": 4,
    "start_time": "2022-07-13T23:22:15.157Z"
   },
   {
    "duration": 168,
    "start_time": "2022-07-13T23:22:15.162Z"
   },
   {
    "duration": 28,
    "start_time": "2022-07-13T23:22:15.332Z"
   },
   {
    "duration": 180,
    "start_time": "2022-07-13T23:22:15.362Z"
   },
   {
    "duration": 3,
    "start_time": "2022-07-13T23:22:15.544Z"
   },
   {
    "duration": 7,
    "start_time": "2022-07-13T23:22:15.548Z"
   },
   {
    "duration": 18,
    "start_time": "2022-07-13T23:22:15.557Z"
   },
   {
    "duration": 386,
    "start_time": "2022-07-13T23:22:15.577Z"
   },
   {
    "duration": 39,
    "start_time": "2022-07-13T23:22:15.965Z"
   },
   {
    "duration": 46,
    "start_time": "2022-07-13T23:22:16.006Z"
   },
   {
    "duration": 1650,
    "start_time": "2022-07-13T23:22:16.053Z"
   },
   {
    "duration": 21,
    "start_time": "2022-07-13T23:22:17.707Z"
   },
   {
    "duration": 1477,
    "start_time": "2022-07-13T23:22:17.730Z"
   },
   {
    "duration": 249,
    "start_time": "2022-07-13T23:22:19.209Z"
   },
   {
    "duration": 48,
    "start_time": "2022-07-13T23:22:19.460Z"
   },
   {
    "duration": 1372,
    "start_time": "2022-07-13T23:22:19.509Z"
   },
   {
    "duration": 18,
    "start_time": "2022-07-13T23:22:20.883Z"
   },
   {
    "duration": 59,
    "start_time": "2022-07-13T23:22:20.904Z"
   },
   {
    "duration": 1410,
    "start_time": "2022-07-13T23:22:20.965Z"
   },
   {
    "duration": 28,
    "start_time": "2022-07-13T23:22:22.377Z"
   },
   {
    "duration": 36,
    "start_time": "2022-07-13T23:22:22.407Z"
   },
   {
    "duration": 1431,
    "start_time": "2022-07-13T23:22:22.446Z"
   },
   {
    "duration": 161,
    "start_time": "2022-07-13T23:22:23.879Z"
   },
   {
    "duration": 30,
    "start_time": "2022-07-13T23:22:24.042Z"
   },
   {
    "duration": 69,
    "start_time": "2022-07-13T23:22:24.074Z"
   },
   {
    "duration": 122,
    "start_time": "2022-07-13T23:22:24.144Z"
   },
   {
    "duration": 140,
    "start_time": "2022-07-13T23:22:24.268Z"
   },
   {
    "duration": 203,
    "start_time": "2022-07-13T23:22:24.410Z"
   },
   {
    "duration": 56,
    "start_time": "2022-07-13T23:22:24.614Z"
   },
   {
    "duration": 75,
    "start_time": "2022-07-13T23:22:24.672Z"
   },
   {
    "duration": 1508,
    "start_time": "2022-07-13T23:22:24.749Z"
   },
   {
    "duration": 75,
    "start_time": "2022-07-13T23:22:26.259Z"
   },
   {
    "duration": 0,
    "start_time": "2022-07-13T23:22:26.336Z"
   },
   {
    "duration": 0,
    "start_time": "2022-07-13T23:22:26.337Z"
   },
   {
    "duration": 0,
    "start_time": "2022-07-13T23:22:26.339Z"
   },
   {
    "duration": 0,
    "start_time": "2022-07-13T23:22:26.340Z"
   },
   {
    "duration": 0,
    "start_time": "2022-07-13T23:22:26.342Z"
   },
   {
    "duration": 0,
    "start_time": "2022-07-13T23:22:26.343Z"
   },
   {
    "duration": 0,
    "start_time": "2022-07-13T23:22:26.345Z"
   },
   {
    "duration": 0,
    "start_time": "2022-07-13T23:22:26.347Z"
   },
   {
    "duration": 0,
    "start_time": "2022-07-13T23:22:26.348Z"
   },
   {
    "duration": 0,
    "start_time": "2022-07-13T23:22:26.349Z"
   },
   {
    "duration": 0,
    "start_time": "2022-07-13T23:22:26.351Z"
   },
   {
    "duration": 0,
    "start_time": "2022-07-13T23:22:26.352Z"
   },
   {
    "duration": 0,
    "start_time": "2022-07-13T23:22:26.354Z"
   },
   {
    "duration": 0,
    "start_time": "2022-07-13T23:22:26.355Z"
   },
   {
    "duration": 0,
    "start_time": "2022-07-13T23:22:26.357Z"
   },
   {
    "duration": 0,
    "start_time": "2022-07-13T23:22:26.358Z"
   },
   {
    "duration": 0,
    "start_time": "2022-07-13T23:22:26.359Z"
   },
   {
    "duration": 0,
    "start_time": "2022-07-13T23:22:26.361Z"
   },
   {
    "duration": 1623,
    "start_time": "2022-07-13T23:23:31.283Z"
   },
   {
    "duration": 1012,
    "start_time": "2022-07-13T23:23:32.908Z"
   },
   {
    "duration": 409,
    "start_time": "2022-07-13T23:23:33.922Z"
   },
   {
    "duration": 16,
    "start_time": "2022-07-13T23:23:34.334Z"
   },
   {
    "duration": 398,
    "start_time": "2022-07-13T23:23:34.351Z"
   },
   {
    "duration": 7,
    "start_time": "2022-07-13T23:23:34.751Z"
   },
   {
    "duration": 56,
    "start_time": "2022-07-13T23:23:34.760Z"
   },
   {
    "duration": 9,
    "start_time": "2022-07-13T23:23:34.818Z"
   },
   {
    "duration": 169,
    "start_time": "2022-07-13T23:23:34.829Z"
   },
   {
    "duration": 1720,
    "start_time": "2022-07-13T23:23:35.001Z"
   },
   {
    "duration": 14,
    "start_time": "2022-07-13T23:23:36.723Z"
   },
   {
    "duration": 78,
    "start_time": "2022-07-13T23:23:36.739Z"
   },
   {
    "duration": 15,
    "start_time": "2022-07-13T23:23:36.819Z"
   },
   {
    "duration": 84,
    "start_time": "2022-07-13T23:23:36.836Z"
   },
   {
    "duration": 92,
    "start_time": "2022-07-13T23:23:36.922Z"
   },
   {
    "duration": 64,
    "start_time": "2022-07-13T23:23:37.015Z"
   },
   {
    "duration": 18,
    "start_time": "2022-07-13T23:23:37.081Z"
   },
   {
    "duration": 160,
    "start_time": "2022-07-13T23:23:37.101Z"
   },
   {
    "duration": 36,
    "start_time": "2022-07-13T23:23:37.263Z"
   },
   {
    "duration": 182,
    "start_time": "2022-07-13T23:23:37.300Z"
   },
   {
    "duration": 3,
    "start_time": "2022-07-13T23:23:37.484Z"
   },
   {
    "duration": 11,
    "start_time": "2022-07-13T23:23:37.488Z"
   },
   {
    "duration": 21,
    "start_time": "2022-07-13T23:23:37.501Z"
   },
   {
    "duration": 375,
    "start_time": "2022-07-13T23:23:37.524Z"
   },
   {
    "duration": 28,
    "start_time": "2022-07-13T23:23:37.901Z"
   },
   {
    "duration": 70,
    "start_time": "2022-07-13T23:23:37.930Z"
   },
   {
    "duration": 1587,
    "start_time": "2022-07-13T23:23:38.001Z"
   },
   {
    "duration": 24,
    "start_time": "2022-07-13T23:23:39.598Z"
   },
   {
    "duration": 1466,
    "start_time": "2022-07-13T23:23:39.624Z"
   },
   {
    "duration": 235,
    "start_time": "2022-07-13T23:23:41.091Z"
   },
   {
    "duration": 39,
    "start_time": "2022-07-13T23:23:41.327Z"
   },
   {
    "duration": 1386,
    "start_time": "2022-07-13T23:23:41.368Z"
   },
   {
    "duration": 8,
    "start_time": "2022-07-13T23:23:42.756Z"
   },
   {
    "duration": 73,
    "start_time": "2022-07-13T23:23:42.765Z"
   },
   {
    "duration": 1469,
    "start_time": "2022-07-13T23:23:42.840Z"
   },
   {
    "duration": 17,
    "start_time": "2022-07-13T23:23:44.311Z"
   },
   {
    "duration": 34,
    "start_time": "2022-07-13T23:23:44.330Z"
   },
   {
    "duration": 1414,
    "start_time": "2022-07-13T23:23:44.366Z"
   },
   {
    "duration": 159,
    "start_time": "2022-07-13T23:23:45.782Z"
   },
   {
    "duration": 32,
    "start_time": "2022-07-13T23:23:45.942Z"
   },
   {
    "duration": 64,
    "start_time": "2022-07-13T23:23:45.976Z"
   },
   {
    "duration": 114,
    "start_time": "2022-07-13T23:23:46.042Z"
   },
   {
    "duration": 145,
    "start_time": "2022-07-13T23:23:46.158Z"
   },
   {
    "duration": 202,
    "start_time": "2022-07-13T23:23:46.304Z"
   },
   {
    "duration": 52,
    "start_time": "2022-07-13T23:23:46.507Z"
   },
   {
    "duration": 85,
    "start_time": "2022-07-13T23:23:46.561Z"
   },
   {
    "duration": 1502,
    "start_time": "2022-07-13T23:23:46.648Z"
   },
   {
    "duration": 3,
    "start_time": "2022-07-13T23:23:48.152Z"
   },
   {
    "duration": 5,
    "start_time": "2022-07-13T23:23:48.157Z"
   },
   {
    "duration": 11,
    "start_time": "2022-07-13T23:23:48.164Z"
   },
   {
    "duration": 5,
    "start_time": "2022-07-13T23:23:48.176Z"
   },
   {
    "duration": 221,
    "start_time": "2022-07-13T23:23:48.182Z"
   },
   {
    "duration": 4,
    "start_time": "2022-07-13T23:23:48.405Z"
   },
   {
    "duration": 7,
    "start_time": "2022-07-13T23:23:48.411Z"
   },
   {
    "duration": 921,
    "start_time": "2022-07-13T23:23:48.419Z"
   },
   {
    "duration": 5,
    "start_time": "2022-07-13T23:23:49.341Z"
   },
   {
    "duration": 28569,
    "start_time": "2022-07-13T23:23:49.347Z"
   },
   {
    "duration": 4,
    "start_time": "2022-07-13T23:24:17.918Z"
   },
   {
    "duration": 12,
    "start_time": "2022-07-13T23:24:17.923Z"
   },
   {
    "duration": 140,
    "start_time": "2022-07-13T23:24:17.937Z"
   },
   {
    "duration": 0,
    "start_time": "2022-07-13T23:24:18.079Z"
   },
   {
    "duration": 0,
    "start_time": "2022-07-13T23:24:18.080Z"
   },
   {
    "duration": 0,
    "start_time": "2022-07-13T23:24:18.081Z"
   },
   {
    "duration": 0,
    "start_time": "2022-07-13T23:24:18.082Z"
   },
   {
    "duration": 0,
    "start_time": "2022-07-13T23:24:18.084Z"
   },
   {
    "duration": 0,
    "start_time": "2022-07-13T23:24:18.098Z"
   },
   {
    "duration": 4,
    "start_time": "2022-07-13T23:24:50.904Z"
   },
   {
    "duration": 4,
    "start_time": "2022-07-13T23:24:51.575Z"
   },
   {
    "duration": 21,
    "start_time": "2022-07-13T23:24:54.472Z"
   },
   {
    "duration": 1568,
    "start_time": "2022-07-13T23:26:41.042Z"
   },
   {
    "duration": 1014,
    "start_time": "2022-07-13T23:26:42.612Z"
   },
   {
    "duration": 395,
    "start_time": "2022-07-13T23:26:43.628Z"
   },
   {
    "duration": 18,
    "start_time": "2022-07-13T23:26:44.026Z"
   },
   {
    "duration": 429,
    "start_time": "2022-07-13T23:26:44.046Z"
   },
   {
    "duration": 8,
    "start_time": "2022-07-13T23:26:44.477Z"
   },
   {
    "duration": 46,
    "start_time": "2022-07-13T23:26:44.497Z"
   },
   {
    "duration": 6,
    "start_time": "2022-07-13T23:26:44.544Z"
   },
   {
    "duration": 187,
    "start_time": "2022-07-13T23:26:44.551Z"
   },
   {
    "duration": 1666,
    "start_time": "2022-07-13T23:26:44.741Z"
   },
   {
    "duration": 13,
    "start_time": "2022-07-13T23:26:46.408Z"
   },
   {
    "duration": 52,
    "start_time": "2022-07-13T23:26:46.422Z"
   },
   {
    "duration": 34,
    "start_time": "2022-07-13T23:26:46.476Z"
   },
   {
    "duration": 87,
    "start_time": "2022-07-13T23:26:46.512Z"
   },
   {
    "duration": 111,
    "start_time": "2022-07-13T23:26:46.601Z"
   },
   {
    "duration": 97,
    "start_time": "2022-07-13T23:26:46.715Z"
   },
   {
    "duration": 5,
    "start_time": "2022-07-13T23:26:46.815Z"
   },
   {
    "duration": 180,
    "start_time": "2022-07-13T23:26:46.822Z"
   },
   {
    "duration": 30,
    "start_time": "2022-07-13T23:26:47.004Z"
   },
   {
    "duration": 185,
    "start_time": "2022-07-13T23:26:47.037Z"
   },
   {
    "duration": 4,
    "start_time": "2022-07-13T23:26:47.224Z"
   },
   {
    "duration": 6,
    "start_time": "2022-07-13T23:26:47.229Z"
   },
   {
    "duration": 19,
    "start_time": "2022-07-13T23:26:47.237Z"
   },
   {
    "duration": 380,
    "start_time": "2022-07-13T23:26:47.258Z"
   },
   {
    "duration": 26,
    "start_time": "2022-07-13T23:26:47.640Z"
   },
   {
    "duration": 64,
    "start_time": "2022-07-13T23:26:47.667Z"
   },
   {
    "duration": 1684,
    "start_time": "2022-07-13T23:26:47.733Z"
   },
   {
    "duration": 22,
    "start_time": "2022-07-13T23:26:49.421Z"
   },
   {
    "duration": 1448,
    "start_time": "2022-07-13T23:26:49.445Z"
   },
   {
    "duration": 248,
    "start_time": "2022-07-13T23:26:50.895Z"
   },
   {
    "duration": 42,
    "start_time": "2022-07-13T23:26:51.145Z"
   },
   {
    "duration": 1378,
    "start_time": "2022-07-13T23:26:51.188Z"
   },
   {
    "duration": 9,
    "start_time": "2022-07-13T23:26:52.568Z"
   },
   {
    "duration": 71,
    "start_time": "2022-07-13T23:26:52.578Z"
   },
   {
    "duration": 1466,
    "start_time": "2022-07-13T23:26:52.651Z"
   },
   {
    "duration": 16,
    "start_time": "2022-07-13T23:26:54.119Z"
   },
   {
    "duration": 35,
    "start_time": "2022-07-13T23:26:54.137Z"
   },
   {
    "duration": 1531,
    "start_time": "2022-07-13T23:26:54.174Z"
   },
   {
    "duration": 157,
    "start_time": "2022-07-13T23:26:55.707Z"
   },
   {
    "duration": 39,
    "start_time": "2022-07-13T23:26:55.866Z"
   },
   {
    "duration": 51,
    "start_time": "2022-07-13T23:26:55.906Z"
   },
   {
    "duration": 115,
    "start_time": "2022-07-13T23:26:55.959Z"
   },
   {
    "duration": 145,
    "start_time": "2022-07-13T23:26:56.076Z"
   },
   {
    "duration": 198,
    "start_time": "2022-07-13T23:26:56.222Z"
   },
   {
    "duration": 54,
    "start_time": "2022-07-13T23:26:56.421Z"
   },
   {
    "duration": 3,
    "start_time": "2022-07-13T23:26:56.477Z"
   },
   {
    "duration": 1492,
    "start_time": "2022-07-13T23:26:56.498Z"
   },
   {
    "duration": 6,
    "start_time": "2022-07-13T23:26:57.992Z"
   },
   {
    "duration": 7,
    "start_time": "2022-07-13T23:26:58.001Z"
   },
   {
    "duration": 12,
    "start_time": "2022-07-13T23:26:58.010Z"
   },
   {
    "duration": 6,
    "start_time": "2022-07-13T23:26:58.024Z"
   },
   {
    "duration": 266,
    "start_time": "2022-07-13T23:26:58.032Z"
   },
   {
    "duration": 3,
    "start_time": "2022-07-13T23:26:58.301Z"
   },
   {
    "duration": 7,
    "start_time": "2022-07-13T23:26:58.306Z"
   },
   {
    "duration": 896,
    "start_time": "2022-07-13T23:26:58.315Z"
   },
   {
    "duration": 4,
    "start_time": "2022-07-13T23:26:59.213Z"
   },
   {
    "duration": 27719,
    "start_time": "2022-07-13T23:26:59.219Z"
   },
   {
    "duration": 3,
    "start_time": "2022-07-13T23:27:26.939Z"
   },
   {
    "duration": 12,
    "start_time": "2022-07-13T23:27:26.943Z"
   },
   {
    "duration": 7662,
    "start_time": "2022-07-13T23:27:26.957Z"
   },
   {
    "duration": 4,
    "start_time": "2022-07-13T23:27:34.620Z"
   },
   {
    "duration": 7,
    "start_time": "2022-07-13T23:27:34.626Z"
   },
   {
    "duration": 5,
    "start_time": "2022-07-13T23:27:34.634Z"
   },
   {
    "duration": 16678,
    "start_time": "2022-07-13T23:27:34.641Z"
   },
   {
    "duration": 7,
    "start_time": "2022-07-13T23:27:51.321Z"
   },
   {
    "duration": 13,
    "start_time": "2022-07-13T23:27:51.329Z"
   },
   {
    "duration": 1575,
    "start_time": "2022-07-13T23:46:11.527Z"
   },
   {
    "duration": 1136,
    "start_time": "2022-07-13T23:46:13.104Z"
   },
   {
    "duration": 737,
    "start_time": "2022-07-13T23:46:14.298Z"
   },
   {
    "duration": 69,
    "start_time": "2022-07-13T23:46:15.038Z"
   },
   {
    "duration": 825,
    "start_time": "2022-07-13T23:46:15.109Z"
   },
   {
    "duration": 8,
    "start_time": "2022-07-13T23:46:15.936Z"
   },
   {
    "duration": 98,
    "start_time": "2022-07-13T23:46:15.945Z"
   },
   {
    "duration": 5,
    "start_time": "2022-07-13T23:46:16.045Z"
   },
   {
    "duration": 202,
    "start_time": "2022-07-13T23:46:16.051Z"
   },
   {
    "duration": 1745,
    "start_time": "2022-07-13T23:46:16.255Z"
   },
   {
    "duration": 12,
    "start_time": "2022-07-13T23:46:18.002Z"
   },
   {
    "duration": 53,
    "start_time": "2022-07-13T23:46:18.016Z"
   },
   {
    "duration": 32,
    "start_time": "2022-07-13T23:46:18.070Z"
   },
   {
    "duration": 74,
    "start_time": "2022-07-13T23:46:18.103Z"
   },
   {
    "duration": 94,
    "start_time": "2022-07-13T23:46:18.179Z"
   },
   {
    "duration": 76,
    "start_time": "2022-07-13T23:46:18.274Z"
   },
   {
    "duration": 4,
    "start_time": "2022-07-13T23:46:18.351Z"
   },
   {
    "duration": 165,
    "start_time": "2022-07-13T23:46:18.357Z"
   },
   {
    "duration": 30,
    "start_time": "2022-07-13T23:46:18.523Z"
   },
   {
    "duration": 186,
    "start_time": "2022-07-13T23:46:18.555Z"
   },
   {
    "duration": 3,
    "start_time": "2022-07-13T23:46:18.743Z"
   },
   {
    "duration": 802,
    "start_time": "2022-07-13T23:46:18.747Z"
   },
   {
    "duration": 132,
    "start_time": "2022-07-13T23:46:19.551Z"
   },
   {
    "duration": 1627,
    "start_time": "2022-07-13T23:46:19.685Z"
   },
   {
    "duration": 0,
    "start_time": "2022-07-13T23:46:21.316Z"
   },
   {
    "duration": 0,
    "start_time": "2022-07-13T23:46:21.319Z"
   },
   {
    "duration": 0,
    "start_time": "2022-07-13T23:46:21.320Z"
   },
   {
    "duration": 0,
    "start_time": "2022-07-13T23:46:21.322Z"
   },
   {
    "duration": 0,
    "start_time": "2022-07-13T23:46:21.323Z"
   },
   {
    "duration": 0,
    "start_time": "2022-07-13T23:46:21.325Z"
   },
   {
    "duration": 0,
    "start_time": "2022-07-13T23:46:21.326Z"
   },
   {
    "duration": 0,
    "start_time": "2022-07-13T23:46:21.328Z"
   },
   {
    "duration": 0,
    "start_time": "2022-07-13T23:46:21.330Z"
   },
   {
    "duration": 0,
    "start_time": "2022-07-13T23:46:21.332Z"
   },
   {
    "duration": 0,
    "start_time": "2022-07-13T23:46:21.333Z"
   },
   {
    "duration": 0,
    "start_time": "2022-07-13T23:46:21.335Z"
   },
   {
    "duration": 0,
    "start_time": "2022-07-13T23:46:21.336Z"
   },
   {
    "duration": 0,
    "start_time": "2022-07-13T23:46:21.338Z"
   },
   {
    "duration": 0,
    "start_time": "2022-07-13T23:46:21.339Z"
   },
   {
    "duration": 0,
    "start_time": "2022-07-13T23:46:21.341Z"
   },
   {
    "duration": 0,
    "start_time": "2022-07-13T23:46:21.342Z"
   },
   {
    "duration": 0,
    "start_time": "2022-07-13T23:46:21.343Z"
   },
   {
    "duration": 0,
    "start_time": "2022-07-13T23:46:21.344Z"
   },
   {
    "duration": 0,
    "start_time": "2022-07-13T23:46:21.345Z"
   },
   {
    "duration": 0,
    "start_time": "2022-07-13T23:46:21.346Z"
   },
   {
    "duration": 0,
    "start_time": "2022-07-13T23:46:21.348Z"
   },
   {
    "duration": 0,
    "start_time": "2022-07-13T23:46:21.349Z"
   },
   {
    "duration": 0,
    "start_time": "2022-07-13T23:46:21.350Z"
   },
   {
    "duration": 0,
    "start_time": "2022-07-13T23:46:21.351Z"
   },
   {
    "duration": 0,
    "start_time": "2022-07-13T23:46:21.352Z"
   },
   {
    "duration": 0,
    "start_time": "2022-07-13T23:46:21.399Z"
   },
   {
    "duration": 0,
    "start_time": "2022-07-13T23:46:21.400Z"
   },
   {
    "duration": 0,
    "start_time": "2022-07-13T23:46:21.401Z"
   },
   {
    "duration": 0,
    "start_time": "2022-07-13T23:46:21.402Z"
   },
   {
    "duration": 0,
    "start_time": "2022-07-13T23:46:21.403Z"
   },
   {
    "duration": 0,
    "start_time": "2022-07-13T23:46:21.404Z"
   },
   {
    "duration": 0,
    "start_time": "2022-07-13T23:46:21.405Z"
   },
   {
    "duration": 0,
    "start_time": "2022-07-13T23:46:21.406Z"
   },
   {
    "duration": 0,
    "start_time": "2022-07-13T23:46:21.407Z"
   },
   {
    "duration": 0,
    "start_time": "2022-07-13T23:46:21.408Z"
   },
   {
    "duration": 0,
    "start_time": "2022-07-13T23:46:21.409Z"
   },
   {
    "duration": 0,
    "start_time": "2022-07-13T23:46:21.410Z"
   },
   {
    "duration": 0,
    "start_time": "2022-07-13T23:46:21.411Z"
   },
   {
    "duration": 0,
    "start_time": "2022-07-13T23:46:21.412Z"
   },
   {
    "duration": 0,
    "start_time": "2022-07-13T23:46:21.413Z"
   },
   {
    "duration": 0,
    "start_time": "2022-07-13T23:46:21.415Z"
   },
   {
    "duration": 1625,
    "start_time": "2022-07-13T23:46:55.530Z"
   },
   {
    "duration": 1063,
    "start_time": "2022-07-13T23:46:57.157Z"
   },
   {
    "duration": 402,
    "start_time": "2022-07-13T23:46:58.222Z"
   },
   {
    "duration": 14,
    "start_time": "2022-07-13T23:46:58.626Z"
   },
   {
    "duration": 418,
    "start_time": "2022-07-13T23:46:58.642Z"
   },
   {
    "duration": 10,
    "start_time": "2022-07-13T23:46:59.062Z"
   },
   {
    "duration": 62,
    "start_time": "2022-07-13T23:46:59.074Z"
   },
   {
    "duration": 3,
    "start_time": "2022-07-13T23:46:59.138Z"
   },
   {
    "duration": 179,
    "start_time": "2022-07-13T23:46:59.142Z"
   },
   {
    "duration": 1676,
    "start_time": "2022-07-13T23:46:59.323Z"
   },
   {
    "duration": 12,
    "start_time": "2022-07-13T23:47:01.001Z"
   },
   {
    "duration": 55,
    "start_time": "2022-07-13T23:47:01.015Z"
   },
   {
    "duration": 34,
    "start_time": "2022-07-13T23:47:01.071Z"
   },
   {
    "duration": 82,
    "start_time": "2022-07-13T23:47:01.106Z"
   },
   {
    "duration": 89,
    "start_time": "2022-07-13T23:47:01.189Z"
   },
   {
    "duration": 72,
    "start_time": "2022-07-13T23:47:01.279Z"
   },
   {
    "duration": 4,
    "start_time": "2022-07-13T23:47:01.353Z"
   },
   {
    "duration": 188,
    "start_time": "2022-07-13T23:47:01.359Z"
   },
   {
    "duration": 30,
    "start_time": "2022-07-13T23:47:01.549Z"
   },
   {
    "duration": 190,
    "start_time": "2022-07-13T23:47:01.580Z"
   },
   {
    "duration": 3,
    "start_time": "2022-07-13T23:47:01.772Z"
   },
   {
    "duration": 22,
    "start_time": "2022-07-13T23:47:01.776Z"
   },
   {
    "duration": 17,
    "start_time": "2022-07-13T23:47:01.799Z"
   },
   {
    "duration": 450,
    "start_time": "2022-07-13T23:47:01.817Z"
   },
   {
    "duration": 39,
    "start_time": "2022-07-13T23:47:02.269Z"
   },
   {
    "duration": 48,
    "start_time": "2022-07-13T23:47:02.310Z"
   },
   {
    "duration": 1632,
    "start_time": "2022-07-13T23:47:02.360Z"
   },
   {
    "duration": 21,
    "start_time": "2022-07-13T23:47:03.998Z"
   },
   {
    "duration": 1484,
    "start_time": "2022-07-13T23:47:04.021Z"
   },
   {
    "duration": 270,
    "start_time": "2022-07-13T23:47:05.507Z"
   },
   {
    "duration": 46,
    "start_time": "2022-07-13T23:47:05.779Z"
   },
   {
    "duration": 1489,
    "start_time": "2022-07-13T23:47:05.827Z"
   },
   {
    "duration": 8,
    "start_time": "2022-07-13T23:47:07.318Z"
   },
   {
    "duration": 75,
    "start_time": "2022-07-13T23:47:07.328Z"
   },
   {
    "duration": 1395,
    "start_time": "2022-07-13T23:47:07.405Z"
   },
   {
    "duration": 20,
    "start_time": "2022-07-13T23:47:08.802Z"
   },
   {
    "duration": 38,
    "start_time": "2022-07-13T23:47:08.824Z"
   },
   {
    "duration": 1447,
    "start_time": "2022-07-13T23:47:08.864Z"
   },
   {
    "duration": 157,
    "start_time": "2022-07-13T23:47:10.313Z"
   },
   {
    "duration": 39,
    "start_time": "2022-07-13T23:47:10.471Z"
   },
   {
    "duration": 46,
    "start_time": "2022-07-13T23:47:10.511Z"
   },
   {
    "duration": 116,
    "start_time": "2022-07-13T23:47:10.558Z"
   },
   {
    "duration": 143,
    "start_time": "2022-07-13T23:47:10.675Z"
   },
   {
    "duration": 200,
    "start_time": "2022-07-13T23:47:10.820Z"
   },
   {
    "duration": 53,
    "start_time": "2022-07-13T23:47:11.022Z"
   },
   {
    "duration": 3,
    "start_time": "2022-07-13T23:47:11.077Z"
   },
   {
    "duration": 1472,
    "start_time": "2022-07-13T23:47:11.098Z"
   },
   {
    "duration": 3,
    "start_time": "2022-07-13T23:47:12.572Z"
   },
   {
    "duration": 5,
    "start_time": "2022-07-13T23:47:12.577Z"
   },
   {
    "duration": 15,
    "start_time": "2022-07-13T23:47:12.584Z"
   },
   {
    "duration": 4,
    "start_time": "2022-07-13T23:47:12.600Z"
   },
   {
    "duration": 105,
    "start_time": "2022-07-13T23:47:12.605Z"
   },
   {
    "duration": 4,
    "start_time": "2022-07-13T23:47:12.800Z"
   },
   {
    "duration": 99,
    "start_time": "2022-07-13T23:47:12.806Z"
   },
   {
    "duration": 850,
    "start_time": "2022-07-13T23:47:12.907Z"
   },
   {
    "duration": 3,
    "start_time": "2022-07-13T23:47:13.759Z"
   },
   {
    "duration": 27389,
    "start_time": "2022-07-13T23:47:13.764Z"
   },
   {
    "duration": 3,
    "start_time": "2022-07-13T23:47:41.155Z"
   },
   {
    "duration": 7,
    "start_time": "2022-07-13T23:47:41.160Z"
   },
   {
    "duration": 7852,
    "start_time": "2022-07-13T23:47:41.169Z"
   },
   {
    "duration": 4,
    "start_time": "2022-07-13T23:47:49.022Z"
   },
   {
    "duration": 7,
    "start_time": "2022-07-13T23:47:49.028Z"
   },
   {
    "duration": 65,
    "start_time": "2022-07-13T23:47:49.036Z"
   },
   {
    "duration": 16708,
    "start_time": "2022-07-13T23:47:49.103Z"
   },
   {
    "duration": 8,
    "start_time": "2022-07-13T23:48:05.813Z"
   },
   {
    "duration": 9,
    "start_time": "2022-07-13T23:48:05.822Z"
   },
   {
    "duration": 129,
    "start_time": "2022-07-13T23:51:37.558Z"
   },
   {
    "duration": 33,
    "start_time": "2022-07-13T23:51:49.854Z"
   },
   {
    "duration": 37,
    "start_time": "2022-07-13T23:52:13.343Z"
   },
   {
    "duration": 80,
    "start_time": "2022-07-13T23:52:16.636Z"
   },
   {
    "duration": 10,
    "start_time": "2022-07-13T23:52:35.807Z"
   },
   {
    "duration": 11,
    "start_time": "2022-07-13T23:54:29.223Z"
   },
   {
    "duration": 33,
    "start_time": "2022-07-13T23:54:38.689Z"
   },
   {
    "duration": 10,
    "start_time": "2022-07-13T23:54:41.643Z"
   },
   {
    "duration": 16,
    "start_time": "2022-07-13T23:55:29.104Z"
   },
   {
    "duration": 55,
    "start_time": "2022-07-13T23:55:46.877Z"
   },
   {
    "duration": 70,
    "start_time": "2022-07-13T23:56:03.581Z"
   },
   {
    "duration": 59,
    "start_time": "2022-07-13T23:56:07.326Z"
   },
   {
    "duration": 90,
    "start_time": "2022-07-13T23:56:45.917Z"
   },
   {
    "duration": 176,
    "start_time": "2022-07-13T23:57:27.928Z"
   },
   {
    "duration": 1602,
    "start_time": "2022-07-13T23:57:39.600Z"
   },
   {
    "duration": 1031,
    "start_time": "2022-07-13T23:57:41.204Z"
   },
   {
    "duration": 408,
    "start_time": "2022-07-13T23:57:42.237Z"
   },
   {
    "duration": 15,
    "start_time": "2022-07-13T23:57:42.648Z"
   },
   {
    "duration": 414,
    "start_time": "2022-07-13T23:57:42.665Z"
   },
   {
    "duration": 18,
    "start_time": "2022-07-13T23:57:43.081Z"
   },
   {
    "duration": 45,
    "start_time": "2022-07-13T23:57:43.101Z"
   },
   {
    "duration": 4,
    "start_time": "2022-07-13T23:57:43.148Z"
   },
   {
    "duration": 182,
    "start_time": "2022-07-13T23:57:43.154Z"
   },
   {
    "duration": 1649,
    "start_time": "2022-07-13T23:57:43.339Z"
   },
   {
    "duration": 18,
    "start_time": "2022-07-13T23:57:44.989Z"
   },
   {
    "duration": 61,
    "start_time": "2022-07-13T23:57:45.009Z"
   },
   {
    "duration": 15,
    "start_time": "2022-07-13T23:57:45.072Z"
   },
   {
    "duration": 73,
    "start_time": "2022-07-13T23:57:45.099Z"
   },
   {
    "duration": 95,
    "start_time": "2022-07-13T23:57:45.174Z"
   },
   {
    "duration": 77,
    "start_time": "2022-07-13T23:57:45.271Z"
   },
   {
    "duration": 6,
    "start_time": "2022-07-13T23:57:45.350Z"
   },
   {
    "duration": 169,
    "start_time": "2022-07-13T23:57:45.357Z"
   },
   {
    "duration": 30,
    "start_time": "2022-07-13T23:57:45.527Z"
   },
   {
    "duration": 191,
    "start_time": "2022-07-13T23:57:45.559Z"
   },
   {
    "duration": 3,
    "start_time": "2022-07-13T23:57:45.752Z"
   },
   {
    "duration": 6,
    "start_time": "2022-07-13T23:57:45.756Z"
   },
   {
    "duration": 36,
    "start_time": "2022-07-13T23:57:45.763Z"
   },
   {
    "duration": 376,
    "start_time": "2022-07-13T23:57:45.801Z"
   },
   {
    "duration": 36,
    "start_time": "2022-07-13T23:57:46.179Z"
   },
   {
    "duration": 46,
    "start_time": "2022-07-13T23:57:46.217Z"
   },
   {
    "duration": 1673,
    "start_time": "2022-07-13T23:57:46.265Z"
   },
   {
    "duration": 22,
    "start_time": "2022-07-13T23:57:47.942Z"
   },
   {
    "duration": 1445,
    "start_time": "2022-07-13T23:57:47.965Z"
   },
   {
    "duration": 252,
    "start_time": "2022-07-13T23:57:49.411Z"
   },
   {
    "duration": 48,
    "start_time": "2022-07-13T23:57:49.665Z"
   },
   {
    "duration": 1458,
    "start_time": "2022-07-13T23:57:49.715Z"
   },
   {
    "duration": 8,
    "start_time": "2022-07-13T23:57:51.175Z"
   },
   {
    "duration": 67,
    "start_time": "2022-07-13T23:57:51.185Z"
   },
   {
    "duration": 1435,
    "start_time": "2022-07-13T23:57:51.254Z"
   },
   {
    "duration": 23,
    "start_time": "2022-07-13T23:57:52.691Z"
   },
   {
    "duration": 35,
    "start_time": "2022-07-13T23:57:52.715Z"
   },
   {
    "duration": 1453,
    "start_time": "2022-07-13T23:57:52.752Z"
   },
   {
    "duration": 153,
    "start_time": "2022-07-13T23:57:54.207Z"
   },
   {
    "duration": 43,
    "start_time": "2022-07-13T23:57:54.362Z"
   },
   {
    "duration": 52,
    "start_time": "2022-07-13T23:57:54.407Z"
   },
   {
    "duration": 125,
    "start_time": "2022-07-13T23:57:54.461Z"
   },
   {
    "duration": 146,
    "start_time": "2022-07-13T23:57:54.587Z"
   },
   {
    "duration": 201,
    "start_time": "2022-07-13T23:57:54.734Z"
   },
   {
    "duration": 64,
    "start_time": "2022-07-13T23:57:54.937Z"
   },
   {
    "duration": 2,
    "start_time": "2022-07-13T23:57:55.003Z"
   },
   {
    "duration": 1462,
    "start_time": "2022-07-13T23:57:55.007Z"
   },
   {
    "duration": 3,
    "start_time": "2022-07-13T23:57:56.471Z"
   },
   {
    "duration": 5,
    "start_time": "2022-07-13T23:57:56.475Z"
   },
   {
    "duration": 19,
    "start_time": "2022-07-13T23:57:56.482Z"
   },
   {
    "duration": 6,
    "start_time": "2022-07-13T23:57:56.502Z"
   },
   {
    "duration": 34,
    "start_time": "2022-07-13T23:57:56.510Z"
   },
   {
    "duration": 70,
    "start_time": "2022-07-13T23:57:56.546Z"
   },
   {
    "duration": 193,
    "start_time": "2022-07-13T23:57:56.617Z"
   },
   {
    "duration": 5,
    "start_time": "2022-07-13T23:57:56.902Z"
   },
   {
    "duration": 11,
    "start_time": "2022-07-13T23:57:56.909Z"
   },
   {
    "duration": 1015,
    "start_time": "2022-07-13T23:57:56.922Z"
   },
   {
    "duration": 4,
    "start_time": "2022-07-13T23:57:57.938Z"
   },
   {
    "duration": 27445,
    "start_time": "2022-07-13T23:57:57.944Z"
   },
   {
    "duration": 3,
    "start_time": "2022-07-13T23:58:25.391Z"
   },
   {
    "duration": 8,
    "start_time": "2022-07-13T23:58:25.395Z"
   },
   {
    "duration": 12699,
    "start_time": "2022-07-13T23:58:25.404Z"
   },
   {
    "duration": 4,
    "start_time": "2022-07-13T23:58:38.104Z"
   },
   {
    "duration": 9,
    "start_time": "2022-07-13T23:58:38.109Z"
   },
   {
    "duration": 5,
    "start_time": "2022-07-13T23:58:38.120Z"
   },
   {
    "duration": 16483,
    "start_time": "2022-07-13T23:58:38.127Z"
   },
   {
    "duration": 7,
    "start_time": "2022-07-13T23:58:54.612Z"
   },
   {
    "duration": 9,
    "start_time": "2022-07-13T23:58:54.620Z"
   },
   {
    "duration": 169,
    "start_time": "2022-07-14T00:11:22.331Z"
   },
   {
    "duration": 1605,
    "start_time": "2022-07-14T00:11:39.191Z"
   },
   {
    "duration": 1042,
    "start_time": "2022-07-14T00:11:40.798Z"
   },
   {
    "duration": 399,
    "start_time": "2022-07-14T00:11:41.842Z"
   },
   {
    "duration": 15,
    "start_time": "2022-07-14T00:11:42.243Z"
   },
   {
    "duration": 410,
    "start_time": "2022-07-14T00:11:42.260Z"
   },
   {
    "duration": 7,
    "start_time": "2022-07-14T00:11:42.672Z"
   },
   {
    "duration": 58,
    "start_time": "2022-07-14T00:11:42.681Z"
   },
   {
    "duration": 5,
    "start_time": "2022-07-14T00:11:42.741Z"
   },
   {
    "duration": 177,
    "start_time": "2022-07-14T00:11:42.748Z"
   },
   {
    "duration": 1676,
    "start_time": "2022-07-14T00:11:42.927Z"
   },
   {
    "duration": 12,
    "start_time": "2022-07-14T00:11:44.604Z"
   },
   {
    "duration": 51,
    "start_time": "2022-07-14T00:11:44.618Z"
   },
   {
    "duration": 40,
    "start_time": "2022-07-14T00:11:44.671Z"
   },
   {
    "duration": 73,
    "start_time": "2022-07-14T00:11:44.712Z"
   },
   {
    "duration": 88,
    "start_time": "2022-07-14T00:11:44.787Z"
   },
   {
    "duration": 71,
    "start_time": "2022-07-14T00:11:44.877Z"
   },
   {
    "duration": 3,
    "start_time": "2022-07-14T00:11:44.950Z"
   },
   {
    "duration": 174,
    "start_time": "2022-07-14T00:11:44.956Z"
   },
   {
    "duration": 31,
    "start_time": "2022-07-14T00:11:45.133Z"
   },
   {
    "duration": 191,
    "start_time": "2022-07-14T00:11:45.166Z"
   },
   {
    "duration": 3,
    "start_time": "2022-07-14T00:11:45.359Z"
   },
   {
    "duration": 8,
    "start_time": "2022-07-14T00:11:45.364Z"
   },
   {
    "duration": 30,
    "start_time": "2022-07-14T00:11:45.374Z"
   },
   {
    "duration": 382,
    "start_time": "2022-07-14T00:11:45.406Z"
   },
   {
    "duration": 31,
    "start_time": "2022-07-14T00:11:45.790Z"
   },
   {
    "duration": 49,
    "start_time": "2022-07-14T00:11:45.822Z"
   },
   {
    "duration": 1652,
    "start_time": "2022-07-14T00:11:45.872Z"
   },
   {
    "duration": 22,
    "start_time": "2022-07-14T00:11:47.528Z"
   },
   {
    "duration": 1448,
    "start_time": "2022-07-14T00:11:47.551Z"
   },
   {
    "duration": 247,
    "start_time": "2022-07-14T00:11:49.001Z"
   },
   {
    "duration": 49,
    "start_time": "2022-07-14T00:11:49.249Z"
   },
   {
    "duration": 1368,
    "start_time": "2022-07-14T00:11:49.300Z"
   },
   {
    "duration": 7,
    "start_time": "2022-07-14T00:11:50.670Z"
   },
   {
    "duration": 71,
    "start_time": "2022-07-14T00:11:50.679Z"
   },
   {
    "duration": 1468,
    "start_time": "2022-07-14T00:11:50.751Z"
   },
   {
    "duration": 19,
    "start_time": "2022-07-14T00:11:52.221Z"
   },
   {
    "duration": 62,
    "start_time": "2022-07-14T00:11:52.242Z"
   },
   {
    "duration": 1395,
    "start_time": "2022-07-14T00:11:52.306Z"
   },
   {
    "duration": 159,
    "start_time": "2022-07-14T00:11:53.703Z"
   },
   {
    "duration": 40,
    "start_time": "2022-07-14T00:11:53.864Z"
   },
   {
    "duration": 49,
    "start_time": "2022-07-14T00:11:53.906Z"
   },
   {
    "duration": 141,
    "start_time": "2022-07-14T00:11:53.957Z"
   },
   {
    "duration": 145,
    "start_time": "2022-07-14T00:11:54.100Z"
   },
   {
    "duration": 200,
    "start_time": "2022-07-14T00:11:54.247Z"
   },
   {
    "duration": 59,
    "start_time": "2022-07-14T00:11:54.448Z"
   },
   {
    "duration": 3,
    "start_time": "2022-07-14T00:11:54.509Z"
   },
   {
    "duration": 1451,
    "start_time": "2022-07-14T00:11:54.514Z"
   },
   {
    "duration": 4,
    "start_time": "2022-07-14T00:11:55.967Z"
   },
   {
    "duration": 7,
    "start_time": "2022-07-14T00:11:55.973Z"
   },
   {
    "duration": 25,
    "start_time": "2022-07-14T00:11:55.981Z"
   },
   {
    "duration": 6,
    "start_time": "2022-07-14T00:11:56.008Z"
   },
   {
    "duration": 42,
    "start_time": "2022-07-14T00:11:56.015Z"
   },
   {
    "duration": 63,
    "start_time": "2022-07-14T00:11:56.059Z"
   },
   {
    "duration": 275,
    "start_time": "2022-07-14T00:11:56.124Z"
   },
   {
    "duration": 5,
    "start_time": "2022-07-14T00:11:56.401Z"
   },
   {
    "duration": 10,
    "start_time": "2022-07-14T00:11:56.408Z"
   },
   {
    "duration": 1059,
    "start_time": "2022-07-14T00:11:56.419Z"
   },
   {
    "duration": 5,
    "start_time": "2022-07-14T00:11:57.479Z"
   },
   {
    "duration": 30250,
    "start_time": "2022-07-14T00:11:57.486Z"
   },
   {
    "duration": 3,
    "start_time": "2022-07-14T00:12:27.737Z"
   },
   {
    "duration": 10,
    "start_time": "2022-07-14T00:12:27.742Z"
   },
   {
    "duration": 7762,
    "start_time": "2022-07-14T00:12:27.753Z"
   },
   {
    "duration": 4,
    "start_time": "2022-07-14T00:12:35.517Z"
   },
   {
    "duration": 76,
    "start_time": "2022-07-14T00:12:35.523Z"
   },
   {
    "duration": 15,
    "start_time": "2022-07-14T00:12:35.601Z"
   },
   {
    "duration": 16504,
    "start_time": "2022-07-14T00:12:35.618Z"
   },
   {
    "duration": 6,
    "start_time": "2022-07-14T00:12:52.124Z"
   },
   {
    "duration": 9,
    "start_time": "2022-07-14T00:12:52.132Z"
   },
   {
    "duration": 1603,
    "start_time": "2022-07-14T00:13:48.763Z"
   },
   {
    "duration": 1007,
    "start_time": "2022-07-14T00:13:50.368Z"
   },
   {
    "duration": 402,
    "start_time": "2022-07-14T00:13:51.377Z"
   },
   {
    "duration": 19,
    "start_time": "2022-07-14T00:13:51.781Z"
   },
   {
    "duration": 396,
    "start_time": "2022-07-14T00:13:51.802Z"
   },
   {
    "duration": 8,
    "start_time": "2022-07-14T00:13:52.199Z"
   },
   {
    "duration": 44,
    "start_time": "2022-07-14T00:13:52.208Z"
   },
   {
    "duration": 4,
    "start_time": "2022-07-14T00:13:52.253Z"
   },
   {
    "duration": 183,
    "start_time": "2022-07-14T00:13:52.259Z"
   },
   {
    "duration": 1652,
    "start_time": "2022-07-14T00:13:52.446Z"
   },
   {
    "duration": 13,
    "start_time": "2022-07-14T00:13:54.100Z"
   },
   {
    "duration": 51,
    "start_time": "2022-07-14T00:13:54.114Z"
   },
   {
    "duration": 34,
    "start_time": "2022-07-14T00:13:54.166Z"
   },
   {
    "duration": 79,
    "start_time": "2022-07-14T00:13:54.201Z"
   },
   {
    "duration": 83,
    "start_time": "2022-07-14T00:13:54.282Z"
   },
   {
    "duration": 73,
    "start_time": "2022-07-14T00:13:54.366Z"
   },
   {
    "duration": 3,
    "start_time": "2022-07-14T00:13:54.441Z"
   },
   {
    "duration": 159,
    "start_time": "2022-07-14T00:13:54.446Z"
   },
   {
    "duration": 38,
    "start_time": "2022-07-14T00:13:54.607Z"
   },
   {
    "duration": 177,
    "start_time": "2022-07-14T00:13:54.647Z"
   },
   {
    "duration": 3,
    "start_time": "2022-07-14T00:13:54.826Z"
   },
   {
    "duration": 5,
    "start_time": "2022-07-14T00:13:54.831Z"
   },
   {
    "duration": 17,
    "start_time": "2022-07-14T00:13:54.838Z"
   },
   {
    "duration": 392,
    "start_time": "2022-07-14T00:13:54.857Z"
   },
   {
    "duration": 47,
    "start_time": "2022-07-14T00:13:55.251Z"
   },
   {
    "duration": 46,
    "start_time": "2022-07-14T00:13:55.299Z"
   },
   {
    "duration": 1644,
    "start_time": "2022-07-14T00:13:55.347Z"
   },
   {
    "duration": 22,
    "start_time": "2022-07-14T00:13:56.994Z"
   },
   {
    "duration": 1477,
    "start_time": "2022-07-14T00:13:57.017Z"
   },
   {
    "duration": 228,
    "start_time": "2022-07-14T00:13:58.498Z"
   },
   {
    "duration": 41,
    "start_time": "2022-07-14T00:13:58.728Z"
   },
   {
    "duration": 1487,
    "start_time": "2022-07-14T00:13:58.771Z"
   },
   {
    "duration": 8,
    "start_time": "2022-07-14T00:14:00.260Z"
   },
   {
    "duration": 71,
    "start_time": "2022-07-14T00:14:00.270Z"
   },
   {
    "duration": 1450,
    "start_time": "2022-07-14T00:14:00.343Z"
   },
   {
    "duration": 17,
    "start_time": "2022-07-14T00:14:01.798Z"
   },
   {
    "duration": 35,
    "start_time": "2022-07-14T00:14:01.816Z"
   },
   {
    "duration": 1426,
    "start_time": "2022-07-14T00:14:01.853Z"
   },
   {
    "duration": 162,
    "start_time": "2022-07-14T00:14:03.281Z"
   },
   {
    "duration": 30,
    "start_time": "2022-07-14T00:14:03.445Z"
   },
   {
    "duration": 64,
    "start_time": "2022-07-14T00:14:03.477Z"
   },
   {
    "duration": 117,
    "start_time": "2022-07-14T00:14:03.542Z"
   },
   {
    "duration": 140,
    "start_time": "2022-07-14T00:14:03.661Z"
   },
   {
    "duration": 200,
    "start_time": "2022-07-14T00:14:03.803Z"
   },
   {
    "duration": 58,
    "start_time": "2022-07-14T00:14:04.005Z"
   },
   {
    "duration": 2,
    "start_time": "2022-07-14T00:14:04.065Z"
   },
   {
    "duration": 1496,
    "start_time": "2022-07-14T00:14:04.069Z"
   },
   {
    "duration": 88,
    "start_time": "2022-07-14T00:14:05.567Z"
   },
   {
    "duration": 0,
    "start_time": "2022-07-14T00:14:05.657Z"
   },
   {
    "duration": 0,
    "start_time": "2022-07-14T00:14:05.659Z"
   },
   {
    "duration": 0,
    "start_time": "2022-07-14T00:14:05.660Z"
   },
   {
    "duration": 0,
    "start_time": "2022-07-14T00:14:05.661Z"
   },
   {
    "duration": 0,
    "start_time": "2022-07-14T00:14:05.663Z"
   },
   {
    "duration": 0,
    "start_time": "2022-07-14T00:14:05.664Z"
   },
   {
    "duration": 0,
    "start_time": "2022-07-14T00:14:05.666Z"
   },
   {
    "duration": 0,
    "start_time": "2022-07-14T00:14:05.667Z"
   },
   {
    "duration": 0,
    "start_time": "2022-07-14T00:14:05.668Z"
   },
   {
    "duration": 0,
    "start_time": "2022-07-14T00:14:05.670Z"
   },
   {
    "duration": 0,
    "start_time": "2022-07-14T00:14:05.671Z"
   },
   {
    "duration": 0,
    "start_time": "2022-07-14T00:14:05.672Z"
   },
   {
    "duration": 0,
    "start_time": "2022-07-14T00:14:05.673Z"
   },
   {
    "duration": 0,
    "start_time": "2022-07-14T00:14:05.675Z"
   },
   {
    "duration": 0,
    "start_time": "2022-07-14T00:14:05.676Z"
   },
   {
    "duration": 0,
    "start_time": "2022-07-14T00:14:05.677Z"
   },
   {
    "duration": 0,
    "start_time": "2022-07-14T00:14:05.678Z"
   },
   {
    "duration": 0,
    "start_time": "2022-07-14T00:14:05.679Z"
   },
   {
    "duration": 0,
    "start_time": "2022-07-14T00:14:05.680Z"
   },
   {
    "duration": 0,
    "start_time": "2022-07-14T00:14:05.682Z"
   },
   {
    "duration": 1594,
    "start_time": "2022-07-14T00:14:30.797Z"
   },
   {
    "duration": 998,
    "start_time": "2022-07-14T00:14:32.393Z"
   },
   {
    "duration": 411,
    "start_time": "2022-07-14T00:14:33.393Z"
   },
   {
    "duration": 14,
    "start_time": "2022-07-14T00:14:33.806Z"
   },
   {
    "duration": 408,
    "start_time": "2022-07-14T00:14:33.821Z"
   },
   {
    "duration": 7,
    "start_time": "2022-07-14T00:14:34.231Z"
   },
   {
    "duration": 59,
    "start_time": "2022-07-14T00:14:34.240Z"
   },
   {
    "duration": 3,
    "start_time": "2022-07-14T00:14:34.301Z"
   },
   {
    "duration": 179,
    "start_time": "2022-07-14T00:14:34.305Z"
   },
   {
    "duration": 1678,
    "start_time": "2022-07-14T00:14:34.487Z"
   },
   {
    "duration": 12,
    "start_time": "2022-07-14T00:14:36.166Z"
   },
   {
    "duration": 60,
    "start_time": "2022-07-14T00:14:36.179Z"
   },
   {
    "duration": 14,
    "start_time": "2022-07-14T00:14:36.241Z"
   },
   {
    "duration": 90,
    "start_time": "2022-07-14T00:14:36.257Z"
   },
   {
    "duration": 88,
    "start_time": "2022-07-14T00:14:36.349Z"
   },
   {
    "duration": 72,
    "start_time": "2022-07-14T00:14:36.439Z"
   },
   {
    "duration": 4,
    "start_time": "2022-07-14T00:14:36.513Z"
   },
   {
    "duration": 211,
    "start_time": "2022-07-14T00:14:36.518Z"
   },
   {
    "duration": 37,
    "start_time": "2022-07-14T00:14:36.731Z"
   },
   {
    "duration": 195,
    "start_time": "2022-07-14T00:14:36.770Z"
   },
   {
    "duration": 3,
    "start_time": "2022-07-14T00:14:36.967Z"
   },
   {
    "duration": 7,
    "start_time": "2022-07-14T00:14:36.972Z"
   },
   {
    "duration": 29,
    "start_time": "2022-07-14T00:14:36.981Z"
   },
   {
    "duration": 357,
    "start_time": "2022-07-14T00:14:37.012Z"
   },
   {
    "duration": 34,
    "start_time": "2022-07-14T00:14:37.370Z"
   },
   {
    "duration": 47,
    "start_time": "2022-07-14T00:14:37.405Z"
   },
   {
    "duration": 1648,
    "start_time": "2022-07-14T00:14:37.454Z"
   },
   {
    "duration": 20,
    "start_time": "2022-07-14T00:14:39.106Z"
   },
   {
    "duration": 1454,
    "start_time": "2022-07-14T00:14:39.128Z"
   },
   {
    "duration": 234,
    "start_time": "2022-07-14T00:14:40.584Z"
   },
   {
    "duration": 38,
    "start_time": "2022-07-14T00:14:40.819Z"
   },
   {
    "duration": 1405,
    "start_time": "2022-07-14T00:14:40.859Z"
   },
   {
    "duration": 7,
    "start_time": "2022-07-14T00:14:42.266Z"
   },
   {
    "duration": 76,
    "start_time": "2022-07-14T00:14:42.275Z"
   },
   {
    "duration": 1418,
    "start_time": "2022-07-14T00:14:42.353Z"
   },
   {
    "duration": 26,
    "start_time": "2022-07-14T00:14:43.772Z"
   },
   {
    "duration": 34,
    "start_time": "2022-07-14T00:14:43.800Z"
   },
   {
    "duration": 1437,
    "start_time": "2022-07-14T00:14:43.836Z"
   },
   {
    "duration": 156,
    "start_time": "2022-07-14T00:14:45.275Z"
   },
   {
    "duration": 30,
    "start_time": "2022-07-14T00:14:45.433Z"
   },
   {
    "duration": 72,
    "start_time": "2022-07-14T00:14:45.465Z"
   },
   {
    "duration": 129,
    "start_time": "2022-07-14T00:14:45.539Z"
   },
   {
    "duration": 141,
    "start_time": "2022-07-14T00:14:45.669Z"
   },
   {
    "duration": 199,
    "start_time": "2022-07-14T00:14:45.811Z"
   },
   {
    "duration": 56,
    "start_time": "2022-07-14T00:14:46.011Z"
   },
   {
    "duration": 2,
    "start_time": "2022-07-14T00:14:46.069Z"
   },
   {
    "duration": 1544,
    "start_time": "2022-07-14T00:14:46.073Z"
   },
   {
    "duration": 3,
    "start_time": "2022-07-14T00:14:47.619Z"
   },
   {
    "duration": 9,
    "start_time": "2022-07-14T00:14:47.624Z"
   },
   {
    "duration": 15,
    "start_time": "2022-07-14T00:14:47.634Z"
   },
   {
    "duration": 5,
    "start_time": "2022-07-14T00:14:47.651Z"
   },
   {
    "duration": 53,
    "start_time": "2022-07-14T00:14:47.658Z"
   },
   {
    "duration": 51,
    "start_time": "2022-07-14T00:14:47.713Z"
   },
   {
    "duration": 235,
    "start_time": "2022-07-14T00:14:47.765Z"
   },
   {
    "duration": 4,
    "start_time": "2022-07-14T00:14:48.001Z"
   },
   {
    "duration": 7,
    "start_time": "2022-07-14T00:14:48.007Z"
   },
   {
    "duration": 1007,
    "start_time": "2022-07-14T00:14:48.016Z"
   },
   {
    "duration": 4,
    "start_time": "2022-07-14T00:14:49.025Z"
   },
   {
    "duration": 28900,
    "start_time": "2022-07-14T00:14:49.031Z"
   },
   {
    "duration": 3,
    "start_time": "2022-07-14T00:15:17.933Z"
   },
   {
    "duration": 5,
    "start_time": "2022-07-14T00:15:17.938Z"
   },
   {
    "duration": 7672,
    "start_time": "2022-07-14T00:15:17.945Z"
   },
   {
    "duration": 5,
    "start_time": "2022-07-14T00:15:25.618Z"
   },
   {
    "duration": 22,
    "start_time": "2022-07-14T00:15:25.625Z"
   },
   {
    "duration": 5,
    "start_time": "2022-07-14T00:15:25.649Z"
   },
   {
    "duration": 16570,
    "start_time": "2022-07-14T00:15:25.656Z"
   },
   {
    "duration": 7,
    "start_time": "2022-07-14T00:15:42.228Z"
   },
   {
    "duration": 9,
    "start_time": "2022-07-14T00:15:42.237Z"
   },
   {
    "duration": 1606,
    "start_time": "2022-07-14T00:17:14.549Z"
   },
   {
    "duration": 1078,
    "start_time": "2022-07-14T00:17:16.157Z"
   },
   {
    "duration": 407,
    "start_time": "2022-07-14T00:17:17.237Z"
   },
   {
    "duration": 15,
    "start_time": "2022-07-14T00:17:17.647Z"
   },
   {
    "duration": 413,
    "start_time": "2022-07-14T00:17:17.664Z"
   },
   {
    "duration": 7,
    "start_time": "2022-07-14T00:17:18.079Z"
   },
   {
    "duration": 56,
    "start_time": "2022-07-14T00:17:18.088Z"
   },
   {
    "duration": 3,
    "start_time": "2022-07-14T00:17:18.146Z"
   },
   {
    "duration": 183,
    "start_time": "2022-07-14T00:17:18.150Z"
   },
   {
    "duration": 1768,
    "start_time": "2022-07-14T00:17:18.336Z"
   },
   {
    "duration": 12,
    "start_time": "2022-07-14T00:17:20.106Z"
   },
   {
    "duration": 51,
    "start_time": "2022-07-14T00:17:20.120Z"
   },
   {
    "duration": 32,
    "start_time": "2022-07-14T00:17:20.173Z"
   },
   {
    "duration": 73,
    "start_time": "2022-07-14T00:17:20.208Z"
   },
   {
    "duration": 81,
    "start_time": "2022-07-14T00:17:20.297Z"
   },
   {
    "duration": 75,
    "start_time": "2022-07-14T00:17:20.380Z"
   },
   {
    "duration": 4,
    "start_time": "2022-07-14T00:17:20.457Z"
   },
   {
    "duration": 173,
    "start_time": "2022-07-14T00:17:20.463Z"
   },
   {
    "duration": 29,
    "start_time": "2022-07-14T00:17:20.637Z"
   },
   {
    "duration": 183,
    "start_time": "2022-07-14T00:17:20.668Z"
   },
   {
    "duration": 1040,
    "start_time": "2022-07-14T00:17:20.853Z"
   },
   {
    "duration": 3,
    "start_time": "2022-07-14T00:17:21.897Z"
   },
   {
    "duration": 6,
    "start_time": "2022-07-14T00:17:21.902Z"
   },
   {
    "duration": 19,
    "start_time": "2022-07-14T00:17:21.910Z"
   },
   {
    "duration": 408,
    "start_time": "2022-07-14T00:17:21.931Z"
   },
   {
    "duration": 28,
    "start_time": "2022-07-14T00:17:22.341Z"
   },
   {
    "duration": 58,
    "start_time": "2022-07-14T00:17:22.372Z"
   },
   {
    "duration": 1638,
    "start_time": "2022-07-14T00:17:22.434Z"
   },
   {
    "duration": 32,
    "start_time": "2022-07-14T00:17:24.074Z"
   },
   {
    "duration": 1383,
    "start_time": "2022-07-14T00:17:24.108Z"
   },
   {
    "duration": 246,
    "start_time": "2022-07-14T00:17:25.498Z"
   },
   {
    "duration": 52,
    "start_time": "2022-07-14T00:17:25.746Z"
   },
   {
    "duration": 1396,
    "start_time": "2022-07-14T00:17:25.799Z"
   },
   {
    "duration": 7,
    "start_time": "2022-07-14T00:17:27.198Z"
   },
   {
    "duration": 57,
    "start_time": "2022-07-14T00:17:27.207Z"
   },
   {
    "duration": 1439,
    "start_time": "2022-07-14T00:17:27.267Z"
   },
   {
    "duration": 17,
    "start_time": "2022-07-14T00:17:28.707Z"
   },
   {
    "duration": 35,
    "start_time": "2022-07-14T00:17:28.726Z"
   },
   {
    "duration": 1456,
    "start_time": "2022-07-14T00:17:28.764Z"
   },
   {
    "duration": 161,
    "start_time": "2022-07-14T00:17:30.222Z"
   },
   {
    "duration": 38,
    "start_time": "2022-07-14T00:17:30.386Z"
   },
   {
    "duration": 73,
    "start_time": "2022-07-14T00:17:30.427Z"
   },
   {
    "duration": 115,
    "start_time": "2022-07-14T00:17:30.502Z"
   },
   {
    "duration": 149,
    "start_time": "2022-07-14T00:17:30.619Z"
   },
   {
    "duration": 220,
    "start_time": "2022-07-14T00:17:30.770Z"
   },
   {
    "duration": 60,
    "start_time": "2022-07-14T00:17:30.992Z"
   },
   {
    "duration": 2,
    "start_time": "2022-07-14T00:17:31.055Z"
   },
   {
    "duration": 1523,
    "start_time": "2022-07-14T00:17:31.059Z"
   },
   {
    "duration": 3,
    "start_time": "2022-07-14T00:17:32.584Z"
   },
   {
    "duration": 10,
    "start_time": "2022-07-14T00:17:32.589Z"
   },
   {
    "duration": 12,
    "start_time": "2022-07-14T00:17:32.601Z"
   },
   {
    "duration": 8,
    "start_time": "2022-07-14T00:17:32.614Z"
   },
   {
    "duration": 5,
    "start_time": "2022-07-14T00:17:32.624Z"
   },
   {
    "duration": 587,
    "start_time": "2022-07-14T00:17:32.631Z"
   },
   {
    "duration": 216,
    "start_time": "2022-07-14T00:17:33.219Z"
   },
   {
    "duration": 0,
    "start_time": "2022-07-14T00:17:33.437Z"
   },
   {
    "duration": 0,
    "start_time": "2022-07-14T00:17:33.438Z"
   },
   {
    "duration": 0,
    "start_time": "2022-07-14T00:17:33.439Z"
   },
   {
    "duration": 0,
    "start_time": "2022-07-14T00:17:33.440Z"
   },
   {
    "duration": 0,
    "start_time": "2022-07-14T00:17:33.441Z"
   },
   {
    "duration": 0,
    "start_time": "2022-07-14T00:17:33.442Z"
   },
   {
    "duration": 0,
    "start_time": "2022-07-14T00:17:33.550Z"
   },
   {
    "duration": 0,
    "start_time": "2022-07-14T00:17:33.551Z"
   },
   {
    "duration": 0,
    "start_time": "2022-07-14T00:17:33.552Z"
   },
   {
    "duration": 0,
    "start_time": "2022-07-14T00:17:33.553Z"
   },
   {
    "duration": 0,
    "start_time": "2022-07-14T00:17:33.554Z"
   },
   {
    "duration": 0,
    "start_time": "2022-07-14T00:17:33.555Z"
   },
   {
    "duration": 0,
    "start_time": "2022-07-14T00:17:33.557Z"
   },
   {
    "duration": 0,
    "start_time": "2022-07-14T00:17:33.558Z"
   },
   {
    "duration": 4,
    "start_time": "2022-07-14T00:17:49.338Z"
   },
   {
    "duration": 4,
    "start_time": "2022-07-14T00:17:49.913Z"
   },
   {
    "duration": 824,
    "start_time": "2022-07-14T00:17:50.593Z"
   },
   {
    "duration": 4,
    "start_time": "2022-07-14T00:17:51.993Z"
   },
   {
    "duration": 148,
    "start_time": "2022-07-14T00:19:37.250Z"
   },
   {
    "duration": 1572,
    "start_time": "2022-07-14T00:20:50.629Z"
   },
   {
    "duration": 1001,
    "start_time": "2022-07-14T00:20:52.203Z"
   },
   {
    "duration": 403,
    "start_time": "2022-07-14T00:20:53.206Z"
   },
   {
    "duration": 17,
    "start_time": "2022-07-14T00:20:53.611Z"
   },
   {
    "duration": 421,
    "start_time": "2022-07-14T00:20:53.630Z"
   },
   {
    "duration": 9,
    "start_time": "2022-07-14T00:20:54.053Z"
   },
   {
    "duration": 58,
    "start_time": "2022-07-14T00:20:54.065Z"
   },
   {
    "duration": 4,
    "start_time": "2022-07-14T00:20:54.125Z"
   },
   {
    "duration": 176,
    "start_time": "2022-07-14T00:20:54.131Z"
   },
   {
    "duration": 1682,
    "start_time": "2022-07-14T00:20:54.309Z"
   },
   {
    "duration": 15,
    "start_time": "2022-07-14T00:20:55.992Z"
   },
   {
    "duration": 53,
    "start_time": "2022-07-14T00:20:56.008Z"
   },
   {
    "duration": 14,
    "start_time": "2022-07-14T00:20:56.062Z"
   },
   {
    "duration": 72,
    "start_time": "2022-07-14T00:20:56.098Z"
   },
   {
    "duration": 87,
    "start_time": "2022-07-14T00:20:56.171Z"
   },
   {
    "duration": 73,
    "start_time": "2022-07-14T00:20:56.259Z"
   },
   {
    "duration": 4,
    "start_time": "2022-07-14T00:20:56.334Z"
   },
   {
    "duration": 165,
    "start_time": "2022-07-14T00:20:56.339Z"
   },
   {
    "duration": 29,
    "start_time": "2022-07-14T00:20:56.506Z"
   },
   {
    "duration": 216,
    "start_time": "2022-07-14T00:20:56.537Z"
   },
   {
    "duration": 3,
    "start_time": "2022-07-14T00:20:56.755Z"
   },
   {
    "duration": 9,
    "start_time": "2022-07-14T00:20:56.760Z"
   },
   {
    "duration": 823,
    "start_time": "2022-07-14T00:20:56.771Z"
   },
   {
    "duration": 131,
    "start_time": "2022-07-14T00:20:57.596Z"
   },
   {
    "duration": 1505,
    "start_time": "2022-07-14T00:20:57.729Z"
   },
   {
    "duration": 0,
    "start_time": "2022-07-14T00:20:59.237Z"
   },
   {
    "duration": 0,
    "start_time": "2022-07-14T00:20:59.239Z"
   },
   {
    "duration": 0,
    "start_time": "2022-07-14T00:20:59.240Z"
   },
   {
    "duration": 0,
    "start_time": "2022-07-14T00:20:59.241Z"
   },
   {
    "duration": 0,
    "start_time": "2022-07-14T00:20:59.241Z"
   },
   {
    "duration": 0,
    "start_time": "2022-07-14T00:20:59.242Z"
   },
   {
    "duration": 0,
    "start_time": "2022-07-14T00:20:59.243Z"
   },
   {
    "duration": 0,
    "start_time": "2022-07-14T00:20:59.244Z"
   },
   {
    "duration": 0,
    "start_time": "2022-07-14T00:20:59.245Z"
   },
   {
    "duration": 0,
    "start_time": "2022-07-14T00:20:59.246Z"
   },
   {
    "duration": 0,
    "start_time": "2022-07-14T00:20:59.247Z"
   },
   {
    "duration": 0,
    "start_time": "2022-07-14T00:20:59.248Z"
   },
   {
    "duration": 0,
    "start_time": "2022-07-14T00:20:59.249Z"
   },
   {
    "duration": 0,
    "start_time": "2022-07-14T00:20:59.250Z"
   },
   {
    "duration": 0,
    "start_time": "2022-07-14T00:20:59.251Z"
   },
   {
    "duration": 0,
    "start_time": "2022-07-14T00:20:59.252Z"
   },
   {
    "duration": 0,
    "start_time": "2022-07-14T00:20:59.253Z"
   },
   {
    "duration": 0,
    "start_time": "2022-07-14T00:20:59.254Z"
   },
   {
    "duration": 0,
    "start_time": "2022-07-14T00:20:59.254Z"
   },
   {
    "duration": 0,
    "start_time": "2022-07-14T00:20:59.255Z"
   },
   {
    "duration": 0,
    "start_time": "2022-07-14T00:20:59.256Z"
   },
   {
    "duration": 0,
    "start_time": "2022-07-14T00:20:59.257Z"
   },
   {
    "duration": 0,
    "start_time": "2022-07-14T00:20:59.258Z"
   },
   {
    "duration": 0,
    "start_time": "2022-07-14T00:20:59.259Z"
   },
   {
    "duration": 0,
    "start_time": "2022-07-14T00:20:59.260Z"
   },
   {
    "duration": 0,
    "start_time": "2022-07-14T00:20:59.261Z"
   },
   {
    "duration": 0,
    "start_time": "2022-07-14T00:20:59.262Z"
   },
   {
    "duration": 0,
    "start_time": "2022-07-14T00:20:59.263Z"
   },
   {
    "duration": 0,
    "start_time": "2022-07-14T00:20:59.264Z"
   },
   {
    "duration": 0,
    "start_time": "2022-07-14T00:20:59.265Z"
   },
   {
    "duration": 0,
    "start_time": "2022-07-14T00:20:59.266Z"
   },
   {
    "duration": 0,
    "start_time": "2022-07-14T00:20:59.267Z"
   },
   {
    "duration": 0,
    "start_time": "2022-07-14T00:20:59.268Z"
   },
   {
    "duration": 0,
    "start_time": "2022-07-14T00:20:59.269Z"
   },
   {
    "duration": 0,
    "start_time": "2022-07-14T00:20:59.270Z"
   },
   {
    "duration": 0,
    "start_time": "2022-07-14T00:20:59.271Z"
   },
   {
    "duration": 0,
    "start_time": "2022-07-14T00:20:59.272Z"
   },
   {
    "duration": 0,
    "start_time": "2022-07-14T00:20:59.298Z"
   },
   {
    "duration": 0,
    "start_time": "2022-07-14T00:20:59.299Z"
   },
   {
    "duration": 0,
    "start_time": "2022-07-14T00:20:59.301Z"
   },
   {
    "duration": 0,
    "start_time": "2022-07-14T00:20:59.302Z"
   },
   {
    "duration": 1,
    "start_time": "2022-07-14T00:20:59.302Z"
   },
   {
    "duration": 0,
    "start_time": "2022-07-14T00:20:59.303Z"
   },
   {
    "duration": 0,
    "start_time": "2022-07-14T00:20:59.304Z"
   },
   {
    "duration": 0,
    "start_time": "2022-07-14T00:20:59.305Z"
   },
   {
    "duration": 2,
    "start_time": "2022-07-14T00:23:57.930Z"
   },
   {
    "duration": 26,
    "start_time": "2022-07-14T00:23:59.429Z"
   },
   {
    "duration": 1616,
    "start_time": "2022-07-14T00:24:04.480Z"
   },
   {
    "duration": 1023,
    "start_time": "2022-07-14T00:24:06.098Z"
   },
   {
    "duration": 399,
    "start_time": "2022-07-14T00:24:07.123Z"
   },
   {
    "duration": 15,
    "start_time": "2022-07-14T00:24:07.525Z"
   },
   {
    "duration": 415,
    "start_time": "2022-07-14T00:24:07.542Z"
   },
   {
    "duration": 7,
    "start_time": "2022-07-14T00:24:07.958Z"
   },
   {
    "duration": 54,
    "start_time": "2022-07-14T00:24:07.967Z"
   },
   {
    "duration": 5,
    "start_time": "2022-07-14T00:24:08.023Z"
   },
   {
    "duration": 177,
    "start_time": "2022-07-14T00:24:08.030Z"
   },
   {
    "duration": 1677,
    "start_time": "2022-07-14T00:24:08.210Z"
   },
   {
    "duration": 19,
    "start_time": "2022-07-14T00:24:09.888Z"
   },
   {
    "duration": 52,
    "start_time": "2022-07-14T00:24:09.909Z"
   },
   {
    "duration": 35,
    "start_time": "2022-07-14T00:24:09.963Z"
   },
   {
    "duration": 72,
    "start_time": "2022-07-14T00:24:10.000Z"
   },
   {
    "duration": 89,
    "start_time": "2022-07-14T00:24:10.074Z"
   },
   {
    "duration": 71,
    "start_time": "2022-07-14T00:24:10.165Z"
   },
   {
    "duration": 4,
    "start_time": "2022-07-14T00:24:10.238Z"
   },
   {
    "duration": 174,
    "start_time": "2022-07-14T00:24:10.243Z"
   },
   {
    "duration": 29,
    "start_time": "2022-07-14T00:24:10.419Z"
   },
   {
    "duration": 182,
    "start_time": "2022-07-14T00:24:10.450Z"
   },
   {
    "duration": 2,
    "start_time": "2022-07-14T00:24:10.633Z"
   },
   {
    "duration": 5,
    "start_time": "2022-07-14T00:24:10.637Z"
   },
   {
    "duration": 929,
    "start_time": "2022-07-14T00:24:10.643Z"
   },
   {
    "duration": 105,
    "start_time": "2022-07-14T00:24:11.574Z"
   },
   {
    "duration": 3,
    "start_time": "2022-07-14T00:24:11.680Z"
   },
   {
    "duration": 40,
    "start_time": "2022-07-14T00:24:11.684Z"
   },
   {
    "duration": 240,
    "start_time": "2022-07-14T00:24:11.726Z"
   },
   {
    "duration": 1589,
    "start_time": "2022-07-14T00:24:11.970Z"
   },
   {
    "duration": 89,
    "start_time": "2022-07-14T00:24:13.561Z"
   },
   {
    "duration": 1432,
    "start_time": "2022-07-14T00:24:13.652Z"
   },
   {
    "duration": 1025,
    "start_time": "2022-07-14T00:24:15.086Z"
   },
   {
    "duration": 66,
    "start_time": "2022-07-14T00:24:16.113Z"
   },
   {
    "duration": 1425,
    "start_time": "2022-07-14T00:24:16.181Z"
   },
   {
    "duration": 22,
    "start_time": "2022-07-14T00:24:17.608Z"
   },
   {
    "duration": 1899,
    "start_time": "2022-07-14T00:24:17.632Z"
   },
   {
    "duration": 1449,
    "start_time": "2022-07-14T00:24:19.533Z"
   },
   {
    "duration": 51,
    "start_time": "2022-07-14T00:24:20.983Z"
   },
   {
    "duration": 251,
    "start_time": "2022-07-14T00:24:21.036Z"
   },
   {
    "duration": 1405,
    "start_time": "2022-07-14T00:24:21.289Z"
   },
   {
    "duration": 162,
    "start_time": "2022-07-14T00:24:22.699Z"
   },
   {
    "duration": 102,
    "start_time": "2022-07-14T00:24:22.863Z"
   },
   {
    "duration": 132,
    "start_time": "2022-07-14T00:24:22.967Z"
   },
   {
    "duration": 0,
    "start_time": "2022-07-14T00:24:23.100Z"
   },
   {
    "duration": 0,
    "start_time": "2022-07-14T00:24:23.101Z"
   },
   {
    "duration": 0,
    "start_time": "2022-07-14T00:24:23.102Z"
   },
   {
    "duration": 0,
    "start_time": "2022-07-14T00:24:23.103Z"
   },
   {
    "duration": 1,
    "start_time": "2022-07-14T00:24:23.104Z"
   },
   {
    "duration": 0,
    "start_time": "2022-07-14T00:24:23.106Z"
   },
   {
    "duration": 0,
    "start_time": "2022-07-14T00:24:23.107Z"
   },
   {
    "duration": 0,
    "start_time": "2022-07-14T00:24:23.108Z"
   },
   {
    "duration": 0,
    "start_time": "2022-07-14T00:24:23.109Z"
   },
   {
    "duration": 0,
    "start_time": "2022-07-14T00:24:23.110Z"
   },
   {
    "duration": 0,
    "start_time": "2022-07-14T00:24:23.111Z"
   },
   {
    "duration": 0,
    "start_time": "2022-07-14T00:24:23.112Z"
   },
   {
    "duration": 0,
    "start_time": "2022-07-14T00:24:23.113Z"
   },
   {
    "duration": 0,
    "start_time": "2022-07-14T00:24:23.114Z"
   },
   {
    "duration": 0,
    "start_time": "2022-07-14T00:24:23.115Z"
   },
   {
    "duration": 0,
    "start_time": "2022-07-14T00:24:23.117Z"
   },
   {
    "duration": 0,
    "start_time": "2022-07-14T00:24:23.118Z"
   },
   {
    "duration": 0,
    "start_time": "2022-07-14T00:24:23.119Z"
   },
   {
    "duration": 0,
    "start_time": "2022-07-14T00:24:23.120Z"
   },
   {
    "duration": 0,
    "start_time": "2022-07-14T00:24:23.121Z"
   },
   {
    "duration": 0,
    "start_time": "2022-07-14T00:24:23.122Z"
   },
   {
    "duration": 0,
    "start_time": "2022-07-14T00:24:23.122Z"
   },
   {
    "duration": 0,
    "start_time": "2022-07-14T00:24:23.123Z"
   },
   {
    "duration": 0,
    "start_time": "2022-07-14T00:24:23.124Z"
   },
   {
    "duration": 0,
    "start_time": "2022-07-14T00:24:23.126Z"
   },
   {
    "duration": 0,
    "start_time": "2022-07-14T00:24:23.126Z"
   },
   {
    "duration": 0,
    "start_time": "2022-07-14T00:24:23.127Z"
   },
   {
    "duration": 0,
    "start_time": "2022-07-14T00:24:23.128Z"
   },
   {
    "duration": 1606,
    "start_time": "2022-07-14T00:26:12.284Z"
   },
   {
    "duration": 988,
    "start_time": "2022-07-14T00:26:13.892Z"
   },
   {
    "duration": 391,
    "start_time": "2022-07-14T00:26:14.882Z"
   },
   {
    "duration": 23,
    "start_time": "2022-07-14T00:26:15.275Z"
   },
   {
    "duration": 389,
    "start_time": "2022-07-14T00:26:15.300Z"
   },
   {
    "duration": 12,
    "start_time": "2022-07-14T00:26:15.691Z"
   },
   {
    "duration": 43,
    "start_time": "2022-07-14T00:26:15.704Z"
   },
   {
    "duration": 6,
    "start_time": "2022-07-14T00:26:15.749Z"
   },
   {
    "duration": 177,
    "start_time": "2022-07-14T00:26:15.756Z"
   },
   {
    "duration": 1762,
    "start_time": "2022-07-14T00:26:15.936Z"
   },
   {
    "duration": 12,
    "start_time": "2022-07-14T00:26:17.700Z"
   },
   {
    "duration": 54,
    "start_time": "2022-07-14T00:26:17.714Z"
   },
   {
    "duration": 38,
    "start_time": "2022-07-14T00:26:17.770Z"
   },
   {
    "duration": 75,
    "start_time": "2022-07-14T00:26:17.809Z"
   },
   {
    "duration": 90,
    "start_time": "2022-07-14T00:26:17.886Z"
   },
   {
    "duration": 73,
    "start_time": "2022-07-14T00:26:17.977Z"
   },
   {
    "duration": 3,
    "start_time": "2022-07-14T00:26:18.052Z"
   },
   {
    "duration": 171,
    "start_time": "2022-07-14T00:26:18.057Z"
   },
   {
    "duration": 30,
    "start_time": "2022-07-14T00:26:18.230Z"
   },
   {
    "duration": 188,
    "start_time": "2022-07-14T00:26:18.262Z"
   },
   {
    "duration": 2,
    "start_time": "2022-07-14T00:26:18.452Z"
   },
   {
    "duration": 5,
    "start_time": "2022-07-14T00:26:18.456Z"
   },
   {
    "duration": 5,
    "start_time": "2022-07-14T00:26:18.463Z"
   },
   {
    "duration": 40,
    "start_time": "2022-07-14T00:26:18.469Z"
   },
   {
    "duration": 373,
    "start_time": "2022-07-14T00:26:18.511Z"
   },
   {
    "duration": 37,
    "start_time": "2022-07-14T00:26:18.886Z"
   },
   {
    "duration": 52,
    "start_time": "2022-07-14T00:26:18.925Z"
   },
   {
    "duration": 1598,
    "start_time": "2022-07-14T00:26:18.999Z"
   },
   {
    "duration": 19,
    "start_time": "2022-07-14T00:26:20.599Z"
   },
   {
    "duration": 1472,
    "start_time": "2022-07-14T00:26:20.620Z"
   },
   {
    "duration": 235,
    "start_time": "2022-07-14T00:26:22.098Z"
   },
   {
    "duration": 42,
    "start_time": "2022-07-14T00:26:22.335Z"
   },
   {
    "duration": 1385,
    "start_time": "2022-07-14T00:26:22.379Z"
   },
   {
    "duration": 7,
    "start_time": "2022-07-14T00:26:23.766Z"
   },
   {
    "duration": 78,
    "start_time": "2022-07-14T00:26:23.775Z"
   },
   {
    "duration": 1432,
    "start_time": "2022-07-14T00:26:23.855Z"
   },
   {
    "duration": 23,
    "start_time": "2022-07-14T00:26:25.289Z"
   },
   {
    "duration": 34,
    "start_time": "2022-07-14T00:26:25.314Z"
   },
   {
    "duration": 1493,
    "start_time": "2022-07-14T00:26:25.350Z"
   },
   {
    "duration": 161,
    "start_time": "2022-07-14T00:26:26.845Z"
   },
   {
    "duration": 30,
    "start_time": "2022-07-14T00:26:27.008Z"
   },
   {
    "duration": 64,
    "start_time": "2022-07-14T00:26:27.040Z"
   },
   {
    "duration": 115,
    "start_time": "2022-07-14T00:26:27.106Z"
   },
   {
    "duration": 144,
    "start_time": "2022-07-14T00:26:27.223Z"
   },
   {
    "duration": 203,
    "start_time": "2022-07-14T00:26:27.369Z"
   },
   {
    "duration": 65,
    "start_time": "2022-07-14T00:26:27.575Z"
   },
   {
    "duration": 4,
    "start_time": "2022-07-14T00:26:27.642Z"
   },
   {
    "duration": 1533,
    "start_time": "2022-07-14T00:26:27.648Z"
   },
   {
    "duration": 3,
    "start_time": "2022-07-14T00:26:29.182Z"
   },
   {
    "duration": 11,
    "start_time": "2022-07-14T00:26:29.187Z"
   },
   {
    "duration": 14,
    "start_time": "2022-07-14T00:26:29.200Z"
   },
   {
    "duration": 6,
    "start_time": "2022-07-14T00:26:29.215Z"
   },
   {
    "duration": 4,
    "start_time": "2022-07-14T00:26:29.223Z"
   },
   {
    "duration": 4,
    "start_time": "2022-07-14T00:26:29.229Z"
   },
   {
    "duration": 8,
    "start_time": "2022-07-14T00:26:29.235Z"
   },
   {
    "duration": 157,
    "start_time": "2022-07-14T00:26:29.245Z"
   },
   {
    "duration": 94,
    "start_time": "2022-07-14T00:26:29.404Z"
   },
   {
    "duration": 4,
    "start_time": "2022-07-14T00:26:29.500Z"
   },
   {
    "duration": 851,
    "start_time": "2022-07-14T00:26:29.506Z"
   },
   {
    "duration": 3,
    "start_time": "2022-07-14T00:26:30.359Z"
   },
   {
    "duration": 28309,
    "start_time": "2022-07-14T00:26:30.364Z"
   },
   {
    "duration": 3,
    "start_time": "2022-07-14T00:26:58.674Z"
   },
   {
    "duration": 8,
    "start_time": "2022-07-14T00:26:58.678Z"
   },
   {
    "duration": 8833,
    "start_time": "2022-07-14T00:26:58.687Z"
   },
   {
    "duration": 4,
    "start_time": "2022-07-14T00:27:07.521Z"
   },
   {
    "duration": 11,
    "start_time": "2022-07-14T00:27:07.527Z"
   },
   {
    "duration": 5,
    "start_time": "2022-07-14T00:27:07.599Z"
   },
   {
    "duration": 16486,
    "start_time": "2022-07-14T00:27:07.605Z"
   },
   {
    "duration": 14,
    "start_time": "2022-07-14T00:27:24.093Z"
   },
   {
    "duration": 16,
    "start_time": "2022-07-14T00:27:24.109Z"
   },
   {
    "duration": 117,
    "start_time": "2022-07-14T00:28:44.611Z"
   },
   {
    "duration": 1620,
    "start_time": "2022-07-14T00:28:57.496Z"
   },
   {
    "duration": 1023,
    "start_time": "2022-07-14T00:28:59.118Z"
   },
   {
    "duration": 412,
    "start_time": "2022-07-14T00:29:00.146Z"
   },
   {
    "duration": 16,
    "start_time": "2022-07-14T00:29:00.560Z"
   },
   {
    "duration": 410,
    "start_time": "2022-07-14T00:29:00.578Z"
   },
   {
    "duration": 12,
    "start_time": "2022-07-14T00:29:00.990Z"
   },
   {
    "duration": 44,
    "start_time": "2022-07-14T00:29:01.004Z"
   },
   {
    "duration": 3,
    "start_time": "2022-07-14T00:29:01.050Z"
   },
   {
    "duration": 181,
    "start_time": "2022-07-14T00:29:01.055Z"
   },
   {
    "duration": 1835,
    "start_time": "2022-07-14T00:29:01.237Z"
   },
   {
    "duration": 11,
    "start_time": "2022-07-14T00:29:03.074Z"
   },
   {
    "duration": 60,
    "start_time": "2022-07-14T00:29:03.087Z"
   },
   {
    "duration": 14,
    "start_time": "2022-07-14T00:29:03.148Z"
   },
   {
    "duration": 89,
    "start_time": "2022-07-14T00:29:03.164Z"
   },
   {
    "duration": 90,
    "start_time": "2022-07-14T00:29:03.255Z"
   },
   {
    "duration": 72,
    "start_time": "2022-07-14T00:29:03.347Z"
   },
   {
    "duration": 4,
    "start_time": "2022-07-14T00:29:03.420Z"
   },
   {
    "duration": 165,
    "start_time": "2022-07-14T00:29:03.426Z"
   },
   {
    "duration": 35,
    "start_time": "2022-07-14T00:29:03.598Z"
   },
   {
    "duration": 184,
    "start_time": "2022-07-14T00:29:03.635Z"
   },
   {
    "duration": 128,
    "start_time": "2022-07-14T00:29:03.821Z"
   },
   {
    "duration": 0,
    "start_time": "2022-07-14T00:29:03.952Z"
   },
   {
    "duration": 0,
    "start_time": "2022-07-14T00:29:03.954Z"
   },
   {
    "duration": 0,
    "start_time": "2022-07-14T00:29:03.955Z"
   },
   {
    "duration": 0,
    "start_time": "2022-07-14T00:29:03.956Z"
   },
   {
    "duration": 0,
    "start_time": "2022-07-14T00:29:03.957Z"
   },
   {
    "duration": 0,
    "start_time": "2022-07-14T00:29:03.959Z"
   },
   {
    "duration": 0,
    "start_time": "2022-07-14T00:29:03.960Z"
   },
   {
    "duration": 0,
    "start_time": "2022-07-14T00:29:03.961Z"
   },
   {
    "duration": 0,
    "start_time": "2022-07-14T00:29:03.962Z"
   },
   {
    "duration": 0,
    "start_time": "2022-07-14T00:29:03.963Z"
   },
   {
    "duration": 0,
    "start_time": "2022-07-14T00:29:03.964Z"
   },
   {
    "duration": 0,
    "start_time": "2022-07-14T00:29:03.965Z"
   },
   {
    "duration": 0,
    "start_time": "2022-07-14T00:29:03.966Z"
   },
   {
    "duration": 0,
    "start_time": "2022-07-14T00:29:03.967Z"
   },
   {
    "duration": 0,
    "start_time": "2022-07-14T00:29:03.968Z"
   },
   {
    "duration": 0,
    "start_time": "2022-07-14T00:29:03.969Z"
   },
   {
    "duration": 0,
    "start_time": "2022-07-14T00:29:03.998Z"
   },
   {
    "duration": 0,
    "start_time": "2022-07-14T00:29:04.000Z"
   },
   {
    "duration": 0,
    "start_time": "2022-07-14T00:29:04.001Z"
   },
   {
    "duration": 0,
    "start_time": "2022-07-14T00:29:04.002Z"
   },
   {
    "duration": 0,
    "start_time": "2022-07-14T00:29:04.003Z"
   },
   {
    "duration": 0,
    "start_time": "2022-07-14T00:29:04.004Z"
   },
   {
    "duration": 0,
    "start_time": "2022-07-14T00:29:04.005Z"
   },
   {
    "duration": 0,
    "start_time": "2022-07-14T00:29:04.006Z"
   },
   {
    "duration": 0,
    "start_time": "2022-07-14T00:29:04.007Z"
   },
   {
    "duration": 0,
    "start_time": "2022-07-14T00:29:04.009Z"
   },
   {
    "duration": 0,
    "start_time": "2022-07-14T00:29:04.010Z"
   },
   {
    "duration": 0,
    "start_time": "2022-07-14T00:29:04.012Z"
   },
   {
    "duration": 0,
    "start_time": "2022-07-14T00:29:04.013Z"
   },
   {
    "duration": 0,
    "start_time": "2022-07-14T00:29:04.014Z"
   },
   {
    "duration": 0,
    "start_time": "2022-07-14T00:29:04.015Z"
   },
   {
    "duration": 0,
    "start_time": "2022-07-14T00:29:04.017Z"
   },
   {
    "duration": 0,
    "start_time": "2022-07-14T00:29:04.018Z"
   },
   {
    "duration": 0,
    "start_time": "2022-07-14T00:29:04.019Z"
   },
   {
    "duration": 0,
    "start_time": "2022-07-14T00:29:04.020Z"
   },
   {
    "duration": 0,
    "start_time": "2022-07-14T00:29:04.021Z"
   },
   {
    "duration": 0,
    "start_time": "2022-07-14T00:29:04.022Z"
   },
   {
    "duration": 0,
    "start_time": "2022-07-14T00:29:04.024Z"
   },
   {
    "duration": 0,
    "start_time": "2022-07-14T00:29:04.025Z"
   },
   {
    "duration": 0,
    "start_time": "2022-07-14T00:29:04.026Z"
   },
   {
    "duration": 0,
    "start_time": "2022-07-14T00:29:04.027Z"
   },
   {
    "duration": 0,
    "start_time": "2022-07-14T00:29:04.028Z"
   },
   {
    "duration": 0,
    "start_time": "2022-07-14T00:29:04.029Z"
   },
   {
    "duration": 0,
    "start_time": "2022-07-14T00:29:04.030Z"
   },
   {
    "duration": 0,
    "start_time": "2022-07-14T00:29:04.031Z"
   },
   {
    "duration": 0,
    "start_time": "2022-07-14T00:29:04.032Z"
   },
   {
    "duration": 0,
    "start_time": "2022-07-14T00:29:04.034Z"
   },
   {
    "duration": 0,
    "start_time": "2022-07-14T00:29:04.035Z"
   },
   {
    "duration": 0,
    "start_time": "2022-07-14T00:29:04.036Z"
   },
   {
    "duration": 0,
    "start_time": "2022-07-14T00:29:04.099Z"
   },
   {
    "duration": 94,
    "start_time": "2022-07-14T00:30:12.602Z"
   },
   {
    "duration": 138,
    "start_time": "2022-07-14T00:30:32.083Z"
   },
   {
    "duration": 15,
    "start_time": "2022-07-14T00:30:50.631Z"
   },
   {
    "duration": 109,
    "start_time": "2022-07-14T00:55:06.332Z"
   },
   {
    "duration": 16,
    "start_time": "2022-07-14T00:55:07.428Z"
   },
   {
    "duration": 4,
    "start_time": "2022-07-14T01:01:56.760Z"
   },
   {
    "duration": 15,
    "start_time": "2022-07-14T01:01:57.311Z"
   },
   {
    "duration": 15,
    "start_time": "2022-07-14T01:02:02.641Z"
   },
   {
    "duration": 8,
    "start_time": "2022-07-14T01:02:55.060Z"
   },
   {
    "duration": 940,
    "start_time": "2022-07-14T01:02:55.071Z"
   },
   {
    "duration": 323,
    "start_time": "2022-07-14T01:02:56.013Z"
   },
   {
    "duration": 12,
    "start_time": "2022-07-14T01:02:56.339Z"
   },
   {
    "duration": 395,
    "start_time": "2022-07-14T01:02:56.353Z"
   },
   {
    "duration": 10,
    "start_time": "2022-07-14T01:02:56.751Z"
   },
   {
    "duration": 65,
    "start_time": "2022-07-14T01:02:56.763Z"
   },
   {
    "duration": 4,
    "start_time": "2022-07-14T01:02:56.830Z"
   },
   {
    "duration": 170,
    "start_time": "2022-07-14T01:02:56.836Z"
   },
   {
    "duration": 1582,
    "start_time": "2022-07-14T01:02:57.009Z"
   },
   {
    "duration": 12,
    "start_time": "2022-07-14T01:02:58.598Z"
   },
   {
    "duration": 50,
    "start_time": "2022-07-14T01:02:58.612Z"
   },
   {
    "duration": 15,
    "start_time": "2022-07-14T01:02:58.663Z"
   },
   {
    "duration": 74,
    "start_time": "2022-07-14T01:02:58.697Z"
   },
   {
    "duration": 94,
    "start_time": "2022-07-14T01:02:58.772Z"
   },
   {
    "duration": 78,
    "start_time": "2022-07-14T01:02:58.868Z"
   },
   {
    "duration": 4,
    "start_time": "2022-07-14T01:02:58.948Z"
   },
   {
    "duration": 181,
    "start_time": "2022-07-14T01:02:58.954Z"
   },
   {
    "duration": 30,
    "start_time": "2022-07-14T01:02:59.137Z"
   },
   {
    "duration": 185,
    "start_time": "2022-07-14T01:02:59.168Z"
   },
   {
    "duration": 3,
    "start_time": "2022-07-14T01:02:59.355Z"
   },
   {
    "duration": 4,
    "start_time": "2022-07-14T01:03:06.139Z"
   },
   {
    "duration": 20,
    "start_time": "2022-07-14T01:03:06.668Z"
   },
   {
    "duration": 874,
    "start_time": "2022-07-14T01:03:29.260Z"
   },
   {
    "duration": 873,
    "start_time": "2022-07-14T01:03:58.997Z"
   },
   {
    "duration": 1897,
    "start_time": "2022-07-14T01:05:00.311Z"
   },
   {
    "duration": 1019,
    "start_time": "2022-07-14T01:05:02.210Z"
   },
   {
    "duration": 392,
    "start_time": "2022-07-14T01:05:03.231Z"
   },
   {
    "duration": 16,
    "start_time": "2022-07-14T01:05:03.625Z"
   },
   {
    "duration": 420,
    "start_time": "2022-07-14T01:05:03.642Z"
   },
   {
    "duration": 8,
    "start_time": "2022-07-14T01:05:04.063Z"
   },
   {
    "duration": 54,
    "start_time": "2022-07-14T01:05:04.072Z"
   },
   {
    "duration": 3,
    "start_time": "2022-07-14T01:05:04.128Z"
   },
   {
    "duration": 176,
    "start_time": "2022-07-14T01:05:04.132Z"
   },
   {
    "duration": 1664,
    "start_time": "2022-07-14T01:05:04.311Z"
   },
   {
    "duration": 22,
    "start_time": "2022-07-14T01:05:05.977Z"
   },
   {
    "duration": 52,
    "start_time": "2022-07-14T01:05:06.000Z"
   },
   {
    "duration": 14,
    "start_time": "2022-07-14T01:05:06.054Z"
   },
   {
    "duration": 97,
    "start_time": "2022-07-14T01:05:06.069Z"
   },
   {
    "duration": 89,
    "start_time": "2022-07-14T01:05:06.168Z"
   },
   {
    "duration": 69,
    "start_time": "2022-07-14T01:05:06.259Z"
   },
   {
    "duration": 4,
    "start_time": "2022-07-14T01:05:06.330Z"
   },
   {
    "duration": 172,
    "start_time": "2022-07-14T01:05:06.336Z"
   },
   {
    "duration": 34,
    "start_time": "2022-07-14T01:05:06.510Z"
   },
   {
    "duration": 221,
    "start_time": "2022-07-14T01:05:06.546Z"
   },
   {
    "duration": 3,
    "start_time": "2022-07-14T01:05:06.768Z"
   },
   {
    "duration": 32,
    "start_time": "2022-07-14T01:05:06.773Z"
   },
   {
    "duration": 968,
    "start_time": "2022-07-14T01:05:06.807Z"
   },
   {
    "duration": 3,
    "start_time": "2022-07-14T01:05:07.776Z"
   },
   {
    "duration": 9,
    "start_time": "2022-07-14T01:05:07.780Z"
   },
   {
    "duration": 19,
    "start_time": "2022-07-14T01:05:07.790Z"
   },
   {
    "duration": 393,
    "start_time": "2022-07-14T01:05:07.811Z"
   },
   {
    "duration": 25,
    "start_time": "2022-07-14T01:05:08.208Z"
   },
   {
    "duration": 42,
    "start_time": "2022-07-14T01:05:08.235Z"
   },
   {
    "duration": 1607,
    "start_time": "2022-07-14T01:05:08.297Z"
   },
   {
    "duration": 22,
    "start_time": "2022-07-14T01:05:09.906Z"
   },
   {
    "duration": 1459,
    "start_time": "2022-07-14T01:05:09.930Z"
   },
   {
    "duration": 276,
    "start_time": "2022-07-14T01:05:11.391Z"
   },
   {
    "duration": 50,
    "start_time": "2022-07-14T01:05:11.669Z"
   },
   {
    "duration": 1427,
    "start_time": "2022-07-14T01:05:11.721Z"
   },
   {
    "duration": 9,
    "start_time": "2022-07-14T01:05:13.150Z"
   },
   {
    "duration": 64,
    "start_time": "2022-07-14T01:05:13.161Z"
   },
   {
    "duration": 1462,
    "start_time": "2022-07-14T01:05:13.227Z"
   },
   {
    "duration": 22,
    "start_time": "2022-07-14T01:05:14.691Z"
   },
   {
    "duration": 36,
    "start_time": "2022-07-14T01:05:14.715Z"
   },
   {
    "duration": 1448,
    "start_time": "2022-07-14T01:05:14.753Z"
   },
   {
    "duration": 160,
    "start_time": "2022-07-14T01:05:16.202Z"
   },
   {
    "duration": 48,
    "start_time": "2022-07-14T01:05:16.364Z"
   },
   {
    "duration": 47,
    "start_time": "2022-07-14T01:05:16.414Z"
   },
   {
    "duration": 114,
    "start_time": "2022-07-14T01:05:16.463Z"
   },
   {
    "duration": 180,
    "start_time": "2022-07-14T01:05:16.578Z"
   },
   {
    "duration": 213,
    "start_time": "2022-07-14T01:05:16.760Z"
   },
   {
    "duration": 59,
    "start_time": "2022-07-14T01:05:16.975Z"
   },
   {
    "duration": 3,
    "start_time": "2022-07-14T01:05:17.035Z"
   },
   {
    "duration": 1503,
    "start_time": "2022-07-14T01:05:17.040Z"
   },
   {
    "duration": 3,
    "start_time": "2022-07-14T01:05:18.545Z"
   },
   {
    "duration": 10,
    "start_time": "2022-07-14T01:05:18.550Z"
   },
   {
    "duration": 33,
    "start_time": "2022-07-14T01:05:18.561Z"
   },
   {
    "duration": 11,
    "start_time": "2022-07-14T01:05:18.595Z"
   },
   {
    "duration": 4,
    "start_time": "2022-07-14T01:05:18.608Z"
   },
   {
    "duration": 575,
    "start_time": "2022-07-14T01:05:18.614Z"
   },
   {
    "duration": 216,
    "start_time": "2022-07-14T01:05:19.191Z"
   },
   {
    "duration": 0,
    "start_time": "2022-07-14T01:05:19.408Z"
   },
   {
    "duration": 0,
    "start_time": "2022-07-14T01:05:19.410Z"
   },
   {
    "duration": 0,
    "start_time": "2022-07-14T01:05:19.411Z"
   },
   {
    "duration": 0,
    "start_time": "2022-07-14T01:05:19.412Z"
   },
   {
    "duration": 0,
    "start_time": "2022-07-14T01:05:19.413Z"
   },
   {
    "duration": 0,
    "start_time": "2022-07-14T01:05:19.414Z"
   },
   {
    "duration": 0,
    "start_time": "2022-07-14T01:05:19.524Z"
   },
   {
    "duration": 0,
    "start_time": "2022-07-14T01:05:19.525Z"
   },
   {
    "duration": 0,
    "start_time": "2022-07-14T01:05:19.526Z"
   },
   {
    "duration": 0,
    "start_time": "2022-07-14T01:05:19.527Z"
   },
   {
    "duration": 0,
    "start_time": "2022-07-14T01:05:19.528Z"
   },
   {
    "duration": 0,
    "start_time": "2022-07-14T01:05:19.529Z"
   },
   {
    "duration": 0,
    "start_time": "2022-07-14T01:05:19.530Z"
   },
   {
    "duration": 0,
    "start_time": "2022-07-14T01:05:19.531Z"
   },
   {
    "duration": 0,
    "start_time": "2022-07-14T01:05:19.532Z"
   },
   {
    "duration": 1655,
    "start_time": "2022-07-14T01:06:14.812Z"
   },
   {
    "duration": 1052,
    "start_time": "2022-07-14T01:06:16.469Z"
   },
   {
    "duration": 407,
    "start_time": "2022-07-14T01:06:17.523Z"
   },
   {
    "duration": 16,
    "start_time": "2022-07-14T01:06:17.932Z"
   },
   {
    "duration": 423,
    "start_time": "2022-07-14T01:06:17.950Z"
   },
   {
    "duration": 7,
    "start_time": "2022-07-14T01:06:18.375Z"
   },
   {
    "duration": 53,
    "start_time": "2022-07-14T01:06:18.384Z"
   },
   {
    "duration": 5,
    "start_time": "2022-07-14T01:06:18.438Z"
   },
   {
    "duration": 183,
    "start_time": "2022-07-14T01:06:18.445Z"
   },
   {
    "duration": 1646,
    "start_time": "2022-07-14T01:06:18.630Z"
   },
   {
    "duration": 21,
    "start_time": "2022-07-14T01:06:20.277Z"
   },
   {
    "duration": 51,
    "start_time": "2022-07-14T01:06:20.300Z"
   },
   {
    "duration": 15,
    "start_time": "2022-07-14T01:06:20.352Z"
   },
   {
    "duration": 90,
    "start_time": "2022-07-14T01:06:20.368Z"
   },
   {
    "duration": 83,
    "start_time": "2022-07-14T01:06:20.460Z"
   },
   {
    "duration": 72,
    "start_time": "2022-07-14T01:06:20.544Z"
   },
   {
    "duration": 4,
    "start_time": "2022-07-14T01:06:20.617Z"
   },
   {
    "duration": 166,
    "start_time": "2022-07-14T01:06:20.622Z"
   },
   {
    "duration": 30,
    "start_time": "2022-07-14T01:06:20.798Z"
   },
   {
    "duration": 180,
    "start_time": "2022-07-14T01:06:20.830Z"
   },
   {
    "duration": 2,
    "start_time": "2022-07-14T01:06:21.012Z"
   },
   {
    "duration": 19,
    "start_time": "2022-07-14T01:06:21.015Z"
   },
   {
    "duration": 838,
    "start_time": "2022-07-14T01:06:21.036Z"
   },
   {
    "duration": 3,
    "start_time": "2022-07-14T01:06:21.876Z"
   },
   {
    "duration": 5,
    "start_time": "2022-07-14T01:06:21.881Z"
   },
   {
    "duration": 25,
    "start_time": "2022-07-14T01:06:21.887Z"
   },
   {
    "duration": 387,
    "start_time": "2022-07-14T01:06:21.914Z"
   },
   {
    "duration": 25,
    "start_time": "2022-07-14T01:06:22.306Z"
   },
   {
    "duration": 44,
    "start_time": "2022-07-14T01:06:22.333Z"
   },
   {
    "duration": 1568,
    "start_time": "2022-07-14T01:06:22.399Z"
   },
   {
    "duration": 30,
    "start_time": "2022-07-14T01:06:23.968Z"
   },
   {
    "duration": 1395,
    "start_time": "2022-07-14T01:06:24.000Z"
   },
   {
    "duration": 265,
    "start_time": "2022-07-14T01:06:25.397Z"
   },
   {
    "duration": 43,
    "start_time": "2022-07-14T01:06:25.663Z"
   },
   {
    "duration": 1390,
    "start_time": "2022-07-14T01:06:25.708Z"
   },
   {
    "duration": 8,
    "start_time": "2022-07-14T01:06:27.100Z"
   },
   {
    "duration": 53,
    "start_time": "2022-07-14T01:06:27.109Z"
   },
   {
    "duration": 1414,
    "start_time": "2022-07-14T01:06:27.164Z"
   },
   {
    "duration": 27,
    "start_time": "2022-07-14T01:06:28.580Z"
   },
   {
    "duration": 42,
    "start_time": "2022-07-14T01:06:28.609Z"
   },
   {
    "duration": 1446,
    "start_time": "2022-07-14T01:06:28.653Z"
   },
   {
    "duration": 152,
    "start_time": "2022-07-14T01:06:30.100Z"
   },
   {
    "duration": 29,
    "start_time": "2022-07-14T01:06:30.254Z"
   },
   {
    "duration": 49,
    "start_time": "2022-07-14T01:06:30.299Z"
   },
   {
    "duration": 114,
    "start_time": "2022-07-14T01:06:30.350Z"
   },
   {
    "duration": 143,
    "start_time": "2022-07-14T01:06:30.466Z"
   },
   {
    "duration": 199,
    "start_time": "2022-07-14T01:06:30.611Z"
   },
   {
    "duration": 54,
    "start_time": "2022-07-14T01:06:30.812Z"
   },
   {
    "duration": 2,
    "start_time": "2022-07-14T01:06:30.868Z"
   },
   {
    "duration": 1501,
    "start_time": "2022-07-14T01:06:30.872Z"
   },
   {
    "duration": 3,
    "start_time": "2022-07-14T01:06:32.376Z"
   },
   {
    "duration": 12,
    "start_time": "2022-07-14T01:06:32.381Z"
   },
   {
    "duration": 9,
    "start_time": "2022-07-14T01:06:32.398Z"
   },
   {
    "duration": 5,
    "start_time": "2022-07-14T01:06:32.409Z"
   },
   {
    "duration": 5,
    "start_time": "2022-07-14T01:06:32.416Z"
   },
   {
    "duration": 141,
    "start_time": "2022-07-14T01:06:32.423Z"
   },
   {
    "duration": 0,
    "start_time": "2022-07-14T01:06:32.565Z"
   },
   {
    "duration": 0,
    "start_time": "2022-07-14T01:06:32.567Z"
   },
   {
    "duration": 0,
    "start_time": "2022-07-14T01:06:32.568Z"
   },
   {
    "duration": 0,
    "start_time": "2022-07-14T01:06:32.569Z"
   },
   {
    "duration": 0,
    "start_time": "2022-07-14T01:06:32.571Z"
   },
   {
    "duration": 0,
    "start_time": "2022-07-14T01:06:32.573Z"
   },
   {
    "duration": 0,
    "start_time": "2022-07-14T01:06:32.574Z"
   },
   {
    "duration": 0,
    "start_time": "2022-07-14T01:06:32.574Z"
   },
   {
    "duration": 0,
    "start_time": "2022-07-14T01:06:32.575Z"
   },
   {
    "duration": 0,
    "start_time": "2022-07-14T01:06:32.576Z"
   },
   {
    "duration": 0,
    "start_time": "2022-07-14T01:06:32.577Z"
   },
   {
    "duration": 0,
    "start_time": "2022-07-14T01:06:32.720Z"
   },
   {
    "duration": 0,
    "start_time": "2022-07-14T01:06:32.721Z"
   },
   {
    "duration": 0,
    "start_time": "2022-07-14T01:06:32.722Z"
   },
   {
    "duration": 0,
    "start_time": "2022-07-14T01:06:32.723Z"
   },
   {
    "duration": 0,
    "start_time": "2022-07-14T01:06:32.724Z"
   },
   {
    "duration": 16,
    "start_time": "2022-07-14T01:07:20.860Z"
   },
   {
    "duration": 16,
    "start_time": "2022-07-14T01:07:37.693Z"
   },
   {
    "duration": 1632,
    "start_time": "2022-07-14T01:08:18.775Z"
   },
   {
    "duration": 1019,
    "start_time": "2022-07-14T01:08:20.409Z"
   },
   {
    "duration": 412,
    "start_time": "2022-07-14T01:08:21.429Z"
   },
   {
    "duration": 16,
    "start_time": "2022-07-14T01:08:21.843Z"
   },
   {
    "duration": 416,
    "start_time": "2022-07-14T01:08:21.861Z"
   },
   {
    "duration": 7,
    "start_time": "2022-07-14T01:08:22.279Z"
   },
   {
    "duration": 56,
    "start_time": "2022-07-14T01:08:22.288Z"
   },
   {
    "duration": 5,
    "start_time": "2022-07-14T01:08:22.346Z"
   },
   {
    "duration": 171,
    "start_time": "2022-07-14T01:08:22.353Z"
   },
   {
    "duration": 1674,
    "start_time": "2022-07-14T01:08:22.526Z"
   },
   {
    "duration": 12,
    "start_time": "2022-07-14T01:08:24.202Z"
   },
   {
    "duration": 51,
    "start_time": "2022-07-14T01:08:24.215Z"
   },
   {
    "duration": 32,
    "start_time": "2022-07-14T01:08:24.267Z"
   },
   {
    "duration": 74,
    "start_time": "2022-07-14T01:08:24.301Z"
   },
   {
    "duration": 93,
    "start_time": "2022-07-14T01:08:24.377Z"
   },
   {
    "duration": 72,
    "start_time": "2022-07-14T01:08:24.471Z"
   },
   {
    "duration": 3,
    "start_time": "2022-07-14T01:08:24.545Z"
   },
   {
    "duration": 170,
    "start_time": "2022-07-14T01:08:24.549Z"
   },
   {
    "duration": 30,
    "start_time": "2022-07-14T01:08:24.721Z"
   },
   {
    "duration": 181,
    "start_time": "2022-07-14T01:08:24.753Z"
   },
   {
    "duration": 3,
    "start_time": "2022-07-14T01:08:24.936Z"
   },
   {
    "duration": 18,
    "start_time": "2022-07-14T01:08:24.940Z"
   },
   {
    "duration": 136,
    "start_time": "2022-07-14T01:08:24.959Z"
   },
   {
    "duration": 3,
    "start_time": "2022-07-14T01:08:25.098Z"
   },
   {
    "duration": 7,
    "start_time": "2022-07-14T01:08:25.102Z"
   },
   {
    "duration": 23,
    "start_time": "2022-07-14T01:08:25.110Z"
   },
   {
    "duration": 411,
    "start_time": "2022-07-14T01:08:25.135Z"
   },
   {
    "duration": 25,
    "start_time": "2022-07-14T01:08:25.550Z"
   },
   {
    "duration": 60,
    "start_time": "2022-07-14T01:08:25.576Z"
   },
   {
    "duration": 1661,
    "start_time": "2022-07-14T01:08:25.637Z"
   },
   {
    "duration": 22,
    "start_time": "2022-07-14T01:08:27.299Z"
   },
   {
    "duration": 1455,
    "start_time": "2022-07-14T01:08:27.323Z"
   },
   {
    "duration": 266,
    "start_time": "2022-07-14T01:08:28.780Z"
   },
   {
    "duration": 39,
    "start_time": "2022-07-14T01:08:29.048Z"
   },
   {
    "duration": 1371,
    "start_time": "2022-07-14T01:08:29.088Z"
   },
   {
    "duration": 7,
    "start_time": "2022-07-14T01:08:30.461Z"
   },
   {
    "duration": 62,
    "start_time": "2022-07-14T01:08:30.470Z"
   },
   {
    "duration": 1457,
    "start_time": "2022-07-14T01:08:30.534Z"
   },
   {
    "duration": 18,
    "start_time": "2022-07-14T01:08:31.997Z"
   },
   {
    "duration": 36,
    "start_time": "2022-07-14T01:08:32.017Z"
   },
   {
    "duration": 1426,
    "start_time": "2022-07-14T01:08:32.055Z"
   },
   {
    "duration": 157,
    "start_time": "2022-07-14T01:08:33.482Z"
   },
   {
    "duration": 30,
    "start_time": "2022-07-14T01:08:33.640Z"
   },
   {
    "duration": 71,
    "start_time": "2022-07-14T01:08:33.672Z"
   },
   {
    "duration": 104,
    "start_time": "2022-07-14T01:08:33.745Z"
   },
   {
    "duration": 137,
    "start_time": "2022-07-14T01:08:33.851Z"
   },
   {
    "duration": 203,
    "start_time": "2022-07-14T01:08:33.997Z"
   },
   {
    "duration": 55,
    "start_time": "2022-07-14T01:08:34.202Z"
   },
   {
    "duration": 2,
    "start_time": "2022-07-14T01:08:34.258Z"
   },
   {
    "duration": 1505,
    "start_time": "2022-07-14T01:08:34.262Z"
   },
   {
    "duration": 3,
    "start_time": "2022-07-14T01:08:35.769Z"
   },
   {
    "duration": 5,
    "start_time": "2022-07-14T01:08:35.773Z"
   },
   {
    "duration": 20,
    "start_time": "2022-07-14T01:08:35.780Z"
   },
   {
    "duration": 5,
    "start_time": "2022-07-14T01:08:35.802Z"
   },
   {
    "duration": 16,
    "start_time": "2022-07-14T01:08:35.809Z"
   },
   {
    "duration": 143,
    "start_time": "2022-07-14T01:08:35.826Z"
   },
   {
    "duration": 0,
    "start_time": "2022-07-14T01:08:35.971Z"
   },
   {
    "duration": 0,
    "start_time": "2022-07-14T01:08:35.972Z"
   },
   {
    "duration": 0,
    "start_time": "2022-07-14T01:08:35.974Z"
   },
   {
    "duration": 0,
    "start_time": "2022-07-14T01:08:35.975Z"
   },
   {
    "duration": 0,
    "start_time": "2022-07-14T01:08:35.976Z"
   },
   {
    "duration": 0,
    "start_time": "2022-07-14T01:08:35.976Z"
   },
   {
    "duration": 0,
    "start_time": "2022-07-14T01:08:35.978Z"
   },
   {
    "duration": 0,
    "start_time": "2022-07-14T01:08:36.099Z"
   },
   {
    "duration": 0,
    "start_time": "2022-07-14T01:08:36.100Z"
   },
   {
    "duration": 0,
    "start_time": "2022-07-14T01:08:36.101Z"
   },
   {
    "duration": 0,
    "start_time": "2022-07-14T01:08:36.103Z"
   },
   {
    "duration": 0,
    "start_time": "2022-07-14T01:08:36.104Z"
   },
   {
    "duration": 0,
    "start_time": "2022-07-14T01:08:36.105Z"
   },
   {
    "duration": 0,
    "start_time": "2022-07-14T01:08:36.106Z"
   },
   {
    "duration": 0,
    "start_time": "2022-07-14T01:08:36.107Z"
   },
   {
    "duration": 0,
    "start_time": "2022-07-14T01:08:36.108Z"
   },
   {
    "duration": 7,
    "start_time": "2022-07-14T01:12:31.714Z"
   },
   {
    "duration": 962,
    "start_time": "2022-07-14T01:12:31.723Z"
   },
   {
    "duration": 334,
    "start_time": "2022-07-14T01:12:32.687Z"
   },
   {
    "duration": 13,
    "start_time": "2022-07-14T01:12:33.024Z"
   },
   {
    "duration": 385,
    "start_time": "2022-07-14T01:12:33.038Z"
   },
   {
    "duration": 7,
    "start_time": "2022-07-14T01:12:33.424Z"
   },
   {
    "duration": 36,
    "start_time": "2022-07-14T01:12:33.434Z"
   },
   {
    "duration": 3,
    "start_time": "2022-07-14T01:12:33.471Z"
   },
   {
    "duration": 200,
    "start_time": "2022-07-14T01:12:33.476Z"
   },
   {
    "duration": 1645,
    "start_time": "2022-07-14T01:12:33.678Z"
   },
   {
    "duration": 12,
    "start_time": "2022-07-14T01:12:35.325Z"
   },
   {
    "duration": 68,
    "start_time": "2022-07-14T01:12:35.338Z"
   },
   {
    "duration": 15,
    "start_time": "2022-07-14T01:12:35.408Z"
   },
   {
    "duration": 94,
    "start_time": "2022-07-14T01:12:35.425Z"
   },
   {
    "duration": 105,
    "start_time": "2022-07-14T01:12:35.521Z"
   },
   {
    "duration": 79,
    "start_time": "2022-07-14T01:12:35.628Z"
   },
   {
    "duration": 4,
    "start_time": "2022-07-14T01:12:35.708Z"
   },
   {
    "duration": 158,
    "start_time": "2022-07-14T01:12:35.714Z"
   },
   {
    "duration": 39,
    "start_time": "2022-07-14T01:12:35.874Z"
   },
   {
    "duration": 202,
    "start_time": "2022-07-14T01:12:35.915Z"
   },
   {
    "duration": 2,
    "start_time": "2022-07-14T01:12:36.119Z"
   },
   {
    "duration": 17,
    "start_time": "2022-07-14T01:12:36.123Z"
   },
   {
    "duration": 5,
    "start_time": "2022-07-14T01:12:36.142Z"
   },
   {
    "duration": 7,
    "start_time": "2022-07-14T01:12:36.148Z"
   },
   {
    "duration": 3,
    "start_time": "2022-07-14T01:13:46.922Z"
   },
   {
    "duration": 890,
    "start_time": "2022-07-14T01:14:02.669Z"
   },
   {
    "duration": 22,
    "start_time": "2022-07-14T01:14:34.478Z"
   },
   {
    "duration": 1582,
    "start_time": "2022-07-14T01:19:30.612Z"
   },
   {
    "duration": 990,
    "start_time": "2022-07-14T01:19:32.197Z"
   },
   {
    "duration": 401,
    "start_time": "2022-07-14T01:19:33.189Z"
   },
   {
    "duration": 16,
    "start_time": "2022-07-14T01:19:33.592Z"
   },
   {
    "duration": 402,
    "start_time": "2022-07-14T01:19:33.617Z"
   },
   {
    "duration": 8,
    "start_time": "2022-07-14T01:19:34.022Z"
   },
   {
    "duration": 45,
    "start_time": "2022-07-14T01:19:34.032Z"
   },
   {
    "duration": 8,
    "start_time": "2022-07-14T01:19:34.102Z"
   },
   {
    "duration": 168,
    "start_time": "2022-07-14T01:19:34.113Z"
   },
   {
    "duration": 1708,
    "start_time": "2022-07-14T01:19:34.283Z"
   },
   {
    "duration": 12,
    "start_time": "2022-07-14T01:19:35.998Z"
   },
   {
    "duration": 55,
    "start_time": "2022-07-14T01:19:36.013Z"
   },
   {
    "duration": 35,
    "start_time": "2022-07-14T01:19:36.070Z"
   },
   {
    "duration": 72,
    "start_time": "2022-07-14T01:19:36.109Z"
   },
   {
    "duration": 81,
    "start_time": "2022-07-14T01:19:36.198Z"
   },
   {
    "duration": 79,
    "start_time": "2022-07-14T01:19:36.281Z"
   },
   {
    "duration": 3,
    "start_time": "2022-07-14T01:19:36.362Z"
   },
   {
    "duration": 174,
    "start_time": "2022-07-14T01:19:36.367Z"
   },
   {
    "duration": 31,
    "start_time": "2022-07-14T01:19:36.543Z"
   },
   {
    "duration": 236,
    "start_time": "2022-07-14T01:19:36.576Z"
   },
   {
    "duration": 3,
    "start_time": "2022-07-14T01:19:36.814Z"
   },
   {
    "duration": 18,
    "start_time": "2022-07-14T01:19:36.819Z"
   },
   {
    "duration": 990,
    "start_time": "2022-07-14T01:19:42.502Z"
   },
   {
    "duration": 900,
    "start_time": "2022-07-14T01:20:29.983Z"
   },
   {
    "duration": 1648,
    "start_time": "2022-07-14T01:21:13.260Z"
   },
   {
    "duration": 1000,
    "start_time": "2022-07-14T01:21:14.910Z"
   },
   {
    "duration": 392,
    "start_time": "2022-07-14T01:21:15.912Z"
   },
   {
    "duration": 13,
    "start_time": "2022-07-14T01:21:16.307Z"
   },
   {
    "duration": 427,
    "start_time": "2022-07-14T01:21:16.322Z"
   },
   {
    "duration": 10,
    "start_time": "2022-07-14T01:21:16.751Z"
   },
   {
    "duration": 63,
    "start_time": "2022-07-14T01:21:16.763Z"
   },
   {
    "duration": 4,
    "start_time": "2022-07-14T01:21:16.828Z"
   },
   {
    "duration": 170,
    "start_time": "2022-07-14T01:21:16.833Z"
   },
   {
    "duration": 1667,
    "start_time": "2022-07-14T01:21:17.005Z"
   },
   {
    "duration": 13,
    "start_time": "2022-07-14T01:21:18.674Z"
   },
   {
    "duration": 62,
    "start_time": "2022-07-14T01:21:18.689Z"
   },
   {
    "duration": 15,
    "start_time": "2022-07-14T01:21:18.752Z"
   },
   {
    "duration": 95,
    "start_time": "2022-07-14T01:21:18.768Z"
   },
   {
    "duration": 102,
    "start_time": "2022-07-14T01:21:18.865Z"
   },
   {
    "duration": 70,
    "start_time": "2022-07-14T01:21:18.969Z"
   },
   {
    "duration": 4,
    "start_time": "2022-07-14T01:21:19.040Z"
   },
   {
    "duration": 165,
    "start_time": "2022-07-14T01:21:19.046Z"
   },
   {
    "duration": 29,
    "start_time": "2022-07-14T01:21:19.213Z"
   },
   {
    "duration": 183,
    "start_time": "2022-07-14T01:21:19.244Z"
   },
   {
    "duration": 2,
    "start_time": "2022-07-14T01:21:19.428Z"
   },
   {
    "duration": 17,
    "start_time": "2022-07-14T01:21:19.432Z"
   },
   {
    "duration": 15,
    "start_time": "2022-07-14T01:21:23.851Z"
   },
   {
    "duration": 874,
    "start_time": "2022-07-14T01:21:24.448Z"
   },
   {
    "duration": 97,
    "start_time": "2022-07-14T01:21:38.671Z"
   },
   {
    "duration": 37,
    "start_time": "2022-07-14T01:21:46.255Z"
   },
   {
    "duration": 97,
    "start_time": "2022-07-14T01:22:42.770Z"
   },
   {
    "duration": 207,
    "start_time": "2022-07-14T01:23:00.658Z"
   },
   {
    "duration": 91,
    "start_time": "2022-07-14T01:23:10.275Z"
   },
   {
    "duration": 93,
    "start_time": "2022-07-14T01:23:17.946Z"
   },
   {
    "duration": 178,
    "start_time": "2022-07-14T01:24:25.795Z"
   },
   {
    "duration": 144,
    "start_time": "2022-07-14T01:24:45.636Z"
   },
   {
    "duration": 141,
    "start_time": "2022-07-14T01:24:51.452Z"
   },
   {
    "duration": 3,
    "start_time": "2022-07-14T01:28:29.814Z"
   },
   {
    "duration": 794,
    "start_time": "2022-07-14T01:28:30.962Z"
   },
   {
    "duration": 104,
    "start_time": "2022-07-14T01:28:40.825Z"
   },
   {
    "duration": 1591,
    "start_time": "2022-07-14T01:28:57.987Z"
   },
   {
    "duration": 1009,
    "start_time": "2022-07-14T01:28:59.580Z"
   },
   {
    "duration": 396,
    "start_time": "2022-07-14T01:29:00.591Z"
   },
   {
    "duration": 19,
    "start_time": "2022-07-14T01:29:00.989Z"
   },
   {
    "duration": 415,
    "start_time": "2022-07-14T01:29:01.010Z"
   },
   {
    "duration": 10,
    "start_time": "2022-07-14T01:29:01.426Z"
   },
   {
    "duration": 63,
    "start_time": "2022-07-14T01:29:01.440Z"
   },
   {
    "duration": 3,
    "start_time": "2022-07-14T01:29:01.505Z"
   },
   {
    "duration": 207,
    "start_time": "2022-07-14T01:29:01.510Z"
   },
   {
    "duration": 1765,
    "start_time": "2022-07-14T01:29:01.720Z"
   },
   {
    "duration": 18,
    "start_time": "2022-07-14T01:29:03.487Z"
   },
   {
    "duration": 51,
    "start_time": "2022-07-14T01:29:03.507Z"
   },
   {
    "duration": 15,
    "start_time": "2022-07-14T01:29:03.560Z"
   },
   {
    "duration": 76,
    "start_time": "2022-07-14T01:29:03.597Z"
   },
   {
    "duration": 90,
    "start_time": "2022-07-14T01:29:03.674Z"
   },
   {
    "duration": 81,
    "start_time": "2022-07-14T01:29:03.765Z"
   },
   {
    "duration": 4,
    "start_time": "2022-07-14T01:29:03.848Z"
   },
   {
    "duration": 172,
    "start_time": "2022-07-14T01:29:03.853Z"
   },
   {
    "duration": 32,
    "start_time": "2022-07-14T01:29:04.027Z"
   },
   {
    "duration": 195,
    "start_time": "2022-07-14T01:29:04.060Z"
   },
   {
    "duration": 2,
    "start_time": "2022-07-14T01:29:04.257Z"
   },
   {
    "duration": 23,
    "start_time": "2022-07-14T01:29:04.261Z"
   },
   {
    "duration": 5,
    "start_time": "2022-07-14T01:29:04.286Z"
   },
   {
    "duration": 773,
    "start_time": "2022-07-14T01:29:04.299Z"
   },
   {
    "duration": 132,
    "start_time": "2022-07-14T01:29:05.074Z"
   },
   {
    "duration": 259,
    "start_time": "2022-07-14T01:29:05.208Z"
   },
   {
    "duration": 34,
    "start_time": "2022-07-14T01:29:05.469Z"
   },
   {
    "duration": 240,
    "start_time": "2022-07-14T01:29:05.507Z"
   },
   {
    "duration": 1667,
    "start_time": "2022-07-14T01:29:05.749Z"
   },
   {
    "duration": 81,
    "start_time": "2022-07-14T01:29:07.418Z"
   },
   {
    "duration": 1402,
    "start_time": "2022-07-14T01:29:07.501Z"
   },
   {
    "duration": 1038,
    "start_time": "2022-07-14T01:29:08.905Z"
   },
   {
    "duration": 76,
    "start_time": "2022-07-14T01:29:09.944Z"
   },
   {
    "duration": 1359,
    "start_time": "2022-07-14T01:29:10.021Z"
   },
   {
    "duration": 30,
    "start_time": "2022-07-14T01:29:11.382Z"
   },
   {
    "duration": 1689,
    "start_time": "2022-07-14T01:29:11.413Z"
   },
   {
    "duration": 1410,
    "start_time": "2022-07-14T01:29:13.104Z"
   },
   {
    "duration": 42,
    "start_time": "2022-07-14T01:29:14.516Z"
   },
   {
    "duration": 254,
    "start_time": "2022-07-14T01:29:14.560Z"
   },
   {
    "duration": 1418,
    "start_time": "2022-07-14T01:29:14.816Z"
   },
   {
    "duration": 151,
    "start_time": "2022-07-14T01:29:16.235Z"
   },
   {
    "duration": 100,
    "start_time": "2022-07-14T01:29:16.388Z"
   },
   {
    "duration": 155,
    "start_time": "2022-07-14T01:29:16.499Z"
   },
   {
    "duration": 0,
    "start_time": "2022-07-14T01:29:16.656Z"
   },
   {
    "duration": 0,
    "start_time": "2022-07-14T01:29:16.658Z"
   },
   {
    "duration": 0,
    "start_time": "2022-07-14T01:29:16.659Z"
   },
   {
    "duration": 0,
    "start_time": "2022-07-14T01:29:16.661Z"
   },
   {
    "duration": 0,
    "start_time": "2022-07-14T01:29:16.662Z"
   },
   {
    "duration": 0,
    "start_time": "2022-07-14T01:29:16.664Z"
   },
   {
    "duration": 0,
    "start_time": "2022-07-14T01:29:16.665Z"
   },
   {
    "duration": 0,
    "start_time": "2022-07-14T01:29:16.667Z"
   },
   {
    "duration": 0,
    "start_time": "2022-07-14T01:29:16.669Z"
   },
   {
    "duration": 0,
    "start_time": "2022-07-14T01:29:16.670Z"
   },
   {
    "duration": 0,
    "start_time": "2022-07-14T01:29:16.672Z"
   },
   {
    "duration": 0,
    "start_time": "2022-07-14T01:29:16.673Z"
   },
   {
    "duration": 0,
    "start_time": "2022-07-14T01:29:16.674Z"
   },
   {
    "duration": 0,
    "start_time": "2022-07-14T01:29:16.674Z"
   },
   {
    "duration": 0,
    "start_time": "2022-07-14T01:29:16.675Z"
   },
   {
    "duration": 0,
    "start_time": "2022-07-14T01:29:16.676Z"
   },
   {
    "duration": 0,
    "start_time": "2022-07-14T01:29:16.700Z"
   },
   {
    "duration": 0,
    "start_time": "2022-07-14T01:29:16.702Z"
   },
   {
    "duration": 0,
    "start_time": "2022-07-14T01:29:16.703Z"
   },
   {
    "duration": 0,
    "start_time": "2022-07-14T01:29:16.704Z"
   },
   {
    "duration": 0,
    "start_time": "2022-07-14T01:29:16.705Z"
   },
   {
    "duration": 0,
    "start_time": "2022-07-14T01:29:16.706Z"
   },
   {
    "duration": 0,
    "start_time": "2022-07-14T01:29:16.707Z"
   },
   {
    "duration": 0,
    "start_time": "2022-07-14T01:29:16.709Z"
   },
   {
    "duration": 0,
    "start_time": "2022-07-14T01:29:16.710Z"
   },
   {
    "duration": 0,
    "start_time": "2022-07-14T01:29:16.711Z"
   },
   {
    "duration": 0,
    "start_time": "2022-07-14T01:29:16.712Z"
   },
   {
    "duration": 0,
    "start_time": "2022-07-14T01:29:16.713Z"
   },
   {
    "duration": 3,
    "start_time": "2022-07-14T01:29:55.116Z"
   },
   {
    "duration": 60,
    "start_time": "2022-07-14T01:29:55.820Z"
   },
   {
    "duration": 18,
    "start_time": "2022-07-14T01:30:05.100Z"
   },
   {
    "duration": 3,
    "start_time": "2022-07-14T01:30:43.877Z"
   },
   {
    "duration": 1666,
    "start_time": "2022-07-14T01:30:57.462Z"
   },
   {
    "duration": 985,
    "start_time": "2022-07-14T01:30:59.130Z"
   },
   {
    "duration": 397,
    "start_time": "2022-07-14T01:31:00.117Z"
   },
   {
    "duration": 14,
    "start_time": "2022-07-14T01:31:00.517Z"
   },
   {
    "duration": 406,
    "start_time": "2022-07-14T01:31:00.533Z"
   },
   {
    "duration": 7,
    "start_time": "2022-07-14T01:31:00.941Z"
   },
   {
    "duration": 54,
    "start_time": "2022-07-14T01:31:00.950Z"
   },
   {
    "duration": 3,
    "start_time": "2022-07-14T01:31:01.006Z"
   },
   {
    "duration": 179,
    "start_time": "2022-07-14T01:31:01.011Z"
   },
   {
    "duration": 1883,
    "start_time": "2022-07-14T01:31:01.193Z"
   },
   {
    "duration": 21,
    "start_time": "2022-07-14T01:31:03.077Z"
   },
   {
    "duration": 51,
    "start_time": "2022-07-14T01:31:03.100Z"
   },
   {
    "duration": 16,
    "start_time": "2022-07-14T01:31:03.152Z"
   },
   {
    "duration": 95,
    "start_time": "2022-07-14T01:31:03.169Z"
   },
   {
    "duration": 85,
    "start_time": "2022-07-14T01:31:03.265Z"
   },
   {
    "duration": 75,
    "start_time": "2022-07-14T01:31:03.351Z"
   },
   {
    "duration": 4,
    "start_time": "2022-07-14T01:31:03.428Z"
   },
   {
    "duration": 164,
    "start_time": "2022-07-14T01:31:03.434Z"
   },
   {
    "duration": 33,
    "start_time": "2022-07-14T01:31:03.600Z"
   },
   {
    "duration": 186,
    "start_time": "2022-07-14T01:31:03.635Z"
   },
   {
    "duration": 3,
    "start_time": "2022-07-14T01:31:03.823Z"
   },
   {
    "duration": 20,
    "start_time": "2022-07-14T01:31:03.828Z"
   },
   {
    "duration": 6,
    "start_time": "2022-07-14T01:31:03.850Z"
   },
   {
    "duration": 74,
    "start_time": "2022-07-14T01:31:03.858Z"
   },
   {
    "duration": 94,
    "start_time": "2022-07-14T01:31:03.934Z"
   },
   {
    "duration": 325,
    "start_time": "2022-07-14T01:31:04.030Z"
   },
   {
    "duration": 27,
    "start_time": "2022-07-14T01:31:04.357Z"
   },
   {
    "duration": 36,
    "start_time": "2022-07-14T01:31:04.402Z"
   },
   {
    "duration": 1692,
    "start_time": "2022-07-14T01:31:04.440Z"
   },
   {
    "duration": 22,
    "start_time": "2022-07-14T01:31:06.134Z"
   },
   {
    "duration": 1459,
    "start_time": "2022-07-14T01:31:06.158Z"
   },
   {
    "duration": 252,
    "start_time": "2022-07-14T01:31:07.619Z"
   },
   {
    "duration": 52,
    "start_time": "2022-07-14T01:31:07.873Z"
   },
   {
    "duration": 1452,
    "start_time": "2022-07-14T01:31:07.927Z"
   },
   {
    "duration": 8,
    "start_time": "2022-07-14T01:31:09.381Z"
   },
   {
    "duration": 56,
    "start_time": "2022-07-14T01:31:09.398Z"
   },
   {
    "duration": 1421,
    "start_time": "2022-07-14T01:31:09.456Z"
   },
   {
    "duration": 23,
    "start_time": "2022-07-14T01:31:10.878Z"
   },
   {
    "duration": 38,
    "start_time": "2022-07-14T01:31:10.902Z"
   },
   {
    "duration": 1439,
    "start_time": "2022-07-14T01:31:10.941Z"
   },
   {
    "duration": 154,
    "start_time": "2022-07-14T01:31:12.382Z"
   },
   {
    "duration": 34,
    "start_time": "2022-07-14T01:31:12.537Z"
   },
   {
    "duration": 65,
    "start_time": "2022-07-14T01:31:12.573Z"
   },
   {
    "duration": 107,
    "start_time": "2022-07-14T01:31:12.640Z"
   },
   {
    "duration": 149,
    "start_time": "2022-07-14T01:31:12.749Z"
   },
   {
    "duration": 198,
    "start_time": "2022-07-14T01:31:12.900Z"
   },
   {
    "duration": 52,
    "start_time": "2022-07-14T01:31:13.099Z"
   },
   {
    "duration": 3,
    "start_time": "2022-07-14T01:31:13.153Z"
   },
   {
    "duration": 1504,
    "start_time": "2022-07-14T01:31:13.157Z"
   },
   {
    "duration": 4,
    "start_time": "2022-07-14T01:31:14.663Z"
   },
   {
    "duration": 6,
    "start_time": "2022-07-14T01:31:14.668Z"
   },
   {
    "duration": 22,
    "start_time": "2022-07-14T01:31:14.676Z"
   },
   {
    "duration": 4,
    "start_time": "2022-07-14T01:31:14.700Z"
   },
   {
    "duration": 15,
    "start_time": "2022-07-14T01:31:14.705Z"
   },
   {
    "duration": 122,
    "start_time": "2022-07-14T01:31:14.721Z"
   },
   {
    "duration": 0,
    "start_time": "2022-07-14T01:31:14.845Z"
   },
   {
    "duration": 0,
    "start_time": "2022-07-14T01:31:14.846Z"
   },
   {
    "duration": 0,
    "start_time": "2022-07-14T01:31:14.847Z"
   },
   {
    "duration": 0,
    "start_time": "2022-07-14T01:31:14.848Z"
   },
   {
    "duration": 0,
    "start_time": "2022-07-14T01:31:14.849Z"
   },
   {
    "duration": 0,
    "start_time": "2022-07-14T01:31:14.850Z"
   },
   {
    "duration": 0,
    "start_time": "2022-07-14T01:31:14.851Z"
   },
   {
    "duration": 0,
    "start_time": "2022-07-14T01:31:14.852Z"
   },
   {
    "duration": 0,
    "start_time": "2022-07-14T01:31:14.853Z"
   },
   {
    "duration": 0,
    "start_time": "2022-07-14T01:31:14.854Z"
   },
   {
    "duration": 0,
    "start_time": "2022-07-14T01:31:14.855Z"
   },
   {
    "duration": 0,
    "start_time": "2022-07-14T01:31:14.856Z"
   },
   {
    "duration": 0,
    "start_time": "2022-07-14T01:31:14.857Z"
   },
   {
    "duration": 0,
    "start_time": "2022-07-14T01:31:14.989Z"
   },
   {
    "duration": 0,
    "start_time": "2022-07-14T01:31:14.990Z"
   },
   {
    "duration": 0,
    "start_time": "2022-07-14T01:31:14.991Z"
   },
   {
    "duration": 218,
    "start_time": "2022-07-14T01:31:45.486Z"
   },
   {
    "duration": 1556,
    "start_time": "2022-07-14T01:47:53.051Z"
   },
   {
    "duration": 1008,
    "start_time": "2022-07-14T01:47:54.609Z"
   },
   {
    "duration": 393,
    "start_time": "2022-07-14T01:47:55.619Z"
   },
   {
    "duration": 16,
    "start_time": "2022-07-14T01:47:56.014Z"
   },
   {
    "duration": 389,
    "start_time": "2022-07-14T01:47:56.032Z"
   },
   {
    "duration": 7,
    "start_time": "2022-07-14T01:47:56.423Z"
   },
   {
    "duration": 44,
    "start_time": "2022-07-14T01:47:56.432Z"
   },
   {
    "duration": 4,
    "start_time": "2022-07-14T01:47:56.498Z"
   },
   {
    "duration": 180,
    "start_time": "2022-07-14T01:47:56.503Z"
   },
   {
    "duration": 1692,
    "start_time": "2022-07-14T01:47:56.686Z"
   },
   {
    "duration": 22,
    "start_time": "2022-07-14T01:47:58.379Z"
   },
   {
    "duration": 55,
    "start_time": "2022-07-14T01:47:58.403Z"
   },
   {
    "duration": 15,
    "start_time": "2022-07-14T01:47:58.460Z"
   },
   {
    "duration": 73,
    "start_time": "2022-07-14T01:47:58.497Z"
   },
   {
    "duration": 88,
    "start_time": "2022-07-14T01:47:58.571Z"
   },
   {
    "duration": 75,
    "start_time": "2022-07-14T01:47:58.661Z"
   },
   {
    "duration": 4,
    "start_time": "2022-07-14T01:47:58.738Z"
   },
   {
    "duration": 184,
    "start_time": "2022-07-14T01:47:58.744Z"
   },
   {
    "duration": 35,
    "start_time": "2022-07-14T01:47:58.930Z"
   },
   {
    "duration": 184,
    "start_time": "2022-07-14T01:47:58.967Z"
   },
   {
    "duration": 3,
    "start_time": "2022-07-14T01:47:59.152Z"
   },
   {
    "duration": 19,
    "start_time": "2022-07-14T01:47:59.156Z"
   },
   {
    "duration": 8,
    "start_time": "2022-07-14T01:47:59.176Z"
   },
   {
    "duration": 2,
    "start_time": "2022-07-14T01:47:59.198Z"
   },
   {
    "duration": 18,
    "start_time": "2022-07-14T01:47:59.202Z"
   },
   {
    "duration": 382,
    "start_time": "2022-07-14T01:47:59.222Z"
   },
   {
    "duration": 31,
    "start_time": "2022-07-14T01:47:59.605Z"
   },
   {
    "duration": 69,
    "start_time": "2022-07-14T01:47:59.640Z"
   },
   {
    "duration": 1587,
    "start_time": "2022-07-14T01:47:59.711Z"
   },
   {
    "duration": 20,
    "start_time": "2022-07-14T01:48:01.300Z"
   },
   {
    "duration": 1457,
    "start_time": "2022-07-14T01:48:01.322Z"
   },
   {
    "duration": 225,
    "start_time": "2022-07-14T01:48:02.781Z"
   },
   {
    "duration": 38,
    "start_time": "2022-07-14T01:48:03.008Z"
   },
   {
    "duration": 1418,
    "start_time": "2022-07-14T01:48:03.048Z"
   },
   {
    "duration": 8,
    "start_time": "2022-07-14T01:48:04.467Z"
   },
   {
    "duration": 66,
    "start_time": "2022-07-14T01:48:04.477Z"
   },
   {
    "duration": 1446,
    "start_time": "2022-07-14T01:48:04.544Z"
   },
   {
    "duration": 19,
    "start_time": "2022-07-14T01:48:05.997Z"
   },
   {
    "duration": 34,
    "start_time": "2022-07-14T01:48:06.018Z"
   },
   {
    "duration": 1450,
    "start_time": "2022-07-14T01:48:06.054Z"
   },
   {
    "duration": 159,
    "start_time": "2022-07-14T01:48:07.506Z"
   },
   {
    "duration": 38,
    "start_time": "2022-07-14T01:48:07.667Z"
   },
   {
    "duration": 49,
    "start_time": "2022-07-14T01:48:07.707Z"
   },
   {
    "duration": 116,
    "start_time": "2022-07-14T01:48:07.758Z"
   },
   {
    "duration": 144,
    "start_time": "2022-07-14T01:48:07.876Z"
   },
   {
    "duration": 196,
    "start_time": "2022-07-14T01:48:08.022Z"
   },
   {
    "duration": 54,
    "start_time": "2022-07-14T01:48:08.220Z"
   },
   {
    "duration": 23,
    "start_time": "2022-07-14T01:48:08.276Z"
   },
   {
    "duration": 1489,
    "start_time": "2022-07-14T01:48:08.300Z"
   },
   {
    "duration": 9,
    "start_time": "2022-07-14T01:48:09.790Z"
   },
   {
    "duration": 8,
    "start_time": "2022-07-14T01:48:09.801Z"
   },
   {
    "duration": 12,
    "start_time": "2022-07-14T01:48:09.811Z"
   },
   {
    "duration": 4,
    "start_time": "2022-07-14T01:48:09.825Z"
   },
   {
    "duration": 6,
    "start_time": "2022-07-14T01:48:09.831Z"
   },
   {
    "duration": 4,
    "start_time": "2022-07-14T01:48:09.839Z"
   },
   {
    "duration": 5,
    "start_time": "2022-07-14T01:48:09.845Z"
   },
   {
    "duration": 248,
    "start_time": "2022-07-14T01:48:09.851Z"
   },
   {
    "duration": 4,
    "start_time": "2022-07-14T01:48:10.101Z"
   },
   {
    "duration": 15,
    "start_time": "2022-07-14T01:48:10.106Z"
   },
   {
    "duration": 970,
    "start_time": "2022-07-14T01:48:10.123Z"
   },
   {
    "duration": 3,
    "start_time": "2022-07-14T01:48:11.097Z"
   },
   {
    "duration": 27975,
    "start_time": "2022-07-14T01:48:11.102Z"
   },
   {
    "duration": 4,
    "start_time": "2022-07-14T01:48:39.079Z"
   },
   {
    "duration": 19,
    "start_time": "2022-07-14T01:48:39.084Z"
   },
   {
    "duration": 8193,
    "start_time": "2022-07-14T01:48:39.105Z"
   },
   {
    "duration": 4,
    "start_time": "2022-07-14T01:48:47.300Z"
   },
   {
    "duration": 9,
    "start_time": "2022-07-14T01:48:47.305Z"
   },
   {
    "duration": 5,
    "start_time": "2022-07-14T01:48:47.316Z"
   },
   {
    "duration": 16849,
    "start_time": "2022-07-14T01:48:47.322Z"
   },
   {
    "duration": 8,
    "start_time": "2022-07-14T01:49:04.173Z"
   },
   {
    "duration": 19,
    "start_time": "2022-07-14T01:49:04.183Z"
   },
   {
    "duration": 12,
    "start_time": "2022-07-14T01:49:32.561Z"
   },
   {
    "duration": 8,
    "start_time": "2022-07-14T01:50:04.465Z"
   },
   {
    "duration": 13,
    "start_time": "2022-07-14T01:50:14.735Z"
   },
   {
    "duration": 13,
    "start_time": "2022-07-14T01:50:39.496Z"
   },
   {
    "duration": 14,
    "start_time": "2022-07-14T01:50:47.719Z"
   },
   {
    "duration": 1647,
    "start_time": "2022-07-14T01:54:42.347Z"
   },
   {
    "duration": 1029,
    "start_time": "2022-07-14T01:54:43.996Z"
   },
   {
    "duration": 421,
    "start_time": "2022-07-14T01:54:45.026Z"
   },
   {
    "duration": 17,
    "start_time": "2022-07-14T01:54:45.449Z"
   },
   {
    "duration": 440,
    "start_time": "2022-07-14T01:54:45.468Z"
   },
   {
    "duration": 8,
    "start_time": "2022-07-14T01:54:45.910Z"
   },
   {
    "duration": 46,
    "start_time": "2022-07-14T01:54:45.920Z"
   },
   {
    "duration": 3,
    "start_time": "2022-07-14T01:54:45.968Z"
   },
   {
    "duration": 193,
    "start_time": "2022-07-14T01:54:45.972Z"
   },
   {
    "duration": 1859,
    "start_time": "2022-07-14T01:54:46.166Z"
   },
   {
    "duration": 12,
    "start_time": "2022-07-14T01:54:48.027Z"
   },
   {
    "duration": 77,
    "start_time": "2022-07-14T01:54:48.041Z"
   },
   {
    "duration": 15,
    "start_time": "2022-07-14T01:54:48.119Z"
   },
   {
    "duration": 93,
    "start_time": "2022-07-14T01:54:48.137Z"
   },
   {
    "duration": 95,
    "start_time": "2022-07-14T01:54:48.232Z"
   },
   {
    "duration": 82,
    "start_time": "2022-07-14T01:54:48.328Z"
   },
   {
    "duration": 4,
    "start_time": "2022-07-14T01:54:48.412Z"
   },
   {
    "duration": 170,
    "start_time": "2022-07-14T01:54:48.418Z"
   },
   {
    "duration": 42,
    "start_time": "2022-07-14T01:54:48.589Z"
   },
   {
    "duration": 191,
    "start_time": "2022-07-14T01:54:48.632Z"
   },
   {
    "duration": 3,
    "start_time": "2022-07-14T01:54:48.824Z"
   },
   {
    "duration": 19,
    "start_time": "2022-07-14T01:54:48.828Z"
   },
   {
    "duration": 4,
    "start_time": "2022-07-14T01:54:48.848Z"
   },
   {
    "duration": 5,
    "start_time": "2022-07-14T01:54:48.854Z"
   },
   {
    "duration": 4,
    "start_time": "2022-07-14T01:54:48.861Z"
   },
   {
    "duration": 4,
    "start_time": "2022-07-14T01:54:48.866Z"
   },
   {
    "duration": 56,
    "start_time": "2022-07-14T01:54:48.872Z"
   },
   {
    "duration": 46,
    "start_time": "2022-07-14T01:54:48.931Z"
   },
   {
    "duration": 1645,
    "start_time": "2022-07-14T01:54:48.997Z"
   },
   {
    "duration": 25,
    "start_time": "2022-07-14T01:54:50.645Z"
   },
   {
    "duration": 1520,
    "start_time": "2022-07-14T01:54:50.672Z"
   },
   {
    "duration": 348,
    "start_time": "2022-07-14T01:54:52.200Z"
   },
   {
    "duration": 65,
    "start_time": "2022-07-14T01:54:52.549Z"
   },
   {
    "duration": 1509,
    "start_time": "2022-07-14T01:54:52.616Z"
   },
   {
    "duration": 8,
    "start_time": "2022-07-14T01:54:54.127Z"
   },
   {
    "duration": 168,
    "start_time": "2022-07-14T01:54:54.136Z"
   },
   {
    "duration": 1558,
    "start_time": "2022-07-14T01:54:54.306Z"
   },
   {
    "duration": 21,
    "start_time": "2022-07-14T01:54:55.865Z"
   },
   {
    "duration": 49,
    "start_time": "2022-07-14T01:54:55.900Z"
   },
   {
    "duration": 1552,
    "start_time": "2022-07-14T01:54:55.951Z"
   },
   {
    "duration": 185,
    "start_time": "2022-07-14T01:54:57.511Z"
   },
   {
    "duration": 46,
    "start_time": "2022-07-14T01:54:57.698Z"
   },
   {
    "duration": 104,
    "start_time": "2022-07-14T01:54:57.746Z"
   },
   {
    "duration": 211,
    "start_time": "2022-07-14T01:54:57.852Z"
   },
   {
    "duration": 157,
    "start_time": "2022-07-14T01:54:58.065Z"
   },
   {
    "duration": 228,
    "start_time": "2022-07-14T01:54:58.224Z"
   },
   {
    "duration": 100,
    "start_time": "2022-07-14T01:54:58.454Z"
   },
   {
    "duration": 3,
    "start_time": "2022-07-14T01:54:58.555Z"
   },
   {
    "duration": 1579,
    "start_time": "2022-07-14T01:54:58.559Z"
   },
   {
    "duration": 3,
    "start_time": "2022-07-14T01:55:00.140Z"
   },
   {
    "duration": 14,
    "start_time": "2022-07-14T01:55:00.144Z"
   },
   {
    "duration": 17,
    "start_time": "2022-07-14T01:55:00.160Z"
   },
   {
    "duration": 11,
    "start_time": "2022-07-14T01:55:00.179Z"
   },
   {
    "duration": 20,
    "start_time": "2022-07-14T01:55:00.192Z"
   },
   {
    "duration": 7,
    "start_time": "2022-07-14T01:55:00.215Z"
   },
   {
    "duration": 11,
    "start_time": "2022-07-14T01:55:00.223Z"
   },
   {
    "duration": 213,
    "start_time": "2022-07-14T01:55:00.236Z"
   },
   {
    "duration": 0,
    "start_time": "2022-07-14T01:55:00.451Z"
   },
   {
    "duration": 0,
    "start_time": "2022-07-14T01:55:00.453Z"
   },
   {
    "duration": 0,
    "start_time": "2022-07-14T01:55:00.455Z"
   },
   {
    "duration": 1,
    "start_time": "2022-07-14T01:55:00.456Z"
   },
   {
    "duration": 0,
    "start_time": "2022-07-14T01:55:00.458Z"
   },
   {
    "duration": 1,
    "start_time": "2022-07-14T01:55:00.459Z"
   },
   {
    "duration": 0,
    "start_time": "2022-07-14T01:55:00.461Z"
   },
   {
    "duration": 0,
    "start_time": "2022-07-14T01:55:00.463Z"
   },
   {
    "duration": 0,
    "start_time": "2022-07-14T01:55:00.464Z"
   },
   {
    "duration": 0,
    "start_time": "2022-07-14T01:55:00.466Z"
   },
   {
    "duration": 0,
    "start_time": "2022-07-14T01:55:00.468Z"
   },
   {
    "duration": 0,
    "start_time": "2022-07-14T01:55:00.469Z"
   },
   {
    "duration": 0,
    "start_time": "2022-07-14T01:55:00.617Z"
   },
   {
    "duration": 0,
    "start_time": "2022-07-14T01:55:00.618Z"
   },
   {
    "duration": 748,
    "start_time": "2022-07-14T01:56:33.526Z"
   },
   {
    "duration": 498,
    "start_time": "2022-07-14T01:56:36.080Z"
   },
   {
    "duration": 21100,
    "start_time": "2022-07-14T01:56:37.399Z"
   },
   {
    "duration": 2,
    "start_time": "2022-07-14T01:57:16.418Z"
   },
   {
    "duration": 4,
    "start_time": "2022-07-14T01:57:26.026Z"
   },
   {
    "duration": 4,
    "start_time": "2022-07-14T01:57:27.441Z"
   },
   {
    "duration": 64,
    "start_time": "2022-07-14T01:57:28.298Z"
   },
   {
    "duration": 355,
    "start_time": "2022-07-14T01:59:39.827Z"
   },
   {
    "duration": 4,
    "start_time": "2022-07-14T01:59:42.373Z"
   },
   {
    "duration": 4,
    "start_time": "2022-07-14T01:59:43.269Z"
   },
   {
    "duration": 68,
    "start_time": "2022-07-14T01:59:43.670Z"
   },
   {
    "duration": 1599,
    "start_time": "2022-07-14T01:59:54.407Z"
   },
   {
    "duration": 1003,
    "start_time": "2022-07-14T01:59:56.008Z"
   },
   {
    "duration": 406,
    "start_time": "2022-07-14T01:59:57.013Z"
   },
   {
    "duration": 15,
    "start_time": "2022-07-14T01:59:57.421Z"
   },
   {
    "duration": 410,
    "start_time": "2022-07-14T01:59:57.438Z"
   },
   {
    "duration": 7,
    "start_time": "2022-07-14T01:59:57.850Z"
   },
   {
    "duration": 57,
    "start_time": "2022-07-14T01:59:57.858Z"
   },
   {
    "duration": 3,
    "start_time": "2022-07-14T01:59:57.917Z"
   },
   {
    "duration": 177,
    "start_time": "2022-07-14T01:59:57.921Z"
   },
   {
    "duration": 1702,
    "start_time": "2022-07-14T01:59:58.101Z"
   },
   {
    "duration": 12,
    "start_time": "2022-07-14T01:59:59.805Z"
   },
   {
    "duration": 51,
    "start_time": "2022-07-14T01:59:59.819Z"
   },
   {
    "duration": 34,
    "start_time": "2022-07-14T01:59:59.871Z"
   },
   {
    "duration": 92,
    "start_time": "2022-07-14T01:59:59.907Z"
   },
   {
    "duration": 81,
    "start_time": "2022-07-14T02:00:00.001Z"
   },
   {
    "duration": 75,
    "start_time": "2022-07-14T02:00:00.083Z"
   },
   {
    "duration": 4,
    "start_time": "2022-07-14T02:00:00.160Z"
   },
   {
    "duration": 172,
    "start_time": "2022-07-14T02:00:00.166Z"
   },
   {
    "duration": 30,
    "start_time": "2022-07-14T02:00:00.340Z"
   },
   {
    "duration": 186,
    "start_time": "2022-07-14T02:00:00.372Z"
   },
   {
    "duration": 3,
    "start_time": "2022-07-14T02:00:00.559Z"
   },
   {
    "duration": 38,
    "start_time": "2022-07-14T02:00:00.563Z"
   },
   {
    "duration": 9,
    "start_time": "2022-07-14T02:00:00.602Z"
   },
   {
    "duration": 12,
    "start_time": "2022-07-14T02:00:00.613Z"
   },
   {
    "duration": 14,
    "start_time": "2022-07-14T02:00:00.627Z"
   },
   {
    "duration": 17,
    "start_time": "2022-07-14T02:00:00.642Z"
   },
   {
    "duration": 30,
    "start_time": "2022-07-14T02:00:00.661Z"
   },
   {
    "duration": 41,
    "start_time": "2022-07-14T02:00:00.696Z"
   },
   {
    "duration": 1620,
    "start_time": "2022-07-14T02:00:00.738Z"
   },
   {
    "duration": 26,
    "start_time": "2022-07-14T02:00:02.359Z"
   },
   {
    "duration": 1416,
    "start_time": "2022-07-14T02:00:02.387Z"
   },
   {
    "duration": 357,
    "start_time": "2022-07-14T02:00:03.805Z"
   },
   {
    "duration": 64,
    "start_time": "2022-07-14T02:00:04.164Z"
   },
   {
    "duration": 1431,
    "start_time": "2022-07-14T02:00:04.230Z"
   },
   {
    "duration": 8,
    "start_time": "2022-07-14T02:00:05.663Z"
   },
   {
    "duration": 166,
    "start_time": "2022-07-14T02:00:05.673Z"
   },
   {
    "duration": 1485,
    "start_time": "2022-07-14T02:00:05.841Z"
   },
   {
    "duration": 23,
    "start_time": "2022-07-14T02:00:07.328Z"
   },
   {
    "duration": 63,
    "start_time": "2022-07-14T02:00:07.353Z"
   },
   {
    "duration": 1389,
    "start_time": "2022-07-14T02:00:07.418Z"
   },
   {
    "duration": 175,
    "start_time": "2022-07-14T02:00:08.809Z"
   },
   {
    "duration": 47,
    "start_time": "2022-07-14T02:00:08.986Z"
   },
   {
    "duration": 95,
    "start_time": "2022-07-14T02:00:09.035Z"
   },
   {
    "duration": 208,
    "start_time": "2022-07-14T02:00:09.132Z"
   },
   {
    "duration": 138,
    "start_time": "2022-07-14T02:00:09.342Z"
   },
   {
    "duration": 225,
    "start_time": "2022-07-14T02:00:09.482Z"
   },
   {
    "duration": 91,
    "start_time": "2022-07-14T02:00:09.709Z"
   },
   {
    "duration": 2,
    "start_time": "2022-07-14T02:00:09.802Z"
   },
   {
    "duration": 1568,
    "start_time": "2022-07-14T02:00:09.806Z"
   },
   {
    "duration": 4,
    "start_time": "2022-07-14T02:00:11.375Z"
   },
   {
    "duration": 17,
    "start_time": "2022-07-14T02:00:11.381Z"
   },
   {
    "duration": 12,
    "start_time": "2022-07-14T02:00:11.400Z"
   },
   {
    "duration": 9,
    "start_time": "2022-07-14T02:00:11.413Z"
   },
   {
    "duration": 844,
    "start_time": "2022-07-14T02:00:11.423Z"
   },
   {
    "duration": 514,
    "start_time": "2022-07-14T02:00:12.269Z"
   },
   {
    "duration": 27614,
    "start_time": "2022-07-14T02:00:12.785Z"
   },
   {
    "duration": 5,
    "start_time": "2022-07-14T02:00:40.401Z"
   },
   {
    "duration": 458,
    "start_time": "2022-07-14T02:00:40.408Z"
   },
   {
    "duration": 3,
    "start_time": "2022-07-14T02:00:40.868Z"
   },
   {
    "duration": 8,
    "start_time": "2022-07-14T02:00:40.873Z"
   },
   {
    "duration": 189,
    "start_time": "2022-07-14T02:00:40.883Z"
   },
   {
    "duration": 0,
    "start_time": "2022-07-14T02:00:41.073Z"
   },
   {
    "duration": 0,
    "start_time": "2022-07-14T02:00:41.074Z"
   },
   {
    "duration": 0,
    "start_time": "2022-07-14T02:00:41.075Z"
   },
   {
    "duration": 0,
    "start_time": "2022-07-14T02:00:41.076Z"
   },
   {
    "duration": 0,
    "start_time": "2022-07-14T02:00:41.077Z"
   },
   {
    "duration": 0,
    "start_time": "2022-07-14T02:00:41.079Z"
   },
   {
    "duration": 0,
    "start_time": "2022-07-14T02:00:41.080Z"
   },
   {
    "duration": 0,
    "start_time": "2022-07-14T02:00:41.081Z"
   },
   {
    "duration": 0,
    "start_time": "2022-07-14T02:00:41.082Z"
   },
   {
    "duration": 0,
    "start_time": "2022-07-14T02:00:41.083Z"
   },
   {
    "duration": 0,
    "start_time": "2022-07-14T02:00:41.098Z"
   },
   {
    "duration": 1587,
    "start_time": "2022-07-14T02:01:52.624Z"
   },
   {
    "duration": 980,
    "start_time": "2022-07-14T02:01:54.212Z"
   },
   {
    "duration": 394,
    "start_time": "2022-07-14T02:01:55.193Z"
   },
   {
    "duration": 21,
    "start_time": "2022-07-14T02:01:55.589Z"
   },
   {
    "duration": 397,
    "start_time": "2022-07-14T02:01:55.612Z"
   },
   {
    "duration": 7,
    "start_time": "2022-07-14T02:01:56.011Z"
   },
   {
    "duration": 44,
    "start_time": "2022-07-14T02:01:56.020Z"
   },
   {
    "duration": 4,
    "start_time": "2022-07-14T02:01:56.065Z"
   },
   {
    "duration": 190,
    "start_time": "2022-07-14T02:01:56.071Z"
   },
   {
    "duration": 1722,
    "start_time": "2022-07-14T02:01:56.263Z"
   },
   {
    "duration": 17,
    "start_time": "2022-07-14T02:01:57.987Z"
   },
   {
    "duration": 50,
    "start_time": "2022-07-14T02:01:58.006Z"
   },
   {
    "duration": 14,
    "start_time": "2022-07-14T02:01:58.058Z"
   },
   {
    "duration": 94,
    "start_time": "2022-07-14T02:01:58.074Z"
   },
   {
    "duration": 83,
    "start_time": "2022-07-14T02:01:58.170Z"
   },
   {
    "duration": 72,
    "start_time": "2022-07-14T02:01:58.255Z"
   },
   {
    "duration": 3,
    "start_time": "2022-07-14T02:01:58.329Z"
   },
   {
    "duration": 158,
    "start_time": "2022-07-14T02:01:58.333Z"
   },
   {
    "duration": 30,
    "start_time": "2022-07-14T02:01:58.492Z"
   },
   {
    "duration": 188,
    "start_time": "2022-07-14T02:01:58.523Z"
   },
   {
    "duration": 3,
    "start_time": "2022-07-14T02:01:58.712Z"
   },
   {
    "duration": 18,
    "start_time": "2022-07-14T02:01:58.716Z"
   },
   {
    "duration": 4,
    "start_time": "2022-07-14T02:01:58.735Z"
   },
   {
    "duration": 5,
    "start_time": "2022-07-14T02:01:58.741Z"
   },
   {
    "duration": 19,
    "start_time": "2022-07-14T02:01:58.747Z"
   },
   {
    "duration": 380,
    "start_time": "2022-07-14T02:01:58.768Z"
   },
   {
    "duration": 1618,
    "start_time": "2022-07-14T02:02:57.664Z"
   },
   {
    "duration": 1001,
    "start_time": "2022-07-14T02:02:59.284Z"
   },
   {
    "duration": 392,
    "start_time": "2022-07-14T02:03:00.287Z"
   },
   {
    "duration": 18,
    "start_time": "2022-07-14T02:03:00.682Z"
   },
   {
    "duration": 401,
    "start_time": "2022-07-14T02:03:00.702Z"
   },
   {
    "duration": 9,
    "start_time": "2022-07-14T02:03:01.105Z"
   },
   {
    "duration": 48,
    "start_time": "2022-07-14T02:03:01.115Z"
   },
   {
    "duration": 9,
    "start_time": "2022-07-14T02:03:01.165Z"
   },
   {
    "duration": 188,
    "start_time": "2022-07-14T02:03:01.176Z"
   },
   {
    "duration": 1811,
    "start_time": "2022-07-14T02:03:01.368Z"
   },
   {
    "duration": 25,
    "start_time": "2022-07-14T02:03:03.180Z"
   },
   {
    "duration": 51,
    "start_time": "2022-07-14T02:03:03.207Z"
   },
   {
    "duration": 14,
    "start_time": "2022-07-14T02:03:03.260Z"
   },
   {
    "duration": 90,
    "start_time": "2022-07-14T02:03:03.276Z"
   },
   {
    "duration": 88,
    "start_time": "2022-07-14T02:03:03.367Z"
   },
   {
    "duration": 71,
    "start_time": "2022-07-14T02:03:03.456Z"
   },
   {
    "duration": 4,
    "start_time": "2022-07-14T02:03:03.529Z"
   },
   {
    "duration": 167,
    "start_time": "2022-07-14T02:03:03.535Z"
   },
   {
    "duration": 31,
    "start_time": "2022-07-14T02:03:03.703Z"
   },
   {
    "duration": 186,
    "start_time": "2022-07-14T02:03:03.735Z"
   },
   {
    "duration": 2,
    "start_time": "2022-07-14T02:03:03.923Z"
   },
   {
    "duration": 15,
    "start_time": "2022-07-14T02:03:03.927Z"
   },
   {
    "duration": 4,
    "start_time": "2022-07-14T02:03:03.944Z"
   },
   {
    "duration": 5,
    "start_time": "2022-07-14T02:03:03.950Z"
   },
   {
    "duration": 4,
    "start_time": "2022-07-14T02:03:03.957Z"
   },
   {
    "duration": 4,
    "start_time": "2022-07-14T02:03:03.962Z"
   },
   {
    "duration": 53,
    "start_time": "2022-07-14T02:03:03.967Z"
   },
   {
    "duration": 45,
    "start_time": "2022-07-14T02:03:04.024Z"
   },
   {
    "duration": 1611,
    "start_time": "2022-07-14T02:03:04.071Z"
   },
   {
    "duration": 32,
    "start_time": "2022-07-14T02:03:05.684Z"
   },
   {
    "duration": 1525,
    "start_time": "2022-07-14T02:03:05.719Z"
   },
   {
    "duration": 352,
    "start_time": "2022-07-14T02:03:07.246Z"
   },
   {
    "duration": 63,
    "start_time": "2022-07-14T02:03:07.600Z"
   },
   {
    "duration": 1436,
    "start_time": "2022-07-14T02:03:07.665Z"
   },
   {
    "duration": 10,
    "start_time": "2022-07-14T02:03:09.103Z"
   },
   {
    "duration": 173,
    "start_time": "2022-07-14T02:03:09.115Z"
   },
   {
    "duration": 1393,
    "start_time": "2022-07-14T02:03:09.291Z"
   },
   {
    "duration": 32,
    "start_time": "2022-07-14T02:03:10.685Z"
   },
   {
    "duration": 47,
    "start_time": "2022-07-14T02:03:10.718Z"
   },
   {
    "duration": 1412,
    "start_time": "2022-07-14T02:03:10.766Z"
   },
   {
    "duration": 156,
    "start_time": "2022-07-14T02:03:12.179Z"
   },
   {
    "duration": 41,
    "start_time": "2022-07-14T02:03:12.337Z"
   },
   {
    "duration": 103,
    "start_time": "2022-07-14T02:03:12.380Z"
   },
   {
    "duration": 203,
    "start_time": "2022-07-14T02:03:12.497Z"
   },
   {
    "duration": 145,
    "start_time": "2022-07-14T02:03:12.701Z"
   },
   {
    "duration": 216,
    "start_time": "2022-07-14T02:03:12.848Z"
   },
   {
    "duration": 95,
    "start_time": "2022-07-14T02:03:13.065Z"
   },
   {
    "duration": 2,
    "start_time": "2022-07-14T02:03:13.162Z"
   },
   {
    "duration": 1535,
    "start_time": "2022-07-14T02:03:13.166Z"
   },
   {
    "duration": 4,
    "start_time": "2022-07-14T02:03:14.703Z"
   },
   {
    "duration": 30,
    "start_time": "2022-07-14T02:03:14.708Z"
   },
   {
    "duration": 43,
    "start_time": "2022-07-14T02:03:14.740Z"
   },
   {
    "duration": 39,
    "start_time": "2022-07-14T02:03:14.784Z"
   },
   {
    "duration": 832,
    "start_time": "2022-07-14T02:03:14.825Z"
   },
   {
    "duration": 502,
    "start_time": "2022-07-14T02:03:15.658Z"
   },
   {
    "duration": 25138,
    "start_time": "2022-07-14T02:03:16.162Z"
   },
   {
    "duration": 2,
    "start_time": "2022-07-14T02:03:41.302Z"
   },
   {
    "duration": 457,
    "start_time": "2022-07-14T02:03:41.306Z"
   },
   {
    "duration": 4,
    "start_time": "2022-07-14T02:03:41.765Z"
   },
   {
    "duration": 5,
    "start_time": "2022-07-14T02:03:41.771Z"
   },
   {
    "duration": 190,
    "start_time": "2022-07-14T02:03:41.778Z"
   },
   {
    "duration": 0,
    "start_time": "2022-07-14T02:03:41.969Z"
   },
   {
    "duration": 0,
    "start_time": "2022-07-14T02:03:41.970Z"
   },
   {
    "duration": 0,
    "start_time": "2022-07-14T02:03:41.971Z"
   },
   {
    "duration": 0,
    "start_time": "2022-07-14T02:03:41.973Z"
   },
   {
    "duration": 0,
    "start_time": "2022-07-14T02:03:41.974Z"
   },
   {
    "duration": 0,
    "start_time": "2022-07-14T02:03:41.975Z"
   },
   {
    "duration": 0,
    "start_time": "2022-07-14T02:03:41.976Z"
   },
   {
    "duration": 0,
    "start_time": "2022-07-14T02:03:41.977Z"
   },
   {
    "duration": 0,
    "start_time": "2022-07-14T02:03:41.978Z"
   },
   {
    "duration": 0,
    "start_time": "2022-07-14T02:03:41.980Z"
   },
   {
    "duration": 0,
    "start_time": "2022-07-14T02:03:41.998Z"
   },
   {
    "duration": 1577,
    "start_time": "2022-07-14T02:08:06.703Z"
   },
   {
    "duration": 1753,
    "start_time": "2022-07-14T02:08:08.282Z"
   },
   {
    "duration": 635,
    "start_time": "2022-07-14T02:08:10.037Z"
   },
   {
    "duration": 15,
    "start_time": "2022-07-14T02:08:10.674Z"
   },
   {
    "duration": 385,
    "start_time": "2022-07-14T02:08:10.698Z"
   },
   {
    "duration": 17,
    "start_time": "2022-07-14T02:08:11.085Z"
   },
   {
    "duration": 44,
    "start_time": "2022-07-14T02:08:11.103Z"
   },
   {
    "duration": 3,
    "start_time": "2022-07-14T02:08:11.148Z"
   },
   {
    "duration": 185,
    "start_time": "2022-07-14T02:08:11.152Z"
   },
   {
    "duration": 1653,
    "start_time": "2022-07-14T02:08:11.339Z"
   },
   {
    "duration": 11,
    "start_time": "2022-07-14T02:08:12.998Z"
   },
   {
    "duration": 51,
    "start_time": "2022-07-14T02:08:13.011Z"
   },
   {
    "duration": 34,
    "start_time": "2022-07-14T02:08:13.064Z"
   },
   {
    "duration": 72,
    "start_time": "2022-07-14T02:08:13.100Z"
   },
   {
    "duration": 91,
    "start_time": "2022-07-14T02:08:13.174Z"
   },
   {
    "duration": 71,
    "start_time": "2022-07-14T02:08:13.267Z"
   },
   {
    "duration": 4,
    "start_time": "2022-07-14T02:08:13.339Z"
   },
   {
    "duration": 172,
    "start_time": "2022-07-14T02:08:13.344Z"
   },
   {
    "duration": 29,
    "start_time": "2022-07-14T02:08:13.518Z"
   },
   {
    "duration": 190,
    "start_time": "2022-07-14T02:08:13.549Z"
   },
   {
    "duration": 2,
    "start_time": "2022-07-14T02:08:13.741Z"
   },
   {
    "duration": 17,
    "start_time": "2022-07-14T02:08:13.744Z"
   },
   {
    "duration": 4,
    "start_time": "2022-07-14T02:08:13.763Z"
   },
   {
    "duration": 7,
    "start_time": "2022-07-14T02:08:13.769Z"
   },
   {
    "duration": 4,
    "start_time": "2022-07-14T02:08:13.778Z"
   },
   {
    "duration": 15,
    "start_time": "2022-07-14T02:08:13.783Z"
   },
   {
    "duration": 26,
    "start_time": "2022-07-14T02:08:13.800Z"
   },
   {
    "duration": 41,
    "start_time": "2022-07-14T02:08:13.830Z"
   },
   {
    "duration": 1566,
    "start_time": "2022-07-14T02:08:13.897Z"
   },
   {
    "duration": 34,
    "start_time": "2022-07-14T02:08:15.465Z"
   },
   {
    "duration": 1518,
    "start_time": "2022-07-14T02:08:15.501Z"
   },
   {
    "duration": 328,
    "start_time": "2022-07-14T02:08:17.021Z"
   },
   {
    "duration": 62,
    "start_time": "2022-07-14T02:08:17.351Z"
   },
   {
    "duration": 1354,
    "start_time": "2022-07-14T02:08:17.414Z"
   },
   {
    "duration": 8,
    "start_time": "2022-07-14T02:08:18.770Z"
   },
   {
    "duration": 171,
    "start_time": "2022-07-14T02:08:18.779Z"
   },
   {
    "duration": 1434,
    "start_time": "2022-07-14T02:08:18.952Z"
   },
   {
    "duration": 29,
    "start_time": "2022-07-14T02:08:20.388Z"
   },
   {
    "duration": 46,
    "start_time": "2022-07-14T02:08:20.419Z"
   },
   {
    "duration": 1421,
    "start_time": "2022-07-14T02:08:20.467Z"
   },
   {
    "duration": 176,
    "start_time": "2022-07-14T02:08:21.889Z"
   },
   {
    "duration": 46,
    "start_time": "2022-07-14T02:08:22.067Z"
   },
   {
    "duration": 97,
    "start_time": "2022-07-14T02:08:22.115Z"
   },
   {
    "duration": 200,
    "start_time": "2022-07-14T02:08:22.213Z"
   },
   {
    "duration": 138,
    "start_time": "2022-07-14T02:08:22.415Z"
   },
   {
    "duration": 227,
    "start_time": "2022-07-14T02:08:22.555Z"
   },
   {
    "duration": 761,
    "start_time": "2022-07-14T02:08:22.784Z"
   },
   {
    "duration": 368,
    "start_time": "2022-07-14T02:08:23.547Z"
   },
   {
    "duration": 84,
    "start_time": "2022-07-14T02:08:23.916Z"
   },
   {
    "duration": 2,
    "start_time": "2022-07-14T02:08:24.002Z"
   },
   {
    "duration": 1463,
    "start_time": "2022-07-14T02:08:24.006Z"
   },
   {
    "duration": 3,
    "start_time": "2022-07-14T02:08:25.471Z"
   },
   {
    "duration": 8,
    "start_time": "2022-07-14T02:08:25.475Z"
   },
   {
    "duration": 16,
    "start_time": "2022-07-14T02:08:25.485Z"
   },
   {
    "duration": 5,
    "start_time": "2022-07-14T02:08:25.503Z"
   },
   {
    "duration": 518,
    "start_time": "2022-07-14T02:08:25.509Z"
   },
   {
    "duration": 26669,
    "start_time": "2022-07-14T02:08:26.029Z"
   },
   {
    "duration": 2,
    "start_time": "2022-07-14T02:08:52.700Z"
   },
   {
    "duration": 8,
    "start_time": "2022-07-14T02:08:52.704Z"
   },
   {
    "duration": 5,
    "start_time": "2022-07-14T02:08:52.714Z"
   },
   {
    "duration": 1019,
    "start_time": "2022-07-14T02:08:52.720Z"
   },
   {
    "duration": 4,
    "start_time": "2022-07-14T02:08:53.740Z"
   },
   {
    "duration": 27659,
    "start_time": "2022-07-14T02:08:53.746Z"
   },
   {
    "duration": 3,
    "start_time": "2022-07-14T02:09:21.407Z"
   },
   {
    "duration": 12,
    "start_time": "2022-07-14T02:09:21.411Z"
   },
   {
    "duration": 7501,
    "start_time": "2022-07-14T02:09:21.424Z"
   },
   {
    "duration": 72,
    "start_time": "2022-07-14T02:09:28.927Z"
   },
   {
    "duration": 5,
    "start_time": "2022-07-14T02:09:29.001Z"
   },
   {
    "duration": 7,
    "start_time": "2022-07-14T02:09:29.007Z"
   },
   {
    "duration": 17260,
    "start_time": "2022-07-14T02:09:29.015Z"
   },
   {
    "duration": 8,
    "start_time": "2022-07-14T02:09:46.277Z"
   },
   {
    "duration": 19,
    "start_time": "2022-07-14T02:09:46.287Z"
   },
   {
    "duration": 33,
    "start_time": "2022-07-14T02:11:42.374Z"
   },
   {
    "duration": 92,
    "start_time": "2022-07-14T02:13:24.696Z"
   },
   {
    "duration": 1609,
    "start_time": "2022-07-14T02:16:29.624Z"
   },
   {
    "duration": 1038,
    "start_time": "2022-07-14T02:16:31.235Z"
   },
   {
    "duration": 424,
    "start_time": "2022-07-14T02:16:32.275Z"
   },
   {
    "duration": 16,
    "start_time": "2022-07-14T02:16:32.702Z"
   },
   {
    "duration": 413,
    "start_time": "2022-07-14T02:16:32.720Z"
   },
   {
    "duration": 9,
    "start_time": "2022-07-14T02:16:33.135Z"
   },
   {
    "duration": 56,
    "start_time": "2022-07-14T02:16:33.146Z"
   },
   {
    "duration": 6,
    "start_time": "2022-07-14T02:16:33.203Z"
   },
   {
    "duration": 176,
    "start_time": "2022-07-14T02:16:33.211Z"
   },
   {
    "duration": 1701,
    "start_time": "2022-07-14T02:16:33.397Z"
   },
   {
    "duration": 12,
    "start_time": "2022-07-14T02:16:35.100Z"
   },
   {
    "duration": 51,
    "start_time": "2022-07-14T02:16:35.113Z"
   },
   {
    "duration": 34,
    "start_time": "2022-07-14T02:16:35.166Z"
   },
   {
    "duration": 75,
    "start_time": "2022-07-14T02:16:35.202Z"
   },
   {
    "duration": 88,
    "start_time": "2022-07-14T02:16:35.278Z"
   },
   {
    "duration": 75,
    "start_time": "2022-07-14T02:16:35.368Z"
   },
   {
    "duration": 4,
    "start_time": "2022-07-14T02:16:35.445Z"
   },
   {
    "duration": 177,
    "start_time": "2022-07-14T02:16:35.451Z"
   },
   {
    "duration": 33,
    "start_time": "2022-07-14T02:16:35.630Z"
   },
   {
    "duration": 189,
    "start_time": "2022-07-14T02:16:35.665Z"
   },
   {
    "duration": 3,
    "start_time": "2022-07-14T02:16:35.856Z"
   },
   {
    "duration": 16,
    "start_time": "2022-07-14T02:16:35.861Z"
   },
   {
    "duration": 21,
    "start_time": "2022-07-14T02:16:35.879Z"
   },
   {
    "duration": 10,
    "start_time": "2022-07-14T02:16:35.901Z"
   },
   {
    "duration": 8,
    "start_time": "2022-07-14T02:16:35.913Z"
   },
   {
    "duration": 11,
    "start_time": "2022-07-14T02:16:35.923Z"
   },
   {
    "duration": 40,
    "start_time": "2022-07-14T02:16:35.935Z"
   },
   {
    "duration": 43,
    "start_time": "2022-07-14T02:16:35.979Z"
   },
   {
    "duration": 1666,
    "start_time": "2022-07-14T02:16:36.024Z"
   },
   {
    "duration": 26,
    "start_time": "2022-07-14T02:16:37.692Z"
   },
   {
    "duration": 1501,
    "start_time": "2022-07-14T02:16:37.720Z"
   },
   {
    "duration": 336,
    "start_time": "2022-07-14T02:16:39.223Z"
   },
   {
    "duration": 67,
    "start_time": "2022-07-14T02:16:39.561Z"
   },
   {
    "duration": 1452,
    "start_time": "2022-07-14T02:16:39.630Z"
   },
   {
    "duration": 15,
    "start_time": "2022-07-14T02:16:41.084Z"
   },
   {
    "duration": 156,
    "start_time": "2022-07-14T02:16:41.100Z"
   },
   {
    "duration": 1413,
    "start_time": "2022-07-14T02:16:41.257Z"
   },
   {
    "duration": 31,
    "start_time": "2022-07-14T02:16:42.671Z"
   },
   {
    "duration": 47,
    "start_time": "2022-07-14T02:16:42.703Z"
   },
   {
    "duration": 1430,
    "start_time": "2022-07-14T02:16:42.751Z"
   },
   {
    "duration": 150,
    "start_time": "2022-07-14T02:16:44.182Z"
   },
   {
    "duration": 39,
    "start_time": "2022-07-14T02:16:44.333Z"
   },
   {
    "duration": 95,
    "start_time": "2022-07-14T02:16:44.374Z"
   },
   {
    "duration": 215,
    "start_time": "2022-07-14T02:16:44.471Z"
   },
   {
    "duration": 146,
    "start_time": "2022-07-14T02:16:44.688Z"
   },
   {
    "duration": 223,
    "start_time": "2022-07-14T02:16:44.836Z"
   },
   {
    "duration": 682,
    "start_time": "2022-07-14T02:16:45.062Z"
   },
   {
    "duration": 365,
    "start_time": "2022-07-14T02:16:45.745Z"
   },
   {
    "duration": 72,
    "start_time": "2022-07-14T02:16:46.111Z"
   },
   {
    "duration": 1505,
    "start_time": "2022-07-14T02:16:46.197Z"
   },
   {
    "duration": 3,
    "start_time": "2022-07-14T02:16:47.705Z"
   },
   {
    "duration": 8,
    "start_time": "2022-07-14T02:16:47.709Z"
   },
   {
    "duration": 11,
    "start_time": "2022-07-14T02:16:47.719Z"
   },
   {
    "duration": 5,
    "start_time": "2022-07-14T02:16:47.732Z"
   },
   {
    "duration": 518,
    "start_time": "2022-07-14T02:16:47.739Z"
   },
   {
    "duration": 3749,
    "start_time": "2022-07-14T02:16:48.259Z"
   },
   {
    "duration": 22296,
    "start_time": "2022-07-14T02:16:52.010Z"
   },
   {
    "duration": 3,
    "start_time": "2022-07-14T02:17:14.398Z"
   },
   {
    "duration": 6,
    "start_time": "2022-07-14T02:17:14.403Z"
   },
   {
    "duration": 9,
    "start_time": "2022-07-14T02:17:14.410Z"
   },
   {
    "duration": 991,
    "start_time": "2022-07-14T02:17:14.421Z"
   },
   {
    "duration": 4,
    "start_time": "2022-07-14T02:17:15.413Z"
   },
   {
    "duration": 28288,
    "start_time": "2022-07-14T02:17:15.419Z"
   },
   {
    "duration": 3,
    "start_time": "2022-07-14T02:17:43.708Z"
   },
   {
    "duration": 6,
    "start_time": "2022-07-14T02:17:43.713Z"
   },
   {
    "duration": 8391,
    "start_time": "2022-07-14T02:17:43.720Z"
   },
   {
    "duration": 3,
    "start_time": "2022-07-14T02:17:52.113Z"
   },
   {
    "duration": 7,
    "start_time": "2022-07-14T02:17:52.118Z"
   },
   {
    "duration": 5,
    "start_time": "2022-07-14T02:17:52.127Z"
   },
   {
    "duration": 16646,
    "start_time": "2022-07-14T02:17:52.134Z"
   },
   {
    "duration": 8,
    "start_time": "2022-07-14T02:18:08.783Z"
   },
   {
    "duration": 10,
    "start_time": "2022-07-14T02:18:08.797Z"
   },
   {
    "duration": 428,
    "start_time": "2022-07-14T02:29:04.188Z"
   },
   {
    "duration": 1616,
    "start_time": "2022-07-14T02:29:39.658Z"
   },
   {
    "duration": 1071,
    "start_time": "2022-07-14T02:29:41.277Z"
   },
   {
    "duration": 417,
    "start_time": "2022-07-14T02:29:42.350Z"
   },
   {
    "duration": 35,
    "start_time": "2022-07-14T02:29:42.769Z"
   },
   {
    "duration": 394,
    "start_time": "2022-07-14T02:29:42.806Z"
   },
   {
    "duration": 11,
    "start_time": "2022-07-14T02:29:43.203Z"
   },
   {
    "duration": 45,
    "start_time": "2022-07-14T02:29:43.221Z"
   },
   {
    "duration": 3,
    "start_time": "2022-07-14T02:29:43.267Z"
   },
   {
    "duration": 181,
    "start_time": "2022-07-14T02:29:43.271Z"
   },
   {
    "duration": 1779,
    "start_time": "2022-07-14T02:29:43.456Z"
   },
   {
    "duration": 11,
    "start_time": "2022-07-14T02:29:45.237Z"
   },
   {
    "duration": 66,
    "start_time": "2022-07-14T02:29:45.250Z"
   },
   {
    "duration": 14,
    "start_time": "2022-07-14T02:29:45.318Z"
   },
   {
    "duration": 93,
    "start_time": "2022-07-14T02:29:45.334Z"
   },
   {
    "duration": 90,
    "start_time": "2022-07-14T02:29:45.429Z"
   },
   {
    "duration": 62,
    "start_time": "2022-07-14T02:29:45.520Z"
   },
   {
    "duration": 16,
    "start_time": "2022-07-14T02:29:45.584Z"
   },
   {
    "duration": 160,
    "start_time": "2022-07-14T02:29:45.610Z"
   },
   {
    "duration": 40,
    "start_time": "2022-07-14T02:29:45.771Z"
   },
   {
    "duration": 172,
    "start_time": "2022-07-14T02:29:45.813Z"
   },
   {
    "duration": 17,
    "start_time": "2022-07-14T02:29:45.987Z"
   },
   {
    "duration": 15,
    "start_time": "2022-07-14T02:29:46.012Z"
   },
   {
    "duration": 4,
    "start_time": "2022-07-14T02:29:46.029Z"
   },
   {
    "duration": 4,
    "start_time": "2022-07-14T02:29:46.035Z"
   },
   {
    "duration": 5,
    "start_time": "2022-07-14T02:29:46.040Z"
   },
   {
    "duration": 4,
    "start_time": "2022-07-14T02:29:46.047Z"
   },
   {
    "duration": 28,
    "start_time": "2022-07-14T02:29:46.052Z"
   },
   {
    "duration": 45,
    "start_time": "2022-07-14T02:29:46.102Z"
   },
   {
    "duration": 1703,
    "start_time": "2022-07-14T02:29:46.148Z"
   },
   {
    "duration": 23,
    "start_time": "2022-07-14T02:29:47.853Z"
   },
   {
    "duration": 1455,
    "start_time": "2022-07-14T02:29:47.878Z"
   },
   {
    "duration": 308,
    "start_time": "2022-07-14T02:29:49.335Z"
   },
   {
    "duration": 61,
    "start_time": "2022-07-14T02:29:49.645Z"
   },
   {
    "duration": 1400,
    "start_time": "2022-07-14T02:29:49.714Z"
   },
   {
    "duration": 8,
    "start_time": "2022-07-14T02:29:51.115Z"
   },
   {
    "duration": 165,
    "start_time": "2022-07-14T02:29:51.125Z"
   },
   {
    "duration": 1466,
    "start_time": "2022-07-14T02:29:51.292Z"
   },
   {
    "duration": 22,
    "start_time": "2022-07-14T02:29:52.760Z"
   },
   {
    "duration": 69,
    "start_time": "2022-07-14T02:29:52.783Z"
   },
   {
    "duration": 1502,
    "start_time": "2022-07-14T02:29:52.854Z"
   },
   {
    "duration": 161,
    "start_time": "2022-07-14T02:29:54.358Z"
   },
   {
    "duration": 42,
    "start_time": "2022-07-14T02:29:54.520Z"
   },
   {
    "duration": 101,
    "start_time": "2022-07-14T02:29:54.564Z"
   },
   {
    "duration": 206,
    "start_time": "2022-07-14T02:29:54.667Z"
   },
   {
    "duration": 150,
    "start_time": "2022-07-14T02:29:54.874Z"
   },
   {
    "duration": 229,
    "start_time": "2022-07-14T02:29:55.026Z"
   },
   {
    "duration": 687,
    "start_time": "2022-07-14T02:29:55.257Z"
   },
   {
    "duration": 519,
    "start_time": "2022-07-14T02:29:55.946Z"
   },
   {
    "duration": 2755,
    "start_time": "2022-07-14T02:29:56.467Z"
   },
   {
    "duration": 397,
    "start_time": "2022-07-14T02:29:59.224Z"
   },
   {
    "duration": 94,
    "start_time": "2022-07-14T02:29:59.624Z"
   },
   {
    "duration": 1505,
    "start_time": "2022-07-14T02:29:59.720Z"
   },
   {
    "duration": 3,
    "start_time": "2022-07-14T02:30:01.227Z"
   },
   {
    "duration": 10,
    "start_time": "2022-07-14T02:30:01.231Z"
   },
   {
    "duration": 18,
    "start_time": "2022-07-14T02:30:01.242Z"
   },
   {
    "duration": 10,
    "start_time": "2022-07-14T02:30:01.261Z"
   },
   {
    "duration": 36833,
    "start_time": "2022-07-14T02:30:01.273Z"
   },
   {
    "duration": 8,
    "start_time": "2022-07-14T02:30:38.108Z"
   },
   {
    "duration": 104,
    "start_time": "2022-07-14T02:30:38.118Z"
   },
   {
    "duration": 890,
    "start_time": "2022-07-14T02:30:38.224Z"
   },
   {
    "duration": 4,
    "start_time": "2022-07-14T02:30:39.116Z"
   },
   {
    "duration": 27755,
    "start_time": "2022-07-14T02:30:39.122Z"
   },
   {
    "duration": 4,
    "start_time": "2022-07-14T02:31:06.879Z"
   },
   {
    "duration": 29,
    "start_time": "2022-07-14T02:31:06.884Z"
   },
   {
    "duration": 80497,
    "start_time": "2022-07-14T02:31:06.915Z"
   },
   {
    "duration": 5,
    "start_time": "2022-07-14T02:32:27.414Z"
   },
   {
    "duration": 11,
    "start_time": "2022-07-14T02:32:27.421Z"
   },
   {
    "duration": 12,
    "start_time": "2022-07-14T02:32:27.434Z"
   },
   {
    "duration": 17393,
    "start_time": "2022-07-14T02:32:27.448Z"
   },
   {
    "duration": 7,
    "start_time": "2022-07-14T02:32:44.843Z"
   },
   {
    "duration": 9,
    "start_time": "2022-07-14T02:32:44.852Z"
   },
   {
    "duration": 1579,
    "start_time": "2022-07-14T02:38:31.019Z"
   },
   {
    "duration": 982,
    "start_time": "2022-07-14T02:38:32.600Z"
   },
   {
    "duration": 416,
    "start_time": "2022-07-14T02:38:33.584Z"
   },
   {
    "duration": 18,
    "start_time": "2022-07-14T02:38:34.002Z"
   },
   {
    "duration": 421,
    "start_time": "2022-07-14T02:38:34.022Z"
   },
   {
    "duration": 8,
    "start_time": "2022-07-14T02:38:34.445Z"
   },
   {
    "duration": 58,
    "start_time": "2022-07-14T02:38:34.455Z"
   },
   {
    "duration": 2,
    "start_time": "2022-07-14T02:38:34.515Z"
   },
   {
    "duration": 171,
    "start_time": "2022-07-14T02:38:34.519Z"
   },
   {
    "duration": 1680,
    "start_time": "2022-07-14T02:38:34.697Z"
   },
   {
    "duration": 19,
    "start_time": "2022-07-14T02:38:36.379Z"
   },
   {
    "duration": 51,
    "start_time": "2022-07-14T02:38:36.400Z"
   },
   {
    "duration": 15,
    "start_time": "2022-07-14T02:38:36.453Z"
   },
   {
    "duration": 92,
    "start_time": "2022-07-14T02:38:36.469Z"
   },
   {
    "duration": 96,
    "start_time": "2022-07-14T02:38:36.563Z"
   },
   {
    "duration": 90,
    "start_time": "2022-07-14T02:38:36.661Z"
   },
   {
    "duration": 4,
    "start_time": "2022-07-14T02:38:36.755Z"
   },
   {
    "duration": 180,
    "start_time": "2022-07-14T02:38:36.761Z"
   },
   {
    "duration": 29,
    "start_time": "2022-07-14T02:38:36.943Z"
   },
   {
    "duration": 189,
    "start_time": "2022-07-14T02:38:36.974Z"
   },
   {
    "duration": 3,
    "start_time": "2022-07-14T02:38:37.164Z"
   },
   {
    "duration": 23,
    "start_time": "2022-07-14T02:38:37.169Z"
   },
   {
    "duration": 3,
    "start_time": "2022-07-14T02:38:37.198Z"
   },
   {
    "duration": 5,
    "start_time": "2022-07-14T02:38:37.202Z"
   },
   {
    "duration": 8,
    "start_time": "2022-07-14T02:38:37.209Z"
   },
   {
    "duration": 8,
    "start_time": "2022-07-14T02:38:37.218Z"
   },
   {
    "duration": 29,
    "start_time": "2022-07-14T02:38:37.228Z"
   },
   {
    "duration": 63,
    "start_time": "2022-07-14T02:38:37.261Z"
   },
   {
    "duration": 1580,
    "start_time": "2022-07-14T02:38:37.326Z"
   },
   {
    "duration": 29,
    "start_time": "2022-07-14T02:38:38.908Z"
   },
   {
    "duration": 1442,
    "start_time": "2022-07-14T02:38:38.939Z"
   },
   {
    "duration": 308,
    "start_time": "2022-07-14T02:38:40.383Z"
   },
   {
    "duration": 56,
    "start_time": "2022-07-14T02:38:40.693Z"
   },
   {
    "duration": 1394,
    "start_time": "2022-07-14T02:38:40.751Z"
   },
   {
    "duration": 8,
    "start_time": "2022-07-14T02:38:42.147Z"
   },
   {
    "duration": 175,
    "start_time": "2022-07-14T02:38:42.157Z"
   },
   {
    "duration": 1472,
    "start_time": "2022-07-14T02:38:42.335Z"
   },
   {
    "duration": 22,
    "start_time": "2022-07-14T02:38:43.809Z"
   },
   {
    "duration": 66,
    "start_time": "2022-07-14T02:38:43.833Z"
   },
   {
    "duration": 1372,
    "start_time": "2022-07-14T02:38:43.901Z"
   },
   {
    "duration": 160,
    "start_time": "2022-07-14T02:38:45.275Z"
   },
   {
    "duration": 41,
    "start_time": "2022-07-14T02:38:45.437Z"
   },
   {
    "duration": 104,
    "start_time": "2022-07-14T02:38:45.480Z"
   },
   {
    "duration": 202,
    "start_time": "2022-07-14T02:38:45.586Z"
   },
   {
    "duration": 144,
    "start_time": "2022-07-14T02:38:45.790Z"
   },
   {
    "duration": 221,
    "start_time": "2022-07-14T02:38:45.935Z"
   },
   {
    "duration": 804,
    "start_time": "2022-07-14T02:38:46.158Z"
   },
   {
    "duration": 511,
    "start_time": "2022-07-14T02:38:46.963Z"
   },
   {
    "duration": 2784,
    "start_time": "2022-07-14T02:38:47.476Z"
   },
   {
    "duration": 377,
    "start_time": "2022-07-14T02:38:50.262Z"
   },
   {
    "duration": 87,
    "start_time": "2022-07-14T02:38:50.641Z"
   },
   {
    "duration": 1448,
    "start_time": "2022-07-14T02:38:50.730Z"
   },
   {
    "duration": 3,
    "start_time": "2022-07-14T02:38:52.180Z"
   },
   {
    "duration": 14,
    "start_time": "2022-07-14T02:38:52.185Z"
   },
   {
    "duration": 10,
    "start_time": "2022-07-14T02:38:52.201Z"
   },
   {
    "duration": 4,
    "start_time": "2022-07-14T02:38:52.212Z"
   },
   {
    "duration": 21288,
    "start_time": "2022-07-14T02:38:52.218Z"
   },
   {
    "duration": 92,
    "start_time": "2022-07-14T02:39:13.507Z"
   },
   {
    "duration": 13,
    "start_time": "2022-07-14T02:39:13.602Z"
   },
   {
    "duration": 898,
    "start_time": "2022-07-14T02:39:13.617Z"
   },
   {
    "duration": 4,
    "start_time": "2022-07-14T02:39:14.516Z"
   },
   {
    "duration": 29378,
    "start_time": "2022-07-14T02:39:14.522Z"
   },
   {
    "duration": 2,
    "start_time": "2022-07-14T02:39:43.902Z"
   },
   {
    "duration": 9,
    "start_time": "2022-07-14T02:39:43.906Z"
   },
   {
    "duration": 7301,
    "start_time": "2022-07-14T02:39:43.917Z"
   },
   {
    "duration": 3,
    "start_time": "2022-07-14T02:39:51.220Z"
   },
   {
    "duration": 80,
    "start_time": "2022-07-14T02:39:51.225Z"
   },
   {
    "duration": 12,
    "start_time": "2022-07-14T02:39:51.307Z"
   },
   {
    "duration": 16395,
    "start_time": "2022-07-14T02:39:51.321Z"
   },
   {
    "duration": 7,
    "start_time": "2022-07-14T02:40:07.718Z"
   },
   {
    "duration": 11,
    "start_time": "2022-07-14T02:40:07.727Z"
   },
   {
    "duration": 122,
    "start_time": "2022-07-14T02:46:17.958Z"
   },
   {
    "duration": 10,
    "start_time": "2022-07-14T02:46:26.376Z"
   },
   {
    "duration": 23,
    "start_time": "2022-07-14T02:46:58.576Z"
   },
   {
    "duration": 1630,
    "start_time": "2022-07-14T02:47:14.380Z"
   },
   {
    "duration": 1045,
    "start_time": "2022-07-14T02:47:16.013Z"
   },
   {
    "duration": 412,
    "start_time": "2022-07-14T02:47:17.060Z"
   },
   {
    "duration": 24,
    "start_time": "2022-07-14T02:47:17.474Z"
   },
   {
    "duration": 426,
    "start_time": "2022-07-14T02:47:17.510Z"
   },
   {
    "duration": 7,
    "start_time": "2022-07-14T02:47:17.938Z"
   },
   {
    "duration": 63,
    "start_time": "2022-07-14T02:47:17.947Z"
   },
   {
    "duration": 7,
    "start_time": "2022-07-14T02:47:18.012Z"
   },
   {
    "duration": 170,
    "start_time": "2022-07-14T02:47:18.021Z"
   },
   {
    "duration": 1769,
    "start_time": "2022-07-14T02:47:18.198Z"
   },
   {
    "duration": 12,
    "start_time": "2022-07-14T02:47:19.969Z"
   },
   {
    "duration": 72,
    "start_time": "2022-07-14T02:47:19.982Z"
   },
   {
    "duration": 15,
    "start_time": "2022-07-14T02:47:20.055Z"
   },
   {
    "duration": 93,
    "start_time": "2022-07-14T02:47:20.072Z"
   },
   {
    "duration": 95,
    "start_time": "2022-07-14T02:47:20.167Z"
   },
   {
    "duration": 78,
    "start_time": "2022-07-14T02:47:20.264Z"
   },
   {
    "duration": 4,
    "start_time": "2022-07-14T02:47:20.343Z"
   },
   {
    "duration": 171,
    "start_time": "2022-07-14T02:47:20.349Z"
   },
   {
    "duration": 30,
    "start_time": "2022-07-14T02:47:20.521Z"
   },
   {
    "duration": 196,
    "start_time": "2022-07-14T02:47:20.553Z"
   },
   {
    "duration": 134,
    "start_time": "2022-07-14T02:47:20.750Z"
   },
   {
    "duration": 3,
    "start_time": "2022-07-14T02:47:22.553Z"
   },
   {
    "duration": 98,
    "start_time": "2022-07-14T02:49:09.958Z"
   },
   {
    "duration": 108,
    "start_time": "2022-07-14T02:49:13.673Z"
   },
   {
    "duration": 5,
    "start_time": "2022-07-14T02:49:29.692Z"
   },
   {
    "duration": 111,
    "start_time": "2022-07-14T03:02:19.060Z"
   },
   {
    "duration": 114,
    "start_time": "2022-07-14T03:05:52.729Z"
   },
   {
    "duration": 4,
    "start_time": "2022-07-14T03:06:04.522Z"
   },
   {
    "duration": 31,
    "start_time": "2022-07-14T03:06:16.906Z"
   },
   {
    "duration": 17,
    "start_time": "2022-07-14T03:06:32.411Z"
   },
   {
    "duration": 115,
    "start_time": "2022-07-14T03:06:42.098Z"
   },
   {
    "duration": 24,
    "start_time": "2022-07-14T03:06:44.890Z"
   },
   {
    "duration": 122,
    "start_time": "2022-07-14T03:14:35.715Z"
   },
   {
    "duration": 122,
    "start_time": "2022-07-14T03:15:55.875Z"
   },
   {
    "duration": 117,
    "start_time": "2022-07-14T03:18:31.766Z"
   },
   {
    "duration": 101,
    "start_time": "2022-07-14T03:21:30.450Z"
   },
   {
    "duration": 136,
    "start_time": "2022-07-14T03:21:36.621Z"
   },
   {
    "duration": 96,
    "start_time": "2022-07-14T03:21:39.322Z"
   },
   {
    "duration": 127,
    "start_time": "2022-07-14T03:21:46.554Z"
   },
   {
    "duration": 19,
    "start_time": "2022-07-14T03:22:18.219Z"
   },
   {
    "duration": 120,
    "start_time": "2022-07-14T03:30:50.112Z"
   },
   {
    "duration": 145,
    "start_time": "2022-07-14T03:30:58.478Z"
   },
   {
    "duration": 10,
    "start_time": "2022-07-14T03:31:03.054Z"
   },
   {
    "duration": 10,
    "start_time": "2022-07-14T03:31:10.582Z"
   },
   {
    "duration": 14,
    "start_time": "2022-07-14T03:31:13.622Z"
   },
   {
    "duration": 18,
    "start_time": "2022-07-14T03:32:29.296Z"
   },
   {
    "duration": 11,
    "start_time": "2022-07-14T03:32:35.920Z"
   },
   {
    "duration": 120,
    "start_time": "2022-07-14T03:32:42.922Z"
   },
   {
    "duration": 110,
    "start_time": "2022-07-14T03:32:57.346Z"
   },
   {
    "duration": 15,
    "start_time": "2022-07-14T03:33:28.442Z"
   },
   {
    "duration": 112,
    "start_time": "2022-07-14T03:33:40.282Z"
   },
   {
    "duration": 112,
    "start_time": "2022-07-14T03:33:46.242Z"
   },
   {
    "duration": 119,
    "start_time": "2022-07-14T03:36:48.971Z"
   },
   {
    "duration": 111,
    "start_time": "2022-07-14T03:36:57.417Z"
   },
   {
    "duration": 1765,
    "start_time": "2022-07-14T03:49:56.939Z"
   },
   {
    "duration": 1097,
    "start_time": "2022-07-14T03:49:58.707Z"
   },
   {
    "duration": 424,
    "start_time": "2022-07-14T03:49:59.806Z"
   },
   {
    "duration": 16,
    "start_time": "2022-07-14T03:50:00.232Z"
   },
   {
    "duration": 442,
    "start_time": "2022-07-14T03:50:00.250Z"
   },
   {
    "duration": 16,
    "start_time": "2022-07-14T03:50:00.694Z"
   },
   {
    "duration": 64,
    "start_time": "2022-07-14T03:50:00.713Z"
   },
   {
    "duration": 13,
    "start_time": "2022-07-14T03:50:00.779Z"
   },
   {
    "duration": 195,
    "start_time": "2022-07-14T03:50:00.794Z"
   },
   {
    "duration": 1837,
    "start_time": "2022-07-14T03:50:00.991Z"
   },
   {
    "duration": 12,
    "start_time": "2022-07-14T03:50:02.830Z"
   },
   {
    "duration": 71,
    "start_time": "2022-07-14T03:50:02.844Z"
   },
   {
    "duration": 19,
    "start_time": "2022-07-14T03:50:02.917Z"
   },
   {
    "duration": 94,
    "start_time": "2022-07-14T03:50:02.939Z"
   },
   {
    "duration": 94,
    "start_time": "2022-07-14T03:50:03.035Z"
   },
   {
    "duration": 89,
    "start_time": "2022-07-14T03:50:03.131Z"
   },
   {
    "duration": 4,
    "start_time": "2022-07-14T03:50:03.222Z"
   },
   {
    "duration": 166,
    "start_time": "2022-07-14T03:50:03.230Z"
   },
   {
    "duration": 44,
    "start_time": "2022-07-14T03:50:03.398Z"
   },
   {
    "duration": 206,
    "start_time": "2022-07-14T03:50:03.443Z"
   },
   {
    "duration": 3,
    "start_time": "2022-07-14T03:50:03.651Z"
   },
   {
    "duration": 8,
    "start_time": "2022-07-14T03:50:03.656Z"
   },
   {
    "duration": 9,
    "start_time": "2022-07-14T03:50:03.665Z"
   },
   {
    "duration": 9,
    "start_time": "2022-07-14T03:50:03.676Z"
   },
   {
    "duration": 38,
    "start_time": "2022-07-14T03:50:03.700Z"
   },
   {
    "duration": 44,
    "start_time": "2022-07-14T03:50:03.740Z"
   },
   {
    "duration": 1785,
    "start_time": "2022-07-14T03:50:03.808Z"
   },
   {
    "duration": 42,
    "start_time": "2022-07-14T03:50:05.595Z"
   },
   {
    "duration": 1611,
    "start_time": "2022-07-14T03:50:05.638Z"
   },
   {
    "duration": 355,
    "start_time": "2022-07-14T03:50:07.251Z"
   },
   {
    "duration": 64,
    "start_time": "2022-07-14T03:50:07.613Z"
   },
   {
    "duration": 1560,
    "start_time": "2022-07-14T03:50:07.678Z"
   },
   {
    "duration": 10,
    "start_time": "2022-07-14T03:50:09.240Z"
   },
   {
    "duration": 192,
    "start_time": "2022-07-14T03:50:09.252Z"
   },
   {
    "duration": 1600,
    "start_time": "2022-07-14T03:50:09.446Z"
   },
   {
    "duration": 21,
    "start_time": "2022-07-14T03:50:11.048Z"
   },
   {
    "duration": 75,
    "start_time": "2022-07-14T03:50:11.070Z"
   },
   {
    "duration": 1582,
    "start_time": "2022-07-14T03:50:11.147Z"
   },
   {
    "duration": 165,
    "start_time": "2022-07-14T03:50:12.731Z"
   },
   {
    "duration": 58,
    "start_time": "2022-07-14T03:50:12.898Z"
   },
   {
    "duration": 96,
    "start_time": "2022-07-14T03:50:12.960Z"
   },
   {
    "duration": 223,
    "start_time": "2022-07-14T03:50:13.058Z"
   },
   {
    "duration": 147,
    "start_time": "2022-07-14T03:50:13.283Z"
   },
   {
    "duration": 251,
    "start_time": "2022-07-14T03:50:13.433Z"
   },
   {
    "duration": 851,
    "start_time": "2022-07-14T03:50:13.686Z"
   },
   {
    "duration": 529,
    "start_time": "2022-07-14T03:50:14.539Z"
   },
   {
    "duration": 2882,
    "start_time": "2022-07-14T03:50:15.071Z"
   },
   {
    "duration": 428,
    "start_time": "2022-07-14T03:50:17.955Z"
   },
   {
    "duration": 87,
    "start_time": "2022-07-14T03:50:18.384Z"
   },
   {
    "duration": 1653,
    "start_time": "2022-07-14T03:50:18.472Z"
   },
   {
    "duration": 4,
    "start_time": "2022-07-14T03:50:20.127Z"
   },
   {
    "duration": 9,
    "start_time": "2022-07-14T03:50:20.132Z"
   },
   {
    "duration": 11,
    "start_time": "2022-07-14T03:50:20.143Z"
   },
   {
    "duration": 4,
    "start_time": "2022-07-14T03:50:20.156Z"
   },
   {
    "duration": 98162,
    "start_time": "2022-07-14T03:50:20.162Z"
   },
   {
    "duration": 8,
    "start_time": "2022-07-14T03:51:58.397Z"
   },
   {
    "duration": 20,
    "start_time": "2022-07-14T03:51:58.413Z"
   },
   {
    "duration": 941,
    "start_time": "2022-07-14T03:51:58.435Z"
   },
   {
    "duration": 3,
    "start_time": "2022-07-14T03:51:59.378Z"
   },
   {
    "duration": 30044,
    "start_time": "2022-07-14T03:51:59.383Z"
   },
   {
    "duration": 5,
    "start_time": "2022-07-14T03:52:29.428Z"
   },
   {
    "duration": 15,
    "start_time": "2022-07-14T03:52:29.435Z"
   },
   {
    "duration": 47321,
    "start_time": "2022-07-14T03:52:29.452Z"
   },
   {
    "duration": 0,
    "start_time": "2022-07-14T03:53:16.775Z"
   },
   {
    "duration": 0,
    "start_time": "2022-07-14T03:53:16.777Z"
   },
   {
    "duration": 0,
    "start_time": "2022-07-14T03:53:16.778Z"
   },
   {
    "duration": 0,
    "start_time": "2022-07-14T03:53:16.780Z"
   },
   {
    "duration": 0,
    "start_time": "2022-07-14T03:53:16.781Z"
   },
   {
    "duration": 0,
    "start_time": "2022-07-14T03:53:16.782Z"
   },
   {
    "duration": 1708,
    "start_time": "2022-07-14T03:54:21.821Z"
   },
   {
    "duration": 1135,
    "start_time": "2022-07-14T03:54:23.531Z"
   },
   {
    "duration": 458,
    "start_time": "2022-07-14T03:54:24.671Z"
   },
   {
    "duration": 14,
    "start_time": "2022-07-14T03:54:25.132Z"
   },
   {
    "duration": 424,
    "start_time": "2022-07-14T03:54:25.148Z"
   },
   {
    "duration": 8,
    "start_time": "2022-07-14T03:54:25.574Z"
   },
   {
    "duration": 69,
    "start_time": "2022-07-14T03:54:25.584Z"
   },
   {
    "duration": 3,
    "start_time": "2022-07-14T03:54:25.655Z"
   },
   {
    "duration": 194,
    "start_time": "2022-07-14T03:54:25.660Z"
   },
   {
    "duration": 1920,
    "start_time": "2022-07-14T03:54:25.855Z"
   },
   {
    "duration": 39,
    "start_time": "2022-07-14T03:54:27.776Z"
   },
   {
    "duration": 53,
    "start_time": "2022-07-14T03:54:27.822Z"
   },
   {
    "duration": 15,
    "start_time": "2022-07-14T03:54:27.878Z"
   },
   {
    "duration": 109,
    "start_time": "2022-07-14T03:54:27.895Z"
   },
   {
    "duration": 111,
    "start_time": "2022-07-14T03:54:28.010Z"
   },
   {
    "duration": 68,
    "start_time": "2022-07-14T03:54:28.123Z"
   },
   {
    "duration": 4,
    "start_time": "2022-07-14T03:54:28.192Z"
   },
   {
    "duration": 215,
    "start_time": "2022-07-14T03:54:28.198Z"
   },
   {
    "duration": 32,
    "start_time": "2022-07-14T03:54:28.424Z"
   },
   {
    "duration": 213,
    "start_time": "2022-07-14T03:54:28.458Z"
   },
   {
    "duration": 2,
    "start_time": "2022-07-14T03:54:28.673Z"
   },
   {
    "duration": 11,
    "start_time": "2022-07-14T03:54:28.677Z"
   },
   {
    "duration": 18,
    "start_time": "2022-07-14T03:54:28.690Z"
   },
   {
    "duration": 24,
    "start_time": "2022-07-14T03:54:28.710Z"
   },
   {
    "duration": 34,
    "start_time": "2022-07-14T03:54:28.735Z"
   },
   {
    "duration": 56,
    "start_time": "2022-07-14T03:54:28.771Z"
   },
   {
    "duration": 1814,
    "start_time": "2022-07-14T03:54:28.829Z"
   },
   {
    "duration": 26,
    "start_time": "2022-07-14T03:54:30.644Z"
   },
   {
    "duration": 1636,
    "start_time": "2022-07-14T03:54:30.672Z"
   },
   {
    "duration": 362,
    "start_time": "2022-07-14T03:54:32.321Z"
   },
   {
    "duration": 68,
    "start_time": "2022-07-14T03:54:32.685Z"
   },
   {
    "duration": 1571,
    "start_time": "2022-07-14T03:54:32.754Z"
   },
   {
    "duration": 9,
    "start_time": "2022-07-14T03:54:34.328Z"
   },
   {
    "duration": 184,
    "start_time": "2022-07-14T03:54:34.339Z"
   },
   {
    "duration": 1620,
    "start_time": "2022-07-14T03:54:34.527Z"
   },
   {
    "duration": 23,
    "start_time": "2022-07-14T03:54:36.148Z"
   },
   {
    "duration": 77,
    "start_time": "2022-07-14T03:54:36.173Z"
   },
   {
    "duration": 1678,
    "start_time": "2022-07-14T03:54:36.251Z"
   },
   {
    "duration": 178,
    "start_time": "2022-07-14T03:54:37.930Z"
   },
   {
    "duration": 45,
    "start_time": "2022-07-14T03:54:38.114Z"
   },
   {
    "duration": 110,
    "start_time": "2022-07-14T03:54:38.161Z"
   },
   {
    "duration": 219,
    "start_time": "2022-07-14T03:54:38.273Z"
   },
   {
    "duration": 161,
    "start_time": "2022-07-14T03:54:38.498Z"
   },
   {
    "duration": 262,
    "start_time": "2022-07-14T03:54:38.660Z"
   },
   {
    "duration": 922,
    "start_time": "2022-07-14T03:54:38.924Z"
   },
   {
    "duration": 535,
    "start_time": "2022-07-14T03:54:39.848Z"
   },
   {
    "duration": 2858,
    "start_time": "2022-07-14T03:54:40.385Z"
   },
   {
    "duration": 420,
    "start_time": "2022-07-14T03:54:43.245Z"
   },
   {
    "duration": 91,
    "start_time": "2022-07-14T03:54:43.667Z"
   },
   {
    "duration": 1623,
    "start_time": "2022-07-14T03:54:43.759Z"
   },
   {
    "duration": 4,
    "start_time": "2022-07-14T03:54:45.384Z"
   },
   {
    "duration": 17,
    "start_time": "2022-07-14T03:54:45.404Z"
   },
   {
    "duration": 20,
    "start_time": "2022-07-14T03:54:45.424Z"
   },
   {
    "duration": 7,
    "start_time": "2022-07-14T03:54:45.446Z"
   },
   {
    "duration": 93065,
    "start_time": "2022-07-14T03:54:45.455Z"
   },
   {
    "duration": 20,
    "start_time": "2022-07-14T03:56:18.600Z"
   },
   {
    "duration": 18,
    "start_time": "2022-07-14T03:56:18.622Z"
   },
   {
    "duration": 1030,
    "start_time": "2022-07-14T03:56:18.642Z"
   },
   {
    "duration": 4,
    "start_time": "2022-07-14T03:56:19.673Z"
   },
   {
    "duration": 31734,
    "start_time": "2022-07-14T03:56:19.679Z"
   },
   {
    "duration": 3,
    "start_time": "2022-07-14T03:56:51.429Z"
   },
   {
    "duration": 7,
    "start_time": "2022-07-14T03:56:51.434Z"
   },
   {
    "duration": 211292,
    "start_time": "2022-07-14T03:56:51.442Z"
   },
   {
    "duration": 4,
    "start_time": "2022-07-14T04:00:22.736Z"
   },
   {
    "duration": 10,
    "start_time": "2022-07-14T04:00:22.741Z"
   },
   {
    "duration": 57,
    "start_time": "2022-07-14T04:00:22.753Z"
   },
   {
    "duration": 20099,
    "start_time": "2022-07-14T04:00:22.818Z"
   },
   {
    "duration": 9,
    "start_time": "2022-07-14T04:00:42.919Z"
   },
   {
    "duration": 9,
    "start_time": "2022-07-14T04:00:42.930Z"
   },
   {
    "duration": 1712,
    "start_time": "2022-07-14T04:01:33.859Z"
   },
   {
    "duration": 1155,
    "start_time": "2022-07-14T04:01:35.573Z"
   },
   {
    "duration": 473,
    "start_time": "2022-07-14T04:01:36.731Z"
   },
   {
    "duration": 22,
    "start_time": "2022-07-14T04:01:37.206Z"
   },
   {
    "duration": 445,
    "start_time": "2022-07-14T04:01:37.231Z"
   },
   {
    "duration": 8,
    "start_time": "2022-07-14T04:01:37.678Z"
   },
   {
    "duration": 53,
    "start_time": "2022-07-14T04:01:37.701Z"
   },
   {
    "duration": 3,
    "start_time": "2022-07-14T04:01:37.756Z"
   },
   {
    "duration": 186,
    "start_time": "2022-07-14T04:01:37.760Z"
   },
   {
    "duration": 1923,
    "start_time": "2022-07-14T04:01:37.950Z"
   },
   {
    "duration": 13,
    "start_time": "2022-07-14T04:01:39.875Z"
   },
   {
    "duration": 61,
    "start_time": "2022-07-14T04:01:39.916Z"
   },
   {
    "duration": 15,
    "start_time": "2022-07-14T04:01:39.979Z"
   },
   {
    "duration": 111,
    "start_time": "2022-07-14T04:01:39.997Z"
   },
   {
    "duration": 88,
    "start_time": "2022-07-14T04:01:40.113Z"
   },
   {
    "duration": 78,
    "start_time": "2022-07-14T04:01:40.203Z"
   },
   {
    "duration": 4,
    "start_time": "2022-07-14T04:01:40.282Z"
   },
   {
    "duration": 212,
    "start_time": "2022-07-14T04:01:40.287Z"
   },
   {
    "duration": 44,
    "start_time": "2022-07-14T04:01:40.500Z"
   },
   {
    "duration": 220,
    "start_time": "2022-07-14T04:01:40.546Z"
   },
   {
    "duration": 2,
    "start_time": "2022-07-14T04:01:40.768Z"
   },
   {
    "duration": 7,
    "start_time": "2022-07-14T04:01:40.772Z"
   },
   {
    "duration": 20,
    "start_time": "2022-07-14T04:01:40.781Z"
   },
   {
    "duration": 6,
    "start_time": "2022-07-14T04:01:40.809Z"
   },
   {
    "duration": 45,
    "start_time": "2022-07-14T04:01:40.817Z"
   },
   {
    "duration": 42,
    "start_time": "2022-07-14T04:01:40.864Z"
   },
   {
    "duration": 1873,
    "start_time": "2022-07-14T04:01:40.908Z"
   },
   {
    "duration": 45,
    "start_time": "2022-07-14T04:01:42.785Z"
   },
   {
    "duration": 1722,
    "start_time": "2022-07-14T04:01:42.833Z"
   },
   {
    "duration": 339,
    "start_time": "2022-07-14T04:01:44.557Z"
   },
   {
    "duration": 66,
    "start_time": "2022-07-14T04:01:44.898Z"
   },
   {
    "duration": 1556,
    "start_time": "2022-07-14T04:01:44.966Z"
   },
   {
    "duration": 10,
    "start_time": "2022-07-14T04:01:46.524Z"
   },
   {
    "duration": 193,
    "start_time": "2022-07-14T04:01:46.536Z"
   },
   {
    "duration": 1684,
    "start_time": "2022-07-14T04:01:46.733Z"
   },
   {
    "duration": 24,
    "start_time": "2022-07-14T04:01:48.422Z"
   },
   {
    "duration": 61,
    "start_time": "2022-07-14T04:01:48.448Z"
   },
   {
    "duration": 1554,
    "start_time": "2022-07-14T04:01:48.511Z"
   },
   {
    "duration": 174,
    "start_time": "2022-07-14T04:01:50.067Z"
   },
   {
    "duration": 39,
    "start_time": "2022-07-14T04:01:50.243Z"
   },
   {
    "duration": 115,
    "start_time": "2022-07-14T04:01:50.298Z"
   },
   {
    "duration": 209,
    "start_time": "2022-07-14T04:01:50.416Z"
   },
   {
    "duration": 152,
    "start_time": "2022-07-14T04:01:50.628Z"
   },
   {
    "duration": 239,
    "start_time": "2022-07-14T04:01:50.782Z"
   },
   {
    "duration": 898,
    "start_time": "2022-07-14T04:01:51.023Z"
   },
   {
    "duration": 549,
    "start_time": "2022-07-14T04:01:51.923Z"
   },
   {
    "duration": 2911,
    "start_time": "2022-07-14T04:01:52.474Z"
   },
   {
    "duration": 446,
    "start_time": "2022-07-14T04:01:55.387Z"
   },
   {
    "duration": 91,
    "start_time": "2022-07-14T04:01:55.834Z"
   },
   {
    "duration": 1729,
    "start_time": "2022-07-14T04:01:55.928Z"
   },
   {
    "duration": 3,
    "start_time": "2022-07-14T04:01:57.659Z"
   },
   {
    "duration": 7,
    "start_time": "2022-07-14T04:01:57.664Z"
   },
   {
    "duration": 31,
    "start_time": "2022-07-14T04:01:57.672Z"
   },
   {
    "duration": 24,
    "start_time": "2022-07-14T04:01:57.707Z"
   },
   {
    "duration": 98567,
    "start_time": "2022-07-14T04:01:57.734Z"
   },
   {
    "duration": 6,
    "start_time": "2022-07-14T04:03:36.312Z"
   },
   {
    "duration": 9,
    "start_time": "2022-07-14T04:03:36.320Z"
   },
   {
    "duration": 991,
    "start_time": "2022-07-14T04:03:36.330Z"
   },
   {
    "duration": 4,
    "start_time": "2022-07-14T04:03:37.323Z"
   },
   {
    "duration": 29602,
    "start_time": "2022-07-14T04:03:37.329Z"
   },
   {
    "duration": 4,
    "start_time": "2022-07-14T04:04:06.934Z"
   },
   {
    "duration": 25,
    "start_time": "2022-07-14T04:04:06.940Z"
   },
   {
    "duration": 87448,
    "start_time": "2022-07-14T04:04:06.966Z"
   },
   {
    "duration": 5,
    "start_time": "2022-07-14T04:05:34.415Z"
   },
   {
    "duration": 9,
    "start_time": "2022-07-14T04:05:34.421Z"
   },
   {
    "duration": 11,
    "start_time": "2022-07-14T04:05:34.432Z"
   },
   {
    "duration": 17343,
    "start_time": "2022-07-14T04:05:34.445Z"
   },
   {
    "duration": 23,
    "start_time": "2022-07-14T04:05:51.790Z"
   },
   {
    "duration": 9,
    "start_time": "2022-07-14T04:05:51.815Z"
   }
  ],
  "kernelspec": {
   "display_name": "Python 3 (ipykernel)",
   "language": "python",
   "name": "python3"
  },
  "language_info": {
   "codemirror_mode": {
    "name": "ipython",
    "version": 3
   },
   "file_extension": ".py",
   "mimetype": "text/x-python",
   "name": "python",
   "nbconvert_exporter": "python",
   "pygments_lexer": "ipython3",
   "version": "3.9.5"
  },
  "toc": {
   "base_numbering": 1,
   "nav_menu": {},
   "number_sections": true,
   "sideBar": true,
   "skip_h1_title": true,
   "title_cell": "Table of Contents",
   "title_sidebar": "Contents",
   "toc_cell": false,
   "toc_position": {
    "height": "calc(100% - 180px)",
    "left": "10px",
    "top": "150px",
    "width": "165px"
   },
   "toc_section_display": true,
   "toc_window_display": true
  }
 },
 "nbformat": 4,
 "nbformat_minor": 2
}
